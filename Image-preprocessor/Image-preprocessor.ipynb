{
 "cells": [
  {
   "cell_type": "code",
   "execution_count": 1,
   "metadata": {},
   "outputs": [],
   "source": [
    "import cv2\n",
    "import numpy as np\n",
    "import imutils\n",
    "import imageio as imio # Reading images\n",
    "from skimage import data # Image operations\n",
    "from skimage.color import rgb2gray # RGB image to grey\n",
    "from matplotlib import pyplot as plt"
   ]
  },
  {
   "cell_type": "code",
   "execution_count": 2,
   "metadata": {},
   "outputs": [],
   "source": [
    "def load_image(path):\n",
    "    return np.array(imio.imread(path))\n",
    "\n",
    "def perspective_transform(image, corners):\n",
    "    def order_corner_points(corners):\n",
    "        # Separate corners into individual points\n",
    "        # Index 0 - top-right\n",
    "        #       1 - top-left\n",
    "        #       2 - bottom-left\n",
    "        #       3 - bottom-right\n",
    "        corners = [(corner[0][0], corner[0][1]) for corner in corners]\n",
    "        top_r, top_l, bottom_l, bottom_r = corners[0], corners[1], corners[2], corners[3]\n",
    "        return (top_l, top_r, bottom_r, bottom_l)\n",
    "\n",
    "    # Order points in clockwise order\n",
    "    ordered_corners = order_corner_points(corners)\n",
    "    top_l, top_r, bottom_r, bottom_l = ordered_corners\n",
    "\n",
    "    # Determine width of new image which is the max distance between \n",
    "    # (bottom right and bottom left) or (top right and top left) x-coordinates\n",
    "    width_A = np.sqrt(((bottom_r[0] - bottom_l[0]) ** 2) + ((bottom_r[1] - bottom_l[1]) ** 2))\n",
    "    width_B = np.sqrt(((top_r[0] - top_l[0]) ** 2) + ((top_r[1] - top_l[1]) ** 2))\n",
    "    width = max(int(width_A), int(width_B))\n",
    "\n",
    "    # Determine height of new image which is the max distance between \n",
    "    # (top right and bottom right) or (top left and bottom left) y-coordinates\n",
    "    height_A = np.sqrt(((top_r[0] - bottom_r[0]) ** 2) + ((top_r[1] - bottom_r[1]) ** 2))\n",
    "    height_B = np.sqrt(((top_l[0] - bottom_l[0]) ** 2) + ((top_l[1] - bottom_l[1]) ** 2))\n",
    "    height = max(int(height_A), int(height_B))\n",
    "\n",
    "    # Construct new points to obtain top-down view of image in \n",
    "    # top_r, top_l, bottom_l, bottom_r order\n",
    "    dimensions = np.array([[0, 0], [width - 1, 0], [width - 1, height - 1], \n",
    "                    [0, height - 1]], dtype = \"float32\")\n",
    "\n",
    "    # Convert to Numpy format\n",
    "    ordered_corners = np.array(ordered_corners, dtype=\"float32\")\n",
    "\n",
    "    # Find perspective transform matrix\n",
    "    matrix = cv2.getPerspectiveTransform(ordered_corners, dimensions)\n",
    "\n",
    "    # Return the transformed image\n",
    "    return cv2.warpPerspective(image, matrix, (width, height))"
   ]
  },
  {
   "cell_type": "code",
   "execution_count": 26,
   "metadata": {},
   "outputs": [],
   "source": [
    "image = cv2.imread('3.jpg')"
   ]
  },
  {
   "cell_type": "code",
   "execution_count": 37,
   "metadata": {},
   "outputs": [
    {
     "data": {
      "text/plain": [
       "100"
      ]
     },
     "execution_count": 37,
     "metadata": {},
     "output_type": "execute_result"
    }
   ],
   "source": [
    "import math\n"
   ]
  },
  {
   "cell_type": "code",
   "execution_count": 38,
   "metadata": {},
   "outputs": [],
   "source": [
    "image = cv2.imread('3.jpg')\n",
    "original = image.copy()\n",
    "gray = cv2.cvtColor(image, cv2.COLOR_BGR2GRAY)\n",
    "thresh = cv2.threshold(gray, 0, 255, cv2.THRESH_BINARY + cv2.THRESH_OTSU)[1]\n",
    "s = int(int(math.ceil(image.shape[0]/3 / 1000.0) * 1000)/10)\n",
    "kernel = cv2.getStructuringElement(cv2.MORPH_ELLIPSE,(s,s))\n",
    "dilated = cv2.dilate(thresh, kernel)\n",
    "\n",
    "cnts = cv2.findContours(dilated, cv2.RETR_EXTERNAL, cv2.CHAIN_APPROX_SIMPLE)\n",
    "cnts = cnts[0] if len(cnts) == 2 else cnts[1]\n",
    "c_area = 0\n",
    "for c in cnts:\n",
    "    peri = cv2.arcLength(c, True)\n",
    "    approx = cv2.approxPolyDP(c, 0.015 * peri, True)\n",
    "    if len(approx) == 4:\n",
    "        ##cv2.drawContours(image,[c], 0, (36,255,12), 3)\n",
    "        n_c_area = cv2.contourArea(c)\n",
    "        if (n_c_area > c_area):\n",
    "            c_area = n_c_area\n",
    "            transformed = perspective_transform(original, approx)\n",
    "final = None\n",
    "if(transformed.shape[0]>transformed.shape[1]):\n",
    "    final = imutils.rotate_bound(transformed, angle=-90)\n",
    "else:\n",
    "    final = transformed\n",
    "\n",
    "#cv2.imshow('thresh', thresh)\n",
    "#cv2.imshow('image', image)\n",
    "#cv2.imshow('transformed', transformed)\n",
    "#cv2.imshow('rotated', rotated)"
   ]
  },
  {
   "cell_type": "code",
   "execution_count": null,
   "metadata": {},
   "outputs": [
    {
     "data": {
      "text/plain": [
       "<matplotlib.image.AxesImage at 0x20c2319a080>"
      ]
     },
     "execution_count": 39,
     "metadata": {},
     "output_type": "execute_result"
    }
   ],
   "source": [
    "plt.imshow(thresh)"
   ]
  },
  {
   "cell_type": "code",
   "execution_count": null,
   "metadata": {},
   "outputs": [],
   "source": [
    "plt.imshow(final)"
   ]
  },
  {
   "cell_type": "code",
   "execution_count": 18,
   "metadata": {},
   "outputs": [
    {
     "data": {
      "text/plain": [
       "(1854, 2799, 3)"
      ]
     },
     "execution_count": 18,
     "metadata": {},
     "output_type": "execute_result"
    }
   ],
   "source": [
    "rotated.shape"
   ]
  }
 ],
 "metadata": {
  "kernelspec": {
   "display_name": "Python 3",
   "language": "python",
   "name": "python3"
  }
 },
 "nbformat": 4,
 "nbformat_minor": 2
}
