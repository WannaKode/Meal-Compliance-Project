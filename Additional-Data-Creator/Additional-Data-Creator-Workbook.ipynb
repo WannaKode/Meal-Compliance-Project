{
 "cells": [
  {
   "cell_type": "markdown",
   "metadata": {},
   "source": [
    "# Additional Data Creator Workbook"
   ]
  },
  {
   "cell_type": "code",
   "execution_count": 122,
   "metadata": {},
   "outputs": [],
   "source": [
    "# Import the relevent packages\n",
    "import os # File/directory operations\n",
    "import ntpath # File/directory operations\n",
    "import imgaug as ia # Image augmentations\n",
    "import imgaug.augmenters as iaa # Image augmentations\n",
    "import imageio as imio # Reading images\n",
    "import numpy as np # Matrix operations\n",
    "from skimage import data # Image operations\n",
    "from skimage.color import rgb2gray # RGB image to grey\n",
    "from skimage.transform import resize # Resize images\n",
    "import matplotlib.pyplot as plt # for visualisation\n",
    "import pandas as pd # Data manipulations\n",
    "\n",
    "# from scipy import stats #not used but helps with debuging"
   ]
  },
  {
   "cell_type": "code",
   "execution_count": 140,
   "metadata": {},
   "outputs": [],
   "source": [
    "# Set the input and output paths for later reference\n",
    "dataPaths = {'InputImage':os.path.abspath(os.path.join('Data','Images')),\n",
    "             'InputAnnot':os.path.abspath(os.path.join('Data','Annotations')),\n",
    "             'OutputImage':os.path.abspath(os.path.join('Output','Images')),\n",
    "             'OutputAnnot':os.path.abspath(os.path.join('Output','Annotations')),\n",
    "             'XTrain':os.path.abspath(os.path.join('OutputData','XTrain')),\n",
    "             'yTrain':os.path.abspath(os.path.join('OutputData','yTrain')),\n",
    "             'XTest':os.path.abspath(os.path.join('OutputData','XTest')),\n",
    "             'yTest':os.path.abspath(os.path.join('OutputData','yTest'))}"
   ]
  },
  {
   "cell_type": "code",
   "execution_count": 198,
   "metadata": {},
   "outputs": [],
   "source": [
    "def getFilesInDir(dir):\n",
    "    \"\"\"This function will return a list of files in the given dir\"\"\"\n",
    "    files = []\n",
    "    # r=root, d=directories, f = files\n",
    "    for r, d, f in os.walk(dir):\n",
    "        for file in f:\n",
    "            files.append(os.path.join(r, file))\n",
    "    return files\n",
    "\n",
    "def validateImagePairs(imPairTuple, width):\n",
    "    \"\"\"This function reads the image and resizes it to the closest %32=0 for the specified width\"\"\"\n",
    "    imgDir , annotDir = imPairTuple\n",
    "    img = imio.imread(imgDir)\n",
    "    annot = rgb2gray(imio.imread(annotDir))*255\n",
    "    \n",
    "    widthScaleRatio = width / img.shape[1]\n",
    "    heightNew = (widthScaleRatio * (img.shape[0]))\n",
    "    heightNew = heightNew - (heightNew%32)\n",
    "    \n",
    "    annotNew = resize(annot, (heightNew, width),mode='edge', anti_aliasing=False,\n",
    "                               anti_aliasing_sigma=None,preserve_range=True,\n",
    "                               order=0).astype(int)\n",
    "    df = (pd.DataFrame(annotNew))\n",
    "    _, b = pd.factorize(df.values.T.reshape(-1, ))  \n",
    "\n",
    "    # print(df.apply(lambda x: pd.Categorical(x, b).codes).values.shape)\n",
    "    annotNewOut = df.apply(lambda x: pd.Categorical(x, b).codes).values\n",
    "    \n",
    "    \n",
    "    return (resize(img, (heightNew, width), anti_aliasing=True),\n",
    "            annotNewOut)\n",
    "\n",
    "def augment_seg(imSegTuple, filterSeq):\n",
    "    \"\"\"This function applies a 'filter' to the input image and its annotation \"\"\"\n",
    "    img , seg = imSegTuple    \n",
    "    aug_det = filterSeq.to_deterministic() \n",
    "    image_aug = aug_det.augment_image( img )\n",
    "    segmap = ia.SegmentationMapOnImage( seg , nb_classes=len(np.unique(seg)), shape=img.shape )\n",
    "    segmap_aug = aug_det.augment_segmentation_maps( segmap )\n",
    "    segmap_aug = segmap_aug.get_arr_int()\n",
    "    return (image_aug , segmap_aug)\n",
    "\n",
    "def path_leaf(path):\n",
    "    \"\"\"This function gets the file name from a path\"\"\"\n",
    "    head, tail = ntpath.split(path)\n",
    "    return tail or ntpath.basename(head)\n",
    "\n",
    "def saveAugmentOutputs(augmentImagePairs, originalFileNamePairs, suffex, outImagPath, outAnnotPath):\n",
    "    \"\"\"This function saves the augmented images\"\"\"\n",
    "    for i in range(0, len(augmentImagePairs)):\n",
    "        img = augmentImagePairs[i][0]\n",
    "        fileName = path_leaf(originalFileNamePairs[i][0])\n",
    "        fileNameSplit = fileName.split('.')\n",
    "        imFileName = outImagPath+'\\\\'+fileNameSplit[0]+suffex+'.'+fileNameSplit[1]\n",
    "        imio.imsave(imFileName, img)\n",
    "        print(imFileName)\n",
    "        annot = augmentImagePairs[i][1]\n",
    "        fileNameAnnot = path_leaf(originalFileNamePairs[i][1])\n",
    "        fileNameAnnotSplit = fileNameAnnot.split('.')\n",
    "        annotFileName = outAnnotPath+'\\\\'+fileNameAnnotSplit[0]+suffex+'.'+fileNameAnnotSplit[1]\n",
    "        imio.imsave(annotFileName, annot)\n",
    "        print(annotFileName)\n",
    "\n",
    "def ShowAugmentCompare(originalTup, newTup):\n",
    "    \"\"\"This function shows a comparason of orginal vs augmented images and annotations\"\"\"\n",
    "    fig, axes = plt.subplots(nrows=2, ncols=2)\n",
    "    ax = axes.ravel()\n",
    "    ax[0].imshow(originalTup[0])\n",
    "    ax[0].set_title(\"Original image\")\n",
    "    ax[1].imshow(newTup[0])\n",
    "    ax[1].set_title(\"New image\")\n",
    "    ax[2].imshow(originalTup[1], cmap='gray')\n",
    "    ax[2].set_title(\"Original annotation\")\n",
    "    ax[3].imshow(newTup[1], cmap='gray')\n",
    "    ax[3].set_title(\"New annotation\")\n",
    "    plt.tight_layout()\n",
    "    plt.show()"
   ]
  },
  {
   "cell_type": "code",
   "execution_count": 199,
   "metadata": {},
   "outputs": [
    {
     "name": "stdout",
     "output_type": "stream",
     "text": [
      "Reading and resizing input files...\n",
      "Read 12 files.\n"
     ]
    }
   ],
   "source": [
    "# This will create a list of tuples for the input images, it will associate an image with \n",
    "# its annotation given the naming convention is followed\n",
    "\n",
    "print('Reading and resizing input files...')\n",
    "\n",
    "filePairPaths = list(zip(getFilesInDir(dataPaths['InputImage']), getFilesInDir(dataPaths['InputAnnot'])))\n",
    "inputImagePairs = []\n",
    "for tup in filePairPaths:\n",
    "    inputImagePairs.append(validateImagePairs(tup,1600))\n",
    "    \n",
    "print('Read '+str(len(inputImagePairs)*2)+' files.')"
   ]
  },
  {
   "cell_type": "code",
   "execution_count": 126,
   "metadata": {},
   "outputs": [
    {
     "name": "stdout",
     "output_type": "stream",
     "text": [
      "Createing filters...\n",
      "\n",
      "\n",
      "Sequential(name=UnnamedSequential, random_order=False, children=[Fliplr(name=UnnamedFliplr, parameters=[Deterministic(int 1)], deterministic=False)], deterministic=False)\n",
      "\n",
      "\n",
      "Sequential(name=UnnamedSequential, random_order=False, children=[Flipud(name=UnnamedFlipud, parameters=[Deterministic(int 1)], deterministic=False)], deterministic=False)\n",
      "\n",
      "\n",
      "Sequential(name=UnnamedSequential, random_order=False, children=[PerspectiveTransform(name=UnnamedPerspectiveTransform, parameters=[Normal(loc=Deterministic(int 0), scale=Deterministic(float 0.10000000)), True, Deterministic(int 0), Deterministic(constant)], deterministic=False)], deterministic=False)\n",
      "\n",
      "\n",
      "Sequential(name=UnnamedSequential, random_order=False, children=[PiecewiseAffine(name=UnnamedPiecewiseAffine, parameters=[Deterministic(float 0.05000000), Deterministic(int 4), Deterministic(int 4), Deterministic(int 1), Deterministic(int 0), Deterministic(constant), False], deterministic=False)], deterministic=False)\n",
      "\n",
      "\n",
      "Done\n"
     ]
    }
   ],
   "source": [
    "# See https://github.com/aleju/imgaug#example-images for details\n",
    "\n",
    "print('Createing filters...')\n",
    "fltr1 = iaa.Sequential([\n",
    "    iaa.Fliplr(1), # horizontally flip \n",
    "])\n",
    "\n",
    "print('\\n')\n",
    "print(fltr1)\n",
    "\n",
    "fltr2 = iaa.Sequential([\n",
    "    iaa.Flipud(1), # vertically flip \n",
    "])\n",
    "\n",
    "print('\\n')\n",
    "print(fltr2)\n",
    "fltr3 = iaa.Sequential([\n",
    "    iaa.PerspectiveTransform(scale=0.1, keep_size=True), # Perspective Transform\n",
    "])\n",
    "\n",
    "print('\\n')\n",
    "print(fltr3)\n",
    "\n",
    "fltr4 = iaa.Sequential([\n",
    "    iaa.PiecewiseAffine(scale=0.05), # Piecewise Affine\n",
    "])\n",
    "\n",
    "print('\\n')\n",
    "print(fltr4)\n",
    "\n",
    "print('\\n')\n",
    "print('Done')"
   ]
  },
  {
   "cell_type": "code",
   "execution_count": 127,
   "metadata": {},
   "outputs": [
    {
     "name": "stdout",
     "output_type": "stream",
     "text": [
      "Applying filter 1 to input\n",
      "Applying filter 2 to input\n",
      "Applying filter 3 to input\n",
      "Applying filter 4 to input\n"
     ]
    }
   ],
   "source": [
    "print('Applying filter 1 to input')\n",
    "inputAugmentImagePairs1 = []\n",
    "for tup in inputImagePairs:\n",
    "    inputAugmentImagePairs1.append(augment_seg(tup, fltr1))\n",
    "    \n",
    "print('Applying filter 2 to input')\n",
    "inputAugmentImagePairs2 = []\n",
    "for tup in inputImagePairs:\n",
    "    inputAugmentImagePairs2.append(augment_seg(tup, fltr2))\n",
    "    \n",
    "print('Applying filter 3 to input')\n",
    "inputAugmentImagePairs3 = []\n",
    "for tup in inputImagePairs:\n",
    "    inputAugmentImagePairs3.append(augment_seg(tup, fltr3))\n",
    "\n",
    "print('Applying filter 4 to input')\n",
    "inputAugmentImagePairs4 = []\n",
    "for tup in inputImagePairs:\n",
    "    inputAugmentImagePairs4.append(augment_seg(tup, fltr4))\n",
    "    \n",
    "# ShowAugmentCompare(inputImagePairs[0],inputAugmentImagePairs1[0])"
   ]
  },
  {
   "cell_type": "code",
   "execution_count": 134,
   "metadata": {},
   "outputs": [
    {
     "name": "stderr",
     "output_type": "stream",
     "text": [
      "Lossy conversion from float64 to uint8. Range [0, 1]. Convert image to uint8 prior to saving to suppress this warning.\n",
      "Lossy conversion from int32 to uint8. Range [0, 12]. Convert image to uint8 prior to saving to suppress this warning.\n"
     ]
    },
    {
     "name": "stdout",
     "output_type": "stream",
     "text": [
      "Saving output of filter 1\n",
      "C:\\Users\\theza\\Documents\\Uni\\MIT\\2019\\TP\\Project\\Meal-Compliance-Project\\Additional-Data-Creator\\Output\\Images\\1a.jpg\n"
     ]
    },
    {
     "name": "stderr",
     "output_type": "stream",
     "text": [
      "Lossy conversion from float64 to uint8. Range [0, 1]. Convert image to uint8 prior to saving to suppress this warning.\n",
      "Lossy conversion from int32 to uint8. Range [0, 12]. Convert image to uint8 prior to saving to suppress this warning.\n"
     ]
    },
    {
     "name": "stdout",
     "output_type": "stream",
     "text": [
      "C:\\Users\\theza\\Documents\\Uni\\MIT\\2019\\TP\\Project\\Meal-Compliance-Project\\Additional-Data-Creator\\Output\\Annotations\\1a.png\n",
      "C:\\Users\\theza\\Documents\\Uni\\MIT\\2019\\TP\\Project\\Meal-Compliance-Project\\Additional-Data-Creator\\Output\\Images\\2a.jpg\n"
     ]
    },
    {
     "name": "stderr",
     "output_type": "stream",
     "text": [
      "Lossy conversion from float64 to uint8. Range [0, 1]. Convert image to uint8 prior to saving to suppress this warning.\n",
      "Lossy conversion from int32 to uint8. Range [0, 12]. Convert image to uint8 prior to saving to suppress this warning.\n"
     ]
    },
    {
     "name": "stdout",
     "output_type": "stream",
     "text": [
      "C:\\Users\\theza\\Documents\\Uni\\MIT\\2019\\TP\\Project\\Meal-Compliance-Project\\Additional-Data-Creator\\Output\\Annotations\\2a.png\n",
      "C:\\Users\\theza\\Documents\\Uni\\MIT\\2019\\TP\\Project\\Meal-Compliance-Project\\Additional-Data-Creator\\Output\\Images\\3a.jpg\n"
     ]
    },
    {
     "name": "stderr",
     "output_type": "stream",
     "text": [
      "Lossy conversion from float64 to uint8. Range [0, 1]. Convert image to uint8 prior to saving to suppress this warning.\n",
      "Lossy conversion from int32 to uint8. Range [0, 12]. Convert image to uint8 prior to saving to suppress this warning.\n"
     ]
    },
    {
     "name": "stdout",
     "output_type": "stream",
     "text": [
      "C:\\Users\\theza\\Documents\\Uni\\MIT\\2019\\TP\\Project\\Meal-Compliance-Project\\Additional-Data-Creator\\Output\\Annotations\\3a.png\n",
      "C:\\Users\\theza\\Documents\\Uni\\MIT\\2019\\TP\\Project\\Meal-Compliance-Project\\Additional-Data-Creator\\Output\\Images\\4a.jpg\n"
     ]
    },
    {
     "name": "stderr",
     "output_type": "stream",
     "text": [
      "Lossy conversion from float64 to uint8. Range [0, 1]. Convert image to uint8 prior to saving to suppress this warning.\n",
      "Lossy conversion from int32 to uint8. Range [0, 12]. Convert image to uint8 prior to saving to suppress this warning.\n"
     ]
    },
    {
     "name": "stdout",
     "output_type": "stream",
     "text": [
      "C:\\Users\\theza\\Documents\\Uni\\MIT\\2019\\TP\\Project\\Meal-Compliance-Project\\Additional-Data-Creator\\Output\\Annotations\\4a.png\n",
      "C:\\Users\\theza\\Documents\\Uni\\MIT\\2019\\TP\\Project\\Meal-Compliance-Project\\Additional-Data-Creator\\Output\\Images\\5a.jpg\n"
     ]
    },
    {
     "name": "stderr",
     "output_type": "stream",
     "text": [
      "Lossy conversion from float64 to uint8. Range [0, 1]. Convert image to uint8 prior to saving to suppress this warning.\n"
     ]
    },
    {
     "name": "stdout",
     "output_type": "stream",
     "text": [
      "C:\\Users\\theza\\Documents\\Uni\\MIT\\2019\\TP\\Project\\Meal-Compliance-Project\\Additional-Data-Creator\\Output\\Annotations\\5a.png\n"
     ]
    },
    {
     "name": "stderr",
     "output_type": "stream",
     "text": [
      "Lossy conversion from int32 to uint8. Range [0, 12]. Convert image to uint8 prior to saving to suppress this warning.\n"
     ]
    },
    {
     "name": "stdout",
     "output_type": "stream",
     "text": [
      "C:\\Users\\theza\\Documents\\Uni\\MIT\\2019\\TP\\Project\\Meal-Compliance-Project\\Additional-Data-Creator\\Output\\Images\\6a.jpg\n",
      "C:\\Users\\theza\\Documents\\Uni\\MIT\\2019\\TP\\Project\\Meal-Compliance-Project\\Additional-Data-Creator\\Output\\Annotations\\6a.png\n",
      "Saving output of filter 2\n"
     ]
    },
    {
     "name": "stderr",
     "output_type": "stream",
     "text": [
      "Lossy conversion from float64 to uint8. Range [0, 1]. Convert image to uint8 prior to saving to suppress this warning.\n",
      "Lossy conversion from int32 to uint8. Range [0, 12]. Convert image to uint8 prior to saving to suppress this warning.\n",
      "Lossy conversion from float64 to uint8. Range [0, 1]. Convert image to uint8 prior to saving to suppress this warning.\n"
     ]
    },
    {
     "name": "stdout",
     "output_type": "stream",
     "text": [
      "C:\\Users\\theza\\Documents\\Uni\\MIT\\2019\\TP\\Project\\Meal-Compliance-Project\\Additional-Data-Creator\\Output\\Images\\1b.jpg\n",
      "C:\\Users\\theza\\Documents\\Uni\\MIT\\2019\\TP\\Project\\Meal-Compliance-Project\\Additional-Data-Creator\\Output\\Annotations\\1b.png\n"
     ]
    },
    {
     "name": "stderr",
     "output_type": "stream",
     "text": [
      "Lossy conversion from int32 to uint8. Range [0, 12]. Convert image to uint8 prior to saving to suppress this warning.\n",
      "Lossy conversion from float64 to uint8. Range [0, 1]. Convert image to uint8 prior to saving to suppress this warning.\n"
     ]
    },
    {
     "name": "stdout",
     "output_type": "stream",
     "text": [
      "C:\\Users\\theza\\Documents\\Uni\\MIT\\2019\\TP\\Project\\Meal-Compliance-Project\\Additional-Data-Creator\\Output\\Images\\2b.jpg\n",
      "C:\\Users\\theza\\Documents\\Uni\\MIT\\2019\\TP\\Project\\Meal-Compliance-Project\\Additional-Data-Creator\\Output\\Annotations\\2b.png\n"
     ]
    },
    {
     "name": "stderr",
     "output_type": "stream",
     "text": [
      "Lossy conversion from int32 to uint8. Range [0, 12]. Convert image to uint8 prior to saving to suppress this warning.\n",
      "Lossy conversion from float64 to uint8. Range [0, 1]. Convert image to uint8 prior to saving to suppress this warning.\n"
     ]
    },
    {
     "name": "stdout",
     "output_type": "stream",
     "text": [
      "C:\\Users\\theza\\Documents\\Uni\\MIT\\2019\\TP\\Project\\Meal-Compliance-Project\\Additional-Data-Creator\\Output\\Images\\3b.jpg\n",
      "C:\\Users\\theza\\Documents\\Uni\\MIT\\2019\\TP\\Project\\Meal-Compliance-Project\\Additional-Data-Creator\\Output\\Annotations\\3b.png\n"
     ]
    },
    {
     "name": "stderr",
     "output_type": "stream",
     "text": [
      "Lossy conversion from int32 to uint8. Range [0, 12]. Convert image to uint8 prior to saving to suppress this warning.\n"
     ]
    },
    {
     "name": "stdout",
     "output_type": "stream",
     "text": [
      "C:\\Users\\theza\\Documents\\Uni\\MIT\\2019\\TP\\Project\\Meal-Compliance-Project\\Additional-Data-Creator\\Output\\Images\\4b.jpg\n",
      "C:\\Users\\theza\\Documents\\Uni\\MIT\\2019\\TP\\Project\\Meal-Compliance-Project\\Additional-Data-Creator\\Output\\Annotations\\4b.png\n"
     ]
    },
    {
     "name": "stderr",
     "output_type": "stream",
     "text": [
      "Lossy conversion from float64 to uint8. Range [0, 1]. Convert image to uint8 prior to saving to suppress this warning.\n",
      "Lossy conversion from int32 to uint8. Range [0, 12]. Convert image to uint8 prior to saving to suppress this warning.\n",
      "Lossy conversion from float64 to uint8. Range [0, 1]. Convert image to uint8 prior to saving to suppress this warning.\n"
     ]
    },
    {
     "name": "stdout",
     "output_type": "stream",
     "text": [
      "C:\\Users\\theza\\Documents\\Uni\\MIT\\2019\\TP\\Project\\Meal-Compliance-Project\\Additional-Data-Creator\\Output\\Images\\5b.jpg\n",
      "C:\\Users\\theza\\Documents\\Uni\\MIT\\2019\\TP\\Project\\Meal-Compliance-Project\\Additional-Data-Creator\\Output\\Annotations\\5b.png\n"
     ]
    },
    {
     "name": "stderr",
     "output_type": "stream",
     "text": [
      "Lossy conversion from int32 to uint8. Range [0, 12]. Convert image to uint8 prior to saving to suppress this warning.\n"
     ]
    },
    {
     "name": "stdout",
     "output_type": "stream",
     "text": [
      "C:\\Users\\theza\\Documents\\Uni\\MIT\\2019\\TP\\Project\\Meal-Compliance-Project\\Additional-Data-Creator\\Output\\Images\\6b.jpg\n",
      "C:\\Users\\theza\\Documents\\Uni\\MIT\\2019\\TP\\Project\\Meal-Compliance-Project\\Additional-Data-Creator\\Output\\Annotations\\6b.png"
     ]
    },
    {
     "name": "stderr",
     "output_type": "stream",
     "text": [
      "Lossy conversion from float64 to uint8. Range [-0.018731751583354876, 1.0049722051342722]. Convert image to uint8 prior to saving to suppress this warning.\n"
     ]
    },
    {
     "name": "stdout",
     "output_type": "stream",
     "text": [
      "\n",
      "Saving output of filter 3\n"
     ]
    },
    {
     "name": "stderr",
     "output_type": "stream",
     "text": [
      "Lossy conversion from int32 to uint8. Range [0, 12]. Convert image to uint8 prior to saving to suppress this warning.\n",
      "Lossy conversion from float64 to uint8. Range [-0.01525594410964454, 0.9901804519071935]. Convert image to uint8 prior to saving to suppress this warning.\n"
     ]
    },
    {
     "name": "stdout",
     "output_type": "stream",
     "text": [
      "C:\\Users\\theza\\Documents\\Uni\\MIT\\2019\\TP\\Project\\Meal-Compliance-Project\\Additional-Data-Creator\\Output\\Images\\1c.jpg\n",
      "C:\\Users\\theza\\Documents\\Uni\\MIT\\2019\\TP\\Project\\Meal-Compliance-Project\\Additional-Data-Creator\\Output\\Annotations\\1c.png\n"
     ]
    },
    {
     "name": "stderr",
     "output_type": "stream",
     "text": [
      "Lossy conversion from int32 to uint8. Range [0, 12]. Convert image to uint8 prior to saving to suppress this warning.\n",
      "Lossy conversion from float64 to uint8. Range [-0.0158160561842099, 1.0105963257998525]. Convert image to uint8 prior to saving to suppress this warning.\n"
     ]
    },
    {
     "name": "stdout",
     "output_type": "stream",
     "text": [
      "C:\\Users\\theza\\Documents\\Uni\\MIT\\2019\\TP\\Project\\Meal-Compliance-Project\\Additional-Data-Creator\\Output\\Images\\2c.jpg\n",
      "C:\\Users\\theza\\Documents\\Uni\\MIT\\2019\\TP\\Project\\Meal-Compliance-Project\\Additional-Data-Creator\\Output\\Annotations\\2c.png\n"
     ]
    },
    {
     "name": "stderr",
     "output_type": "stream",
     "text": [
      "Lossy conversion from int32 to uint8. Range [0, 12]. Convert image to uint8 prior to saving to suppress this warning.\n",
      "Lossy conversion from float64 to uint8. Range [-0.008730045945446952, 1.004871261265108]. Convert image to uint8 prior to saving to suppress this warning.\n"
     ]
    },
    {
     "name": "stdout",
     "output_type": "stream",
     "text": [
      "C:\\Users\\theza\\Documents\\Uni\\MIT\\2019\\TP\\Project\\Meal-Compliance-Project\\Additional-Data-Creator\\Output\\Images\\3c.jpg\n",
      "C:\\Users\\theza\\Documents\\Uni\\MIT\\2019\\TP\\Project\\Meal-Compliance-Project\\Additional-Data-Creator\\Output\\Annotations\\3c.png\n"
     ]
    },
    {
     "name": "stderr",
     "output_type": "stream",
     "text": [
      "Lossy conversion from int32 to uint8. Range [0, 12]. Convert image to uint8 prior to saving to suppress this warning.\n",
      "Lossy conversion from float64 to uint8. Range [-0.01338929607509598, 1.0036101368313255]. Convert image to uint8 prior to saving to suppress this warning.\n"
     ]
    },
    {
     "name": "stdout",
     "output_type": "stream",
     "text": [
      "C:\\Users\\theza\\Documents\\Uni\\MIT\\2019\\TP\\Project\\Meal-Compliance-Project\\Additional-Data-Creator\\Output\\Images\\4c.jpg\n",
      "C:\\Users\\theza\\Documents\\Uni\\MIT\\2019\\TP\\Project\\Meal-Compliance-Project\\Additional-Data-Creator\\Output\\Annotations\\4c.png\n"
     ]
    },
    {
     "name": "stderr",
     "output_type": "stream",
     "text": [
      "Lossy conversion from int32 to uint8. Range [0, 12]. Convert image to uint8 prior to saving to suppress this warning.\n",
      "Lossy conversion from float64 to uint8. Range [-0.009922601040232706, 1.0162106397786463]. Convert image to uint8 prior to saving to suppress this warning.\n"
     ]
    },
    {
     "name": "stdout",
     "output_type": "stream",
     "text": [
      "C:\\Users\\theza\\Documents\\Uni\\MIT\\2019\\TP\\Project\\Meal-Compliance-Project\\Additional-Data-Creator\\Output\\Images\\5c.jpg\n",
      "C:\\Users\\theza\\Documents\\Uni\\MIT\\2019\\TP\\Project\\Meal-Compliance-Project\\Additional-Data-Creator\\Output\\Annotations\\5c.png\n"
     ]
    },
    {
     "name": "stderr",
     "output_type": "stream",
     "text": [
      "Lossy conversion from int32 to uint8. Range [0, 12]. Convert image to uint8 prior to saving to suppress this warning.\n",
      "Lossy conversion from float64 to uint8. Range [0, 1]. Convert image to uint8 prior to saving to suppress this warning.\n"
     ]
    },
    {
     "name": "stdout",
     "output_type": "stream",
     "text": [
      "C:\\Users\\theza\\Documents\\Uni\\MIT\\2019\\TP\\Project\\Meal-Compliance-Project\\Additional-Data-Creator\\Output\\Images\\6c.jpg\n",
      "C:\\Users\\theza\\Documents\\Uni\\MIT\\2019\\TP\\Project\\Meal-Compliance-Project\\Additional-Data-Creator\\Output\\Annotations\\6c.png\n",
      "Saving output of filter 4\n"
     ]
    },
    {
     "name": "stderr",
     "output_type": "stream",
     "text": [
      "Lossy conversion from int32 to uint8. Range [0, 12]. Convert image to uint8 prior to saving to suppress this warning.\n",
      "Lossy conversion from float64 to uint8. Range [0, 1]. Convert image to uint8 prior to saving to suppress this warning.\n"
     ]
    },
    {
     "name": "stdout",
     "output_type": "stream",
     "text": [
      "C:\\Users\\theza\\Documents\\Uni\\MIT\\2019\\TP\\Project\\Meal-Compliance-Project\\Additional-Data-Creator\\Output\\Images\\1d.jpg\n",
      "C:\\Users\\theza\\Documents\\Uni\\MIT\\2019\\TP\\Project\\Meal-Compliance-Project\\Additional-Data-Creator\\Output\\Annotations\\1d.png\n"
     ]
    },
    {
     "name": "stderr",
     "output_type": "stream",
     "text": [
      "Lossy conversion from int32 to uint8. Range [0, 12]. Convert image to uint8 prior to saving to suppress this warning.\n"
     ]
    },
    {
     "name": "stdout",
     "output_type": "stream",
     "text": [
      "C:\\Users\\theza\\Documents\\Uni\\MIT\\2019\\TP\\Project\\Meal-Compliance-Project\\Additional-Data-Creator\\Output\\Images\\2d.jpg\n"
     ]
    },
    {
     "name": "stderr",
     "output_type": "stream",
     "text": [
      "Lossy conversion from float64 to uint8. Range [0, 1]. Convert image to uint8 prior to saving to suppress this warning.\n",
      "Lossy conversion from int32 to uint8. Range [0, 12]. Convert image to uint8 prior to saving to suppress this warning.\n"
     ]
    },
    {
     "name": "stdout",
     "output_type": "stream",
     "text": [
      "C:\\Users\\theza\\Documents\\Uni\\MIT\\2019\\TP\\Project\\Meal-Compliance-Project\\Additional-Data-Creator\\Output\\Annotations\\2d.png\n",
      "C:\\Users\\theza\\Documents\\Uni\\MIT\\2019\\TP\\Project\\Meal-Compliance-Project\\Additional-Data-Creator\\Output\\Images\\3d.jpg\n"
     ]
    },
    {
     "name": "stderr",
     "output_type": "stream",
     "text": [
      "Lossy conversion from float64 to uint8. Range [0, 1]. Convert image to uint8 prior to saving to suppress this warning.\n",
      "Lossy conversion from int32 to uint8. Range [0, 12]. Convert image to uint8 prior to saving to suppress this warning.\n"
     ]
    },
    {
     "name": "stdout",
     "output_type": "stream",
     "text": [
      "C:\\Users\\theza\\Documents\\Uni\\MIT\\2019\\TP\\Project\\Meal-Compliance-Project\\Additional-Data-Creator\\Output\\Annotations\\3d.png\n",
      "C:\\Users\\theza\\Documents\\Uni\\MIT\\2019\\TP\\Project\\Meal-Compliance-Project\\Additional-Data-Creator\\Output\\Images\\4d.jpg\n",
      "C:\\Users\\theza\\Documents\\Uni\\MIT\\2019\\TP\\Project\\Meal-Compliance-Project\\Additional-Data-Creator\\Output\\Annotations\\4d.png\n"
     ]
    },
    {
     "name": "stderr",
     "output_type": "stream",
     "text": [
      "Lossy conversion from float64 to uint8. Range [0, 1]. Convert image to uint8 prior to saving to suppress this warning.\n",
      "Lossy conversion from int32 to uint8. Range [0, 12]. Convert image to uint8 prior to saving to suppress this warning.\n",
      "Lossy conversion from float64 to uint8. Range [0, 1]. Convert image to uint8 prior to saving to suppress this warning.\n"
     ]
    },
    {
     "name": "stdout",
     "output_type": "stream",
     "text": [
      "C:\\Users\\theza\\Documents\\Uni\\MIT\\2019\\TP\\Project\\Meal-Compliance-Project\\Additional-Data-Creator\\Output\\Images\\5d.jpg\n",
      "C:\\Users\\theza\\Documents\\Uni\\MIT\\2019\\TP\\Project\\Meal-Compliance-Project\\Additional-Data-Creator\\Output\\Annotations\\5d.png\n"
     ]
    },
    {
     "name": "stderr",
     "output_type": "stream",
     "text": [
      "Lossy conversion from int32 to uint8. Range [0, 12]. Convert image to uint8 prior to saving to suppress this warning.\n",
      "Lossy conversion from float64 to uint8. Range [0, 1]. Convert image to uint8 prior to saving to suppress this warning.\n"
     ]
    },
    {
     "name": "stdout",
     "output_type": "stream",
     "text": [
      "C:\\Users\\theza\\Documents\\Uni\\MIT\\2019\\TP\\Project\\Meal-Compliance-Project\\Additional-Data-Creator\\Output\\Images\\6d.jpg\n",
      "C:\\Users\\theza\\Documents\\Uni\\MIT\\2019\\TP\\Project\\Meal-Compliance-Project\\Additional-Data-Creator\\Output\\Annotations\\6d.png\n",
      "Saving input as output\n"
     ]
    },
    {
     "name": "stderr",
     "output_type": "stream",
     "text": [
      "Lossy conversion from int8 to uint8. Range [0, 12]. Convert image to uint8 prior to saving to suppress this warning.\n",
      "Lossy conversion from float64 to uint8. Range [0, 1]. Convert image to uint8 prior to saving to suppress this warning.\n"
     ]
    },
    {
     "name": "stdout",
     "output_type": "stream",
     "text": [
      "C:\\Users\\theza\\Documents\\Uni\\MIT\\2019\\TP\\Project\\Meal-Compliance-Project\\Additional-Data-Creator\\Output\\Images\\1z.jpg\n",
      "C:\\Users\\theza\\Documents\\Uni\\MIT\\2019\\TP\\Project\\Meal-Compliance-Project\\Additional-Data-Creator\\Output\\Annotations\\1z.png\n"
     ]
    },
    {
     "name": "stderr",
     "output_type": "stream",
     "text": [
      "Lossy conversion from int8 to uint8. Range [0, 12]. Convert image to uint8 prior to saving to suppress this warning.\n",
      "Lossy conversion from float64 to uint8. Range [0, 1]. Convert image to uint8 prior to saving to suppress this warning.\n"
     ]
    },
    {
     "name": "stdout",
     "output_type": "stream",
     "text": [
      "C:\\Users\\theza\\Documents\\Uni\\MIT\\2019\\TP\\Project\\Meal-Compliance-Project\\Additional-Data-Creator\\Output\\Images\\2z.jpg\n",
      "C:\\Users\\theza\\Documents\\Uni\\MIT\\2019\\TP\\Project\\Meal-Compliance-Project\\Additional-Data-Creator\\Output\\Annotations\\2z.png\n",
      "C:\\Users\\theza\\Documents\\Uni\\MIT\\2019\\TP\\Project\\Meal-Compliance-Project\\Additional-Data-Creator\\Output\\Images\\3z.jpg"
     ]
    },
    {
     "name": "stderr",
     "output_type": "stream",
     "text": [
      "Lossy conversion from int8 to uint8. Range [0, 12]. Convert image to uint8 prior to saving to suppress this warning.\n",
      "Lossy conversion from float64 to uint8. Range [0, 1]. Convert image to uint8 prior to saving to suppress this warning.\n"
     ]
    },
    {
     "name": "stdout",
     "output_type": "stream",
     "text": [
      "\n",
      "C:\\Users\\theza\\Documents\\Uni\\MIT\\2019\\TP\\Project\\Meal-Compliance-Project\\Additional-Data-Creator\\Output\\Annotations\\3z.png\n",
      "C:\\Users\\theza\\Documents\\Uni\\MIT\\2019\\TP\\Project\\Meal-Compliance-Project\\Additional-Data-Creator\\Output\\Images\\4z.jpg\n"
     ]
    },
    {
     "name": "stderr",
     "output_type": "stream",
     "text": [
      "Lossy conversion from int8 to uint8. Range [0, 12]. Convert image to uint8 prior to saving to suppress this warning.\n",
      "Lossy conversion from float64 to uint8. Range [0, 1]. Convert image to uint8 prior to saving to suppress this warning.\n"
     ]
    },
    {
     "name": "stdout",
     "output_type": "stream",
     "text": [
      "C:\\Users\\theza\\Documents\\Uni\\MIT\\2019\\TP\\Project\\Meal-Compliance-Project\\Additional-Data-Creator\\Output\\Annotations\\4z.png\n",
      "C:\\Users\\theza\\Documents\\Uni\\MIT\\2019\\TP\\Project\\Meal-Compliance-Project\\Additional-Data-Creator\\Output\\Images\\5z.jpg"
     ]
    },
    {
     "name": "stderr",
     "output_type": "stream",
     "text": [
      "Lossy conversion from int8 to uint8. Range [0, 12]. Convert image to uint8 prior to saving to suppress this warning.\n"
     ]
    },
    {
     "name": "stdout",
     "output_type": "stream",
     "text": [
      "\n",
      "C:\\Users\\theza\\Documents\\Uni\\MIT\\2019\\TP\\Project\\Meal-Compliance-Project\\Additional-Data-Creator\\Output\\Annotations\\5z.png"
     ]
    },
    {
     "name": "stderr",
     "output_type": "stream",
     "text": [
      "Lossy conversion from float64 to uint8. Range [0, 1]. Convert image to uint8 prior to saving to suppress this warning.\n",
      "Lossy conversion from int8 to uint8. Range [0, 12]. Convert image to uint8 prior to saving to suppress this warning.\n"
     ]
    },
    {
     "name": "stdout",
     "output_type": "stream",
     "text": [
      "\n",
      "C:\\Users\\theza\\Documents\\Uni\\MIT\\2019\\TP\\Project\\Meal-Compliance-Project\\Additional-Data-Creator\\Output\\Images\\6z.jpg\n",
      "C:\\Users\\theza\\Documents\\Uni\\MIT\\2019\\TP\\Project\\Meal-Compliance-Project\\Additional-Data-Creator\\Output\\Annotations\\6z.png\n"
     ]
    }
   ],
   "source": [
    "print('Saving output of filter 1')\n",
    "saveAugmentOutputs(inputAugmentImagePairs1, filePairPaths, 'a', dataPaths['OutputImage'],dataPaths['OutputAnnot'])\n",
    "print('Saving output of filter 2')\n",
    "saveAugmentOutputs(inputAugmentImagePairs2, filePairPaths, 'b', dataPaths['OutputImage'],dataPaths['OutputAnnot'])\n",
    "print('Saving output of filter 3')\n",
    "saveAugmentOutputs(inputAugmentImagePairs3, filePairPaths, 'c', dataPaths['OutputImage'],dataPaths['OutputAnnot'])\n",
    "print('Saving output of filter 4')\n",
    "saveAugmentOutputs(inputAugmentImagePairs4, filePairPaths, 'd', dataPaths['OutputImage'],dataPaths['OutputAnnot'])\n",
    "\n",
    "print('Saving input as output')\n",
    "saveAugmentOutputs(inputImagePairs, filePairPaths, 'z', dataPaths['OutputImage'],dataPaths['OutputAnnot'])"
   ]
  },
  {
   "cell_type": "code",
   "execution_count": 137,
   "metadata": {},
   "outputs": [],
   "source": [
    "from sklearn.model_selection import train_test_split # setting up the test and train data\n",
    "\n",
    "print('Spilliting train and test sets')\n",
    "fileOutputPaths = list(zip(getFilesInDir(dataPaths['OutputImage']), getFilesInDir(dataPaths['OutputAnnot'])))\n",
    "df = pd.DataFrame(fileOutputPaths, columns=['X', 'y'])\n",
    "X = df['X']\n",
    "y = df['y']"
   ]
  },
  {
   "cell_type": "code",
   "execution_count": 170,
   "metadata": {},
   "outputs": [],
   "source": [
    "X_train, X_test, y_train, y_test = train_test_split(X, y, test_size=0.33, random_state=0)"
   ]
  },
  {
   "cell_type": "code",
   "execution_count": 196,
   "metadata": {},
   "outputs": [],
   "source": [
    "from shutil import copyfile\n",
    "import errno\n",
    "\n",
    "def copyFileToDir(df, path):\n",
    "    for file in df.values:\n",
    "        print(file)\n",
    "        dest = path+'\\\\'\n",
    "        print(dest)\n",
    "        dest = dest+path_leaf(file)\n",
    "        os.makedirs(os.path.dirname(dest), exist_ok=True)\n",
    "        copyfile(file, dest)"
   ]
  },
  {
   "cell_type": "code",
   "execution_count": 197,
   "metadata": {},
   "outputs": [
    {
     "name": "stdout",
     "output_type": "stream",
     "text": [
      "Copying train/test output\n",
      "C:\\Users\\theza\\Documents\\Uni\\MIT\\2019\\TP\\Project\\Meal-Compliance-Project\\Additional-Data-Creator\\Output\\Images\\2a.jpg\n",
      "C:\\Users\\theza\\Documents\\Uni\\MIT\\2019\\TP\\Project\\Meal-Compliance-Project\\Additional-Data-Creator\\OutputData\\XTrain\\\n",
      "C:\\Users\\theza\\Documents\\Uni\\MIT\\2019\\TP\\Project\\Meal-Compliance-Project\\Additional-Data-Creator\\Output\\Images\\4b.jpg\n",
      "C:\\Users\\theza\\Documents\\Uni\\MIT\\2019\\TP\\Project\\Meal-Compliance-Project\\Additional-Data-Creator\\OutputData\\XTrain\\\n",
      "C:\\Users\\theza\\Documents\\Uni\\MIT\\2019\\TP\\Project\\Meal-Compliance-Project\\Additional-Data-Creator\\Output\\Images\\2d.jpg\n",
      "C:\\Users\\theza\\Documents\\Uni\\MIT\\2019\\TP\\Project\\Meal-Compliance-Project\\Additional-Data-Creator\\OutputData\\XTrain\\\n",
      "C:\\Users\\theza\\Documents\\Uni\\MIT\\2019\\TP\\Project\\Meal-Compliance-Project\\Additional-Data-Creator\\Output\\Images\\3z.jpg\n",
      "C:\\Users\\theza\\Documents\\Uni\\MIT\\2019\\TP\\Project\\Meal-Compliance-Project\\Additional-Data-Creator\\OutputData\\XTrain\\\n",
      "C:\\Users\\theza\\Documents\\Uni\\MIT\\2019\\TP\\Project\\Meal-Compliance-Project\\Additional-Data-Creator\\Output\\Images\\5d.jpg\n",
      "C:\\Users\\theza\\Documents\\Uni\\MIT\\2019\\TP\\Project\\Meal-Compliance-Project\\Additional-Data-Creator\\OutputData\\XTrain\\\n",
      "C:\\Users\\theza\\Documents\\Uni\\MIT\\2019\\TP\\Project\\Meal-Compliance-Project\\Additional-Data-Creator\\Output\\Images\\5a.jpg\n",
      "C:\\Users\\theza\\Documents\\Uni\\MIT\\2019\\TP\\Project\\Meal-Compliance-Project\\Additional-Data-Creator\\OutputData\\XTrain\\\n",
      "C:\\Users\\theza\\Documents\\Uni\\MIT\\2019\\TP\\Project\\Meal-Compliance-Project\\Additional-Data-Creator\\Output\\Images\\1b.jpg\n",
      "C:\\Users\\theza\\Documents\\Uni\\MIT\\2019\\TP\\Project\\Meal-Compliance-Project\\Additional-Data-Creator\\OutputData\\XTrain\\\n",
      "C:\\Users\\theza\\Documents\\Uni\\MIT\\2019\\TP\\Project\\Meal-Compliance-Project\\Additional-Data-Creator\\Output\\Images\\6z.jpg\n",
      "C:\\Users\\theza\\Documents\\Uni\\MIT\\2019\\TP\\Project\\Meal-Compliance-Project\\Additional-Data-Creator\\OutputData\\XTrain\\\n",
      "C:\\Users\\theza\\Documents\\Uni\\MIT\\2019\\TP\\Project\\Meal-Compliance-Project\\Additional-Data-Creator\\Output\\Images\\2b.jpg\n",
      "C:\\Users\\theza\\Documents\\Uni\\MIT\\2019\\TP\\Project\\Meal-Compliance-Project\\Additional-Data-Creator\\OutputData\\XTrain\\\n",
      "C:\\Users\\theza\\Documents\\Uni\\MIT\\2019\\TP\\Project\\Meal-Compliance-Project\\Additional-Data-Creator\\Output\\Images\\1z.jpg\n",
      "C:\\Users\\theza\\Documents\\Uni\\MIT\\2019\\TP\\Project\\Meal-Compliance-Project\\Additional-Data-Creator\\OutputData\\XTrain\\\n",
      "C:\\Users\\theza\\Documents\\Uni\\MIT\\2019\\TP\\Project\\Meal-Compliance-Project\\Additional-Data-Creator\\Output\\Images\\4d.jpg\n",
      "C:\\Users\\theza\\Documents\\Uni\\MIT\\2019\\TP\\Project\\Meal-Compliance-Project\\Additional-Data-Creator\\OutputData\\XTrain\\\n",
      "C:\\Users\\theza\\Documents\\Uni\\MIT\\2019\\TP\\Project\\Meal-Compliance-Project\\Additional-Data-Creator\\Output\\Images\\4z.jpg\n",
      "C:\\Users\\theza\\Documents\\Uni\\MIT\\2019\\TP\\Project\\Meal-Compliance-Project\\Additional-Data-Creator\\OutputData\\XTrain\\\n",
      "C:\\Users\\theza\\Documents\\Uni\\MIT\\2019\\TP\\Project\\Meal-Compliance-Project\\Additional-Data-Creator\\Output\\Images\\2z.jpg\n",
      "C:\\Users\\theza\\Documents\\Uni\\MIT\\2019\\TP\\Project\\Meal-Compliance-Project\\Additional-Data-Creator\\OutputData\\XTrain\\\n",
      "C:\\Users\\theza\\Documents\\Uni\\MIT\\2019\\TP\\Project\\Meal-Compliance-Project\\Additional-Data-Creator\\Output\\Images\\2c.jpg\n",
      "C:\\Users\\theza\\Documents\\Uni\\MIT\\2019\\TP\\Project\\Meal-Compliance-Project\\Additional-Data-Creator\\OutputData\\XTrain\\\n",
      "C:\\Users\\theza\\Documents\\Uni\\MIT\\2019\\TP\\Project\\Meal-Compliance-Project\\Additional-Data-Creator\\Output\\Images\\6a.jpg\n",
      "C:\\Users\\theza\\Documents\\Uni\\MIT\\2019\\TP\\Project\\Meal-Compliance-Project\\Additional-Data-Creator\\OutputData\\XTrain\\\n",
      "C:\\Users\\theza\\Documents\\Uni\\MIT\\2019\\TP\\Project\\Meal-Compliance-Project\\Additional-Data-Creator\\Output\\Images\\1d.jpg\n",
      "C:\\Users\\theza\\Documents\\Uni\\MIT\\2019\\TP\\Project\\Meal-Compliance-Project\\Additional-Data-Creator\\OutputData\\XTrain\\\n",
      "C:\\Users\\theza\\Documents\\Uni\\MIT\\2019\\TP\\Project\\Meal-Compliance-Project\\Additional-Data-Creator\\Output\\Images\\1a.jpg\n",
      "C:\\Users\\theza\\Documents\\Uni\\MIT\\2019\\TP\\Project\\Meal-Compliance-Project\\Additional-Data-Creator\\OutputData\\XTrain\\\n",
      "C:\\Users\\theza\\Documents\\Uni\\MIT\\2019\\TP\\Project\\Meal-Compliance-Project\\Additional-Data-Creator\\Output\\Images\\5b.jpg\n",
      "C:\\Users\\theza\\Documents\\Uni\\MIT\\2019\\TP\\Project\\Meal-Compliance-Project\\Additional-Data-Creator\\OutputData\\XTrain\\\n",
      "C:\\Users\\theza\\Documents\\Uni\\MIT\\2019\\TP\\Project\\Meal-Compliance-Project\\Additional-Data-Creator\\Output\\Images\\4a.jpg\n",
      "C:\\Users\\theza\\Documents\\Uni\\MIT\\2019\\TP\\Project\\Meal-Compliance-Project\\Additional-Data-Creator\\OutputData\\XTrain\\\n",
      "C:\\Users\\theza\\Documents\\Uni\\MIT\\2019\\TP\\Project\\Meal-Compliance-Project\\Additional-Data-Creator\\Output\\Images\\3c.jpg\n",
      "C:\\Users\\theza\\Documents\\Uni\\MIT\\2019\\TP\\Project\\Meal-Compliance-Project\\Additional-Data-Creator\\OutputData\\XTrain\\\n",
      "C:\\Users\\theza\\Documents\\Uni\\MIT\\2019\\TP\\Project\\Meal-Compliance-Project\\Additional-Data-Creator\\Output\\Images\\1c.jpg\n",
      "C:\\Users\\theza\\Documents\\Uni\\MIT\\2019\\TP\\Project\\Meal-Compliance-Project\\Additional-Data-Creator\\OutputData\\XTest\\\n",
      "C:\\Users\\theza\\Documents\\Uni\\MIT\\2019\\TP\\Project\\Meal-Compliance-Project\\Additional-Data-Creator\\Output\\Images\\6d.jpg\n",
      "C:\\Users\\theza\\Documents\\Uni\\MIT\\2019\\TP\\Project\\Meal-Compliance-Project\\Additional-Data-Creator\\OutputData\\XTest\\\n",
      "C:\\Users\\theza\\Documents\\Uni\\MIT\\2019\\TP\\Project\\Meal-Compliance-Project\\Additional-Data-Creator\\Output\\Images\\3d.jpg\n",
      "C:\\Users\\theza\\Documents\\Uni\\MIT\\2019\\TP\\Project\\Meal-Compliance-Project\\Additional-Data-Creator\\OutputData\\XTest\\\n",
      "C:\\Users\\theza\\Documents\\Uni\\MIT\\2019\\TP\\Project\\Meal-Compliance-Project\\Additional-Data-Creator\\Output\\Images\\3a.jpg\n",
      "C:\\Users\\theza\\Documents\\Uni\\MIT\\2019\\TP\\Project\\Meal-Compliance-Project\\Additional-Data-Creator\\OutputData\\XTest\\\n",
      "C:\\Users\\theza\\Documents\\Uni\\MIT\\2019\\TP\\Project\\Meal-Compliance-Project\\Additional-Data-Creator\\Output\\Images\\6b.jpg\n",
      "C:\\Users\\theza\\Documents\\Uni\\MIT\\2019\\TP\\Project\\Meal-Compliance-Project\\Additional-Data-Creator\\OutputData\\XTest\\\n",
      "C:\\Users\\theza\\Documents\\Uni\\MIT\\2019\\TP\\Project\\Meal-Compliance-Project\\Additional-Data-Creator\\Output\\Images\\5z.jpg\n",
      "C:\\Users\\theza\\Documents\\Uni\\MIT\\2019\\TP\\Project\\Meal-Compliance-Project\\Additional-Data-Creator\\OutputData\\XTest\\\n",
      "C:\\Users\\theza\\Documents\\Uni\\MIT\\2019\\TP\\Project\\Meal-Compliance-Project\\Additional-Data-Creator\\Output\\Images\\6c.jpg\n",
      "C:\\Users\\theza\\Documents\\Uni\\MIT\\2019\\TP\\Project\\Meal-Compliance-Project\\Additional-Data-Creator\\OutputData\\XTest\\\n",
      "C:\\Users\\theza\\Documents\\Uni\\MIT\\2019\\TP\\Project\\Meal-Compliance-Project\\Additional-Data-Creator\\Output\\Images\\3b.jpg\n",
      "C:\\Users\\theza\\Documents\\Uni\\MIT\\2019\\TP\\Project\\Meal-Compliance-Project\\Additional-Data-Creator\\OutputData\\XTest\\\n",
      "C:\\Users\\theza\\Documents\\Uni\\MIT\\2019\\TP\\Project\\Meal-Compliance-Project\\Additional-Data-Creator\\Output\\Images\\4c.jpg\n",
      "C:\\Users\\theza\\Documents\\Uni\\MIT\\2019\\TP\\Project\\Meal-Compliance-Project\\Additional-Data-Creator\\OutputData\\XTest\\\n",
      "C:\\Users\\theza\\Documents\\Uni\\MIT\\2019\\TP\\Project\\Meal-Compliance-Project\\Additional-Data-Creator\\Output\\Images\\5c.jpg\n",
      "C:\\Users\\theza\\Documents\\Uni\\MIT\\2019\\TP\\Project\\Meal-Compliance-Project\\Additional-Data-Creator\\OutputData\\XTest\\\n",
      "C:\\Users\\theza\\Documents\\Uni\\MIT\\2019\\TP\\Project\\Meal-Compliance-Project\\Additional-Data-Creator\\Output\\Annotations\\2a.png\n",
      "C:\\Users\\theza\\Documents\\Uni\\MIT\\2019\\TP\\Project\\Meal-Compliance-Project\\Additional-Data-Creator\\OutputData\\yTrain\\\n",
      "C:\\Users\\theza\\Documents\\Uni\\MIT\\2019\\TP\\Project\\Meal-Compliance-Project\\Additional-Data-Creator\\Output\\Annotations\\4b.png\n",
      "C:\\Users\\theza\\Documents\\Uni\\MIT\\2019\\TP\\Project\\Meal-Compliance-Project\\Additional-Data-Creator\\OutputData\\yTrain\\\n",
      "C:\\Users\\theza\\Documents\\Uni\\MIT\\2019\\TP\\Project\\Meal-Compliance-Project\\Additional-Data-Creator\\Output\\Annotations\\2d.png\n",
      "C:\\Users\\theza\\Documents\\Uni\\MIT\\2019\\TP\\Project\\Meal-Compliance-Project\\Additional-Data-Creator\\OutputData\\yTrain\\\n",
      "C:\\Users\\theza\\Documents\\Uni\\MIT\\2019\\TP\\Project\\Meal-Compliance-Project\\Additional-Data-Creator\\Output\\Annotations\\3z.png\n",
      "C:\\Users\\theza\\Documents\\Uni\\MIT\\2019\\TP\\Project\\Meal-Compliance-Project\\Additional-Data-Creator\\OutputData\\yTrain\\\n",
      "C:\\Users\\theza\\Documents\\Uni\\MIT\\2019\\TP\\Project\\Meal-Compliance-Project\\Additional-Data-Creator\\Output\\Annotations\\5d.png\n",
      "C:\\Users\\theza\\Documents\\Uni\\MIT\\2019\\TP\\Project\\Meal-Compliance-Project\\Additional-Data-Creator\\OutputData\\yTrain\\\n",
      "C:\\Users\\theza\\Documents\\Uni\\MIT\\2019\\TP\\Project\\Meal-Compliance-Project\\Additional-Data-Creator\\Output\\Annotations\\5a.png\n",
      "C:\\Users\\theza\\Documents\\Uni\\MIT\\2019\\TP\\Project\\Meal-Compliance-Project\\Additional-Data-Creator\\OutputData\\yTrain\\\n",
      "C:\\Users\\theza\\Documents\\Uni\\MIT\\2019\\TP\\Project\\Meal-Compliance-Project\\Additional-Data-Creator\\Output\\Annotations\\1b.png\n",
      "C:\\Users\\theza\\Documents\\Uni\\MIT\\2019\\TP\\Project\\Meal-Compliance-Project\\Additional-Data-Creator\\OutputData\\yTrain\\\n",
      "C:\\Users\\theza\\Documents\\Uni\\MIT\\2019\\TP\\Project\\Meal-Compliance-Project\\Additional-Data-Creator\\Output\\Annotations\\6z.png\n",
      "C:\\Users\\theza\\Documents\\Uni\\MIT\\2019\\TP\\Project\\Meal-Compliance-Project\\Additional-Data-Creator\\OutputData\\yTrain\\\n",
      "C:\\Users\\theza\\Documents\\Uni\\MIT\\2019\\TP\\Project\\Meal-Compliance-Project\\Additional-Data-Creator\\Output\\Annotations\\2b.png\n"
     ]
    },
    {
     "name": "stdout",
     "output_type": "stream",
     "text": [
      "C:\\Users\\theza\\Documents\\Uni\\MIT\\2019\\TP\\Project\\Meal-Compliance-Project\\Additional-Data-Creator\\OutputData\\yTrain\\\n",
      "C:\\Users\\theza\\Documents\\Uni\\MIT\\2019\\TP\\Project\\Meal-Compliance-Project\\Additional-Data-Creator\\Output\\Annotations\\1z.png\n",
      "C:\\Users\\theza\\Documents\\Uni\\MIT\\2019\\TP\\Project\\Meal-Compliance-Project\\Additional-Data-Creator\\OutputData\\yTrain\\\n",
      "C:\\Users\\theza\\Documents\\Uni\\MIT\\2019\\TP\\Project\\Meal-Compliance-Project\\Additional-Data-Creator\\Output\\Annotations\\4d.png\n",
      "C:\\Users\\theza\\Documents\\Uni\\MIT\\2019\\TP\\Project\\Meal-Compliance-Project\\Additional-Data-Creator\\OutputData\\yTrain\\\n",
      "C:\\Users\\theza\\Documents\\Uni\\MIT\\2019\\TP\\Project\\Meal-Compliance-Project\\Additional-Data-Creator\\Output\\Annotations\\4z.png\n",
      "C:\\Users\\theza\\Documents\\Uni\\MIT\\2019\\TP\\Project\\Meal-Compliance-Project\\Additional-Data-Creator\\OutputData\\yTrain\\\n",
      "C:\\Users\\theza\\Documents\\Uni\\MIT\\2019\\TP\\Project\\Meal-Compliance-Project\\Additional-Data-Creator\\Output\\Annotations\\2z.png\n",
      "C:\\Users\\theza\\Documents\\Uni\\MIT\\2019\\TP\\Project\\Meal-Compliance-Project\\Additional-Data-Creator\\OutputData\\yTrain\\\n",
      "C:\\Users\\theza\\Documents\\Uni\\MIT\\2019\\TP\\Project\\Meal-Compliance-Project\\Additional-Data-Creator\\Output\\Annotations\\2c.png\n",
      "C:\\Users\\theza\\Documents\\Uni\\MIT\\2019\\TP\\Project\\Meal-Compliance-Project\\Additional-Data-Creator\\OutputData\\yTrain\\\n",
      "C:\\Users\\theza\\Documents\\Uni\\MIT\\2019\\TP\\Project\\Meal-Compliance-Project\\Additional-Data-Creator\\Output\\Annotations\\6a.png\n",
      "C:\\Users\\theza\\Documents\\Uni\\MIT\\2019\\TP\\Project\\Meal-Compliance-Project\\Additional-Data-Creator\\OutputData\\yTrain\\\n",
      "C:\\Users\\theza\\Documents\\Uni\\MIT\\2019\\TP\\Project\\Meal-Compliance-Project\\Additional-Data-Creator\\Output\\Annotations\\1d.png\n",
      "C:\\Users\\theza\\Documents\\Uni\\MIT\\2019\\TP\\Project\\Meal-Compliance-Project\\Additional-Data-Creator\\OutputData\\yTrain\\\n",
      "C:\\Users\\theza\\Documents\\Uni\\MIT\\2019\\TP\\Project\\Meal-Compliance-Project\\Additional-Data-Creator\\Output\\Annotations\\1a.png\n",
      "C:\\Users\\theza\\Documents\\Uni\\MIT\\2019\\TP\\Project\\Meal-Compliance-Project\\Additional-Data-Creator\\OutputData\\yTrain\\\n",
      "C:\\Users\\theza\\Documents\\Uni\\MIT\\2019\\TP\\Project\\Meal-Compliance-Project\\Additional-Data-Creator\\Output\\Annotations\\5b.png\n",
      "C:\\Users\\theza\\Documents\\Uni\\MIT\\2019\\TP\\Project\\Meal-Compliance-Project\\Additional-Data-Creator\\OutputData\\yTrain\\\n",
      "C:\\Users\\theza\\Documents\\Uni\\MIT\\2019\\TP\\Project\\Meal-Compliance-Project\\Additional-Data-Creator\\Output\\Annotations\\4a.png\n",
      "C:\\Users\\theza\\Documents\\Uni\\MIT\\2019\\TP\\Project\\Meal-Compliance-Project\\Additional-Data-Creator\\OutputData\\yTrain\\\n",
      "C:\\Users\\theza\\Documents\\Uni\\MIT\\2019\\TP\\Project\\Meal-Compliance-Project\\Additional-Data-Creator\\Output\\Annotations\\3c.png\n",
      "C:\\Users\\theza\\Documents\\Uni\\MIT\\2019\\TP\\Project\\Meal-Compliance-Project\\Additional-Data-Creator\\OutputData\\yTrain\\\n",
      "C:\\Users\\theza\\Documents\\Uni\\MIT\\2019\\TP\\Project\\Meal-Compliance-Project\\Additional-Data-Creator\\Output\\Annotations\\1c.png\n",
      "C:\\Users\\theza\\Documents\\Uni\\MIT\\2019\\TP\\Project\\Meal-Compliance-Project\\Additional-Data-Creator\\OutputData\\yTest\\\n",
      "C:\\Users\\theza\\Documents\\Uni\\MIT\\2019\\TP\\Project\\Meal-Compliance-Project\\Additional-Data-Creator\\Output\\Annotations\\6d.png\n",
      "C:\\Users\\theza\\Documents\\Uni\\MIT\\2019\\TP\\Project\\Meal-Compliance-Project\\Additional-Data-Creator\\OutputData\\yTest\\\n",
      "C:\\Users\\theza\\Documents\\Uni\\MIT\\2019\\TP\\Project\\Meal-Compliance-Project\\Additional-Data-Creator\\Output\\Annotations\\3d.png\n",
      "C:\\Users\\theza\\Documents\\Uni\\MIT\\2019\\TP\\Project\\Meal-Compliance-Project\\Additional-Data-Creator\\OutputData\\yTest\\\n",
      "C:\\Users\\theza\\Documents\\Uni\\MIT\\2019\\TP\\Project\\Meal-Compliance-Project\\Additional-Data-Creator\\Output\\Annotations\\3a.png\n",
      "C:\\Users\\theza\\Documents\\Uni\\MIT\\2019\\TP\\Project\\Meal-Compliance-Project\\Additional-Data-Creator\\OutputData\\yTest\\\n",
      "C:\\Users\\theza\\Documents\\Uni\\MIT\\2019\\TP\\Project\\Meal-Compliance-Project\\Additional-Data-Creator\\Output\\Annotations\\6b.png\n",
      "C:\\Users\\theza\\Documents\\Uni\\MIT\\2019\\TP\\Project\\Meal-Compliance-Project\\Additional-Data-Creator\\OutputData\\yTest\\\n",
      "C:\\Users\\theza\\Documents\\Uni\\MIT\\2019\\TP\\Project\\Meal-Compliance-Project\\Additional-Data-Creator\\Output\\Annotations\\5z.png\n",
      "C:\\Users\\theza\\Documents\\Uni\\MIT\\2019\\TP\\Project\\Meal-Compliance-Project\\Additional-Data-Creator\\OutputData\\yTest\\\n",
      "C:\\Users\\theza\\Documents\\Uni\\MIT\\2019\\TP\\Project\\Meal-Compliance-Project\\Additional-Data-Creator\\Output\\Annotations\\6c.png\n",
      "C:\\Users\\theza\\Documents\\Uni\\MIT\\2019\\TP\\Project\\Meal-Compliance-Project\\Additional-Data-Creator\\OutputData\\yTest\\\n",
      "C:\\Users\\theza\\Documents\\Uni\\MIT\\2019\\TP\\Project\\Meal-Compliance-Project\\Additional-Data-Creator\\Output\\Annotations\\3b.png\n",
      "C:\\Users\\theza\\Documents\\Uni\\MIT\\2019\\TP\\Project\\Meal-Compliance-Project\\Additional-Data-Creator\\OutputData\\yTest\\\n",
      "C:\\Users\\theza\\Documents\\Uni\\MIT\\2019\\TP\\Project\\Meal-Compliance-Project\\Additional-Data-Creator\\Output\\Annotations\\4c.png\n",
      "C:\\Users\\theza\\Documents\\Uni\\MIT\\2019\\TP\\Project\\Meal-Compliance-Project\\Additional-Data-Creator\\OutputData\\yTest\\\n",
      "C:\\Users\\theza\\Documents\\Uni\\MIT\\2019\\TP\\Project\\Meal-Compliance-Project\\Additional-Data-Creator\\Output\\Annotations\\5c.png\n",
      "C:\\Users\\theza\\Documents\\Uni\\MIT\\2019\\TP\\Project\\Meal-Compliance-Project\\Additional-Data-Creator\\OutputData\\yTest\\\n"
     ]
    }
   ],
   "source": [
    "print('Copying train/test output')\n",
    "copyFileToDir(X_train,dataPaths['XTrain'])\n",
    "copyFileToDir(X_test,dataPaths['XTest'])\n",
    "copyFileToDir(y_train,dataPaths['yTrain'])\n",
    "copyFileToDir(y_test,dataPaths['yTest'])"
   ]
  },
  {
   "cell_type": "code",
   "execution_count": null,
   "metadata": {},
   "outputs": [],
   "source": []
  },
  {
   "cell_type": "code",
   "execution_count": null,
   "metadata": {},
   "outputs": [],
   "source": []
  }
 ],
 "metadata": {
  "kernelspec": {
   "display_name": "Python 3",
   "language": "python",
   "name": "python3"
  },
  "language_info": {
   "codemirror_mode": {
    "name": "ipython",
    "version": 3
   },
   "file_extension": ".py",
   "mimetype": "text/x-python",
   "name": "python",
   "nbconvert_exporter": "python",
   "pygments_lexer": "ipython3",
   "version": "3.7.1"
  }
 },
 "nbformat": 4,
 "nbformat_minor": 2
}
