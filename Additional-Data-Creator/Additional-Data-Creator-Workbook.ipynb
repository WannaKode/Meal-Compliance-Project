{
 "cells": [
  {
   "cell_type": "markdown",
   "metadata": {},
   "source": [
    "# Additional Data Creator Workbook"
   ]
  },
  {
   "cell_type": "code",
   "execution_count": 1,
   "metadata": {},
   "outputs": [],
   "source": [
    "# Import the relevent packages\n",
    "import os # File/directory operations\n",
    "import ntpath # File/directory operations\n",
    "import imgaug as ia # Image augmentations\n",
    "import imgaug.augmenters as iaa # Image augmentations\n",
    "import imageio as imio # Reading images\n",
    "import numpy as np # Matrix operations\n",
    "from skimage import data # Image operations\n",
    "from skimage.color import rgb2gray # RGB image to grey\n",
    "from skimage.transform import resize # Resize images\n",
    "import matplotlib.pyplot as plt # for visualisation\n",
    "import pandas as pd # Data manipulations\n",
    "from scipy import stats #not used but helps with debuging\n",
    "from tqdm import tqdm # Progress bar\n",
    "import warnings # Hide warnings in jupyter\n",
    "warnings.filterwarnings('ignore')"
   ]
  },
  {
   "cell_type": "code",
   "execution_count": 2,
   "metadata": {},
   "outputs": [],
   "source": [
    "# Set the input and output paths for later reference\n",
    "dataPaths = {'InputImageTrain':os.path.abspath(os.path.join('Data','Train','Images',)),\n",
    "             'InputAnnotTrain':os.path.abspath(os.path.join('Data','Train','Annotations')),\n",
    "             'InputImageTest':os.path.abspath(os.path.join('Data','Test','Images')),\n",
    "             'InputAnnotTest':os.path.abspath(os.path.join('Data','Test','Annotations')),\n",
    "             'OutputImageTrain':os.path.abspath(os.path.join('Output','Train','Images')),\n",
    "             'OutputAnnotTrain':os.path.abspath(os.path.join('Output','Train','Annotations')),\n",
    "             'OutputImageTest':os.path.abspath(os.path.join('Output','Test','Images')),\n",
    "             'OutputAnnotTest':os.path.abspath(os.path.join('Output','Test','Annotations')),\n",
    "             'XTrain':os.path.abspath(os.path.join('OutputData','XTrain')),\n",
    "             'yTrain':os.path.abspath(os.path.join('OutputData','yTrain')),\n",
    "             'XTest':os.path.abspath(os.path.join('OutputData','XTest')),\n",
    "             'yTest':os.path.abspath(os.path.join('OutputData','yTest'))}"
   ]
  },
  {
   "cell_type": "code",
   "execution_count": 3,
   "metadata": {},
   "outputs": [],
   "source": [
    "def getFilesInDir(dir):\n",
    "    \"\"\"This function will return a list of files in the given dir\"\"\"\n",
    "    files = []\n",
    "    # r=root, d=directories, f = files\n",
    "    for r, d, f in os.walk(dir):\n",
    "        for file in f:\n",
    "            files.append(os.path.join(r, file))\n",
    "    return files\n",
    "\n",
    "def validateImagePairs(imPairTuple, width):\n",
    "    \"\"\"This function reads the image and resizes it to the closest %32=0 for the specified width\"\"\"\n",
    "    imgDir , annotDir = imPairTuple\n",
    "    img = imio.imread(imgDir)\n",
    "    annot = rgb2gray(imio.imread(annotDir))*255\n",
    "    \n",
    "    widthScaleRatio = width / img.shape[1]\n",
    "    heightNew = (widthScaleRatio * (img.shape[0]))\n",
    "    heightNew = heightNew - (heightNew%32)\n",
    "    \n",
    "    annotNew = resize(annot, (heightNew, width),mode='edge', anti_aliasing=False,\n",
    "                               anti_aliasing_sigma=None,preserve_range=True,\n",
    "                               order=0).astype(int)\n",
    "    df = (pd.DataFrame(annotNew))\n",
    "    _, b = pd.factorize(df.values.T.reshape(-1, ))  \n",
    "\n",
    "    # print(df.apply(lambda x: pd.Categorical(x, b).codes).values.shape)\n",
    "    annotNewOut = df.apply(lambda x: pd.Categorical(x, b).codes).values\n",
    "    \n",
    "    \n",
    "    return (resize(img, (heightNew, width), anti_aliasing=True),\n",
    "            annotNewOut)\n",
    "\n",
    "def augment_seg(imSegTuple, filterSeq):\n",
    "    \"\"\"This function applies a 'filter' to the input image and its annotation \"\"\"\n",
    "    img , seg = imSegTuple  \n",
    "    img = img*255\n",
    "    img = img.astype(np.uint8)\n",
    "    aug_det = filterSeq.to_deterministic() \n",
    "    image_aug = aug_det.augment_image( img )\n",
    "    segmap = ia.SegmentationMapOnImage( seg , nb_classes=len(np.unique(seg)), shape=img.shape )\n",
    "    segmap_aug = aug_det.augment_segmentation_maps( segmap )\n",
    "    segmap_aug = segmap_aug.get_arr_int()\n",
    "    return (image_aug , segmap_aug)\n",
    "\n",
    "def path_leaf(path):\n",
    "    \"\"\"This function gets the file name from a path\"\"\"\n",
    "    head, tail = ntpath.split(path)\n",
    "    return tail or ntpath.basename(head)\n",
    "\n",
    "def saveAugmentOutputs(augmentImagePairs, originalFileNamePairs, suffex, outImagPath, outAnnotPath):\n",
    "    \"\"\"This function saves the augmented images\"\"\"\n",
    "    for i in range(0, len(augmentImagePairs)):\n",
    "        img = augmentImagePairs[i][0]\n",
    "        fileName = path_leaf(originalFileNamePairs[i][0])\n",
    "        fileNameSplit = fileName.split('.')\n",
    "        imFileName = outImagPath+'\\\\'+fileNameSplit[0]+suffex+'.'+fileNameSplit[1]\n",
    "        imio.imsave(imFileName, img)\n",
    "        #print(imFileName)\n",
    "        annot = augmentImagePairs[i][1]\n",
    "        annot = flattenSegImage(annot,getSegClasses(annot))\n",
    "        fileNameAnnot = path_leaf(originalFileNamePairs[i][1])\n",
    "        fileNameAnnotSplit = fileNameAnnot.split('.')\n",
    "        annotFileName = outAnnotPath+'\\\\'+fileNameAnnotSplit[0]+suffex+'.'+fileNameAnnotSplit[1]\n",
    "        annot = annot.astype(np.uint8)\n",
    "        imio.imwrite(annotFileName, annot)\n",
    "\n",
    "def ShowAugmentCompare(originalTup, newTup):\n",
    "    \"\"\"This function shows a comparason of orginal vs augmented images and annotations\"\"\"\n",
    "    fig, axes = plt.subplots(nrows=2, ncols=2)\n",
    "    ax = axes.ravel()\n",
    "    ax[0].imshow(originalTup[0])\n",
    "    ax[0].set_title(\"Original image\")\n",
    "    ax[1].imshow(newTup[0])\n",
    "    ax[1].set_title(\"New image\")\n",
    "    ax[2].imshow(originalTup[1], cmap='gray')\n",
    "    ax[2].set_title(\"Original annotation\")\n",
    "    ax[3].imshow(newTup[1], cmap='gray')\n",
    "    ax[3].set_title(\"New annotation\")\n",
    "    plt.tight_layout()\n",
    "    plt.show()\n",
    "    \n",
    "\n",
    "def getSegClasses(seg):\n",
    "    segUnique = np.unique(seg)\n",
    "    #print(segUnique)\n",
    "    output = {}\n",
    "    for i in range(0,len(segUnique)):\n",
    "        output[segUnique[i]] = i\n",
    "    return output\n",
    "        \n",
    "    \n",
    "def flattenSegImage(seg, classes):\n",
    "    k = np.array(list(classes.keys()))\n",
    "    v = np.array(list(classes.values()))\n",
    "    sidx = k.argsort()\n",
    "    output = v[sidx[np.searchsorted(k,seg,sorter=sidx)]]\n",
    "    \n",
    "    #print(stats.describe(seg).mean)\n",
    "    #print(stats.describe(output).mean)\n",
    "    return output\n",
    "\n",
    "def processImages(filterCol, inputImagePairs, filePairPaths, dataPathImg, dataPathAnnot):    \n",
    "    for key, value in tqdm(filterCol.items()):\n",
    "        if(value==None):\n",
    "            #print(key)\n",
    "            saveAugmentOutputs(inputImagePairs, filePairPaths, key, dataPathImg, dataPathAnnot)\n",
    "        else:\n",
    "            #print('Applying filter \\''+ key +'\\' to input')\n",
    "            outputAugment = []\n",
    "            for tup in inputImagePairs:\n",
    "                outputAugment.append(augment_seg(tup, value))\n",
    "            #print('Saving output of filter \\''+ key +'\\'')\n",
    "            saveAugmentOutputs(outputAugment, filePairPaths, key, dataPathImg, dataPathAnnot)\n"
   ]
  },
  {
   "cell_type": "code",
   "execution_count": 4,
   "metadata": {},
   "outputs": [
    {
     "name": "stdout",
     "output_type": "stream",
     "text": [
      "Reading and resizing input files...\n",
      "Train: Read 32 files.\n",
      "Test: Read 16 files.\n"
     ]
    }
   ],
   "source": [
    "# This will create a list of tuples for the input images, it will associate an image with \n",
    "# its annotation given the naming convention is followed\n",
    "\n",
    "print('Reading and resizing input files...')\n",
    "\n",
    "WIDTH = 416\n",
    "\n",
    "filePairPathsTrain = list(zip(getFilesInDir(dataPaths['InputImageTrain']), getFilesInDir(dataPaths['InputAnnotTrain'])))\n",
    "inputImagePairsTrain = []\n",
    "for tup in filePairPathsTrain:\n",
    "    inputImagePairsTrain.append(validateImagePairs(tup,WIDTH))\n",
    "    \n",
    "print('Train: Read '+str(len(inputImagePairsTrain)*2)+' files.')\n",
    "\n",
    "filePairPathsTest = list(zip(getFilesInDir(dataPaths['InputImageTest']), getFilesInDir(dataPaths['InputAnnotTest'])))\n",
    "inputImagePairsTest = []\n",
    "for tup in filePairPathsTest:\n",
    "    inputImagePairsTest.append(validateImagePairs(tup,WIDTH))\n",
    "    \n",
    "print('Test: Read '+str(len(inputImagePairsTest)*2)+' files.')"
   ]
  },
  {
   "cell_type": "code",
   "execution_count": 5,
   "metadata": {},
   "outputs": [
    {
     "name": "stdout",
     "output_type": "stream",
     "text": [
      "Createing filters...\n"
     ]
    },
    {
     "name": "stdout",
     "output_type": "stream",
     "text": [
      "{'a': None, 'b': Sequential(name=UnnamedSequential, random_order=False, children=[Convolve(name=UnnamedMotionBlur, parameters=[<function MotionBlur.<locals>.create_matrices at 0x000002134AB5A950>, function], deterministic=False)], deterministic=False), 'c': Sequential(name=UnnamedSequential, random_order=False, children=[Fliplr(name=UnnamedFliplr, parameters=[Deterministic(int 1)], deterministic=False)], deterministic=False), 'd': Sequential(name=UnnamedSequential, random_order=False, children=[Flipud(name=UnnamedFlipud, parameters=[Deterministic(int 1)], deterministic=False)], deterministic=False), 'e': Sequential(name=UnnamedSequential, random_order=False, children=[PerspectiveTransform(name=UnnamedPerspectiveTransform, parameters=[Normal(loc=Deterministic(int 0), scale=Deterministic(float 0.01000000)), True, Deterministic(int 0), Deterministic(constant)], deterministic=False)], deterministic=False), 'f': Sequential(name=UnnamedSequential, random_order=False, children=[PiecewiseAffine(name=UnnamedPiecewiseAffine, parameters=[Deterministic(float 0.01000000), Deterministic(int 4), Deterministic(int 4), Deterministic(int 1), Deterministic(int 0), Deterministic(constant), False], deterministic=False)], deterministic=False), 'g': Sequential(name=UnnamedSequential, random_order=False, children=[Multiply(name=UnnamedMultiply, parameters=[Uniform(Deterministic(float 0.90000000), Deterministic(float 1.10000000)), Deterministic(int 0)], deterministic=False)], deterministic=False), 'h': Sequential(name=UnnamedSequential, random_order=False, children=[AddToHueAndSaturation(name=UnnamedAddToHueAndSaturation, parameters=[DiscreteUniform(Deterministic(int -10), Deterministic(int 10)), Deterministic(int 0)], deterministic=False), PiecewiseAffine(name=UnnamedPiecewiseAffine, parameters=[Deterministic(float 0.01000000), Deterministic(int 4), Deterministic(int 4), Deterministic(int 1), Deterministic(int 0), Deterministic(constant), False], deterministic=False), PerspectiveTransform(name=UnnamedPerspectiveTransform, parameters=[Normal(loc=Deterministic(int 0), scale=Deterministic(float 0.01000000)), True, Deterministic(int 0), Deterministic(constant)], deterministic=False)], deterministic=False), 'i': Sequential(name=UnnamedSequential, random_order=False, children=[Convolve(name=UnnamedMotionBlur, parameters=[<function MotionBlur.<locals>.create_matrices at 0x000002134AB5AAE8>, function], deterministic=False), Fliplr(name=UnnamedFliplr, parameters=[Deterministic(int 1)], deterministic=False), AddToHueAndSaturation(name=UnnamedAddToHueAndSaturation, parameters=[DiscreteUniform(Deterministic(int -10), Deterministic(int 10)), Deterministic(int 0)], deterministic=False)], deterministic=False), 'j': Sequential(name=UnnamedSequential, random_order=False, children=[Convolve(name=UnnamedMotionBlur, parameters=[<function MotionBlur.<locals>.create_matrices at 0x000002134AB5AEA0>, function], deterministic=False), Fliplr(name=UnnamedFliplr, parameters=[Deterministic(int 1)], deterministic=False), Flipud(name=UnnamedFlipud, parameters=[Deterministic(int 1)], deterministic=False)], deterministic=False), 'k': Sequential(name=UnnamedSequential, random_order=False, children=[Convolve(name=UnnamedMotionBlur, parameters=[<function MotionBlur.<locals>.create_matrices at 0x000002134AB5AB70>, function], deterministic=False), Fliplr(name=UnnamedFliplr, parameters=[Deterministic(int 1)], deterministic=False), Flipud(name=UnnamedFlipud, parameters=[Deterministic(int 1)], deterministic=False), PerspectiveTransform(name=UnnamedPerspectiveTransform, parameters=[Normal(loc=Deterministic(int 0), scale=Deterministic(float 0.01000000)), True, Deterministic(int 0), Deterministic(constant)], deterministic=False)], deterministic=False), 'l': Sequential(name=UnnamedSequential, random_order=False, children=[Fliplr(name=UnnamedFliplr, parameters=[Deterministic(int 1)], deterministic=False), Flipud(name=UnnamedFlipud, parameters=[Deterministic(int 1)], deterministic=False), PerspectiveTransform(name=UnnamedPerspectiveTransform, parameters=[Normal(loc=Deterministic(int 0), scale=Deterministic(float 0.01000000)), True, Deterministic(int 0), Deterministic(constant)], deterministic=False), PiecewiseAffine(name=UnnamedPiecewiseAffine, parameters=[Deterministic(float 0.01000000), Deterministic(int 4), Deterministic(int 4), Deterministic(int 1), Deterministic(int 0), Deterministic(constant), False], deterministic=False)], deterministic=False), 'm': Sequential(name=UnnamedSequential, random_order=False, children=[Flipud(name=UnnamedFlipud, parameters=[Deterministic(int 1)], deterministic=False), PerspectiveTransform(name=UnnamedPerspectiveTransform, parameters=[Normal(loc=Deterministic(int 0), scale=Deterministic(float 0.01000000)), True, Deterministic(int 0), Deterministic(constant)], deterministic=False), PiecewiseAffine(name=UnnamedPiecewiseAffine, parameters=[Deterministic(float 0.01000000), Deterministic(int 4), Deterministic(int 4), Deterministic(int 1), Deterministic(int 0), Deterministic(constant), False], deterministic=False), _ContrastFuncWrapper(name=GammaContrast, parameters=[Uniform(Deterministic(float 0.90000000), Deterministic(float 1.10000000))], deterministic=False)], deterministic=False), 'n': Sequential(name=UnnamedSequential, random_order=False, children=[PerspectiveTransform(name=UnnamedPerspectiveTransform, parameters=[Normal(loc=Deterministic(int 0), scale=Deterministic(float 0.01000000)), True, Deterministic(int 0), Deterministic(constant)], deterministic=False), PiecewiseAffine(name=UnnamedPiecewiseAffine, parameters=[Deterministic(float 0.01000000), Deterministic(int 4), Deterministic(int 4), Deterministic(int 1), Deterministic(int 0), Deterministic(constant), False], deterministic=False), _ContrastFuncWrapper(name=GammaContrast, parameters=[Uniform(Deterministic(float 0.90000000), Deterministic(float 1.10000000))], deterministic=False), AddToHueAndSaturation(name=UnnamedAddToHueAndSaturation, parameters=[DiscreteUniform(Deterministic(int -10), Deterministic(int 10)), Deterministic(int 0)], deterministic=False)], deterministic=False), 'o': Sequential(name=UnnamedSequential, random_order=False, children=[PiecewiseAffine(name=UnnamedPiecewiseAffine, parameters=[Deterministic(float 0.01000000), Deterministic(int 4), Deterministic(int 4), Deterministic(int 1), Deterministic(int 0), Deterministic(constant), False], deterministic=False), AddToHueAndSaturation(name=UnnamedAddToHueAndSaturation, parameters=[DiscreteUniform(Deterministic(int -10), Deterministic(int 10)), Deterministic(int 0)], deterministic=False)], deterministic=False), 'p': Sequential(name=UnnamedSequential, random_order=False, children=[Flipud(name=UnnamedFlipud, parameters=[Deterministic(int 1)], deterministic=False), PerspectiveTransform(name=UnnamedPerspectiveTransform, parameters=[Normal(loc=Deterministic(int 0), scale=Deterministic(float 0.01000000)), True, Deterministic(int 0), Deterministic(constant)], deterministic=False), PiecewiseAffine(name=UnnamedPiecewiseAffine, parameters=[Deterministic(float 0.01000000), Deterministic(int 4), Deterministic(int 4), Deterministic(int 1), Deterministic(int 0), Deterministic(constant), False], deterministic=False), AddToHueAndSaturation(name=UnnamedAddToHueAndSaturation, parameters=[DiscreteUniform(Deterministic(int -10), Deterministic(int 10)), Deterministic(int 0)], deterministic=False)], deterministic=False), 'q': Sequential(name=UnnamedSequential, random_order=False, children=[Fliplr(name=UnnamedFliplr, parameters=[Deterministic(int 1)], deterministic=False), AddToHueAndSaturation(name=UnnamedAddToHueAndSaturation, parameters=[DiscreteUniform(Deterministic(int -10), Deterministic(int 10)), Deterministic(int 0)], deterministic=False)], deterministic=False), 'r': Sequential(name=UnnamedSequential, random_order=False, children=[Convolve(name=UnnamedMotionBlur, parameters=[<function MotionBlur.<locals>.create_matrices at 0x000002134AB5AE18>, function], deterministic=False), PerspectiveTransform(name=UnnamedPerspectiveTransform, parameters=[Normal(loc=Deterministic(int 0), scale=Deterministic(float 0.01000000)), True, Deterministic(int 0), Deterministic(constant)], deterministic=False), _ContrastFuncWrapper(name=GammaContrast, parameters=[Uniform(Deterministic(float 0.90000000), Deterministic(float 1.10000000))], deterministic=False), AddToHueAndSaturation(name=UnnamedAddToHueAndSaturation, parameters=[DiscreteUniform(Deterministic(int -10), Deterministic(int 10)), Deterministic(int 0)], deterministic=False)], deterministic=False), 's': Sequential(name=UnnamedSequential, random_order=False, children=[Fliplr(name=UnnamedFliplr, parameters=[Deterministic(int 1)], deterministic=False), Flipud(name=UnnamedFlipud, parameters=[Deterministic(int 1)], deterministic=False), _ContrastFuncWrapper(name=GammaContrast, parameters=[Uniform(Deterministic(float 0.90000000), Deterministic(float 1.10000000))], deterministic=False), AddToHueAndSaturation(name=UnnamedAddToHueAndSaturation, parameters=[DiscreteUniform(Deterministic(int -10), Deterministic(int 10)), Deterministic(int 0)], deterministic=False)], deterministic=False), 't': Sequential(name=UnnamedSequential, random_order=False, children=[Fliplr(name=UnnamedFliplr, parameters=[Deterministic(int 1)], deterministic=False), Flipud(name=UnnamedFlipud, parameters=[Deterministic(int 1)], deterministic=False), PiecewiseAffine(name=UnnamedPiecewiseAffine, parameters=[Deterministic(float 0.01000000), Deterministic(int 4), Deterministic(int 4), Deterministic(int 1), Deterministic(int 0), Deterministic(constant), False], deterministic=False), AddToHueAndSaturation(name=UnnamedAddToHueAndSaturation, parameters=[DiscreteUniform(Deterministic(int -10), Deterministic(int 10)), Deterministic(int 0)], deterministic=False)], deterministic=False), 'u': Sequential(name=UnnamedSequential, random_order=False, children=[Fliplr(name=UnnamedFliplr, parameters=[Deterministic(int 1)], deterministic=False), Flipud(name=UnnamedFlipud, parameters=[Deterministic(int 1)], deterministic=False), PerspectiveTransform(name=UnnamedPerspectiveTransform, parameters=[Normal(loc=Deterministic(int 0), scale=Deterministic(float 0.01000000)), True, Deterministic(int 0), Deterministic(constant)], deterministic=False), Multiply(name=UnnamedMultiply, parameters=[Uniform(Deterministic(float 0.90000000), Deterministic(float 1.10000000)), Deterministic(int 0)], deterministic=False)], deterministic=False), 'v': Sequential(name=UnnamedSequential, random_order=False, children=[Convolve(name=UnnamedMotionBlur, parameters=[<function MotionBlur.<locals>.create_matrices at 0x000002134AB5AF28>, function], deterministic=False), AddToHueAndSaturation(name=UnnamedAddToHueAndSaturation, parameters=[DiscreteUniform(Deterministic(int -10), Deterministic(int 10)), Deterministic(int 0)], deterministic=False)], deterministic=False), 'w': Sequential(name=UnnamedSequential, random_order=False, children=[Flipud(name=UnnamedFlipud, parameters=[Deterministic(int 1)], deterministic=False), PerspectiveTransform(name=UnnamedPerspectiveTransform, parameters=[Normal(loc=Deterministic(int 0), scale=Deterministic(float 0.01000000)), True, Deterministic(int 0), Deterministic(constant)], deterministic=False)], deterministic=False), 'x': Sequential(name=UnnamedSequential, random_order=False, children=[Fliplr(name=UnnamedFliplr, parameters=[Deterministic(int 1)], deterministic=False), AddToHueAndSaturation(name=UnnamedAddToHueAndSaturation, parameters=[DiscreteUniform(Deterministic(int -10), Deterministic(int 10)), Deterministic(int 0)], deterministic=False)], deterministic=False), 'y': Sequential(name=UnnamedSequential, random_order=False, children=[PiecewiseAffine(name=UnnamedPiecewiseAffine, parameters=[Deterministic(float 0.01000000), Deterministic(int 4), Deterministic(int 4), Deterministic(int 1), Deterministic(int 0), Deterministic(constant), False], deterministic=False), _ContrastFuncWrapper(name=GammaContrast, parameters=[Uniform(Deterministic(float 0.90000000), Deterministic(float 1.10000000))], deterministic=False)], deterministic=False), 'z': Sequential(name=UnnamedSequential, random_order=False, children=[Convolve(name=UnnamedMotionBlur, parameters=[<function MotionBlur.<locals>.create_matrices at 0x000002134AB5A268>, function], deterministic=False), PerspectiveTransform(name=UnnamedPerspectiveTransform, parameters=[Normal(loc=Deterministic(int 0), scale=Deterministic(float 0.01000000)), True, Deterministic(int 0), Deterministic(constant)], deterministic=False), _ContrastFuncWrapper(name=GammaContrast, parameters=[Uniform(Deterministic(float 0.90000000), Deterministic(float 1.10000000))], deterministic=False), AddToHueAndSaturation(name=UnnamedAddToHueAndSaturation, parameters=[DiscreteUniform(Deterministic(int -10), Deterministic(int 10)), Deterministic(int 0)], deterministic=False)], deterministic=False)}\n"
     ]
    }
   ],
   "source": [
    "# See https://github.com/aleju/imgaug#example-images for details\n",
    "\n",
    "print('Createing filters...')\n",
    "\n",
    "### Expriment 1, 2, 3\n",
    "filters1 = {\n",
    "    'a':None\n",
    "}\n",
    "\n",
    "### Expriment 4, 5, 6\n",
    "filters2 = {\n",
    "    'a':None,\n",
    "    'b':iaa.Sequential([iaa.MotionBlur(k=5,angle=[-90, 90]),]), # horizontally flip ,\n",
    "    'c':iaa.Sequential([iaa.Fliplr(1),]), # horizontally flip ,\n",
    "    'd':iaa.Sequential([iaa.Flipud(1),]), # vertically flip ,\n",
    "    'e':iaa.Sequential([iaa.PerspectiveTransform(scale=0.01, keep_size=True),]),# Perspective Transform,\n",
    "    'f':iaa.Sequential([iaa.PiecewiseAffine(scale=0.01),]),# Piecewise Affine\n",
    "    'g':iaa.Sequential([iaa.Multiply((0.9, 1.1)),]),# Make image brighter/darker\n",
    "    'h':iaa.Sequential([iaa.AddToHueAndSaturation((-10, 10)),iaa.PiecewiseAffine(scale=0.01), iaa.PerspectiveTransform(scale=0.01, keep_size=True)]),# Shift the hue,\n",
    "    'i':iaa.Sequential([iaa.MotionBlur(k=5,angle=[-90, 90]),iaa.Fliplr(1),iaa.AddToHueAndSaturation((-10, 10))]),\n",
    "    'j':iaa.Sequential([iaa.MotionBlur(k=5,angle=[-90, 90]),iaa.Fliplr(1),iaa.Flipud(1)]),\n",
    "    'k':iaa.Sequential([iaa.MotionBlur(k=5,angle=[-90, 90]),iaa.Fliplr(1),iaa.Flipud(1),iaa.PerspectiveTransform(scale=0.01, keep_size=True)]),\n",
    "    'l':iaa.Sequential([iaa.Fliplr(1),iaa.Flipud(1),iaa.PerspectiveTransform(scale=0.01, keep_size=True),iaa.PiecewiseAffine(scale=0.01)]),\n",
    "    'm':iaa.Sequential([iaa.Flipud(1),iaa.PerspectiveTransform(scale=0.01, keep_size=True),iaa.PiecewiseAffine(scale=0.01),iaa.GammaContrast((0.9, 1.1))]),\n",
    "    'n':iaa.Sequential([iaa.PerspectiveTransform(scale=0.01, keep_size=True),iaa.PiecewiseAffine(scale=0.01),iaa.GammaContrast((0.9, 1.1)),iaa.AddToHueAndSaturation((-10, 10))]),\n",
    "    'o':iaa.Sequential([iaa.PiecewiseAffine(scale=0.01),iaa.AddToHueAndSaturation((-10, 10))]),\n",
    "    'p':iaa.Sequential([iaa.Flipud(1),iaa.PerspectiveTransform(scale=0.01, keep_size=True),iaa.PiecewiseAffine(scale=0.01),iaa.AddToHueAndSaturation((-10, 10))]),\n",
    "    'q':iaa.Sequential([iaa.Fliplr(1),iaa.AddToHueAndSaturation((-10, 10))]),\n",
    "    'r':iaa.Sequential([iaa.MotionBlur(k=5,angle=[-90, 90]),iaa.PerspectiveTransform(scale=0.01, keep_size=True),iaa.GammaContrast((0.9, 1.1)),iaa.AddToHueAndSaturation((-10, 10))]),\n",
    "    's':iaa.Sequential([iaa.Fliplr(1),iaa.Flipud(1), iaa.GammaContrast((0.9, 1.1)),iaa.AddToHueAndSaturation((-10, 10))]),\n",
    "    't':iaa.Sequential([iaa.Fliplr(1),iaa.Flipud(1), iaa.PiecewiseAffine(scale=0.01),iaa.AddToHueAndSaturation((-10, 10))]),\n",
    "    'u':iaa.Sequential([iaa.Fliplr(1),iaa.Flipud(1), iaa.PerspectiveTransform(scale=0.01, keep_size=True),iaa.Multiply((0.9, 1.1))]),\n",
    "    'v':iaa.Sequential([iaa.MotionBlur(k=5,angle=[-90, 90]),iaa.AddToHueAndSaturation((-10, 10))]),\n",
    "    'w':iaa.Sequential([iaa.Flipud(1),iaa.PerspectiveTransform(scale=0.01, keep_size=True)]),\n",
    "    'x':iaa.Sequential([iaa.Fliplr(1),iaa.AddToHueAndSaturation((-10, 10))]),\n",
    "    'y':iaa.Sequential([iaa.PiecewiseAffine(scale=0.01),iaa.GammaContrast((0.9, 1.1))]),\n",
    "    'z':iaa.Sequential([iaa.MotionBlur(k=5,angle=[-90, 90]),iaa.PerspectiveTransform(scale=0.01, keep_size=True),iaa.GammaContrast((0.9, 1.1)),iaa.AddToHueAndSaturation((-10, 10))])\n",
    "}\n",
    "\n",
    "### Expriment 8,\n",
    "filters2 = {\n",
    "    'a':None,\n",
    "    'b':iaa.Sequential([iaa.MotionBlur(k=5,angle=[-90, 90]),]), # horizontally flip ,\n",
    "    'c':iaa.Sequential([iaa.Fliplr(1),]), # horizontally flip ,\n",
    "    'd':iaa.Sequential([iaa.Flipud(1),]), # vertically flip ,\n",
    "    'e':iaa.Sequential([iaa.PerspectiveTransform(scale=0.01, keep_size=True),]),# Perspective Transform,\n",
    "    'f':iaa.Sequential([iaa.PiecewiseAffine(scale=0.01),]),# Piecewise Affine\n",
    "    'g':iaa.Sequential([iaa.Multiply((0.9, 1.1)),]),# Make image brighter/darker\n",
    "    'h':iaa.Sequential([iaa.AddToHueAndSaturation((-10, 10)),iaa.PiecewiseAffine(scale=0.01), iaa.PerspectiveTransform(scale=0.01, keep_size=True)]),# Shift the hue,\n",
    "    'i':iaa.Sequential([iaa.MotionBlur(k=5,angle=[-90, 90]),iaa.Fliplr(1),iaa.AddToHueAndSaturation((-10, 10))]),\n",
    "    'j':iaa.Sequential([iaa.MotionBlur(k=5,angle=[-90, 90]),iaa.Fliplr(1),iaa.Flipud(1)]),\n",
    "    'k':iaa.Sequential([iaa.MotionBlur(k=5,angle=[-90, 90]),iaa.Fliplr(1),iaa.Flipud(1),iaa.PerspectiveTransform(scale=0.01, keep_size=True)]),\n",
    "    'l':iaa.Sequential([iaa.Fliplr(1),iaa.Flipud(1),iaa.PerspectiveTransform(scale=0.01, keep_size=True),iaa.PiecewiseAffine(scale=0.01)]),\n",
    "    'm':iaa.Sequential([iaa.Flipud(1),iaa.PerspectiveTransform(scale=0.01, keep_size=True),iaa.PiecewiseAffine(scale=0.01),iaa.GammaContrast((0.9, 1.1))]),\n",
    "    'n':iaa.Sequential([iaa.PerspectiveTransform(scale=0.01, keep_size=True),iaa.PiecewiseAffine(scale=0.01),iaa.GammaContrast((0.9, 1.1)),iaa.AddToHueAndSaturation((-10, 10))]),\n",
    "    'o':iaa.Sequential([iaa.PiecewiseAffine(scale=0.01),iaa.AddToHueAndSaturation((-10, 10))]),\n",
    "    'p':iaa.Sequential([iaa.Flipud(1),iaa.PerspectiveTransform(scale=0.01, keep_size=True),iaa.PiecewiseAffine(scale=0.01),iaa.AddToHueAndSaturation((-10, 10))]),\n",
    "    'q':iaa.Sequential([iaa.Fliplr(1),iaa.AddToHueAndSaturation((-10, 10))]),\n",
    "    'r':iaa.Sequential([iaa.MotionBlur(k=5,angle=[-90, 90]),iaa.PerspectiveTransform(scale=0.01, keep_size=True),iaa.GammaContrast((0.9, 1.1)),iaa.AddToHueAndSaturation((-10, 10))]),\n",
    "    's':iaa.Sequential([iaa.Fliplr(1),iaa.Flipud(1), iaa.GammaContrast((0.9, 1.1)),iaa.AddToHueAndSaturation((-10, 10))]),\n",
    "    't':iaa.Sequential([iaa.Fliplr(1),iaa.Flipud(1), iaa.PiecewiseAffine(scale=0.01),iaa.AddToHueAndSaturation((-10, 10))]),\n",
    "    'u':iaa.Sequential([iaa.Fliplr(1),iaa.Flipud(1), iaa.PerspectiveTransform(scale=0.01, keep_size=True),iaa.Multiply((0.9, 1.1))]),\n",
    "    'v':iaa.Sequential([iaa.MotionBlur(k=5,angle=[-90, 90]),iaa.AddToHueAndSaturation((-10, 10))]),\n",
    "    'w':iaa.Sequential([iaa.Flipud(1),iaa.PerspectiveTransform(scale=0.01, keep_size=True)]),\n",
    "    'x':iaa.Sequential([iaa.Fliplr(1),iaa.AddToHueAndSaturation((-10, 10))]),\n",
    "    'y':iaa.Sequential([iaa.PiecewiseAffine(scale=0.01),iaa.GammaContrast((0.9, 1.1))]),\n",
    "    'z':iaa.Sequential([iaa.MotionBlur(k=5,angle=[-90, 90]),iaa.PerspectiveTransform(scale=0.01, keep_size=True),iaa.GammaContrast((0.9, 1.1)),iaa.AddToHueAndSaturation((-10, 10))])\n",
    "}\n",
    "\n",
    "print(filters2)"
   ]
  },
  {
   "cell_type": "code",
   "execution_count": 6,
   "metadata": {
    "scrolled": true
   },
   "outputs": [
    {
     "name": "stdout",
     "output_type": "stream",
     "text": [
      "Processing train images\n"
     ]
    },
    {
     "name": "stderr",
     "output_type": "stream",
     "text": [
      "  0%|                                                                                            | 0/1 [00:00<?, ?it/s]Lossy conversion from float64 to uint8. Range [0, 1]. Convert image to uint8 prior to saving to suppress this warning.\n",
      "Lossy conversion from float64 to uint8. Range [0, 1]. Convert image to uint8 prior to saving to suppress this warning.\n",
      "Lossy conversion from float64 to uint8. Range [0, 1]. Convert image to uint8 prior to saving to suppress this warning.\n",
      "Lossy conversion from float64 to uint8. Range [0, 1]. Convert image to uint8 prior to saving to suppress this warning.\n",
      "Lossy conversion from float64 to uint8. Range [0, 1]. Convert image to uint8 prior to saving to suppress this warning.\n",
      "Lossy conversion from float64 to uint8. Range [0, 1]. Convert image to uint8 prior to saving to suppress this warning.\n",
      "Lossy conversion from float64 to uint8. Range [0, 1]. Convert image to uint8 prior to saving to suppress this warning.\n",
      "Lossy conversion from float64 to uint8. Range [0, 1]. Convert image to uint8 prior to saving to suppress this warning.\n",
      "Lossy conversion from float64 to uint8. Range [0, 1]. Convert image to uint8 prior to saving to suppress this warning.\n",
      "Lossy conversion from float64 to uint8. Range [0, 1]. Convert image to uint8 prior to saving to suppress this warning.\n",
      "Lossy conversion from float64 to uint8. Range [0, 1]. Convert image to uint8 prior to saving to suppress this warning.\n",
      "Lossy conversion from float64 to uint8. Range [0, 1]. Convert image to uint8 prior to saving to suppress this warning.\n",
      "Lossy conversion from float64 to uint8. Range [0, 1]. Convert image to uint8 prior to saving to suppress this warning.\n",
      "Lossy conversion from float64 to uint8. Range [0, 1]. Convert image to uint8 prior to saving to suppress this warning.\n",
      "Lossy conversion from float64 to uint8. Range [0, 1]. Convert image to uint8 prior to saving to suppress this warning.\n",
      "Lossy conversion from float64 to uint8. Range [0, 1]. Convert image to uint8 prior to saving to suppress this warning.\n",
      "100%|████████████████████████████████████████████████████████████████████████████████████| 1/1 [00:00<00:00,  1.42it/s]\n"
     ]
    },
    {
     "name": "stdout",
     "output_type": "stream",
     "text": [
      "Processing test images\n"
     ]
    },
    {
     "name": "stderr",
     "output_type": "stream",
     "text": [
      "  0%|                                                                                            | 0/1 [00:00<?, ?it/s]Lossy conversion from float64 to uint8. Range [0, 1]. Convert image to uint8 prior to saving to suppress this warning.\n",
      "Lossy conversion from float64 to uint8. Range [0, 1]. Convert image to uint8 prior to saving to suppress this warning.\n",
      "Lossy conversion from float64 to uint8. Range [0, 1]. Convert image to uint8 prior to saving to suppress this warning.\n",
      "Lossy conversion from float64 to uint8. Range [0, 1]. Convert image to uint8 prior to saving to suppress this warning.\n",
      "Lossy conversion from float64 to uint8. Range [0, 1]. Convert image to uint8 prior to saving to suppress this warning.\n",
      "Lossy conversion from float64 to uint8. Range [0, 1]. Convert image to uint8 prior to saving to suppress this warning.\n",
      "Lossy conversion from float64 to uint8. Range [0, 1]. Convert image to uint8 prior to saving to suppress this warning.\n",
      "Lossy conversion from float64 to uint8. Range [0, 1]. Convert image to uint8 prior to saving to suppress this warning.\n",
      "100%|████████████████████████████████████████████████████████████████████████████████████| 1/1 [00:00<00:00,  3.20it/s]\n"
     ]
    }
   ],
   "source": [
    "print('Processing train images')\n",
    "processImages(filters1, inputImagePairsTrain, filePairPathsTrain, dataPaths['OutputImageTrain'],dataPaths['OutputAnnotTrain'])\n",
    "\n",
    "print('Processing test images')\n",
    "processImages(filters1, inputImagePairsTest, filePairPathsTest, dataPaths['OutputImageTest'],dataPaths['OutputAnnotTest'])"
   ]
  },
  {
   "cell_type": "code",
   "execution_count": 7,
   "metadata": {},
   "outputs": [
    {
     "name": "stdout",
     "output_type": "stream",
     "text": [
      "Spilliting train and test sets\n"
     ]
    }
   ],
   "source": [
    "from sklearn.model_selection import train_test_split # setting up the test and train data\n",
    "\n",
    "print('Spilliting train and test sets')\n",
    "fileOutputPathsTrain = list(zip(getFilesInDir(dataPaths['OutputImageTrain']),\n",
    "                                getFilesInDir(dataPaths['OutputAnnotTrain'])))\n",
    "dfTrain = pd.DataFrame(fileOutputPathsTrain, columns=['X', 'y'])\n",
    "X_train = dfTrain['X']\n",
    "y_train = dfTrain['y']\n",
    "\n",
    "fileOutputPathsTest = list(zip(getFilesInDir(dataPaths['OutputImageTest']),\n",
    "                                getFilesInDir(dataPaths['OutputAnnotTest'])))\n",
    "dfTest = pd.DataFrame(fileOutputPathsTest, columns=['X', 'y'])\n",
    "X_test = dfTest['X']\n",
    "y_test = dfTest['y']"
   ]
  },
  {
   "cell_type": "code",
   "execution_count": null,
   "metadata": {},
   "outputs": [],
   "source": []
  },
  {
   "cell_type": "code",
   "execution_count": 8,
   "metadata": {},
   "outputs": [],
   "source": [
    "from shutil import copyfile\n",
    "import errno\n",
    "\n",
    "def copyFileToDir(df, path):\n",
    "    for file in df.values:\n",
    "        print(file)\n",
    "        dest = path+'\\\\'\n",
    "        print(dest)\n",
    "        dest = dest+path_leaf(file)\n",
    "        os.makedirs(os.path.dirname(dest), exist_ok=True)\n",
    "        copyfile(file, dest)"
   ]
  },
  {
   "cell_type": "code",
   "execution_count": 9,
   "metadata": {},
   "outputs": [
    {
     "name": "stdout",
     "output_type": "stream",
     "text": [
      "Copying train/test output\n",
      "C:\\Users\\theza\\Documents\\Uni\\MIT\\2019\\TP\\Project\\Meal-Compliance-Project\\Additional-Data-Creator\\Output\\Train\\Images\\1001a.jpg\n",
      "C:\\Users\\theza\\Documents\\Uni\\MIT\\2019\\TP\\Project\\Meal-Compliance-Project\\Additional-Data-Creator\\OutputData\\XTrain\\\n",
      "C:\\Users\\theza\\Documents\\Uni\\MIT\\2019\\TP\\Project\\Meal-Compliance-Project\\Additional-Data-Creator\\Output\\Train\\Images\\1006a.jpg\n",
      "C:\\Users\\theza\\Documents\\Uni\\MIT\\2019\\TP\\Project\\Meal-Compliance-Project\\Additional-Data-Creator\\OutputData\\XTrain\\\n",
      "C:\\Users\\theza\\Documents\\Uni\\MIT\\2019\\TP\\Project\\Meal-Compliance-Project\\Additional-Data-Creator\\Output\\Train\\Images\\2001a.jpg\n",
      "C:\\Users\\theza\\Documents\\Uni\\MIT\\2019\\TP\\Project\\Meal-Compliance-Project\\Additional-Data-Creator\\OutputData\\XTrain\\\n",
      "C:\\Users\\theza\\Documents\\Uni\\MIT\\2019\\TP\\Project\\Meal-Compliance-Project\\Additional-Data-Creator\\Output\\Train\\Images\\2003a.jpg\n",
      "C:\\Users\\theza\\Documents\\Uni\\MIT\\2019\\TP\\Project\\Meal-Compliance-Project\\Additional-Data-Creator\\OutputData\\XTrain\\\n",
      "C:\\Users\\theza\\Documents\\Uni\\MIT\\2019\\TP\\Project\\Meal-Compliance-Project\\Additional-Data-Creator\\Output\\Train\\Images\\3001a.jpg\n",
      "C:\\Users\\theza\\Documents\\Uni\\MIT\\2019\\TP\\Project\\Meal-Compliance-Project\\Additional-Data-Creator\\OutputData\\XTrain\\\n",
      "C:\\Users\\theza\\Documents\\Uni\\MIT\\2019\\TP\\Project\\Meal-Compliance-Project\\Additional-Data-Creator\\Output\\Train\\Images\\4001a.jpg\n",
      "C:\\Users\\theza\\Documents\\Uni\\MIT\\2019\\TP\\Project\\Meal-Compliance-Project\\Additional-Data-Creator\\OutputData\\XTrain\\\n",
      "C:\\Users\\theza\\Documents\\Uni\\MIT\\2019\\TP\\Project\\Meal-Compliance-Project\\Additional-Data-Creator\\Output\\Train\\Images\\4002a.JPG\n",
      "C:\\Users\\theza\\Documents\\Uni\\MIT\\2019\\TP\\Project\\Meal-Compliance-Project\\Additional-Data-Creator\\OutputData\\XTrain\\\n",
      "C:\\Users\\theza\\Documents\\Uni\\MIT\\2019\\TP\\Project\\Meal-Compliance-Project\\Additional-Data-Creator\\Output\\Train\\Images\\5001a.jpg\n",
      "C:\\Users\\theza\\Documents\\Uni\\MIT\\2019\\TP\\Project\\Meal-Compliance-Project\\Additional-Data-Creator\\OutputData\\XTrain\\\n",
      "C:\\Users\\theza\\Documents\\Uni\\MIT\\2019\\TP\\Project\\Meal-Compliance-Project\\Additional-Data-Creator\\Output\\Train\\Images\\5007a.jpg\n",
      "C:\\Users\\theza\\Documents\\Uni\\MIT\\2019\\TP\\Project\\Meal-Compliance-Project\\Additional-Data-Creator\\OutputData\\XTrain\\\n",
      "C:\\Users\\theza\\Documents\\Uni\\MIT\\2019\\TP\\Project\\Meal-Compliance-Project\\Additional-Data-Creator\\Output\\Train\\Images\\6001a.jpg\n",
      "C:\\Users\\theza\\Documents\\Uni\\MIT\\2019\\TP\\Project\\Meal-Compliance-Project\\Additional-Data-Creator\\OutputData\\XTrain\\\n",
      "C:\\Users\\theza\\Documents\\Uni\\MIT\\2019\\TP\\Project\\Meal-Compliance-Project\\Additional-Data-Creator\\Output\\Train\\Images\\6010a.jpg\n",
      "C:\\Users\\theza\\Documents\\Uni\\MIT\\2019\\TP\\Project\\Meal-Compliance-Project\\Additional-Data-Creator\\OutputData\\XTrain\\\n",
      "C:\\Users\\theza\\Documents\\Uni\\MIT\\2019\\TP\\Project\\Meal-Compliance-Project\\Additional-Data-Creator\\Output\\Train\\Images\\7001a.jpg\n",
      "C:\\Users\\theza\\Documents\\Uni\\MIT\\2019\\TP\\Project\\Meal-Compliance-Project\\Additional-Data-Creator\\OutputData\\XTrain\\\n",
      "C:\\Users\\theza\\Documents\\Uni\\MIT\\2019\\TP\\Project\\Meal-Compliance-Project\\Additional-Data-Creator\\Output\\Train\\Images\\7004a.jpg\n",
      "C:\\Users\\theza\\Documents\\Uni\\MIT\\2019\\TP\\Project\\Meal-Compliance-Project\\Additional-Data-Creator\\OutputData\\XTrain\\\n",
      "C:\\Users\\theza\\Documents\\Uni\\MIT\\2019\\TP\\Project\\Meal-Compliance-Project\\Additional-Data-Creator\\Output\\Train\\Images\\8001a.jpg\n",
      "C:\\Users\\theza\\Documents\\Uni\\MIT\\2019\\TP\\Project\\Meal-Compliance-Project\\Additional-Data-Creator\\OutputData\\XTrain\\\n",
      "C:\\Users\\theza\\Documents\\Uni\\MIT\\2019\\TP\\Project\\Meal-Compliance-Project\\Additional-Data-Creator\\Output\\Train\\Images\\8005a.jpg\n",
      "C:\\Users\\theza\\Documents\\Uni\\MIT\\2019\\TP\\Project\\Meal-Compliance-Project\\Additional-Data-Creator\\OutputData\\XTrain\\\n",
      "C:\\Users\\theza\\Documents\\Uni\\MIT\\2019\\TP\\Project\\Meal-Compliance-Project\\Additional-Data-Creator\\Output\\Train\\Images\\8007a.jpg\n",
      "C:\\Users\\theza\\Documents\\Uni\\MIT\\2019\\TP\\Project\\Meal-Compliance-Project\\Additional-Data-Creator\\OutputData\\XTrain\\\n",
      "C:\\Users\\theza\\Documents\\Uni\\MIT\\2019\\TP\\Project\\Meal-Compliance-Project\\Additional-Data-Creator\\Output\\Test\\Images\\1005a.jpg\n",
      "C:\\Users\\theza\\Documents\\Uni\\MIT\\2019\\TP\\Project\\Meal-Compliance-Project\\Additional-Data-Creator\\OutputData\\XTest\\\n",
      "C:\\Users\\theza\\Documents\\Uni\\MIT\\2019\\TP\\Project\\Meal-Compliance-Project\\Additional-Data-Creator\\Output\\Test\\Images\\2002a.jpg\n",
      "C:\\Users\\theza\\Documents\\Uni\\MIT\\2019\\TP\\Project\\Meal-Compliance-Project\\Additional-Data-Creator\\OutputData\\XTest\\\n",
      "C:\\Users\\theza\\Documents\\Uni\\MIT\\2019\\TP\\Project\\Meal-Compliance-Project\\Additional-Data-Creator\\Output\\Test\\Images\\3004a.jpg\n",
      "C:\\Users\\theza\\Documents\\Uni\\MIT\\2019\\TP\\Project\\Meal-Compliance-Project\\Additional-Data-Creator\\OutputData\\XTest\\\n",
      "C:\\Users\\theza\\Documents\\Uni\\MIT\\2019\\TP\\Project\\Meal-Compliance-Project\\Additional-Data-Creator\\Output\\Test\\Images\\4003a.jpg\n",
      "C:\\Users\\theza\\Documents\\Uni\\MIT\\2019\\TP\\Project\\Meal-Compliance-Project\\Additional-Data-Creator\\OutputData\\XTest\\\n",
      "C:\\Users\\theza\\Documents\\Uni\\MIT\\2019\\TP\\Project\\Meal-Compliance-Project\\Additional-Data-Creator\\Output\\Test\\Images\\5006a.jpg\n",
      "C:\\Users\\theza\\Documents\\Uni\\MIT\\2019\\TP\\Project\\Meal-Compliance-Project\\Additional-Data-Creator\\OutputData\\XTest\\\n",
      "C:\\Users\\theza\\Documents\\Uni\\MIT\\2019\\TP\\Project\\Meal-Compliance-Project\\Additional-Data-Creator\\Output\\Test\\Images\\6004a.jpg\n",
      "C:\\Users\\theza\\Documents\\Uni\\MIT\\2019\\TP\\Project\\Meal-Compliance-Project\\Additional-Data-Creator\\OutputData\\XTest\\\n",
      "C:\\Users\\theza\\Documents\\Uni\\MIT\\2019\\TP\\Project\\Meal-Compliance-Project\\Additional-Data-Creator\\Output\\Test\\Images\\7010a.jpg\n",
      "C:\\Users\\theza\\Documents\\Uni\\MIT\\2019\\TP\\Project\\Meal-Compliance-Project\\Additional-Data-Creator\\OutputData\\XTest\\\n",
      "C:\\Users\\theza\\Documents\\Uni\\MIT\\2019\\TP\\Project\\Meal-Compliance-Project\\Additional-Data-Creator\\Output\\Test\\Images\\8006a.jpg\n",
      "C:\\Users\\theza\\Documents\\Uni\\MIT\\2019\\TP\\Project\\Meal-Compliance-Project\\Additional-Data-Creator\\OutputData\\XTest\\\n",
      "C:\\Users\\theza\\Documents\\Uni\\MIT\\2019\\TP\\Project\\Meal-Compliance-Project\\Additional-Data-Creator\\Output\\Train\\Annotations\\1001a.png\n",
      "C:\\Users\\theza\\Documents\\Uni\\MIT\\2019\\TP\\Project\\Meal-Compliance-Project\\Additional-Data-Creator\\OutputData\\yTrain\\\n",
      "C:\\Users\\theza\\Documents\\Uni\\MIT\\2019\\TP\\Project\\Meal-Compliance-Project\\Additional-Data-Creator\\Output\\Train\\Annotations\\1006a.png\n",
      "C:\\Users\\theza\\Documents\\Uni\\MIT\\2019\\TP\\Project\\Meal-Compliance-Project\\Additional-Data-Creator\\OutputData\\yTrain\\\n",
      "C:\\Users\\theza\\Documents\\Uni\\MIT\\2019\\TP\\Project\\Meal-Compliance-Project\\Additional-Data-Creator\\Output\\Train\\Annotations\\2001a.png\n",
      "C:\\Users\\theza\\Documents\\Uni\\MIT\\2019\\TP\\Project\\Meal-Compliance-Project\\Additional-Data-Creator\\OutputData\\yTrain\\\n",
      "C:\\Users\\theza\\Documents\\Uni\\MIT\\2019\\TP\\Project\\Meal-Compliance-Project\\Additional-Data-Creator\\Output\\Train\\Annotations\\2003a.png\n",
      "C:\\Users\\theza\\Documents\\Uni\\MIT\\2019\\TP\\Project\\Meal-Compliance-Project\\Additional-Data-Creator\\OutputData\\yTrain\\\n",
      "C:\\Users\\theza\\Documents\\Uni\\MIT\\2019\\TP\\Project\\Meal-Compliance-Project\\Additional-Data-Creator\\Output\\Train\\Annotations\\3001a.png\n",
      "C:\\Users\\theza\\Documents\\Uni\\MIT\\2019\\TP\\Project\\Meal-Compliance-Project\\Additional-Data-Creator\\OutputData\\yTrain\\\n",
      "C:\\Users\\theza\\Documents\\Uni\\MIT\\2019\\TP\\Project\\Meal-Compliance-Project\\Additional-Data-Creator\\Output\\Train\\Annotations\\4001a.png\n",
      "C:\\Users\\theza\\Documents\\Uni\\MIT\\2019\\TP\\Project\\Meal-Compliance-Project\\Additional-Data-Creator\\OutputData\\yTrain\\\n",
      "C:\\Users\\theza\\Documents\\Uni\\MIT\\2019\\TP\\Project\\Meal-Compliance-Project\\Additional-Data-Creator\\Output\\Train\\Annotations\\4002a.png\n",
      "C:\\Users\\theza\\Documents\\Uni\\MIT\\2019\\TP\\Project\\Meal-Compliance-Project\\Additional-Data-Creator\\OutputData\\yTrain\\\n",
      "C:\\Users\\theza\\Documents\\Uni\\MIT\\2019\\TP\\Project\\Meal-Compliance-Project\\Additional-Data-Creator\\Output\\Train\\Annotations\\5001a.png\n",
      "C:\\Users\\theza\\Documents\\Uni\\MIT\\2019\\TP\\Project\\Meal-Compliance-Project\\Additional-Data-Creator\\OutputData\\yTrain\\\n",
      "C:\\Users\\theza\\Documents\\Uni\\MIT\\2019\\TP\\Project\\Meal-Compliance-Project\\Additional-Data-Creator\\Output\\Train\\Annotations\\5007a.png\n",
      "C:\\Users\\theza\\Documents\\Uni\\MIT\\2019\\TP\\Project\\Meal-Compliance-Project\\Additional-Data-Creator\\OutputData\\yTrain\\\n"
     ]
    },
    {
     "name": "stdout",
     "output_type": "stream",
     "text": [
      "C:\\Users\\theza\\Documents\\Uni\\MIT\\2019\\TP\\Project\\Meal-Compliance-Project\\Additional-Data-Creator\\Output\\Train\\Annotations\\6001a.png\n",
      "C:\\Users\\theza\\Documents\\Uni\\MIT\\2019\\TP\\Project\\Meal-Compliance-Project\\Additional-Data-Creator\\OutputData\\yTrain\\\n",
      "C:\\Users\\theza\\Documents\\Uni\\MIT\\2019\\TP\\Project\\Meal-Compliance-Project\\Additional-Data-Creator\\Output\\Train\\Annotations\\6010a.png\n",
      "C:\\Users\\theza\\Documents\\Uni\\MIT\\2019\\TP\\Project\\Meal-Compliance-Project\\Additional-Data-Creator\\OutputData\\yTrain\\\n",
      "C:\\Users\\theza\\Documents\\Uni\\MIT\\2019\\TP\\Project\\Meal-Compliance-Project\\Additional-Data-Creator\\Output\\Train\\Annotations\\7001a.png\n",
      "C:\\Users\\theza\\Documents\\Uni\\MIT\\2019\\TP\\Project\\Meal-Compliance-Project\\Additional-Data-Creator\\OutputData\\yTrain\\\n",
      "C:\\Users\\theza\\Documents\\Uni\\MIT\\2019\\TP\\Project\\Meal-Compliance-Project\\Additional-Data-Creator\\Output\\Train\\Annotations\\7004a.png\n",
      "C:\\Users\\theza\\Documents\\Uni\\MIT\\2019\\TP\\Project\\Meal-Compliance-Project\\Additional-Data-Creator\\OutputData\\yTrain\\\n",
      "C:\\Users\\theza\\Documents\\Uni\\MIT\\2019\\TP\\Project\\Meal-Compliance-Project\\Additional-Data-Creator\\Output\\Train\\Annotations\\8001a.png\n",
      "C:\\Users\\theza\\Documents\\Uni\\MIT\\2019\\TP\\Project\\Meal-Compliance-Project\\Additional-Data-Creator\\OutputData\\yTrain\\\n",
      "C:\\Users\\theza\\Documents\\Uni\\MIT\\2019\\TP\\Project\\Meal-Compliance-Project\\Additional-Data-Creator\\Output\\Train\\Annotations\\8005a.png\n",
      "C:\\Users\\theza\\Documents\\Uni\\MIT\\2019\\TP\\Project\\Meal-Compliance-Project\\Additional-Data-Creator\\OutputData\\yTrain\\\n",
      "C:\\Users\\theza\\Documents\\Uni\\MIT\\2019\\TP\\Project\\Meal-Compliance-Project\\Additional-Data-Creator\\Output\\Train\\Annotations\\8007a.png\n",
      "C:\\Users\\theza\\Documents\\Uni\\MIT\\2019\\TP\\Project\\Meal-Compliance-Project\\Additional-Data-Creator\\OutputData\\yTrain\\\n",
      "C:\\Users\\theza\\Documents\\Uni\\MIT\\2019\\TP\\Project\\Meal-Compliance-Project\\Additional-Data-Creator\\Output\\Test\\Annotations\\1005a.png\n",
      "C:\\Users\\theza\\Documents\\Uni\\MIT\\2019\\TP\\Project\\Meal-Compliance-Project\\Additional-Data-Creator\\OutputData\\yTest\\\n",
      "C:\\Users\\theza\\Documents\\Uni\\MIT\\2019\\TP\\Project\\Meal-Compliance-Project\\Additional-Data-Creator\\Output\\Test\\Annotations\\2002a.png\n",
      "C:\\Users\\theza\\Documents\\Uni\\MIT\\2019\\TP\\Project\\Meal-Compliance-Project\\Additional-Data-Creator\\OutputData\\yTest\\\n",
      "C:\\Users\\theza\\Documents\\Uni\\MIT\\2019\\TP\\Project\\Meal-Compliance-Project\\Additional-Data-Creator\\Output\\Test\\Annotations\\3004a.png\n",
      "C:\\Users\\theza\\Documents\\Uni\\MIT\\2019\\TP\\Project\\Meal-Compliance-Project\\Additional-Data-Creator\\OutputData\\yTest\\\n",
      "C:\\Users\\theza\\Documents\\Uni\\MIT\\2019\\TP\\Project\\Meal-Compliance-Project\\Additional-Data-Creator\\Output\\Test\\Annotations\\4003a.png\n",
      "C:\\Users\\theza\\Documents\\Uni\\MIT\\2019\\TP\\Project\\Meal-Compliance-Project\\Additional-Data-Creator\\OutputData\\yTest\\\n",
      "C:\\Users\\theza\\Documents\\Uni\\MIT\\2019\\TP\\Project\\Meal-Compliance-Project\\Additional-Data-Creator\\Output\\Test\\Annotations\\5006a.png\n",
      "C:\\Users\\theza\\Documents\\Uni\\MIT\\2019\\TP\\Project\\Meal-Compliance-Project\\Additional-Data-Creator\\OutputData\\yTest\\\n",
      "C:\\Users\\theza\\Documents\\Uni\\MIT\\2019\\TP\\Project\\Meal-Compliance-Project\\Additional-Data-Creator\\Output\\Test\\Annotations\\6004a.png\n",
      "C:\\Users\\theza\\Documents\\Uni\\MIT\\2019\\TP\\Project\\Meal-Compliance-Project\\Additional-Data-Creator\\OutputData\\yTest\\\n",
      "C:\\Users\\theza\\Documents\\Uni\\MIT\\2019\\TP\\Project\\Meal-Compliance-Project\\Additional-Data-Creator\\Output\\Test\\Annotations\\7010a.png\n",
      "C:\\Users\\theza\\Documents\\Uni\\MIT\\2019\\TP\\Project\\Meal-Compliance-Project\\Additional-Data-Creator\\OutputData\\yTest\\\n",
      "C:\\Users\\theza\\Documents\\Uni\\MIT\\2019\\TP\\Project\\Meal-Compliance-Project\\Additional-Data-Creator\\Output\\Test\\Annotations\\8006a.png\n",
      "C:\\Users\\theza\\Documents\\Uni\\MIT\\2019\\TP\\Project\\Meal-Compliance-Project\\Additional-Data-Creator\\OutputData\\yTest\\\n"
     ]
    }
   ],
   "source": [
    "print('Copying train/test output')\n",
    "copyFileToDir(X_train,dataPaths['XTrain'])\n",
    "copyFileToDir(X_test,dataPaths['XTest'])\n",
    "copyFileToDir(y_train,dataPaths['yTrain'])\n",
    "copyFileToDir(y_test,dataPaths['yTest'])"
   ]
  },
  {
   "cell_type": "code",
   "execution_count": 12,
   "metadata": {},
   "outputs": [
    {
     "name": "stdout",
     "output_type": "stream",
     "text": [
      "[0 1 2 3 4 5 6 7 8 9]\n"
     ]
    },
    {
     "data": {
      "text/plain": [
       "<matplotlib.image.AxesImage at 0x191003af7f0>"
      ]
     },
     "execution_count": 12,
     "metadata": {},
     "output_type": "execute_result"
    },
    {
     "data": {
      "image/png": "[encoded data removed]",
      "text/plain": [
       "<Figure size 432x288 with 1 Axes>"
      ]
     },
     "metadata": {
      "needs_background": "light"
     },
     "output_type": "display_data"
    }
   ],
   "source": [
    "img = imio.imread('1a.png')\n",
    "print(np.unique(img))\n",
    "plt.imshow(img)"
   ]
  },
  {
   "cell_type": "markdown",
   "metadata": {},
   "source": []
  }
 ],
 "metadata": {
  "kernelspec": {
   "display_name": "Python 3",
   "language": "python",
   "name": "python3"
  },
  "language_info": {
   "codemirror_mode": {
    "name": "ipython",
    "version": 3
   },
   "file_extension": ".py",
   "mimetype": "text/x-python",
   "name": "python",
   "nbconvert_exporter": "python",
   "pygments_lexer": "ipython3",
   "version": "3.7.1"
  }
 },
 "nbformat": 4,
 "nbformat_minor": 2
}
