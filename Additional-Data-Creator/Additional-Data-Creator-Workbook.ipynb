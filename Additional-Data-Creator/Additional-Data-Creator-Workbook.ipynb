{
 "cells": [
  {
   "cell_type": "markdown",
   "metadata": {},
   "source": [
    "# Additional Data Creator Workbook"
   ]
  },
  {
   "cell_type": "code",
   "execution_count": 1,
   "metadata": {},
   "outputs": [],
   "source": [
    "# Import the relevent packages\n",
    "import os # File/directory operations\n",
    "import ntpath # File/directory operations\n",
    "import imgaug as ia # Image augmentations\n",
    "import imgaug.augmenters as iaa # Image augmentations\n",
    "import imageio as imio # Reading images\n",
    "import numpy as np # Matrix operations\n",
    "from skimage import data # Image operations\n",
    "from skimage.color import rgb2gray # RGB image to grey\n",
    "from skimage.transform import resize # Resize images\n",
    "import matplotlib.pyplot as plt # for visualisation\n",
    "import pandas as pd # Data manipulations\n",
    "\n",
    "# from scipy import stats #not used but helps with debuging"
   ]
  },
  {
   "cell_type": "code",
   "execution_count": 2,
   "metadata": {},
   "outputs": [],
   "source": [
    "# Set the input and output paths for later reference\n",
    "dataPaths = {'InputImage':os.path.abspath(os.path.join('Data','Images')),\n",
    "             'InputAnnot':os.path.abspath(os.path.join('Data','Annotations')),\n",
    "             'OutputImage':os.path.abspath(os.path.join('Output','Images')),\n",
    "             'OutputAnnot':os.path.abspath(os.path.join('Output','Annotations')),\n",
    "             'XTrain':os.path.abspath(os.path.join('OutputData','XTrain')),\n",
    "             'yTrain':os.path.abspath(os.path.join('OutputData','yTrain')),\n",
    "             'XTest':os.path.abspath(os.path.join('OutputData','XTest')),\n",
    "             'yTest':os.path.abspath(os.path.join('OutputData','yTest'))}"
   ]
  },
  {
   "cell_type": "code",
   "execution_count": 17,
   "metadata": {},
   "outputs": [],
   "source": [
    "def getFilesInDir(dir):\n",
    "    \"\"\"This function will return a list of files in the given dir\"\"\"\n",
    "    files = []\n",
    "    # r=root, d=directories, f = files\n",
    "    for r, d, f in os.walk(dir):\n",
    "        for file in f:\n",
    "            files.append(os.path.join(r, file))\n",
    "    return files\n",
    "\n",
    "def validateImagePairs(imPairTuple, width):\n",
    "    \"\"\"This function reads the image and resizes it to the closest %32=0 for the specified width\"\"\"\n",
    "    imgDir , annotDir = imPairTuple\n",
    "    img = imio.imread(imgDir)\n",
    "    annot = rgb2gray(imio.imread(annotDir))*255\n",
    "    \n",
    "    widthScaleRatio = width / img.shape[1]\n",
    "    heightNew = (widthScaleRatio * (img.shape[0]))\n",
    "    heightNew = heightNew - (heightNew%32)\n",
    "    \n",
    "    annotNew = resize(annot, (heightNew, width),mode='edge', anti_aliasing=False,\n",
    "                               anti_aliasing_sigma=None,preserve_range=True,\n",
    "                               order=0).astype(int)\n",
    "    df = (pd.DataFrame(annotNew))\n",
    "    _, b = pd.factorize(df.values.T.reshape(-1, ))  \n",
    "\n",
    "    # print(df.apply(lambda x: pd.Categorical(x, b).codes).values.shape)\n",
    "    annotNewOut = df.apply(lambda x: pd.Categorical(x, b).codes).values\n",
    "    \n",
    "    \n",
    "    return (resize(img, (heightNew, width), anti_aliasing=True),\n",
    "            annotNewOut)\n",
    "\n",
    "def augment_seg(imSegTuple, filterSeq):\n",
    "    \"\"\"This function applies a 'filter' to the input image and its annotation \"\"\"\n",
    "    img , seg = imSegTuple  \n",
    "    img = img*255\n",
    "    img = img.astype(np.uint8)\n",
    "    aug_det = filterSeq.to_deterministic() \n",
    "    image_aug = aug_det.augment_image( img )\n",
    "    segmap = ia.SegmentationMapOnImage( seg , nb_classes=len(np.unique(seg)), shape=img.shape )\n",
    "    segmap_aug = aug_det.augment_segmentation_maps( segmap )\n",
    "    segmap_aug = segmap_aug.get_arr_int()\n",
    "    return (image_aug , segmap_aug)\n",
    "\n",
    "def path_leaf(path):\n",
    "    \"\"\"This function gets the file name from a path\"\"\"\n",
    "    head, tail = ntpath.split(path)\n",
    "    return tail or ntpath.basename(head)\n",
    "\n",
    "def saveAugmentOutputs(augmentImagePairs, originalFileNamePairs, suffex, outImagPath, outAnnotPath):\n",
    "    \"\"\"This function saves the augmented images\"\"\"\n",
    "    for i in range(0, len(augmentImagePairs)):\n",
    "        img = augmentImagePairs[i][0]\n",
    "        fileName = path_leaf(originalFileNamePairs[i][0])\n",
    "        fileNameSplit = fileName.split('.')\n",
    "        imFileName = outImagPath+'\\\\'+fileNameSplit[0]+suffex+'.'+fileNameSplit[1]\n",
    "        imio.imsave(imFileName, img)\n",
    "        print(imFileName)\n",
    "        annot = augmentImagePairs[i][1]\n",
    "        fileNameAnnot = path_leaf(originalFileNamePairs[i][1])\n",
    "        fileNameAnnotSplit = fileNameAnnot.split('.')\n",
    "        annotFileName = outAnnotPath+'\\\\'+fileNameAnnotSplit[0]+suffex+'.'+fileNameAnnotSplit[1]\n",
    "        imio.imsave(annotFileName, annot)\n",
    "        print(annotFileName)\n",
    "\n",
    "def ShowAugmentCompare(originalTup, newTup):\n",
    "    \"\"\"This function shows a comparason of orginal vs augmented images and annotations\"\"\"\n",
    "    fig, axes = plt.subplots(nrows=2, ncols=2)\n",
    "    ax = axes.ravel()\n",
    "    ax[0].imshow(originalTup[0])\n",
    "    ax[0].set_title(\"Original image\")\n",
    "    ax[1].imshow(newTup[0])\n",
    "    ax[1].set_title(\"New image\")\n",
    "    ax[2].imshow(originalTup[1], cmap='gray')\n",
    "    ax[2].set_title(\"Original annotation\")\n",
    "    ax[3].imshow(newTup[1], cmap='gray')\n",
    "    ax[3].set_title(\"New annotation\")\n",
    "    plt.tight_layout()\n",
    "    plt.show()"
   ]
  },
  {
   "cell_type": "code",
   "execution_count": 18,
   "metadata": {},
   "outputs": [
    {
     "name": "stdout",
     "output_type": "stream",
     "text": [
      "Reading and resizing input files...\n",
      "Read 12 files.\n"
     ]
    }
   ],
   "source": [
    "# This will create a list of tuples for the input images, it will associate an image with \n",
    "# its annotation given the naming convention is followed\n",
    "\n",
    "print('Reading and resizing input files...')\n",
    "\n",
    "filePairPaths = list(zip(getFilesInDir(dataPaths['InputImage']), getFilesInDir(dataPaths['InputAnnot'])))\n",
    "inputImagePairs = []\n",
    "for tup in filePairPaths:\n",
    "    inputImagePairs.append(validateImagePairs(tup,1600))\n",
    "    \n",
    "print('Read '+str(len(inputImagePairs)*2)+' files.')"
   ]
  },
  {
   "cell_type": "code",
   "execution_count": 26,
   "metadata": {},
   "outputs": [
    {
     "name": "stdout",
     "output_type": "stream",
     "text": [
      "Createing filters...\n",
      "{'a': None, 'b': Sequential(name=UnnamedSequential, random_order=False, children=[Convolve(name=UnnamedMotionBlur, parameters=[<function MotionBlur.<locals>.create_matrices at 0x00000265027ED048>, function], deterministic=False)], deterministic=False), 'c': Sequential(name=UnnamedSequential, random_order=False, children=[Fliplr(name=UnnamedFliplr, parameters=[Deterministic(int 1)], deterministic=False)], deterministic=False), 'd': Sequential(name=UnnamedSequential, random_order=False, children=[Flipud(name=UnnamedFlipud, parameters=[Deterministic(int 1)], deterministic=False)], deterministic=False), 'e': Sequential(name=UnnamedSequential, random_order=False, children=[PerspectiveTransform(name=UnnamedPerspectiveTransform, parameters=[Normal(loc=Deterministic(int 0), scale=Deterministic(float 0.10000000)), True, Deterministic(int 0), Deterministic(constant)], deterministic=False)], deterministic=False), 'f': Sequential(name=UnnamedSequential, random_order=False, children=[PiecewiseAffine(name=UnnamedPiecewiseAffine, parameters=[Deterministic(float 0.05000000), Deterministic(int 4), Deterministic(int 4), Deterministic(int 1), Deterministic(int 0), Deterministic(constant), False], deterministic=False)], deterministic=False), 'g': Sequential(name=UnnamedSequential, random_order=False, children=[Multiply(name=UnnamedMultiply, parameters=[Uniform(Deterministic(float 0.50000000), Deterministic(float 1.50000000)), Deterministic(int 0)], deterministic=False)], deterministic=False), 'h': Sequential(name=UnnamedSequential, random_order=False, children=[ChannelShuffle(name=UnnamedChannelShuffle, parameters=[Deterministic(int 1), None], deterministic=False), PiecewiseAffine(name=UnnamedPiecewiseAffine, parameters=[Deterministic(float 0.05000000), Deterministic(int 4), Deterministic(int 4), Deterministic(int 1), Deterministic(int 0), Deterministic(constant), False], deterministic=False), PerspectiveTransform(name=UnnamedPerspectiveTransform, parameters=[Normal(loc=Deterministic(int 0), scale=Deterministic(float 0.10000000)), True, Deterministic(int 0), Deterministic(constant)], deterministic=False)], deterministic=False), 'i': Sequential(name=UnnamedSequential, random_order=False, children=[Convolve(name=UnnamedMotionBlur, parameters=[<function MotionBlur.<locals>.create_matrices at 0x00000265027ED2F0>, function], deterministic=False), Fliplr(name=UnnamedFliplr, parameters=[Deterministic(int 1)], deterministic=False), ChannelShuffle(name=UnnamedChannelShuffle, parameters=[Deterministic(int 1), None], deterministic=False)], deterministic=False), 'j': Sequential(name=UnnamedSequential, random_order=False, children=[Convolve(name=UnnamedMotionBlur, parameters=[<function MotionBlur.<locals>.create_matrices at 0x00000265027ED378>, function], deterministic=False), Fliplr(name=UnnamedFliplr, parameters=[Deterministic(int 1)], deterministic=False), Flipud(name=UnnamedFlipud, parameters=[Deterministic(int 1)], deterministic=False)], deterministic=False), 'k': Sequential(name=UnnamedSequential, random_order=False, children=[Convolve(name=UnnamedMotionBlur, parameters=[<function MotionBlur.<locals>.create_matrices at 0x00000265027ED400>, function], deterministic=False), Fliplr(name=UnnamedFliplr, parameters=[Deterministic(int 1)], deterministic=False), Flipud(name=UnnamedFlipud, parameters=[Deterministic(int 1)], deterministic=False), PerspectiveTransform(name=UnnamedPerspectiveTransform, parameters=[Normal(loc=Deterministic(int 0), scale=Deterministic(float 0.10000000)), True, Deterministic(int 0), Deterministic(constant)], deterministic=False)], deterministic=False), 'l': Sequential(name=UnnamedSequential, random_order=False, children=[Fliplr(name=UnnamedFliplr, parameters=[Deterministic(int 1)], deterministic=False), Flipud(name=UnnamedFlipud, parameters=[Deterministic(int 1)], deterministic=False), PerspectiveTransform(name=UnnamedPerspectiveTransform, parameters=[Normal(loc=Deterministic(int 0), scale=Deterministic(float 0.10000000)), True, Deterministic(int 0), Deterministic(constant)], deterministic=False), PiecewiseAffine(name=UnnamedPiecewiseAffine, parameters=[Deterministic(float 0.05000000), Deterministic(int 4), Deterministic(int 4), Deterministic(int 1), Deterministic(int 0), Deterministic(constant), False], deterministic=False)], deterministic=False), 'm': Sequential(name=UnnamedSequential, random_order=False, children=[Flipud(name=UnnamedFlipud, parameters=[Deterministic(int 1)], deterministic=False), PerspectiveTransform(name=UnnamedPerspectiveTransform, parameters=[Normal(loc=Deterministic(int 0), scale=Deterministic(float 0.10000000)), True, Deterministic(int 0), Deterministic(constant)], deterministic=False), PiecewiseAffine(name=UnnamedPiecewiseAffine, parameters=[Deterministic(float 0.05000000), Deterministic(int 4), Deterministic(int 4), Deterministic(int 1), Deterministic(int 0), Deterministic(constant), False], deterministic=False), Multiply(name=UnnamedMultiply, parameters=[Uniform(Deterministic(float 0.50000000), Deterministic(float 1.50000000)), Deterministic(int 1)], deterministic=False)], deterministic=False), 'n': Sequential(name=UnnamedSequential, random_order=False, children=[PerspectiveTransform(name=UnnamedPerspectiveTransform, parameters=[Normal(loc=Deterministic(int 0), scale=Deterministic(float 0.10000000)), True, Deterministic(int 0), Deterministic(constant)], deterministic=False), PiecewiseAffine(name=UnnamedPiecewiseAffine, parameters=[Deterministic(float 0.05000000), Deterministic(int 4), Deterministic(int 4), Deterministic(int 1), Deterministic(int 0), Deterministic(constant), False], deterministic=False), Multiply(name=UnnamedMultiply, parameters=[Uniform(Deterministic(float 0.50000000), Deterministic(float 1.50000000)), Deterministic(int 1)], deterministic=False), ChannelShuffle(name=UnnamedChannelShuffle, parameters=[Deterministic(int 1), None], deterministic=False)], deterministic=False), 'o': Sequential(name=UnnamedSequential, random_order=False, children=[PiecewiseAffine(name=UnnamedPiecewiseAffine, parameters=[Deterministic(float 0.05000000), Deterministic(int 4), Deterministic(int 4), Deterministic(int 1), Deterministic(int 0), Deterministic(constant), False], deterministic=False), ChannelShuffle(name=UnnamedChannelShuffle, parameters=[Deterministic(int 1), None], deterministic=False)], deterministic=False), 'p': Sequential(name=UnnamedSequential, random_order=False, children=[Flipud(name=UnnamedFlipud, parameters=[Deterministic(int 1)], deterministic=False), PerspectiveTransform(name=UnnamedPerspectiveTransform, parameters=[Normal(loc=Deterministic(int 0), scale=Deterministic(float 0.10000000)), True, Deterministic(int 0), Deterministic(constant)], deterministic=False), PiecewiseAffine(name=UnnamedPiecewiseAffine, parameters=[Deterministic(float 0.05000000), Deterministic(int 4), Deterministic(int 4), Deterministic(int 1), Deterministic(int 0), Deterministic(constant), False], deterministic=False), ChannelShuffle(name=UnnamedChannelShuffle, parameters=[Deterministic(int 1), None], deterministic=False)], deterministic=False), 'q': Sequential(name=UnnamedSequential, random_order=False, children=[Fliplr(name=UnnamedFliplr, parameters=[Deterministic(int 1)], deterministic=False), ChannelShuffle(name=UnnamedChannelShuffle, parameters=[Deterministic(int 1), None], deterministic=False)], deterministic=False), 'r': Sequential(name=UnnamedSequential, random_order=False, children=[Convolve(name=UnnamedMotionBlur, parameters=[<function MotionBlur.<locals>.create_matrices at 0x00000265027ED488>, function], deterministic=False), PerspectiveTransform(name=UnnamedPerspectiveTransform, parameters=[Normal(loc=Deterministic(int 0), scale=Deterministic(float 0.10000000)), True, Deterministic(int 0), Deterministic(constant)], deterministic=False), Multiply(name=UnnamedMultiply, parameters=[Uniform(Deterministic(float 0.50000000), Deterministic(float 1.50000000)), Deterministic(int 1)], deterministic=False), ChannelShuffle(name=UnnamedChannelShuffle, parameters=[Deterministic(int 1), None], deterministic=False)], deterministic=False), 's': Sequential(name=UnnamedSequential, random_order=False, children=[Fliplr(name=UnnamedFliplr, parameters=[Deterministic(int 1)], deterministic=False), Flipud(name=UnnamedFlipud, parameters=[Deterministic(int 1)], deterministic=False), Multiply(name=UnnamedMultiply, parameters=[Uniform(Deterministic(float 0.50000000), Deterministic(float 1.50000000)), Deterministic(int 1)], deterministic=False), ChannelShuffle(name=UnnamedChannelShuffle, parameters=[Deterministic(int 1), None], deterministic=False)], deterministic=False), 't': Sequential(name=UnnamedSequential, random_order=False, children=[Fliplr(name=UnnamedFliplr, parameters=[Deterministic(int 1)], deterministic=False), Flipud(name=UnnamedFlipud, parameters=[Deterministic(int 1)], deterministic=False), PiecewiseAffine(name=UnnamedPiecewiseAffine, parameters=[Deterministic(float 0.05000000), Deterministic(int 4), Deterministic(int 4), Deterministic(int 1), Deterministic(int 0), Deterministic(constant), False], deterministic=False), ChannelShuffle(name=UnnamedChannelShuffle, parameters=[Deterministic(int 1), None], deterministic=False)], deterministic=False), 'u': Sequential(name=UnnamedSequential, random_order=False, children=[Fliplr(name=UnnamedFliplr, parameters=[Deterministic(int 1)], deterministic=False), Flipud(name=UnnamedFlipud, parameters=[Deterministic(int 1)], deterministic=False), PerspectiveTransform(name=UnnamedPerspectiveTransform, parameters=[Normal(loc=Deterministic(int 0), scale=Deterministic(float 0.10000000)), True, Deterministic(int 0), Deterministic(constant)], deterministic=False), Multiply(name=UnnamedMultiply, parameters=[Uniform(Deterministic(float 0.50000000), Deterministic(float 1.50000000)), Deterministic(int 0)], deterministic=False)], deterministic=False), 'v': Sequential(name=UnnamedSequential, random_order=False, children=[Convolve(name=UnnamedMotionBlur, parameters=[<function MotionBlur.<locals>.create_matrices at 0x00000265027ED510>, function], deterministic=False), ChannelShuffle(name=UnnamedChannelShuffle, parameters=[Deterministic(int 1), None], deterministic=False)], deterministic=False), 'w': Sequential(name=UnnamedSequential, random_order=False, children=[Flipud(name=UnnamedFlipud, parameters=[Deterministic(int 1)], deterministic=False), PerspectiveTransform(name=UnnamedPerspectiveTransform, parameters=[Normal(loc=Deterministic(int 0), scale=Deterministic(float 0.10000000)), True, Deterministic(int 0), Deterministic(constant)], deterministic=False)], deterministic=False), 'x': Sequential(name=UnnamedSequential, random_order=False, children=[Fliplr(name=UnnamedFliplr, parameters=[Deterministic(int 1)], deterministic=False), ChannelShuffle(name=UnnamedChannelShuffle, parameters=[Deterministic(int 1), None], deterministic=False)], deterministic=False), 'y': Sequential(name=UnnamedSequential, random_order=False, children=[PiecewiseAffine(name=UnnamedPiecewiseAffine, parameters=[Deterministic(float 0.05000000), Deterministic(int 4), Deterministic(int 4), Deterministic(int 1), Deterministic(int 0), Deterministic(constant), False], deterministic=False), Multiply(name=UnnamedMultiply, parameters=[Uniform(Deterministic(float 0.50000000), Deterministic(float 1.50000000)), Deterministic(int 1)], deterministic=False)], deterministic=False), 'z': Sequential(name=UnnamedSequential, random_order=False, children=[Convolve(name=UnnamedMotionBlur, parameters=[<function MotionBlur.<locals>.create_matrices at 0x00000265027ED598>, function], deterministic=False), PerspectiveTransform(name=UnnamedPerspectiveTransform, parameters=[Normal(loc=Deterministic(int 0), scale=Deterministic(float 0.10000000)), True, Deterministic(int 0), Deterministic(constant)], deterministic=False), Multiply(name=UnnamedMultiply, parameters=[Uniform(Deterministic(float 0.50000000), Deterministic(float 1.50000000)), Deterministic(int 1)], deterministic=False), ChannelShuffle(name=UnnamedChannelShuffle, parameters=[Deterministic(int 1), None], deterministic=False)], deterministic=False)}\n"
     ]
    }
   ],
   "source": [
    "# See https://github.com/aleju/imgaug#example-images for details\n",
    "\n",
    "print('Createing filters...')\n",
    "\n",
    "filters = {\n",
    "    'a':None,\n",
    "    'b':iaa.Sequential([iaa.MotionBlur(k=10,angle=[-90, 90]),]), # horizontally flip ,\n",
    "    'c':iaa.Sequential([iaa.Fliplr(1),]), # horizontally flip ,\n",
    "    'd':iaa.Sequential([iaa.Flipud(1),]), # vertically flip ,\n",
    "    'e':iaa.Sequential([iaa.PerspectiveTransform(scale=0.1, keep_size=True),]),# Perspective Transform,\n",
    "    'f':iaa.Sequential([iaa.PiecewiseAffine(scale=0.05),]),# Piecewise Affine\n",
    "    'g':iaa.Sequential([iaa.Multiply((0.5, 1.5)),]),# Make image brighter/darker\n",
    "    'h':iaa.Sequential([iaa.ChannelShuffle(),iaa.PiecewiseAffine(scale=0.05), iaa.PerspectiveTransform(scale=0.1, keep_size=True)]),# Shift the hue,\n",
    "    'i':iaa.Sequential([iaa.MotionBlur(k=10,angle=[-90, 90]),iaa.Fliplr(1),iaa.ChannelShuffle()]),\n",
    "    'j':iaa.Sequential([iaa.MotionBlur(k=10,angle=[-90, 90]),iaa.Fliplr(1),iaa.Flipud(1)]),\n",
    "    'k':iaa.Sequential([iaa.MotionBlur(k=10,angle=[-90, 90]),iaa.Fliplr(1),iaa.Flipud(1),iaa.PerspectiveTransform(scale=0.1, keep_size=True)]),\n",
    "    'l':iaa.Sequential([iaa.Fliplr(1),iaa.Flipud(1),iaa.PerspectiveTransform(scale=0.1, keep_size=True),iaa.PiecewiseAffine(scale=0.05)]),\n",
    "    'm':iaa.Sequential([iaa.Flipud(1),iaa.PerspectiveTransform(scale=0.1, keep_size=True),iaa.PiecewiseAffine(scale=0.05),iaa.Multiply((0.5, 1.5), per_channel=True)]),\n",
    "    'n':iaa.Sequential([iaa.PerspectiveTransform(scale=0.1, keep_size=True),iaa.PiecewiseAffine(scale=0.05),iaa.Multiply((0.5, 1.5), per_channel=True),iaa.ChannelShuffle()]),\n",
    "    'o':iaa.Sequential([iaa.PiecewiseAffine(scale=0.05),iaa.ChannelShuffle()]),\n",
    "    'p':iaa.Sequential([iaa.Flipud(1),iaa.PerspectiveTransform(scale=0.1, keep_size=True),iaa.PiecewiseAffine(scale=0.05),iaa.ChannelShuffle()]),\n",
    "    'q':iaa.Sequential([iaa.Fliplr(1),iaa.ChannelShuffle()]),\n",
    "    'r':iaa.Sequential([iaa.MotionBlur(k=10,angle=[-90, 90]),iaa.PerspectiveTransform(scale=0.1, keep_size=True),iaa.Multiply((0.5, 1.5), per_channel=True),iaa.ChannelShuffle()]),\n",
    "    's':iaa.Sequential([iaa.Fliplr(1),iaa.Flipud(1), iaa.Multiply((0.5, 1.5), per_channel=True),iaa.ChannelShuffle()]),\n",
    "    't':iaa.Sequential([iaa.Fliplr(1),iaa.Flipud(1), iaa.PiecewiseAffine(scale=0.05),iaa.ChannelShuffle()]),\n",
    "    'u':iaa.Sequential([iaa.Fliplr(1),iaa.Flipud(1), iaa.PerspectiveTransform(scale=0.1, keep_size=True),iaa.Multiply((0.5, 1.5))]),\n",
    "    'v':iaa.Sequential([iaa.MotionBlur(k=10,angle=[-90, 90]),iaa.ChannelShuffle()]),\n",
    "    'w':iaa.Sequential([iaa.Flipud(1),iaa.PerspectiveTransform(scale=0.1, keep_size=True)]),\n",
    "    'x':iaa.Sequential([iaa.Fliplr(1),iaa.ChannelShuffle()]),\n",
    "    'y':iaa.Sequential([iaa.PiecewiseAffine(scale=0.05),iaa.Multiply((0.5, 1.5), per_channel=True)]),\n",
    "    'z':iaa.Sequential([iaa.MotionBlur(k=10,angle=[-90, 90]),iaa.PerspectiveTransform(scale=0.1, keep_size=True),iaa.Multiply((0.5, 1.5), per_channel=True),iaa.ChannelShuffle()])\n",
    "}\n",
    "\n",
    "print(filters)"
   ]
  },
  {
   "cell_type": "code",
   "execution_count": 27,
   "metadata": {
    "scrolled": true
   },
   "outputs": [
    {
     "name": "stderr",
     "output_type": "stream",
     "text": [
      "Lossy conversion from float64 to uint8. Range [0, 1]. Convert image to uint8 prior to saving to suppress this warning.\n",
      "Lossy conversion from int8 to uint8. Range [0, 12]. Convert image to uint8 prior to saving to suppress this warning.\n",
      "Lossy conversion from float64 to uint8. Range [0, 1]. Convert image to uint8 prior to saving to suppress this warning.\n"
     ]
    },
    {
     "name": "stdout",
     "output_type": "stream",
     "text": [
      "C:\\Users\\theza\\Documents\\Uni\\MIT\\2019\\TP\\Project\\Meal-Compliance-Project\\Additional-Data-Creator\\Output\\Images\\1a.jpg\n",
      "C:\\Users\\theza\\Documents\\Uni\\MIT\\2019\\TP\\Project\\Meal-Compliance-Project\\Additional-Data-Creator\\Output\\Annotations\\1a.png\n"
     ]
    },
    {
     "name": "stderr",
     "output_type": "stream",
     "text": [
      "Lossy conversion from int8 to uint8. Range [0, 12]. Convert image to uint8 prior to saving to suppress this warning.\n",
      "Lossy conversion from float64 to uint8. Range [0, 1]. Convert image to uint8 prior to saving to suppress this warning.\n"
     ]
    },
    {
     "name": "stdout",
     "output_type": "stream",
     "text": [
      "C:\\Users\\theza\\Documents\\Uni\\MIT\\2019\\TP\\Project\\Meal-Compliance-Project\\Additional-Data-Creator\\Output\\Images\\2a.jpg\n",
      "C:\\Users\\theza\\Documents\\Uni\\MIT\\2019\\TP\\Project\\Meal-Compliance-Project\\Additional-Data-Creator\\Output\\Annotations\\2a.png\n"
     ]
    },
    {
     "name": "stderr",
     "output_type": "stream",
     "text": [
      "Lossy conversion from int8 to uint8. Range [0, 12]. Convert image to uint8 prior to saving to suppress this warning.\n",
      "Lossy conversion from float64 to uint8. Range [0, 1]. Convert image to uint8 prior to saving to suppress this warning.\n"
     ]
    },
    {
     "name": "stdout",
     "output_type": "stream",
     "text": [
      "C:\\Users\\theza\\Documents\\Uni\\MIT\\2019\\TP\\Project\\Meal-Compliance-Project\\Additional-Data-Creator\\Output\\Images\\3a.jpg\n",
      "C:\\Users\\theza\\Documents\\Uni\\MIT\\2019\\TP\\Project\\Meal-Compliance-Project\\Additional-Data-Creator\\Output\\Annotations\\3a.png\n"
     ]
    },
    {
     "name": "stderr",
     "output_type": "stream",
     "text": [
      "Lossy conversion from int8 to uint8. Range [0, 12]. Convert image to uint8 prior to saving to suppress this warning.\n"
     ]
    },
    {
     "name": "stdout",
     "output_type": "stream",
     "text": [
      "C:\\Users\\theza\\Documents\\Uni\\MIT\\2019\\TP\\Project\\Meal-Compliance-Project\\Additional-Data-Creator\\Output\\Images\\4a.jpg\n",
      "C:\\Users\\theza\\Documents\\Uni\\MIT\\2019\\TP\\Project\\Meal-Compliance-Project\\Additional-Data-Creator\\Output\\Annotations\\4a.png\n"
     ]
    },
    {
     "name": "stderr",
     "output_type": "stream",
     "text": [
      "Lossy conversion from float64 to uint8. Range [0, 1]. Convert image to uint8 prior to saving to suppress this warning.\n",
      "Lossy conversion from int8 to uint8. Range [0, 12]. Convert image to uint8 prior to saving to suppress this warning.\n",
      "Lossy conversion from float64 to uint8. Range [0, 1]. Convert image to uint8 prior to saving to suppress this warning.\n"
     ]
    },
    {
     "name": "stdout",
     "output_type": "stream",
     "text": [
      "C:\\Users\\theza\\Documents\\Uni\\MIT\\2019\\TP\\Project\\Meal-Compliance-Project\\Additional-Data-Creator\\Output\\Images\\5a.jpg\n",
      "C:\\Users\\theza\\Documents\\Uni\\MIT\\2019\\TP\\Project\\Meal-Compliance-Project\\Additional-Data-Creator\\Output\\Annotations\\5a.png\n"
     ]
    },
    {
     "name": "stderr",
     "output_type": "stream",
     "text": [
      "Lossy conversion from int8 to uint8. Range [0, 12]. Convert image to uint8 prior to saving to suppress this warning.\n"
     ]
    },
    {
     "name": "stdout",
     "output_type": "stream",
     "text": [
      "C:\\Users\\theza\\Documents\\Uni\\MIT\\2019\\TP\\Project\\Meal-Compliance-Project\\Additional-Data-Creator\\Output\\Images\\6a.jpg\n",
      "C:\\Users\\theza\\Documents\\Uni\\MIT\\2019\\TP\\Project\\Meal-Compliance-Project\\Additional-Data-Creator\\Output\\Annotations\\6a.png\n",
      "Applying filter 'b' to input\n"
     ]
    },
    {
     "name": "stderr",
     "output_type": "stream",
     "text": [
      "Lossy conversion from int32 to uint8. Range [0, 12]. Convert image to uint8 prior to saving to suppress this warning.\n",
      "Lossy conversion from int32 to uint8. Range [0, 12]. Convert image to uint8 prior to saving to suppress this warning.\n"
     ]
    },
    {
     "name": "stdout",
     "output_type": "stream",
     "text": [
      "Saving output of filter 'b'\n",
      "C:\\Users\\theza\\Documents\\Uni\\MIT\\2019\\TP\\Project\\Meal-Compliance-Project\\Additional-Data-Creator\\Output\\Images\\1b.jpg\n",
      "C:\\Users\\theza\\Documents\\Uni\\MIT\\2019\\TP\\Project\\Meal-Compliance-Project\\Additional-Data-Creator\\Output\\Annotations\\1b.png\n",
      "C:\\Users\\theza\\Documents\\Uni\\MIT\\2019\\TP\\Project\\Meal-Compliance-Project\\Additional-Data-Creator\\Output\\Images\\2b.jpg\n"
     ]
    },
    {
     "name": "stderr",
     "output_type": "stream",
     "text": [
      "Lossy conversion from int32 to uint8. Range [0, 12]. Convert image to uint8 prior to saving to suppress this warning.\n"
     ]
    },
    {
     "name": "stdout",
     "output_type": "stream",
     "text": [
      "C:\\Users\\theza\\Documents\\Uni\\MIT\\2019\\TP\\Project\\Meal-Compliance-Project\\Additional-Data-Creator\\Output\\Annotations\\2b.png\n",
      "C:\\Users\\theza\\Documents\\Uni\\MIT\\2019\\TP\\Project\\Meal-Compliance-Project\\Additional-Data-Creator\\Output\\Images\\3b.jpg\n",
      "C:\\Users\\theza\\Documents\\Uni\\MIT\\2019\\TP\\Project\\Meal-Compliance-Project\\Additional-Data-Creator\\Output\\Annotations\\3b.png\n",
      "C:\\Users\\theza\\Documents\\Uni\\MIT\\2019\\TP\\Project\\Meal-Compliance-Project\\Additional-Data-Creator\\Output\\Images\\4b.jpg"
     ]
    },
    {
     "name": "stderr",
     "output_type": "stream",
     "text": [
      "Lossy conversion from int32 to uint8. Range [0, 12]. Convert image to uint8 prior to saving to suppress this warning.\n",
      "Lossy conversion from int32 to uint8. Range [0, 12]. Convert image to uint8 prior to saving to suppress this warning.\n"
     ]
    },
    {
     "name": "stdout",
     "output_type": "stream",
     "text": [
      "\n",
      "C:\\Users\\theza\\Documents\\Uni\\MIT\\2019\\TP\\Project\\Meal-Compliance-Project\\Additional-Data-Creator\\Output\\Annotations\\4b.png\n",
      "C:\\Users\\theza\\Documents\\Uni\\MIT\\2019\\TP\\Project\\Meal-Compliance-Project\\Additional-Data-Creator\\Output\\Images\\5b.jpg\n"
     ]
    },
    {
     "name": "stderr",
     "output_type": "stream",
     "text": [
      "Lossy conversion from int32 to uint8. Range [0, 12]. Convert image to uint8 prior to saving to suppress this warning.\n"
     ]
    },
    {
     "name": "stdout",
     "output_type": "stream",
     "text": [
      "C:\\Users\\theza\\Documents\\Uni\\MIT\\2019\\TP\\Project\\Meal-Compliance-Project\\Additional-Data-Creator\\Output\\Annotations\\5b.png\n",
      "C:\\Users\\theza\\Documents\\Uni\\MIT\\2019\\TP\\Project\\Meal-Compliance-Project\\Additional-Data-Creator\\Output\\Images\\6b.jpg\n",
      "C:\\Users\\theza\\Documents\\Uni\\MIT\\2019\\TP\\Project\\Meal-Compliance-Project\\Additional-Data-Creator\\Output\\Annotations\\6b.png\n",
      "Applying filter 'c' to input\n"
     ]
    },
    {
     "name": "stderr",
     "output_type": "stream",
     "text": [
      "Lossy conversion from int32 to uint8. Range [0, 12]. Convert image to uint8 prior to saving to suppress this warning.\n"
     ]
    },
    {
     "name": "stdout",
     "output_type": "stream",
     "text": [
      "Saving output of filter 'c'\n",
      "C:\\Users\\theza\\Documents\\Uni\\MIT\\2019\\TP\\Project\\Meal-Compliance-Project\\Additional-Data-Creator\\Output\\Images\\1c.jpg\n",
      "C:\\Users\\theza\\Documents\\Uni\\MIT\\2019\\TP\\Project\\Meal-Compliance-Project\\Additional-Data-Creator\\Output\\Annotations\\1c.png\n"
     ]
    },
    {
     "name": "stderr",
     "output_type": "stream",
     "text": [
      "Lossy conversion from int32 to uint8. Range [0, 12]. Convert image to uint8 prior to saving to suppress this warning.\n"
     ]
    },
    {
     "name": "stdout",
     "output_type": "stream",
     "text": [
      "C:\\Users\\theza\\Documents\\Uni\\MIT\\2019\\TP\\Project\\Meal-Compliance-Project\\Additional-Data-Creator\\Output\\Images\\2c.jpg\n",
      "C:\\Users\\theza\\Documents\\Uni\\MIT\\2019\\TP\\Project\\Meal-Compliance-Project\\Additional-Data-Creator\\Output\\Annotations\\2c.png"
     ]
    },
    {
     "name": "stderr",
     "output_type": "stream",
     "text": [
      "Lossy conversion from int32 to uint8. Range [0, 12]. Convert image to uint8 prior to saving to suppress this warning.\n"
     ]
    },
    {
     "name": "stdout",
     "output_type": "stream",
     "text": [
      "\n",
      "C:\\Users\\theza\\Documents\\Uni\\MIT\\2019\\TP\\Project\\Meal-Compliance-Project\\Additional-Data-Creator\\Output\\Images\\3c.jpg\n"
     ]
    },
    {
     "name": "stderr",
     "output_type": "stream",
     "text": [
      "Lossy conversion from int32 to uint8. Range [0, 12]. Convert image to uint8 prior to saving to suppress this warning.\n"
     ]
    },
    {
     "name": "stdout",
     "output_type": "stream",
     "text": [
      "C:\\Users\\theza\\Documents\\Uni\\MIT\\2019\\TP\\Project\\Meal-Compliance-Project\\Additional-Data-Creator\\Output\\Annotations\\3c.png\n",
      "C:\\Users\\theza\\Documents\\Uni\\MIT\\2019\\TP\\Project\\Meal-Compliance-Project\\Additional-Data-Creator\\Output\\Images\\4c.jpg\n",
      "C:\\Users\\theza\\Documents\\Uni\\MIT\\2019\\TP\\Project\\Meal-Compliance-Project\\Additional-Data-Creator\\Output\\Annotations\\4c.png\n"
     ]
    },
    {
     "name": "stderr",
     "output_type": "stream",
     "text": [
      "Lossy conversion from int32 to uint8. Range [0, 12]. Convert image to uint8 prior to saving to suppress this warning.\n"
     ]
    },
    {
     "name": "stdout",
     "output_type": "stream",
     "text": [
      "C:\\Users\\theza\\Documents\\Uni\\MIT\\2019\\TP\\Project\\Meal-Compliance-Project\\Additional-Data-Creator\\Output\\Images\\5c.jpg\n",
      "C:\\Users\\theza\\Documents\\Uni\\MIT\\2019\\TP\\Project\\Meal-Compliance-Project\\Additional-Data-Creator\\Output\\Annotations\\5c.png\n"
     ]
    },
    {
     "name": "stderr",
     "output_type": "stream",
     "text": [
      "Lossy conversion from int32 to uint8. Range [0, 12]. Convert image to uint8 prior to saving to suppress this warning.\n"
     ]
    },
    {
     "name": "stdout",
     "output_type": "stream",
     "text": [
      "C:\\Users\\theza\\Documents\\Uni\\MIT\\2019\\TP\\Project\\Meal-Compliance-Project\\Additional-Data-Creator\\Output\\Images\\6c.jpg\n",
      "C:\\Users\\theza\\Documents\\Uni\\MIT\\2019\\TP\\Project\\Meal-Compliance-Project\\Additional-Data-Creator\\Output\\Annotations\\6c.png\n",
      "Applying filter 'd' to input\n"
     ]
    },
    {
     "name": "stderr",
     "output_type": "stream",
     "text": [
      "Lossy conversion from int32 to uint8. Range [0, 12]. Convert image to uint8 prior to saving to suppress this warning.\n"
     ]
    },
    {
     "name": "stdout",
     "output_type": "stream",
     "text": [
      "Saving output of filter 'd'\n",
      "C:\\Users\\theza\\Documents\\Uni\\MIT\\2019\\TP\\Project\\Meal-Compliance-Project\\Additional-Data-Creator\\Output\\Images\\1d.jpg\n",
      "C:\\Users\\theza\\Documents\\Uni\\MIT\\2019\\TP\\Project\\Meal-Compliance-Project\\Additional-Data-Creator\\Output\\Annotations\\1d.png\n",
      "C:\\Users\\theza\\Documents\\Uni\\MIT\\2019\\TP\\Project\\Meal-Compliance-Project\\Additional-Data-Creator\\Output\\Images\\2d.jpg\n"
     ]
    },
    {
     "name": "stderr",
     "output_type": "stream",
     "text": [
      "Lossy conversion from int32 to uint8. Range [0, 12]. Convert image to uint8 prior to saving to suppress this warning.\n",
      "Lossy conversion from int32 to uint8. Range [0, 12]. Convert image to uint8 prior to saving to suppress this warning.\n"
     ]
    },
    {
     "name": "stdout",
     "output_type": "stream",
     "text": [
      "C:\\Users\\theza\\Documents\\Uni\\MIT\\2019\\TP\\Project\\Meal-Compliance-Project\\Additional-Data-Creator\\Output\\Annotations\\2d.png\n",
      "C:\\Users\\theza\\Documents\\Uni\\MIT\\2019\\TP\\Project\\Meal-Compliance-Project\\Additional-Data-Creator\\Output\\Images\\3d.jpg\n",
      "C:\\Users\\theza\\Documents\\Uni\\MIT\\2019\\TP\\Project\\Meal-Compliance-Project\\Additional-Data-Creator\\Output\\Annotations\\3d.png\n",
      "C:\\Users\\theza\\Documents\\Uni\\MIT\\2019\\TP\\Project\\Meal-Compliance-Project\\Additional-Data-Creator\\Output\\Images\\4d.jpg\n"
     ]
    },
    {
     "name": "stderr",
     "output_type": "stream",
     "text": [
      "Lossy conversion from int32 to uint8. Range [0, 12]. Convert image to uint8 prior to saving to suppress this warning.\n",
      "Lossy conversion from int32 to uint8. Range [0, 12]. Convert image to uint8 prior to saving to suppress this warning.\n"
     ]
    },
    {
     "name": "stdout",
     "output_type": "stream",
     "text": [
      "C:\\Users\\theza\\Documents\\Uni\\MIT\\2019\\TP\\Project\\Meal-Compliance-Project\\Additional-Data-Creator\\Output\\Annotations\\4d.png\n",
      "C:\\Users\\theza\\Documents\\Uni\\MIT\\2019\\TP\\Project\\Meal-Compliance-Project\\Additional-Data-Creator\\Output\\Images\\5d.jpg\n",
      "C:\\Users\\theza\\Documents\\Uni\\MIT\\2019\\TP\\Project\\Meal-Compliance-Project\\Additional-Data-Creator\\Output\\Annotations\\5d.png\n"
     ]
    },
    {
     "name": "stderr",
     "output_type": "stream",
     "text": [
      "Lossy conversion from int32 to uint8. Range [0, 12]. Convert image to uint8 prior to saving to suppress this warning.\n"
     ]
    },
    {
     "name": "stdout",
     "output_type": "stream",
     "text": [
      "C:\\Users\\theza\\Documents\\Uni\\MIT\\2019\\TP\\Project\\Meal-Compliance-Project\\Additional-Data-Creator\\Output\\Images\\6d.jpg\n",
      "C:\\Users\\theza\\Documents\\Uni\\MIT\\2019\\TP\\Project\\Meal-Compliance-Project\\Additional-Data-Creator\\Output\\Annotations\\6d.png\n",
      "Applying filter 'e' to input\n"
     ]
    },
    {
     "name": "stderr",
     "output_type": "stream",
     "text": [
      "Lossy conversion from int32 to uint8. Range [0, 12]. Convert image to uint8 prior to saving to suppress this warning.\n"
     ]
    },
    {
     "name": "stdout",
     "output_type": "stream",
     "text": [
      "Saving output of filter 'e'\n",
      "C:\\Users\\theza\\Documents\\Uni\\MIT\\2019\\TP\\Project\\Meal-Compliance-Project\\Additional-Data-Creator\\Output\\Images\\1e.jpg\n"
     ]
    },
    {
     "name": "stderr",
     "output_type": "stream",
     "text": [
      "Lossy conversion from int32 to uint8. Range [0, 12]. Convert image to uint8 prior to saving to suppress this warning.\n"
     ]
    },
    {
     "name": "stdout",
     "output_type": "stream",
     "text": [
      "C:\\Users\\theza\\Documents\\Uni\\MIT\\2019\\TP\\Project\\Meal-Compliance-Project\\Additional-Data-Creator\\Output\\Annotations\\1e.png\n",
      "C:\\Users\\theza\\Documents\\Uni\\MIT\\2019\\TP\\Project\\Meal-Compliance-Project\\Additional-Data-Creator\\Output\\Images\\2e.jpg\n",
      "C:\\Users\\theza\\Documents\\Uni\\MIT\\2019\\TP\\Project\\Meal-Compliance-Project\\Additional-Data-Creator\\Output\\Annotations\\2e.png"
     ]
    },
    {
     "name": "stderr",
     "output_type": "stream",
     "text": [
      "Lossy conversion from int32 to uint8. Range [0, 12]. Convert image to uint8 prior to saving to suppress this warning.\n",
      "Lossy conversion from int32 to uint8. Range [0, 12]. Convert image to uint8 prior to saving to suppress this warning.\n"
     ]
    },
    {
     "name": "stdout",
     "output_type": "stream",
     "text": [
      "\n",
      "C:\\Users\\theza\\Documents\\Uni\\MIT\\2019\\TP\\Project\\Meal-Compliance-Project\\Additional-Data-Creator\\Output\\Images\\3e.jpg\n",
      "C:\\Users\\theza\\Documents\\Uni\\MIT\\2019\\TP\\Project\\Meal-Compliance-Project\\Additional-Data-Creator\\Output\\Annotations\\3e.png\n",
      "C:\\Users\\theza\\Documents\\Uni\\MIT\\2019\\TP\\Project\\Meal-Compliance-Project\\Additional-Data-Creator\\Output\\Images\\4e.jpg\n"
     ]
    },
    {
     "name": "stderr",
     "output_type": "stream",
     "text": [
      "Lossy conversion from int32 to uint8. Range [0, 12]. Convert image to uint8 prior to saving to suppress this warning.\n"
     ]
    },
    {
     "name": "stdout",
     "output_type": "stream",
     "text": [
      "C:\\Users\\theza\\Documents\\Uni\\MIT\\2019\\TP\\Project\\Meal-Compliance-Project\\Additional-Data-Creator\\Output\\Annotations\\4e.png\n",
      "C:\\Users\\theza\\Documents\\Uni\\MIT\\2019\\TP\\Project\\Meal-Compliance-Project\\Additional-Data-Creator\\Output\\Images\\5e.jpg\n",
      "C:\\Users\\theza\\Documents\\Uni\\MIT\\2019\\TP\\Project\\Meal-Compliance-Project\\Additional-Data-Creator\\Output\\Annotations\\5e.png\n",
      "C:\\Users\\theza\\Documents\\Uni\\MIT\\2019\\TP\\Project\\Meal-Compliance-Project\\Additional-Data-Creator\\Output\\Images\\6e.jpg\n"
     ]
    },
    {
     "name": "stderr",
     "output_type": "stream",
     "text": [
      "Lossy conversion from int32 to uint8. Range [0, 11]. Convert image to uint8 prior to saving to suppress this warning.\n"
     ]
    },
    {
     "name": "stdout",
     "output_type": "stream",
     "text": [
      "C:\\Users\\theza\\Documents\\Uni\\MIT\\2019\\TP\\Project\\Meal-Compliance-Project\\Additional-Data-Creator\\Output\\Annotations\\6e.png\n",
      "Applying filter 'f' to input\n"
     ]
    },
    {
     "name": "stderr",
     "output_type": "stream",
     "text": [
      "Lossy conversion from int32 to uint8. Range [0, 12]. Convert image to uint8 prior to saving to suppress this warning.\n",
      "Lossy conversion from int32 to uint8. Range [0, 12]. Convert image to uint8 prior to saving to suppress this warning.\n"
     ]
    },
    {
     "name": "stdout",
     "output_type": "stream",
     "text": [
      "Saving output of filter 'f'\n",
      "C:\\Users\\theza\\Documents\\Uni\\MIT\\2019\\TP\\Project\\Meal-Compliance-Project\\Additional-Data-Creator\\Output\\Images\\1f.jpg\n",
      "C:\\Users\\theza\\Documents\\Uni\\MIT\\2019\\TP\\Project\\Meal-Compliance-Project\\Additional-Data-Creator\\Output\\Annotations\\1f.png\n",
      "C:\\Users\\theza\\Documents\\Uni\\MIT\\2019\\TP\\Project\\Meal-Compliance-Project\\Additional-Data-Creator\\Output\\Images\\2f.jpg\n"
     ]
    },
    {
     "name": "stderr",
     "output_type": "stream",
     "text": [
      "Lossy conversion from int32 to uint8. Range [0, 12]. Convert image to uint8 prior to saving to suppress this warning.\n",
      "Lossy conversion from int32 to uint8. Range [0, 12]. Convert image to uint8 prior to saving to suppress this warning.\n"
     ]
    },
    {
     "name": "stdout",
     "output_type": "stream",
     "text": [
      "C:\\Users\\theza\\Documents\\Uni\\MIT\\2019\\TP\\Project\\Meal-Compliance-Project\\Additional-Data-Creator\\Output\\Annotations\\2f.png\n",
      "C:\\Users\\theza\\Documents\\Uni\\MIT\\2019\\TP\\Project\\Meal-Compliance-Project\\Additional-Data-Creator\\Output\\Images\\3f.jpg\n",
      "C:\\Users\\theza\\Documents\\Uni\\MIT\\2019\\TP\\Project\\Meal-Compliance-Project\\Additional-Data-Creator\\Output\\Annotations\\3f.png\n",
      "C:\\Users\\theza\\Documents\\Uni\\MIT\\2019\\TP\\Project\\Meal-Compliance-Project\\Additional-Data-Creator\\Output\\Images\\4f.jpg\n"
     ]
    },
    {
     "name": "stderr",
     "output_type": "stream",
     "text": [
      "Lossy conversion from int32 to uint8. Range [0, 12]. Convert image to uint8 prior to saving to suppress this warning.\n",
      "Lossy conversion from int32 to uint8. Range [0, 12]. Convert image to uint8 prior to saving to suppress this warning.\n"
     ]
    },
    {
     "name": "stdout",
     "output_type": "stream",
     "text": [
      "C:\\Users\\theza\\Documents\\Uni\\MIT\\2019\\TP\\Project\\Meal-Compliance-Project\\Additional-Data-Creator\\Output\\Annotations\\4f.png\n",
      "C:\\Users\\theza\\Documents\\Uni\\MIT\\2019\\TP\\Project\\Meal-Compliance-Project\\Additional-Data-Creator\\Output\\Images\\5f.jpg\n",
      "C:\\Users\\theza\\Documents\\Uni\\MIT\\2019\\TP\\Project\\Meal-Compliance-Project\\Additional-Data-Creator\\Output\\Annotations\\5f.png\n",
      "C:\\Users\\theza\\Documents\\Uni\\MIT\\2019\\TP\\Project\\Meal-Compliance-Project\\Additional-Data-Creator\\Output\\Images\\6f.jpg\n",
      "C:\\Users\\theza\\Documents\\Uni\\MIT\\2019\\TP\\Project\\Meal-Compliance-Project\\Additional-Data-Creator\\Output\\Annotations\\6f.png\n",
      "Applying filter 'g' to input\n"
     ]
    },
    {
     "name": "stderr",
     "output_type": "stream",
     "text": [
      "Lossy conversion from int32 to uint8. Range [0, 12]. Convert image to uint8 prior to saving to suppress this warning.\n",
      "Lossy conversion from int32 to uint8. Range [0, 12]. Convert image to uint8 prior to saving to suppress this warning.\n"
     ]
    },
    {
     "name": "stdout",
     "output_type": "stream",
     "text": [
      "Saving output of filter 'g'\n",
      "C:\\Users\\theza\\Documents\\Uni\\MIT\\2019\\TP\\Project\\Meal-Compliance-Project\\Additional-Data-Creator\\Output\\Images\\1g.jpg\n",
      "C:\\Users\\theza\\Documents\\Uni\\MIT\\2019\\TP\\Project\\Meal-Compliance-Project\\Additional-Data-Creator\\Output\\Annotations\\1g.png\n",
      "C:\\Users\\theza\\Documents\\Uni\\MIT\\2019\\TP\\Project\\Meal-Compliance-Project\\Additional-Data-Creator\\Output\\Images\\2g.jpg\n",
      "C:\\Users\\theza\\Documents\\Uni\\MIT\\2019\\TP\\Project\\Meal-Compliance-Project\\Additional-Data-Creator\\Output\\Annotations\\2g.png\n"
     ]
    },
    {
     "name": "stderr",
     "output_type": "stream",
     "text": [
      "Lossy conversion from int32 to uint8. Range [0, 12]. Convert image to uint8 prior to saving to suppress this warning.\n",
      "Lossy conversion from int32 to uint8. Range [0, 12]. Convert image to uint8 prior to saving to suppress this warning.\n"
     ]
    },
    {
     "name": "stdout",
     "output_type": "stream",
     "text": [
      "C:\\Users\\theza\\Documents\\Uni\\MIT\\2019\\TP\\Project\\Meal-Compliance-Project\\Additional-Data-Creator\\Output\\Images\\3g.jpg\n",
      "C:\\Users\\theza\\Documents\\Uni\\MIT\\2019\\TP\\Project\\Meal-Compliance-Project\\Additional-Data-Creator\\Output\\Annotations\\3g.png\n",
      "C:\\Users\\theza\\Documents\\Uni\\MIT\\2019\\TP\\Project\\Meal-Compliance-Project\\Additional-Data-Creator\\Output\\Images\\4g.jpg\n",
      "C:\\Users\\theza\\Documents\\Uni\\MIT\\2019\\TP\\Project\\Meal-Compliance-Project\\Additional-Data-Creator\\Output\\Annotations\\4g.png\n"
     ]
    },
    {
     "name": "stderr",
     "output_type": "stream",
     "text": [
      "Lossy conversion from int32 to uint8. Range [0, 12]. Convert image to uint8 prior to saving to suppress this warning.\n",
      "Lossy conversion from int32 to uint8. Range [0, 12]. Convert image to uint8 prior to saving to suppress this warning.\n"
     ]
    },
    {
     "name": "stdout",
     "output_type": "stream",
     "text": [
      "C:\\Users\\theza\\Documents\\Uni\\MIT\\2019\\TP\\Project\\Meal-Compliance-Project\\Additional-Data-Creator\\Output\\Images\\5g.jpg\n",
      "C:\\Users\\theza\\Documents\\Uni\\MIT\\2019\\TP\\Project\\Meal-Compliance-Project\\Additional-Data-Creator\\Output\\Annotations\\5g.png\n",
      "C:\\Users\\theza\\Documents\\Uni\\MIT\\2019\\TP\\Project\\Meal-Compliance-Project\\Additional-Data-Creator\\Output\\Images\\6g.jpg\n",
      "C:\\Users\\theza\\Documents\\Uni\\MIT\\2019\\TP\\Project\\Meal-Compliance-Project\\Additional-Data-Creator\\Output\\Annotations\\6g.png\n",
      "Applying filter 'h' to input\n"
     ]
    },
    {
     "name": "stderr",
     "output_type": "stream",
     "text": [
      "Lossy conversion from int32 to uint8. Range [0, 12]. Convert image to uint8 prior to saving to suppress this warning.\n"
     ]
    },
    {
     "name": "stdout",
     "output_type": "stream",
     "text": [
      "Saving output of filter 'h'\n",
      "C:\\Users\\theza\\Documents\\Uni\\MIT\\2019\\TP\\Project\\Meal-Compliance-Project\\Additional-Data-Creator\\Output\\Images\\1h.jpg\n",
      "C:\\Users\\theza\\Documents\\Uni\\MIT\\2019\\TP\\Project\\Meal-Compliance-Project\\Additional-Data-Creator\\Output\\Annotations\\1h.png"
     ]
    },
    {
     "name": "stderr",
     "output_type": "stream",
     "text": [
      "Lossy conversion from int32 to uint8. Range [0, 12]. Convert image to uint8 prior to saving to suppress this warning.\n"
     ]
    },
    {
     "name": "stdout",
     "output_type": "stream",
     "text": [
      "\n",
      "C:\\Users\\theza\\Documents\\Uni\\MIT\\2019\\TP\\Project\\Meal-Compliance-Project\\Additional-Data-Creator\\Output\\Images\\2h.jpg\n",
      "C:\\Users\\theza\\Documents\\Uni\\MIT\\2019\\TP\\Project\\Meal-Compliance-Project\\Additional-Data-Creator\\Output\\Annotations\\2h.png"
     ]
    },
    {
     "name": "stderr",
     "output_type": "stream",
     "text": [
      "Lossy conversion from int32 to uint8. Range [0, 12]. Convert image to uint8 prior to saving to suppress this warning.\n"
     ]
    },
    {
     "name": "stdout",
     "output_type": "stream",
     "text": [
      "\n",
      "C:\\Users\\theza\\Documents\\Uni\\MIT\\2019\\TP\\Project\\Meal-Compliance-Project\\Additional-Data-Creator\\Output\\Images\\3h.jpg\n",
      "C:\\Users\\theza\\Documents\\Uni\\MIT\\2019\\TP\\Project\\Meal-Compliance-Project\\Additional-Data-Creator\\Output\\Annotations\\3h.png\n",
      "C:\\Users\\theza\\Documents\\Uni\\MIT\\2019\\TP\\Project\\Meal-Compliance-Project\\Additional-Data-Creator\\Output\\Images\\4h.jpg\n"
     ]
    },
    {
     "name": "stderr",
     "output_type": "stream",
     "text": [
      "Lossy conversion from int32 to uint8. Range [0, 12]. Convert image to uint8 prior to saving to suppress this warning.\n",
      "Lossy conversion from int32 to uint8. Range [0, 12]. Convert image to uint8 prior to saving to suppress this warning.\n"
     ]
    },
    {
     "name": "stdout",
     "output_type": "stream",
     "text": [
      "C:\\Users\\theza\\Documents\\Uni\\MIT\\2019\\TP\\Project\\Meal-Compliance-Project\\Additional-Data-Creator\\Output\\Annotations\\4h.png\n",
      "C:\\Users\\theza\\Documents\\Uni\\MIT\\2019\\TP\\Project\\Meal-Compliance-Project\\Additional-Data-Creator\\Output\\Images\\5h.jpg\n",
      "C:\\Users\\theza\\Documents\\Uni\\MIT\\2019\\TP\\Project\\Meal-Compliance-Project\\Additional-Data-Creator\\Output\\Annotations\\5h.png"
     ]
    },
    {
     "name": "stderr",
     "output_type": "stream",
     "text": [
      "Lossy conversion from int32 to uint8. Range [0, 11]. Convert image to uint8 prior to saving to suppress this warning.\n"
     ]
    },
    {
     "name": "stdout",
     "output_type": "stream",
     "text": [
      "\n",
      "C:\\Users\\theza\\Documents\\Uni\\MIT\\2019\\TP\\Project\\Meal-Compliance-Project\\Additional-Data-Creator\\Output\\Images\\6h.jpg\n",
      "C:\\Users\\theza\\Documents\\Uni\\MIT\\2019\\TP\\Project\\Meal-Compliance-Project\\Additional-Data-Creator\\Output\\Annotations\\6h.png\n",
      "Applying filter 'i' to input\n"
     ]
    },
    {
     "name": "stderr",
     "output_type": "stream",
     "text": [
      "Lossy conversion from int32 to uint8. Range [0, 12]. Convert image to uint8 prior to saving to suppress this warning.\n"
     ]
    },
    {
     "name": "stdout",
     "output_type": "stream",
     "text": [
      "Saving output of filter 'i'\n",
      "C:\\Users\\theza\\Documents\\Uni\\MIT\\2019\\TP\\Project\\Meal-Compliance-Project\\Additional-Data-Creator\\Output\\Images\\1i.jpg\n",
      "C:\\Users\\theza\\Documents\\Uni\\MIT\\2019\\TP\\Project\\Meal-Compliance-Project\\Additional-Data-Creator\\Output\\Annotations\\1i.png\n",
      "C:\\Users\\theza\\Documents\\Uni\\MIT\\2019\\TP\\Project\\Meal-Compliance-Project\\Additional-Data-Creator\\Output\\Images\\2i.jpg\n"
     ]
    },
    {
     "name": "stderr",
     "output_type": "stream",
     "text": [
      "Lossy conversion from int32 to uint8. Range [0, 12]. Convert image to uint8 prior to saving to suppress this warning.\n",
      "Lossy conversion from int32 to uint8. Range [0, 12]. Convert image to uint8 prior to saving to suppress this warning.\n"
     ]
    },
    {
     "name": "stdout",
     "output_type": "stream",
     "text": [
      "C:\\Users\\theza\\Documents\\Uni\\MIT\\2019\\TP\\Project\\Meal-Compliance-Project\\Additional-Data-Creator\\Output\\Annotations\\2i.png\n",
      "C:\\Users\\theza\\Documents\\Uni\\MIT\\2019\\TP\\Project\\Meal-Compliance-Project\\Additional-Data-Creator\\Output\\Images\\3i.jpg\n",
      "C:\\Users\\theza\\Documents\\Uni\\MIT\\2019\\TP\\Project\\Meal-Compliance-Project\\Additional-Data-Creator\\Output\\Annotations\\3i.png\n"
     ]
    },
    {
     "name": "stderr",
     "output_type": "stream",
     "text": [
      "Lossy conversion from int32 to uint8. Range [0, 12]. Convert image to uint8 prior to saving to suppress this warning.\n",
      "Lossy conversion from int32 to uint8. Range [0, 12]. Convert image to uint8 prior to saving to suppress this warning.\n"
     ]
    },
    {
     "name": "stdout",
     "output_type": "stream",
     "text": [
      "C:\\Users\\theza\\Documents\\Uni\\MIT\\2019\\TP\\Project\\Meal-Compliance-Project\\Additional-Data-Creator\\Output\\Images\\4i.jpg\n",
      "C:\\Users\\theza\\Documents\\Uni\\MIT\\2019\\TP\\Project\\Meal-Compliance-Project\\Additional-Data-Creator\\Output\\Annotations\\4i.png\n",
      "C:\\Users\\theza\\Documents\\Uni\\MIT\\2019\\TP\\Project\\Meal-Compliance-Project\\Additional-Data-Creator\\Output\\Images\\5i.jpg\n"
     ]
    },
    {
     "name": "stderr",
     "output_type": "stream",
     "text": [
      "Lossy conversion from int32 to uint8. Range [0, 12]. Convert image to uint8 prior to saving to suppress this warning.\n"
     ]
    },
    {
     "name": "stdout",
     "output_type": "stream",
     "text": [
      "C:\\Users\\theza\\Documents\\Uni\\MIT\\2019\\TP\\Project\\Meal-Compliance-Project\\Additional-Data-Creator\\Output\\Annotations\\5i.png\n",
      "C:\\Users\\theza\\Documents\\Uni\\MIT\\2019\\TP\\Project\\Meal-Compliance-Project\\Additional-Data-Creator\\Output\\Images\\6i.jpg\n",
      "C:\\Users\\theza\\Documents\\Uni\\MIT\\2019\\TP\\Project\\Meal-Compliance-Project\\Additional-Data-Creator\\Output\\Annotations\\6i.png\n",
      "Applying filter 'j' to input\n"
     ]
    },
    {
     "name": "stderr",
     "output_type": "stream",
     "text": [
      "Lossy conversion from int32 to uint8. Range [0, 12]. Convert image to uint8 prior to saving to suppress this warning.\n"
     ]
    },
    {
     "name": "stdout",
     "output_type": "stream",
     "text": [
      "Saving output of filter 'j'\n",
      "C:\\Users\\theza\\Documents\\Uni\\MIT\\2019\\TP\\Project\\Meal-Compliance-Project\\Additional-Data-Creator\\Output\\Images\\1j.jpg\n",
      "C:\\Users\\theza\\Documents\\Uni\\MIT\\2019\\TP\\Project\\Meal-Compliance-Project\\Additional-Data-Creator\\Output\\Annotations\\1j.png\n"
     ]
    },
    {
     "name": "stderr",
     "output_type": "stream",
     "text": [
      "Lossy conversion from int32 to uint8. Range [0, 12]. Convert image to uint8 prior to saving to suppress this warning.\n"
     ]
    },
    {
     "name": "stdout",
     "output_type": "stream",
     "text": [
      "C:\\Users\\theza\\Documents\\Uni\\MIT\\2019\\TP\\Project\\Meal-Compliance-Project\\Additional-Data-Creator\\Output\\Images\\2j.jpg\n",
      "C:\\Users\\theza\\Documents\\Uni\\MIT\\2019\\TP\\Project\\Meal-Compliance-Project\\Additional-Data-Creator\\Output\\Annotations\\2j.png\n"
     ]
    },
    {
     "name": "stderr",
     "output_type": "stream",
     "text": [
      "Lossy conversion from int32 to uint8. Range [0, 12]. Convert image to uint8 prior to saving to suppress this warning.\n"
     ]
    },
    {
     "name": "stdout",
     "output_type": "stream",
     "text": [
      "C:\\Users\\theza\\Documents\\Uni\\MIT\\2019\\TP\\Project\\Meal-Compliance-Project\\Additional-Data-Creator\\Output\\Images\\3j.jpg\n",
      "C:\\Users\\theza\\Documents\\Uni\\MIT\\2019\\TP\\Project\\Meal-Compliance-Project\\Additional-Data-Creator\\Output\\Annotations\\3j.png"
     ]
    },
    {
     "name": "stderr",
     "output_type": "stream",
     "text": [
      "Lossy conversion from int32 to uint8. Range [0, 12]. Convert image to uint8 prior to saving to suppress this warning.\n"
     ]
    },
    {
     "name": "stdout",
     "output_type": "stream",
     "text": [
      "\n",
      "C:\\Users\\theza\\Documents\\Uni\\MIT\\2019\\TP\\Project\\Meal-Compliance-Project\\Additional-Data-Creator\\Output\\Images\\4j.jpg\n"
     ]
    },
    {
     "name": "stderr",
     "output_type": "stream",
     "text": [
      "Lossy conversion from int32 to uint8. Range [0, 12]. Convert image to uint8 prior to saving to suppress this warning.\n"
     ]
    },
    {
     "name": "stdout",
     "output_type": "stream",
     "text": [
      "C:\\Users\\theza\\Documents\\Uni\\MIT\\2019\\TP\\Project\\Meal-Compliance-Project\\Additional-Data-Creator\\Output\\Annotations\\4j.png\n",
      "C:\\Users\\theza\\Documents\\Uni\\MIT\\2019\\TP\\Project\\Meal-Compliance-Project\\Additional-Data-Creator\\Output\\Images\\5j.jpg\n"
     ]
    },
    {
     "name": "stderr",
     "output_type": "stream",
     "text": [
      "Lossy conversion from int32 to uint8. Range [0, 12]. Convert image to uint8 prior to saving to suppress this warning.\n"
     ]
    },
    {
     "name": "stdout",
     "output_type": "stream",
     "text": [
      "C:\\Users\\theza\\Documents\\Uni\\MIT\\2019\\TP\\Project\\Meal-Compliance-Project\\Additional-Data-Creator\\Output\\Annotations\\5j.png\n",
      "C:\\Users\\theza\\Documents\\Uni\\MIT\\2019\\TP\\Project\\Meal-Compliance-Project\\Additional-Data-Creator\\Output\\Images\\6j.jpg\n",
      "C:\\Users\\theza\\Documents\\Uni\\MIT\\2019\\TP\\Project\\Meal-Compliance-Project\\Additional-Data-Creator\\Output\\Annotations\\6j.png\n",
      "Applying filter 'k' to input\n"
     ]
    },
    {
     "name": "stderr",
     "output_type": "stream",
     "text": [
      "Lossy conversion from int32 to uint8. Range [0, 12]. Convert image to uint8 prior to saving to suppress this warning.\n",
      "Lossy conversion from int32 to uint8. Range [0, 12]. Convert image to uint8 prior to saving to suppress this warning.\n"
     ]
    },
    {
     "name": "stdout",
     "output_type": "stream",
     "text": [
      "Saving output of filter 'k'\n",
      "C:\\Users\\theza\\Documents\\Uni\\MIT\\2019\\TP\\Project\\Meal-Compliance-Project\\Additional-Data-Creator\\Output\\Images\\1k.jpg\n",
      "C:\\Users\\theza\\Documents\\Uni\\MIT\\2019\\TP\\Project\\Meal-Compliance-Project\\Additional-Data-Creator\\Output\\Annotations\\1k.png\n",
      "C:\\Users\\theza\\Documents\\Uni\\MIT\\2019\\TP\\Project\\Meal-Compliance-Project\\Additional-Data-Creator\\Output\\Images\\2k.jpg\n"
     ]
    },
    {
     "name": "stderr",
     "output_type": "stream",
     "text": [
      "Lossy conversion from int32 to uint8. Range [0, 12]. Convert image to uint8 prior to saving to suppress this warning.\n",
      "Lossy conversion from int32 to uint8. Range [0, 12]. Convert image to uint8 prior to saving to suppress this warning.\n"
     ]
    },
    {
     "name": "stdout",
     "output_type": "stream",
     "text": [
      "C:\\Users\\theza\\Documents\\Uni\\MIT\\2019\\TP\\Project\\Meal-Compliance-Project\\Additional-Data-Creator\\Output\\Annotations\\2k.png\n",
      "C:\\Users\\theza\\Documents\\Uni\\MIT\\2019\\TP\\Project\\Meal-Compliance-Project\\Additional-Data-Creator\\Output\\Images\\3k.jpg\n",
      "C:\\Users\\theza\\Documents\\Uni\\MIT\\2019\\TP\\Project\\Meal-Compliance-Project\\Additional-Data-Creator\\Output\\Annotations\\3k.png\n",
      "C:\\Users\\theza\\Documents\\Uni\\MIT\\2019\\TP\\Project\\Meal-Compliance-Project\\Additional-Data-Creator\\Output\\Images\\4k.jpg\n"
     ]
    },
    {
     "name": "stderr",
     "output_type": "stream",
     "text": [
      "Lossy conversion from int32 to uint8. Range [0, 12]. Convert image to uint8 prior to saving to suppress this warning.\n"
     ]
    },
    {
     "name": "stdout",
     "output_type": "stream",
     "text": [
      "C:\\Users\\theza\\Documents\\Uni\\MIT\\2019\\TP\\Project\\Meal-Compliance-Project\\Additional-Data-Creator\\Output\\Annotations\\4k.png\n",
      "C:\\Users\\theza\\Documents\\Uni\\MIT\\2019\\TP\\Project\\Meal-Compliance-Project\\Additional-Data-Creator\\Output\\Images\\5k.jpg\n",
      "C:\\Users\\theza\\Documents\\Uni\\MIT\\2019\\TP\\Project\\Meal-Compliance-Project\\Additional-Data-Creator\\Output\\Annotations\\5k.png\n"
     ]
    },
    {
     "name": "stderr",
     "output_type": "stream",
     "text": [
      "Lossy conversion from int32 to uint8. Range [0, 12]. Convert image to uint8 prior to saving to suppress this warning.\n"
     ]
    },
    {
     "name": "stdout",
     "output_type": "stream",
     "text": [
      "C:\\Users\\theza\\Documents\\Uni\\MIT\\2019\\TP\\Project\\Meal-Compliance-Project\\Additional-Data-Creator\\Output\\Images\\6k.jpg\n",
      "C:\\Users\\theza\\Documents\\Uni\\MIT\\2019\\TP\\Project\\Meal-Compliance-Project\\Additional-Data-Creator\\Output\\Annotations\\6k.png\n",
      "Applying filter 'l' to input\n"
     ]
    },
    {
     "name": "stderr",
     "output_type": "stream",
     "text": [
      "Lossy conversion from int32 to uint8. Range [0, 12]. Convert image to uint8 prior to saving to suppress this warning.\n"
     ]
    },
    {
     "name": "stdout",
     "output_type": "stream",
     "text": [
      "Saving output of filter 'l'\n",
      "C:\\Users\\theza\\Documents\\Uni\\MIT\\2019\\TP\\Project\\Meal-Compliance-Project\\Additional-Data-Creator\\Output\\Images\\1l.jpg\n",
      "C:\\Users\\theza\\Documents\\Uni\\MIT\\2019\\TP\\Project\\Meal-Compliance-Project\\Additional-Data-Creator\\Output\\Annotations\\1l.png\n",
      "C:\\Users\\theza\\Documents\\Uni\\MIT\\2019\\TP\\Project\\Meal-Compliance-Project\\Additional-Data-Creator\\Output\\Images\\2l.jpg\n"
     ]
    },
    {
     "name": "stderr",
     "output_type": "stream",
     "text": [
      "Lossy conversion from int32 to uint8. Range [0, 12]. Convert image to uint8 prior to saving to suppress this warning.\n",
      "Lossy conversion from int32 to uint8. Range [0, 12]. Convert image to uint8 prior to saving to suppress this warning.\n"
     ]
    },
    {
     "name": "stdout",
     "output_type": "stream",
     "text": [
      "C:\\Users\\theza\\Documents\\Uni\\MIT\\2019\\TP\\Project\\Meal-Compliance-Project\\Additional-Data-Creator\\Output\\Annotations\\2l.png\n",
      "C:\\Users\\theza\\Documents\\Uni\\MIT\\2019\\TP\\Project\\Meal-Compliance-Project\\Additional-Data-Creator\\Output\\Images\\3l.jpg\n"
     ]
    },
    {
     "name": "stderr",
     "output_type": "stream",
     "text": [
      "Lossy conversion from int32 to uint8. Range [0, 12]. Convert image to uint8 prior to saving to suppress this warning.\n",
      "Lossy conversion from int32 to uint8. Range [0, 11]. Convert image to uint8 prior to saving to suppress this warning.\n"
     ]
    },
    {
     "name": "stdout",
     "output_type": "stream",
     "text": [
      "C:\\Users\\theza\\Documents\\Uni\\MIT\\2019\\TP\\Project\\Meal-Compliance-Project\\Additional-Data-Creator\\Output\\Annotations\\3l.png\n",
      "C:\\Users\\theza\\Documents\\Uni\\MIT\\2019\\TP\\Project\\Meal-Compliance-Project\\Additional-Data-Creator\\Output\\Images\\4l.jpg\n",
      "C:\\Users\\theza\\Documents\\Uni\\MIT\\2019\\TP\\Project\\Meal-Compliance-Project\\Additional-Data-Creator\\Output\\Annotations\\4l.png\n",
      "C:\\Users\\theza\\Documents\\Uni\\MIT\\2019\\TP\\Project\\Meal-Compliance-Project\\Additional-Data-Creator\\Output\\Images\\5l.jpg\n"
     ]
    },
    {
     "name": "stderr",
     "output_type": "stream",
     "text": [
      "Lossy conversion from int32 to uint8. Range [0, 11]. Convert image to uint8 prior to saving to suppress this warning.\n"
     ]
    },
    {
     "name": "stdout",
     "output_type": "stream",
     "text": [
      "C:\\Users\\theza\\Documents\\Uni\\MIT\\2019\\TP\\Project\\Meal-Compliance-Project\\Additional-Data-Creator\\Output\\Annotations\\5l.png\n",
      "C:\\Users\\theza\\Documents\\Uni\\MIT\\2019\\TP\\Project\\Meal-Compliance-Project\\Additional-Data-Creator\\Output\\Images\\6l.jpg\n",
      "C:\\Users\\theza\\Documents\\Uni\\MIT\\2019\\TP\\Project\\Meal-Compliance-Project\\Additional-Data-Creator\\Output\\Annotations\\6l.png\n",
      "Applying filter 'm' to input\n"
     ]
    },
    {
     "name": "stderr",
     "output_type": "stream",
     "text": [
      "Lossy conversion from int32 to uint8. Range [0, 12]. Convert image to uint8 prior to saving to suppress this warning.\n",
      "Lossy conversion from int32 to uint8. Range [0, 12]. Convert image to uint8 prior to saving to suppress this warning.\n"
     ]
    },
    {
     "name": "stdout",
     "output_type": "stream",
     "text": [
      "Saving output of filter 'm'\n",
      "C:\\Users\\theza\\Documents\\Uni\\MIT\\2019\\TP\\Project\\Meal-Compliance-Project\\Additional-Data-Creator\\Output\\Images\\1m.jpg\n",
      "C:\\Users\\theza\\Documents\\Uni\\MIT\\2019\\TP\\Project\\Meal-Compliance-Project\\Additional-Data-Creator\\Output\\Annotations\\1m.png\n",
      "C:\\Users\\theza\\Documents\\Uni\\MIT\\2019\\TP\\Project\\Meal-Compliance-Project\\Additional-Data-Creator\\Output\\Images\\2m.jpg\n"
     ]
    },
    {
     "name": "stderr",
     "output_type": "stream",
     "text": [
      "Lossy conversion from int32 to uint8. Range [0, 12]. Convert image to uint8 prior to saving to suppress this warning.\n",
      "Lossy conversion from int32 to uint8. Range [0, 11]. Convert image to uint8 prior to saving to suppress this warning.\n"
     ]
    },
    {
     "name": "stdout",
     "output_type": "stream",
     "text": [
      "C:\\Users\\theza\\Documents\\Uni\\MIT\\2019\\TP\\Project\\Meal-Compliance-Project\\Additional-Data-Creator\\Output\\Annotations\\2m.png\n",
      "C:\\Users\\theza\\Documents\\Uni\\MIT\\2019\\TP\\Project\\Meal-Compliance-Project\\Additional-Data-Creator\\Output\\Images\\3m.jpg\n",
      "C:\\Users\\theza\\Documents\\Uni\\MIT\\2019\\TP\\Project\\Meal-Compliance-Project\\Additional-Data-Creator\\Output\\Annotations\\3m.png\n",
      "C:\\Users\\theza\\Documents\\Uni\\MIT\\2019\\TP\\Project\\Meal-Compliance-Project\\Additional-Data-Creator\\Output\\Images\\4m.jpg\n"
     ]
    },
    {
     "name": "stderr",
     "output_type": "stream",
     "text": [
      "Lossy conversion from int32 to uint8. Range [0, 12]. Convert image to uint8 prior to saving to suppress this warning.\n"
     ]
    },
    {
     "name": "stdout",
     "output_type": "stream",
     "text": [
      "C:\\Users\\theza\\Documents\\Uni\\MIT\\2019\\TP\\Project\\Meal-Compliance-Project\\Additional-Data-Creator\\Output\\Annotations\\4m.png\n",
      "C:\\Users\\theza\\Documents\\Uni\\MIT\\2019\\TP\\Project\\Meal-Compliance-Project\\Additional-Data-Creator\\Output\\Images\\5m.jpg\n",
      "C:\\Users\\theza\\Documents\\Uni\\MIT\\2019\\TP\\Project\\Meal-Compliance-Project\\Additional-Data-Creator\\Output\\Annotations\\5m.png\n",
      "C:\\Users\\theza\\Documents\\Uni\\MIT\\2019\\TP\\Project\\Meal-Compliance-Project\\Additional-Data-Creator\\Output\\Images\\6m.jpg\n"
     ]
    },
    {
     "name": "stderr",
     "output_type": "stream",
     "text": [
      "Lossy conversion from int32 to uint8. Range [0, 12]. Convert image to uint8 prior to saving to suppress this warning.\n"
     ]
    },
    {
     "name": "stdout",
     "output_type": "stream",
     "text": [
      "C:\\Users\\theza\\Documents\\Uni\\MIT\\2019\\TP\\Project\\Meal-Compliance-Project\\Additional-Data-Creator\\Output\\Annotations\\6m.png\n",
      "Applying filter 'n' to input\n"
     ]
    },
    {
     "name": "stderr",
     "output_type": "stream",
     "text": [
      "Lossy conversion from int32 to uint8. Range [0, 12]. Convert image to uint8 prior to saving to suppress this warning.\n"
     ]
    },
    {
     "name": "stdout",
     "output_type": "stream",
     "text": [
      "Saving output of filter 'n'\n",
      "C:\\Users\\theza\\Documents\\Uni\\MIT\\2019\\TP\\Project\\Meal-Compliance-Project\\Additional-Data-Creator\\Output\\Images\\1n.jpg\n",
      "C:\\Users\\theza\\Documents\\Uni\\MIT\\2019\\TP\\Project\\Meal-Compliance-Project\\Additional-Data-Creator\\Output\\Annotations\\1n.png\n"
     ]
    },
    {
     "name": "stderr",
     "output_type": "stream",
     "text": [
      "Lossy conversion from int32 to uint8. Range [0, 12]. Convert image to uint8 prior to saving to suppress this warning.\n"
     ]
    },
    {
     "name": "stdout",
     "output_type": "stream",
     "text": [
      "C:\\Users\\theza\\Documents\\Uni\\MIT\\2019\\TP\\Project\\Meal-Compliance-Project\\Additional-Data-Creator\\Output\\Images\\2n.jpg\n",
      "C:\\Users\\theza\\Documents\\Uni\\MIT\\2019\\TP\\Project\\Meal-Compliance-Project\\Additional-Data-Creator\\Output\\Annotations\\2n.png\n",
      "C:\\Users\\theza\\Documents\\Uni\\MIT\\2019\\TP\\Project\\Meal-Compliance-Project\\Additional-Data-Creator\\Output\\Images\\3n.jpg\n"
     ]
    },
    {
     "name": "stderr",
     "output_type": "stream",
     "text": [
      "Lossy conversion from int32 to uint8. Range [0, 12]. Convert image to uint8 prior to saving to suppress this warning.\n",
      "Lossy conversion from int32 to uint8. Range [0, 11]. Convert image to uint8 prior to saving to suppress this warning.\n"
     ]
    },
    {
     "name": "stdout",
     "output_type": "stream",
     "text": [
      "C:\\Users\\theza\\Documents\\Uni\\MIT\\2019\\TP\\Project\\Meal-Compliance-Project\\Additional-Data-Creator\\Output\\Annotations\\3n.png\n",
      "C:\\Users\\theza\\Documents\\Uni\\MIT\\2019\\TP\\Project\\Meal-Compliance-Project\\Additional-Data-Creator\\Output\\Images\\4n.jpg\n",
      "C:\\Users\\theza\\Documents\\Uni\\MIT\\2019\\TP\\Project\\Meal-Compliance-Project\\Additional-Data-Creator\\Output\\Annotations\\4n.png\n"
     ]
    },
    {
     "name": "stderr",
     "output_type": "stream",
     "text": [
      "Lossy conversion from int32 to uint8. Range [0, 12]. Convert image to uint8 prior to saving to suppress this warning.\n"
     ]
    },
    {
     "name": "stdout",
     "output_type": "stream",
     "text": [
      "C:\\Users\\theza\\Documents\\Uni\\MIT\\2019\\TP\\Project\\Meal-Compliance-Project\\Additional-Data-Creator\\Output\\Images\\5n.jpg\n",
      "C:\\Users\\theza\\Documents\\Uni\\MIT\\2019\\TP\\Project\\Meal-Compliance-Project\\Additional-Data-Creator\\Output\\Annotations\\5n.png\n"
     ]
    },
    {
     "name": "stderr",
     "output_type": "stream",
     "text": [
      "Lossy conversion from int32 to uint8. Range [0, 12]. Convert image to uint8 prior to saving to suppress this warning.\n"
     ]
    },
    {
     "name": "stdout",
     "output_type": "stream",
     "text": [
      "C:\\Users\\theza\\Documents\\Uni\\MIT\\2019\\TP\\Project\\Meal-Compliance-Project\\Additional-Data-Creator\\Output\\Images\\6n.jpg\n",
      "C:\\Users\\theza\\Documents\\Uni\\MIT\\2019\\TP\\Project\\Meal-Compliance-Project\\Additional-Data-Creator\\Output\\Annotations\\6n.png\n",
      "Applying filter 'o' to input\n"
     ]
    },
    {
     "name": "stderr",
     "output_type": "stream",
     "text": [
      "Lossy conversion from int32 to uint8. Range [0, 12]. Convert image to uint8 prior to saving to suppress this warning.\n"
     ]
    },
    {
     "name": "stdout",
     "output_type": "stream",
     "text": [
      "Saving output of filter 'o'\n",
      "C:\\Users\\theza\\Documents\\Uni\\MIT\\2019\\TP\\Project\\Meal-Compliance-Project\\Additional-Data-Creator\\Output\\Images\\1o.jpg\n",
      "C:\\Users\\theza\\Documents\\Uni\\MIT\\2019\\TP\\Project\\Meal-Compliance-Project\\Additional-Data-Creator\\Output\\Annotations\\1o.png\n"
     ]
    },
    {
     "name": "stderr",
     "output_type": "stream",
     "text": [
      "Lossy conversion from int32 to uint8. Range [0, 12]. Convert image to uint8 prior to saving to suppress this warning.\n"
     ]
    },
    {
     "name": "stdout",
     "output_type": "stream",
     "text": [
      "C:\\Users\\theza\\Documents\\Uni\\MIT\\2019\\TP\\Project\\Meal-Compliance-Project\\Additional-Data-Creator\\Output\\Images\\2o.jpg\n",
      "C:\\Users\\theza\\Documents\\Uni\\MIT\\2019\\TP\\Project\\Meal-Compliance-Project\\Additional-Data-Creator\\Output\\Annotations\\2o.png\n",
      "C:\\Users\\theza\\Documents\\Uni\\MIT\\2019\\TP\\Project\\Meal-Compliance-Project\\Additional-Data-Creator\\Output\\Images\\3o.jpg\n"
     ]
    },
    {
     "name": "stderr",
     "output_type": "stream",
     "text": [
      "Lossy conversion from int32 to uint8. Range [0, 12]. Convert image to uint8 prior to saving to suppress this warning.\n"
     ]
    },
    {
     "name": "stdout",
     "output_type": "stream",
     "text": [
      "C:\\Users\\theza\\Documents\\Uni\\MIT\\2019\\TP\\Project\\Meal-Compliance-Project\\Additional-Data-Creator\\Output\\Annotations\\3o.png\n",
      "C:\\Users\\theza\\Documents\\Uni\\MIT\\2019\\TP\\Project\\Meal-Compliance-Project\\Additional-Data-Creator\\Output\\Images\\4o.jpg\n"
     ]
    },
    {
     "name": "stderr",
     "output_type": "stream",
     "text": [
      "Lossy conversion from int32 to uint8. Range [0, 12]. Convert image to uint8 prior to saving to suppress this warning.\n",
      "Lossy conversion from int32 to uint8. Range [0, 12]. Convert image to uint8 prior to saving to suppress this warning.\n"
     ]
    },
    {
     "name": "stdout",
     "output_type": "stream",
     "text": [
      "C:\\Users\\theza\\Documents\\Uni\\MIT\\2019\\TP\\Project\\Meal-Compliance-Project\\Additional-Data-Creator\\Output\\Annotations\\4o.png\n",
      "C:\\Users\\theza\\Documents\\Uni\\MIT\\2019\\TP\\Project\\Meal-Compliance-Project\\Additional-Data-Creator\\Output\\Images\\5o.jpg\n"
     ]
    },
    {
     "name": "stderr",
     "output_type": "stream",
     "text": [
      "Lossy conversion from int32 to uint8. Range [0, 12]. Convert image to uint8 prior to saving to suppress this warning.\n"
     ]
    },
    {
     "name": "stdout",
     "output_type": "stream",
     "text": [
      "C:\\Users\\theza\\Documents\\Uni\\MIT\\2019\\TP\\Project\\Meal-Compliance-Project\\Additional-Data-Creator\\Output\\Annotations\\5o.png\n",
      "C:\\Users\\theza\\Documents\\Uni\\MIT\\2019\\TP\\Project\\Meal-Compliance-Project\\Additional-Data-Creator\\Output\\Images\\6o.jpg\n",
      "C:\\Users\\theza\\Documents\\Uni\\MIT\\2019\\TP\\Project\\Meal-Compliance-Project\\Additional-Data-Creator\\Output\\Annotations\\6o.png\n",
      "Applying filter 'p' to input\n"
     ]
    },
    {
     "name": "stderr",
     "output_type": "stream",
     "text": [
      "Lossy conversion from int32 to uint8. Range [0, 12]. Convert image to uint8 prior to saving to suppress this warning.\n"
     ]
    },
    {
     "name": "stdout",
     "output_type": "stream",
     "text": [
      "Saving output of filter 'p'\n",
      "C:\\Users\\theza\\Documents\\Uni\\MIT\\2019\\TP\\Project\\Meal-Compliance-Project\\Additional-Data-Creator\\Output\\Images\\1p.jpg\n"
     ]
    },
    {
     "name": "stderr",
     "output_type": "stream",
     "text": [
      "Lossy conversion from int32 to uint8. Range [0, 12]. Convert image to uint8 prior to saving to suppress this warning.\n"
     ]
    },
    {
     "name": "stdout",
     "output_type": "stream",
     "text": [
      "C:\\Users\\theza\\Documents\\Uni\\MIT\\2019\\TP\\Project\\Meal-Compliance-Project\\Additional-Data-Creator\\Output\\Annotations\\1p.png\n",
      "C:\\Users\\theza\\Documents\\Uni\\MIT\\2019\\TP\\Project\\Meal-Compliance-Project\\Additional-Data-Creator\\Output\\Images\\2p.jpg\n"
     ]
    },
    {
     "name": "stderr",
     "output_type": "stream",
     "text": [
      "Lossy conversion from int32 to uint8. Range [0, 12]. Convert image to uint8 prior to saving to suppress this warning.\n"
     ]
    },
    {
     "name": "stdout",
     "output_type": "stream",
     "text": [
      "C:\\Users\\theza\\Documents\\Uni\\MIT\\2019\\TP\\Project\\Meal-Compliance-Project\\Additional-Data-Creator\\Output\\Annotations\\2p.png\n",
      "C:\\Users\\theza\\Documents\\Uni\\MIT\\2019\\TP\\Project\\Meal-Compliance-Project\\Additional-Data-Creator\\Output\\Images\\3p.jpg\n",
      "C:\\Users\\theza\\Documents\\Uni\\MIT\\2019\\TP\\Project\\Meal-Compliance-Project\\Additional-Data-Creator\\Output\\Annotations\\3p.png\n"
     ]
    },
    {
     "name": "stderr",
     "output_type": "stream",
     "text": [
      "Lossy conversion from int32 to uint8. Range [0, 11]. Convert image to uint8 prior to saving to suppress this warning.\n"
     ]
    },
    {
     "name": "stdout",
     "output_type": "stream",
     "text": [
      "C:\\Users\\theza\\Documents\\Uni\\MIT\\2019\\TP\\Project\\Meal-Compliance-Project\\Additional-Data-Creator\\Output\\Images\\4p.jpg\n",
      "C:\\Users\\theza\\Documents\\Uni\\MIT\\2019\\TP\\Project\\Meal-Compliance-Project\\Additional-Data-Creator\\Output\\Annotations\\4p.png\n",
      "C:\\Users\\theza\\Documents\\Uni\\MIT\\2019\\TP\\Project\\Meal-Compliance-Project\\Additional-Data-Creator\\Output\\Images\\5p.jpg\n"
     ]
    },
    {
     "name": "stderr",
     "output_type": "stream",
     "text": [
      "Lossy conversion from int32 to uint8. Range [0, 12]. Convert image to uint8 prior to saving to suppress this warning.\n",
      "Lossy conversion from int32 to uint8. Range [0, 11]. Convert image to uint8 prior to saving to suppress this warning.\n"
     ]
    },
    {
     "name": "stdout",
     "output_type": "stream",
     "text": [
      "C:\\Users\\theza\\Documents\\Uni\\MIT\\2019\\TP\\Project\\Meal-Compliance-Project\\Additional-Data-Creator\\Output\\Annotations\\5p.png\n",
      "C:\\Users\\theza\\Documents\\Uni\\MIT\\2019\\TP\\Project\\Meal-Compliance-Project\\Additional-Data-Creator\\Output\\Images\\6p.jpg\n",
      "C:\\Users\\theza\\Documents\\Uni\\MIT\\2019\\TP\\Project\\Meal-Compliance-Project\\Additional-Data-Creator\\Output\\Annotations\\6p.png\n",
      "Applying filter 'q' to input\n"
     ]
    },
    {
     "name": "stderr",
     "output_type": "stream",
     "text": [
      "Lossy conversion from int32 to uint8. Range [0, 12]. Convert image to uint8 prior to saving to suppress this warning.\n"
     ]
    },
    {
     "name": "stdout",
     "output_type": "stream",
     "text": [
      "Saving output of filter 'q'\n",
      "C:\\Users\\theza\\Documents\\Uni\\MIT\\2019\\TP\\Project\\Meal-Compliance-Project\\Additional-Data-Creator\\Output\\Images\\1q.jpg\n",
      "C:\\Users\\theza\\Documents\\Uni\\MIT\\2019\\TP\\Project\\Meal-Compliance-Project\\Additional-Data-Creator\\Output\\Annotations\\1q.png\n"
     ]
    },
    {
     "name": "stderr",
     "output_type": "stream",
     "text": [
      "Lossy conversion from int32 to uint8. Range [0, 12]. Convert image to uint8 prior to saving to suppress this warning.\n"
     ]
    },
    {
     "name": "stdout",
     "output_type": "stream",
     "text": [
      "C:\\Users\\theza\\Documents\\Uni\\MIT\\2019\\TP\\Project\\Meal-Compliance-Project\\Additional-Data-Creator\\Output\\Images\\2q.jpg\n",
      "C:\\Users\\theza\\Documents\\Uni\\MIT\\2019\\TP\\Project\\Meal-Compliance-Project\\Additional-Data-Creator\\Output\\Annotations\\2q.png\n",
      "C:\\Users\\theza\\Documents\\Uni\\MIT\\2019\\TP\\Project\\Meal-Compliance-Project\\Additional-Data-Creator\\Output\\Images\\3q.jpg\n"
     ]
    },
    {
     "name": "stderr",
     "output_type": "stream",
     "text": [
      "Lossy conversion from int32 to uint8. Range [0, 12]. Convert image to uint8 prior to saving to suppress this warning.\n",
      "Lossy conversion from int32 to uint8. Range [0, 12]. Convert image to uint8 prior to saving to suppress this warning.\n"
     ]
    },
    {
     "name": "stdout",
     "output_type": "stream",
     "text": [
      "C:\\Users\\theza\\Documents\\Uni\\MIT\\2019\\TP\\Project\\Meal-Compliance-Project\\Additional-Data-Creator\\Output\\Annotations\\3q.png\n",
      "C:\\Users\\theza\\Documents\\Uni\\MIT\\2019\\TP\\Project\\Meal-Compliance-Project\\Additional-Data-Creator\\Output\\Images\\4q.jpg\n",
      "C:\\Users\\theza\\Documents\\Uni\\MIT\\2019\\TP\\Project\\Meal-Compliance-Project\\Additional-Data-Creator\\Output\\Annotations\\4q.png\n"
     ]
    },
    {
     "name": "stderr",
     "output_type": "stream",
     "text": [
      "Lossy conversion from int32 to uint8. Range [0, 12]. Convert image to uint8 prior to saving to suppress this warning.\n"
     ]
    },
    {
     "name": "stdout",
     "output_type": "stream",
     "text": [
      "C:\\Users\\theza\\Documents\\Uni\\MIT\\2019\\TP\\Project\\Meal-Compliance-Project\\Additional-Data-Creator\\Output\\Images\\5q.jpg\n",
      "C:\\Users\\theza\\Documents\\Uni\\MIT\\2019\\TP\\Project\\Meal-Compliance-Project\\Additional-Data-Creator\\Output\\Annotations\\5q.png\n"
     ]
    },
    {
     "name": "stderr",
     "output_type": "stream",
     "text": [
      "Lossy conversion from int32 to uint8. Range [0, 12]. Convert image to uint8 prior to saving to suppress this warning.\n"
     ]
    },
    {
     "name": "stdout",
     "output_type": "stream",
     "text": [
      "C:\\Users\\theza\\Documents\\Uni\\MIT\\2019\\TP\\Project\\Meal-Compliance-Project\\Additional-Data-Creator\\Output\\Images\\6q.jpg\n",
      "C:\\Users\\theza\\Documents\\Uni\\MIT\\2019\\TP\\Project\\Meal-Compliance-Project\\Additional-Data-Creator\\Output\\Annotations\\6q.png\n",
      "Applying filter 'r' to input\n"
     ]
    },
    {
     "name": "stderr",
     "output_type": "stream",
     "text": [
      "Lossy conversion from int32 to uint8. Range [0, 12]. Convert image to uint8 prior to saving to suppress this warning.\n"
     ]
    },
    {
     "name": "stdout",
     "output_type": "stream",
     "text": [
      "Saving output of filter 'r'\n",
      "C:\\Users\\theza\\Documents\\Uni\\MIT\\2019\\TP\\Project\\Meal-Compliance-Project\\Additional-Data-Creator\\Output\\Images\\1r.jpg\n"
     ]
    },
    {
     "name": "stderr",
     "output_type": "stream",
     "text": [
      "Lossy conversion from int32 to uint8. Range [0, 12]. Convert image to uint8 prior to saving to suppress this warning.\n"
     ]
    },
    {
     "name": "stdout",
     "output_type": "stream",
     "text": [
      "C:\\Users\\theza\\Documents\\Uni\\MIT\\2019\\TP\\Project\\Meal-Compliance-Project\\Additional-Data-Creator\\Output\\Annotations\\1r.png\n",
      "C:\\Users\\theza\\Documents\\Uni\\MIT\\2019\\TP\\Project\\Meal-Compliance-Project\\Additional-Data-Creator\\Output\\Images\\2r.jpg\n",
      "C:\\Users\\theza\\Documents\\Uni\\MIT\\2019\\TP\\Project\\Meal-Compliance-Project\\Additional-Data-Creator\\Output\\Annotations\\2r.png\n"
     ]
    },
    {
     "name": "stderr",
     "output_type": "stream",
     "text": [
      "Lossy conversion from int32 to uint8. Range [0, 12]. Convert image to uint8 prior to saving to suppress this warning.\n"
     ]
    },
    {
     "name": "stdout",
     "output_type": "stream",
     "text": [
      "C:\\Users\\theza\\Documents\\Uni\\MIT\\2019\\TP\\Project\\Meal-Compliance-Project\\Additional-Data-Creator\\Output\\Images\\3r.jpg\n",
      "C:\\Users\\theza\\Documents\\Uni\\MIT\\2019\\TP\\Project\\Meal-Compliance-Project\\Additional-Data-Creator\\Output\\Annotations\\3r.png\n",
      "C:\\Users\\theza\\Documents\\Uni\\MIT\\2019\\TP\\Project\\Meal-Compliance-Project\\Additional-Data-Creator\\Output\\Images\\4r.jpg\n"
     ]
    },
    {
     "name": "stderr",
     "output_type": "stream",
     "text": [
      "Lossy conversion from int32 to uint8. Range [0, 12]. Convert image to uint8 prior to saving to suppress this warning.\n"
     ]
    },
    {
     "name": "stdout",
     "output_type": "stream",
     "text": [
      "C:\\Users\\theza\\Documents\\Uni\\MIT\\2019\\TP\\Project\\Meal-Compliance-Project\\Additional-Data-Creator\\Output\\Annotations\\4r.png\n",
      "C:\\Users\\theza\\Documents\\Uni\\MIT\\2019\\TP\\Project\\Meal-Compliance-Project\\Additional-Data-Creator\\Output\\Images\\5r.jpg\n"
     ]
    },
    {
     "name": "stderr",
     "output_type": "stream",
     "text": [
      "Lossy conversion from int32 to uint8. Range [0, 12]. Convert image to uint8 prior to saving to suppress this warning.\n",
      "Lossy conversion from int32 to uint8. Range [0, 12]. Convert image to uint8 prior to saving to suppress this warning.\n"
     ]
    },
    {
     "name": "stdout",
     "output_type": "stream",
     "text": [
      "C:\\Users\\theza\\Documents\\Uni\\MIT\\2019\\TP\\Project\\Meal-Compliance-Project\\Additional-Data-Creator\\Output\\Annotations\\5r.png\n",
      "C:\\Users\\theza\\Documents\\Uni\\MIT\\2019\\TP\\Project\\Meal-Compliance-Project\\Additional-Data-Creator\\Output\\Images\\6r.jpg\n",
      "C:\\Users\\theza\\Documents\\Uni\\MIT\\2019\\TP\\Project\\Meal-Compliance-Project\\Additional-Data-Creator\\Output\\Annotations\\6r.png\n",
      "Applying filter 's' to input\n"
     ]
    },
    {
     "name": "stderr",
     "output_type": "stream",
     "text": [
      "Lossy conversion from int32 to uint8. Range [0, 12]. Convert image to uint8 prior to saving to suppress this warning.\n"
     ]
    },
    {
     "name": "stdout",
     "output_type": "stream",
     "text": [
      "Saving output of filter 's'\n",
      "C:\\Users\\theza\\Documents\\Uni\\MIT\\2019\\TP\\Project\\Meal-Compliance-Project\\Additional-Data-Creator\\Output\\Images\\1s.jpg\n",
      "C:\\Users\\theza\\Documents\\Uni\\MIT\\2019\\TP\\Project\\Meal-Compliance-Project\\Additional-Data-Creator\\Output\\Annotations\\1s.png\n"
     ]
    },
    {
     "name": "stderr",
     "output_type": "stream",
     "text": [
      "Lossy conversion from int32 to uint8. Range [0, 12]. Convert image to uint8 prior to saving to suppress this warning.\n",
      "Lossy conversion from int32 to uint8. Range [0, 12]. Convert image to uint8 prior to saving to suppress this warning.\n"
     ]
    },
    {
     "name": "stdout",
     "output_type": "stream",
     "text": [
      "C:\\Users\\theza\\Documents\\Uni\\MIT\\2019\\TP\\Project\\Meal-Compliance-Project\\Additional-Data-Creator\\Output\\Images\\2s.jpg\n",
      "C:\\Users\\theza\\Documents\\Uni\\MIT\\2019\\TP\\Project\\Meal-Compliance-Project\\Additional-Data-Creator\\Output\\Annotations\\2s.png\n",
      "C:\\Users\\theza\\Documents\\Uni\\MIT\\2019\\TP\\Project\\Meal-Compliance-Project\\Additional-Data-Creator\\Output\\Images\\3s.jpg\n"
     ]
    },
    {
     "name": "stderr",
     "output_type": "stream",
     "text": [
      "Lossy conversion from int32 to uint8. Range [0, 12]. Convert image to uint8 prior to saving to suppress this warning.\n"
     ]
    },
    {
     "name": "stdout",
     "output_type": "stream",
     "text": [
      "C:\\Users\\theza\\Documents\\Uni\\MIT\\2019\\TP\\Project\\Meal-Compliance-Project\\Additional-Data-Creator\\Output\\Annotations\\3s.png\n",
      "C:\\Users\\theza\\Documents\\Uni\\MIT\\2019\\TP\\Project\\Meal-Compliance-Project\\Additional-Data-Creator\\Output\\Images\\4s.jpg\n",
      "C:\\Users\\theza\\Documents\\Uni\\MIT\\2019\\TP\\Project\\Meal-Compliance-Project\\Additional-Data-Creator\\Output\\Annotations\\4s.png\n"
     ]
    },
    {
     "name": "stderr",
     "output_type": "stream",
     "text": [
      "Lossy conversion from int32 to uint8. Range [0, 12]. Convert image to uint8 prior to saving to suppress this warning.\n",
      "Lossy conversion from int32 to uint8. Range [0, 12]. Convert image to uint8 prior to saving to suppress this warning.\n"
     ]
    },
    {
     "name": "stdout",
     "output_type": "stream",
     "text": [
      "C:\\Users\\theza\\Documents\\Uni\\MIT\\2019\\TP\\Project\\Meal-Compliance-Project\\Additional-Data-Creator\\Output\\Images\\5s.jpg\n",
      "C:\\Users\\theza\\Documents\\Uni\\MIT\\2019\\TP\\Project\\Meal-Compliance-Project\\Additional-Data-Creator\\Output\\Annotations\\5s.png\n",
      "C:\\Users\\theza\\Documents\\Uni\\MIT\\2019\\TP\\Project\\Meal-Compliance-Project\\Additional-Data-Creator\\Output\\Images\\6s.jpg\n",
      "C:\\Users\\theza\\Documents\\Uni\\MIT\\2019\\TP\\Project\\Meal-Compliance-Project\\Additional-Data-Creator\\Output\\Annotations\\6s.png\n",
      "Applying filter 't' to input\n"
     ]
    },
    {
     "name": "stderr",
     "output_type": "stream",
     "text": [
      "Lossy conversion from int32 to uint8. Range [0, 12]. Convert image to uint8 prior to saving to suppress this warning.\n"
     ]
    },
    {
     "name": "stdout",
     "output_type": "stream",
     "text": [
      "Saving output of filter 't'\n",
      "C:\\Users\\theza\\Documents\\Uni\\MIT\\2019\\TP\\Project\\Meal-Compliance-Project\\Additional-Data-Creator\\Output\\Images\\1t.jpg\n"
     ]
    },
    {
     "name": "stderr",
     "output_type": "stream",
     "text": [
      "Lossy conversion from int32 to uint8. Range [0, 12]. Convert image to uint8 prior to saving to suppress this warning.\n"
     ]
    },
    {
     "name": "stdout",
     "output_type": "stream",
     "text": [
      "C:\\Users\\theza\\Documents\\Uni\\MIT\\2019\\TP\\Project\\Meal-Compliance-Project\\Additional-Data-Creator\\Output\\Annotations\\1t.png\n",
      "C:\\Users\\theza\\Documents\\Uni\\MIT\\2019\\TP\\Project\\Meal-Compliance-Project\\Additional-Data-Creator\\Output\\Images\\2t.jpg\n",
      "C:\\Users\\theza\\Documents\\Uni\\MIT\\2019\\TP\\Project\\Meal-Compliance-Project\\Additional-Data-Creator\\Output\\Annotations\\2t.png\n"
     ]
    },
    {
     "name": "stderr",
     "output_type": "stream",
     "text": [
      "Lossy conversion from int32 to uint8. Range [0, 12]. Convert image to uint8 prior to saving to suppress this warning.\n"
     ]
    },
    {
     "name": "stdout",
     "output_type": "stream",
     "text": [
      "C:\\Users\\theza\\Documents\\Uni\\MIT\\2019\\TP\\Project\\Meal-Compliance-Project\\Additional-Data-Creator\\Output\\Images\\3t.jpg\n",
      "C:\\Users\\theza\\Documents\\Uni\\MIT\\2019\\TP\\Project\\Meal-Compliance-Project\\Additional-Data-Creator\\Output\\Annotations\\3t.png\n"
     ]
    },
    {
     "name": "stderr",
     "output_type": "stream",
     "text": [
      "Lossy conversion from int32 to uint8. Range [0, 12]. Convert image to uint8 prior to saving to suppress this warning.\n"
     ]
    },
    {
     "name": "stdout",
     "output_type": "stream",
     "text": [
      "C:\\Users\\theza\\Documents\\Uni\\MIT\\2019\\TP\\Project\\Meal-Compliance-Project\\Additional-Data-Creator\\Output\\Images\\4t.jpg\n",
      "C:\\Users\\theza\\Documents\\Uni\\MIT\\2019\\TP\\Project\\Meal-Compliance-Project\\Additional-Data-Creator\\Output\\Annotations\\4t.png\n"
     ]
    },
    {
     "name": "stderr",
     "output_type": "stream",
     "text": [
      "Lossy conversion from int32 to uint8. Range [0, 12]. Convert image to uint8 prior to saving to suppress this warning.\n"
     ]
    },
    {
     "name": "stdout",
     "output_type": "stream",
     "text": [
      "C:\\Users\\theza\\Documents\\Uni\\MIT\\2019\\TP\\Project\\Meal-Compliance-Project\\Additional-Data-Creator\\Output\\Images\\5t.jpg\n"
     ]
    },
    {
     "name": "stderr",
     "output_type": "stream",
     "text": [
      "Lossy conversion from int32 to uint8. Range [0, 12]. Convert image to uint8 prior to saving to suppress this warning.\n"
     ]
    },
    {
     "name": "stdout",
     "output_type": "stream",
     "text": [
      "C:\\Users\\theza\\Documents\\Uni\\MIT\\2019\\TP\\Project\\Meal-Compliance-Project\\Additional-Data-Creator\\Output\\Annotations\\5t.png\n",
      "C:\\Users\\theza\\Documents\\Uni\\MIT\\2019\\TP\\Project\\Meal-Compliance-Project\\Additional-Data-Creator\\Output\\Images\\6t.jpg\n",
      "C:\\Users\\theza\\Documents\\Uni\\MIT\\2019\\TP\\Project\\Meal-Compliance-Project\\Additional-Data-Creator\\Output\\Annotations\\6t.png\n",
      "Applying filter 'u' to input\n"
     ]
    },
    {
     "name": "stderr",
     "output_type": "stream",
     "text": [
      "Lossy conversion from int32 to uint8. Range [0, 12]. Convert image to uint8 prior to saving to suppress this warning.\n",
      "Lossy conversion from int32 to uint8. Range [0, 12]. Convert image to uint8 prior to saving to suppress this warning.\n"
     ]
    },
    {
     "name": "stdout",
     "output_type": "stream",
     "text": [
      "Saving output of filter 'u'\n",
      "C:\\Users\\theza\\Documents\\Uni\\MIT\\2019\\TP\\Project\\Meal-Compliance-Project\\Additional-Data-Creator\\Output\\Images\\1u.jpg\n",
      "C:\\Users\\theza\\Documents\\Uni\\MIT\\2019\\TP\\Project\\Meal-Compliance-Project\\Additional-Data-Creator\\Output\\Annotations\\1u.png\n",
      "C:\\Users\\theza\\Documents\\Uni\\MIT\\2019\\TP\\Project\\Meal-Compliance-Project\\Additional-Data-Creator\\Output\\Images\\2u.jpg\n"
     ]
    },
    {
     "name": "stderr",
     "output_type": "stream",
     "text": [
      "Lossy conversion from int32 to uint8. Range [0, 12]. Convert image to uint8 prior to saving to suppress this warning.\n",
      "Lossy conversion from int32 to uint8. Range [0, 12]. Convert image to uint8 prior to saving to suppress this warning.\n"
     ]
    },
    {
     "name": "stdout",
     "output_type": "stream",
     "text": [
      "C:\\Users\\theza\\Documents\\Uni\\MIT\\2019\\TP\\Project\\Meal-Compliance-Project\\Additional-Data-Creator\\Output\\Annotations\\2u.png\n",
      "C:\\Users\\theza\\Documents\\Uni\\MIT\\2019\\TP\\Project\\Meal-Compliance-Project\\Additional-Data-Creator\\Output\\Images\\3u.jpg\n",
      "C:\\Users\\theza\\Documents\\Uni\\MIT\\2019\\TP\\Project\\Meal-Compliance-Project\\Additional-Data-Creator\\Output\\Annotations\\3u.png\n",
      "C:\\Users\\theza\\Documents\\Uni\\MIT\\2019\\TP\\Project\\Meal-Compliance-Project\\Additional-Data-Creator\\Output\\Images\\4u.jpg\n"
     ]
    },
    {
     "name": "stderr",
     "output_type": "stream",
     "text": [
      "Lossy conversion from int32 to uint8. Range [0, 11]. Convert image to uint8 prior to saving to suppress this warning.\n",
      "Lossy conversion from int32 to uint8. Range [0, 12]. Convert image to uint8 prior to saving to suppress this warning.\n"
     ]
    },
    {
     "name": "stdout",
     "output_type": "stream",
     "text": [
      "C:\\Users\\theza\\Documents\\Uni\\MIT\\2019\\TP\\Project\\Meal-Compliance-Project\\Additional-Data-Creator\\Output\\Annotations\\4u.png\n",
      "C:\\Users\\theza\\Documents\\Uni\\MIT\\2019\\TP\\Project\\Meal-Compliance-Project\\Additional-Data-Creator\\Output\\Images\\5u.jpg\n",
      "C:\\Users\\theza\\Documents\\Uni\\MIT\\2019\\TP\\Project\\Meal-Compliance-Project\\Additional-Data-Creator\\Output\\Annotations\\5u.png\n",
      "C:\\Users\\theza\\Documents\\Uni\\MIT\\2019\\TP\\Project\\Meal-Compliance-Project\\Additional-Data-Creator\\Output\\Images\\6u.jpg\n",
      "C:\\Users\\theza\\Documents\\Uni\\MIT\\2019\\TP\\Project\\Meal-Compliance-Project\\Additional-Data-Creator\\Output\\Annotations\\6u.png\n",
      "Applying filter 'v' to input\n"
     ]
    },
    {
     "name": "stderr",
     "output_type": "stream",
     "text": [
      "Lossy conversion from int32 to uint8. Range [0, 12]. Convert image to uint8 prior to saving to suppress this warning.\n"
     ]
    },
    {
     "name": "stdout",
     "output_type": "stream",
     "text": [
      "Saving output of filter 'v'\n",
      "C:\\Users\\theza\\Documents\\Uni\\MIT\\2019\\TP\\Project\\Meal-Compliance-Project\\Additional-Data-Creator\\Output\\Images\\1v.jpg\n",
      "C:\\Users\\theza\\Documents\\Uni\\MIT\\2019\\TP\\Project\\Meal-Compliance-Project\\Additional-Data-Creator\\Output\\Annotations\\1v.png\n"
     ]
    },
    {
     "name": "stderr",
     "output_type": "stream",
     "text": [
      "Lossy conversion from int32 to uint8. Range [0, 12]. Convert image to uint8 prior to saving to suppress this warning.\n"
     ]
    },
    {
     "name": "stdout",
     "output_type": "stream",
     "text": [
      "C:\\Users\\theza\\Documents\\Uni\\MIT\\2019\\TP\\Project\\Meal-Compliance-Project\\Additional-Data-Creator\\Output\\Images\\2v.jpg\n",
      "C:\\Users\\theza\\Documents\\Uni\\MIT\\2019\\TP\\Project\\Meal-Compliance-Project\\Additional-Data-Creator\\Output\\Annotations\\2v.png\n"
     ]
    },
    {
     "name": "stderr",
     "output_type": "stream",
     "text": [
      "Lossy conversion from int32 to uint8. Range [0, 12]. Convert image to uint8 prior to saving to suppress this warning.\n",
      "Lossy conversion from int32 to uint8. Range [0, 12]. Convert image to uint8 prior to saving to suppress this warning.\n"
     ]
    },
    {
     "name": "stdout",
     "output_type": "stream",
     "text": [
      "C:\\Users\\theza\\Documents\\Uni\\MIT\\2019\\TP\\Project\\Meal-Compliance-Project\\Additional-Data-Creator\\Output\\Images\\3v.jpg\n",
      "C:\\Users\\theza\\Documents\\Uni\\MIT\\2019\\TP\\Project\\Meal-Compliance-Project\\Additional-Data-Creator\\Output\\Annotations\\3v.png\n",
      "C:\\Users\\theza\\Documents\\Uni\\MIT\\2019\\TP\\Project\\Meal-Compliance-Project\\Additional-Data-Creator\\Output\\Images\\4v.jpg\n"
     ]
    },
    {
     "name": "stderr",
     "output_type": "stream",
     "text": [
      "Lossy conversion from int32 to uint8. Range [0, 12]. Convert image to uint8 prior to saving to suppress this warning.\n"
     ]
    },
    {
     "name": "stdout",
     "output_type": "stream",
     "text": [
      "C:\\Users\\theza\\Documents\\Uni\\MIT\\2019\\TP\\Project\\Meal-Compliance-Project\\Additional-Data-Creator\\Output\\Annotations\\4v.png\n",
      "C:\\Users\\theza\\Documents\\Uni\\MIT\\2019\\TP\\Project\\Meal-Compliance-Project\\Additional-Data-Creator\\Output\\Images\\5v.jpg\n",
      "C:\\Users\\theza\\Documents\\Uni\\MIT\\2019\\TP\\Project\\Meal-Compliance-Project\\Additional-Data-Creator\\Output\\Annotations\\5v.png\n"
     ]
    },
    {
     "name": "stderr",
     "output_type": "stream",
     "text": [
      "Lossy conversion from int32 to uint8. Range [0, 12]. Convert image to uint8 prior to saving to suppress this warning.\n"
     ]
    },
    {
     "name": "stdout",
     "output_type": "stream",
     "text": [
      "C:\\Users\\theza\\Documents\\Uni\\MIT\\2019\\TP\\Project\\Meal-Compliance-Project\\Additional-Data-Creator\\Output\\Images\\6v.jpg\n",
      "C:\\Users\\theza\\Documents\\Uni\\MIT\\2019\\TP\\Project\\Meal-Compliance-Project\\Additional-Data-Creator\\Output\\Annotations\\6v.png\n",
      "Applying filter 'w' to input\n"
     ]
    },
    {
     "name": "stderr",
     "output_type": "stream",
     "text": [
      "Lossy conversion from int32 to uint8. Range [0, 12]. Convert image to uint8 prior to saving to suppress this warning.\n"
     ]
    },
    {
     "name": "stdout",
     "output_type": "stream",
     "text": [
      "Saving output of filter 'w'\n",
      "C:\\Users\\theza\\Documents\\Uni\\MIT\\2019\\TP\\Project\\Meal-Compliance-Project\\Additional-Data-Creator\\Output\\Images\\1w.jpg\n"
     ]
    },
    {
     "name": "stderr",
     "output_type": "stream",
     "text": [
      "Lossy conversion from int32 to uint8. Range [0, 12]. Convert image to uint8 prior to saving to suppress this warning.\n"
     ]
    },
    {
     "name": "stdout",
     "output_type": "stream",
     "text": [
      "C:\\Users\\theza\\Documents\\Uni\\MIT\\2019\\TP\\Project\\Meal-Compliance-Project\\Additional-Data-Creator\\Output\\Annotations\\1w.png\n",
      "C:\\Users\\theza\\Documents\\Uni\\MIT\\2019\\TP\\Project\\Meal-Compliance-Project\\Additional-Data-Creator\\Output\\Images\\2w.jpg\n",
      "C:\\Users\\theza\\Documents\\Uni\\MIT\\2019\\TP\\Project\\Meal-Compliance-Project\\Additional-Data-Creator\\Output\\Annotations\\2w.png"
     ]
    },
    {
     "name": "stderr",
     "output_type": "stream",
     "text": [
      "Lossy conversion from int32 to uint8. Range [0, 12]. Convert image to uint8 prior to saving to suppress this warning.\n"
     ]
    },
    {
     "name": "stdout",
     "output_type": "stream",
     "text": [
      "\n",
      "C:\\Users\\theza\\Documents\\Uni\\MIT\\2019\\TP\\Project\\Meal-Compliance-Project\\Additional-Data-Creator\\Output\\Images\\3w.jpg\n",
      "C:\\Users\\theza\\Documents\\Uni\\MIT\\2019\\TP\\Project\\Meal-Compliance-Project\\Additional-Data-Creator\\Output\\Annotations\\3w.png\n"
     ]
    },
    {
     "name": "stderr",
     "output_type": "stream",
     "text": [
      "Lossy conversion from int32 to uint8. Range [0, 12]. Convert image to uint8 prior to saving to suppress this warning.\n",
      "Lossy conversion from int32 to uint8. Range [0, 12]. Convert image to uint8 prior to saving to suppress this warning.\n"
     ]
    },
    {
     "name": "stdout",
     "output_type": "stream",
     "text": [
      "C:\\Users\\theza\\Documents\\Uni\\MIT\\2019\\TP\\Project\\Meal-Compliance-Project\\Additional-Data-Creator\\Output\\Images\\4w.jpg\n",
      "C:\\Users\\theza\\Documents\\Uni\\MIT\\2019\\TP\\Project\\Meal-Compliance-Project\\Additional-Data-Creator\\Output\\Annotations\\4w.png\n",
      "C:\\Users\\theza\\Documents\\Uni\\MIT\\2019\\TP\\Project\\Meal-Compliance-Project\\Additional-Data-Creator\\Output\\Images\\5w.jpg\n"
     ]
    },
    {
     "name": "stderr",
     "output_type": "stream",
     "text": [
      "Lossy conversion from int32 to uint8. Range [0, 12]. Convert image to uint8 prior to saving to suppress this warning.\n"
     ]
    },
    {
     "name": "stdout",
     "output_type": "stream",
     "text": [
      "C:\\Users\\theza\\Documents\\Uni\\MIT\\2019\\TP\\Project\\Meal-Compliance-Project\\Additional-Data-Creator\\Output\\Annotations\\5w.png\n",
      "C:\\Users\\theza\\Documents\\Uni\\MIT\\2019\\TP\\Project\\Meal-Compliance-Project\\Additional-Data-Creator\\Output\\Images\\6w.jpg\n",
      "C:\\Users\\theza\\Documents\\Uni\\MIT\\2019\\TP\\Project\\Meal-Compliance-Project\\Additional-Data-Creator\\Output\\Annotations\\6w.png\n",
      "Applying filter 'x' to input\n"
     ]
    },
    {
     "name": "stderr",
     "output_type": "stream",
     "text": [
      "Lossy conversion from int32 to uint8. Range [0, 12]. Convert image to uint8 prior to saving to suppress this warning.\n"
     ]
    },
    {
     "name": "stdout",
     "output_type": "stream",
     "text": [
      "Saving output of filter 'x'\n",
      "C:\\Users\\theza\\Documents\\Uni\\MIT\\2019\\TP\\Project\\Meal-Compliance-Project\\Additional-Data-Creator\\Output\\Images\\1x.jpg\n",
      "C:\\Users\\theza\\Documents\\Uni\\MIT\\2019\\TP\\Project\\Meal-Compliance-Project\\Additional-Data-Creator\\Output\\Annotations\\1x.png\n"
     ]
    },
    {
     "name": "stderr",
     "output_type": "stream",
     "text": [
      "Lossy conversion from int32 to uint8. Range [0, 12]. Convert image to uint8 prior to saving to suppress this warning.\n"
     ]
    },
    {
     "name": "stdout",
     "output_type": "stream",
     "text": [
      "C:\\Users\\theza\\Documents\\Uni\\MIT\\2019\\TP\\Project\\Meal-Compliance-Project\\Additional-Data-Creator\\Output\\Images\\2x.jpg\n",
      "C:\\Users\\theza\\Documents\\Uni\\MIT\\2019\\TP\\Project\\Meal-Compliance-Project\\Additional-Data-Creator\\Output\\Annotations\\2x.png\n",
      "C:\\Users\\theza\\Documents\\Uni\\MIT\\2019\\TP\\Project\\Meal-Compliance-Project\\Additional-Data-Creator\\Output\\Images\\3x.jpg"
     ]
    },
    {
     "name": "stderr",
     "output_type": "stream",
     "text": [
      "Lossy conversion from int32 to uint8. Range [0, 12]. Convert image to uint8 prior to saving to suppress this warning.\n",
      "Lossy conversion from int32 to uint8. Range [0, 12]. Convert image to uint8 prior to saving to suppress this warning.\n"
     ]
    },
    {
     "name": "stdout",
     "output_type": "stream",
     "text": [
      "\n",
      "C:\\Users\\theza\\Documents\\Uni\\MIT\\2019\\TP\\Project\\Meal-Compliance-Project\\Additional-Data-Creator\\Output\\Annotations\\3x.png\n",
      "C:\\Users\\theza\\Documents\\Uni\\MIT\\2019\\TP\\Project\\Meal-Compliance-Project\\Additional-Data-Creator\\Output\\Images\\4x.jpg\n"
     ]
    },
    {
     "name": "stderr",
     "output_type": "stream",
     "text": [
      "Lossy conversion from int32 to uint8. Range [0, 12]. Convert image to uint8 prior to saving to suppress this warning.\n"
     ]
    },
    {
     "name": "stdout",
     "output_type": "stream",
     "text": [
      "C:\\Users\\theza\\Documents\\Uni\\MIT\\2019\\TP\\Project\\Meal-Compliance-Project\\Additional-Data-Creator\\Output\\Annotations\\4x.png\n",
      "C:\\Users\\theza\\Documents\\Uni\\MIT\\2019\\TP\\Project\\Meal-Compliance-Project\\Additional-Data-Creator\\Output\\Images\\5x.jpg\n",
      "C:\\Users\\theza\\Documents\\Uni\\MIT\\2019\\TP\\Project\\Meal-Compliance-Project\\Additional-Data-Creator\\Output\\Annotations\\5x.png\n"
     ]
    },
    {
     "name": "stderr",
     "output_type": "stream",
     "text": [
      "Lossy conversion from int32 to uint8. Range [0, 12]. Convert image to uint8 prior to saving to suppress this warning.\n"
     ]
    },
    {
     "name": "stdout",
     "output_type": "stream",
     "text": [
      "C:\\Users\\theza\\Documents\\Uni\\MIT\\2019\\TP\\Project\\Meal-Compliance-Project\\Additional-Data-Creator\\Output\\Images\\6x.jpg\n",
      "C:\\Users\\theza\\Documents\\Uni\\MIT\\2019\\TP\\Project\\Meal-Compliance-Project\\Additional-Data-Creator\\Output\\Annotations\\6x.png\n",
      "Applying filter 'y' to input\n"
     ]
    },
    {
     "name": "stderr",
     "output_type": "stream",
     "text": [
      "Lossy conversion from int32 to uint8. Range [0, 12]. Convert image to uint8 prior to saving to suppress this warning.\n"
     ]
    },
    {
     "name": "stdout",
     "output_type": "stream",
     "text": [
      "Saving output of filter 'y'\n",
      "C:\\Users\\theza\\Documents\\Uni\\MIT\\2019\\TP\\Project\\Meal-Compliance-Project\\Additional-Data-Creator\\Output\\Images\\1y.jpg\n",
      "C:\\Users\\theza\\Documents\\Uni\\MIT\\2019\\TP\\Project\\Meal-Compliance-Project\\Additional-Data-Creator\\Output\\Annotations\\1y.png\n",
      "C:\\Users\\theza\\Documents\\Uni\\MIT\\2019\\TP\\Project\\Meal-Compliance-Project\\Additional-Data-Creator\\Output\\Images\\2y.jpg\n"
     ]
    },
    {
     "name": "stderr",
     "output_type": "stream",
     "text": [
      "Lossy conversion from int32 to uint8. Range [0, 12]. Convert image to uint8 prior to saving to suppress this warning.\n",
      "Lossy conversion from int32 to uint8. Range [0, 12]. Convert image to uint8 prior to saving to suppress this warning.\n",
      "Lossy conversion from int32 to uint8. Range [0, 12]. Convert image to uint8 prior to saving to suppress this warning.\n"
     ]
    },
    {
     "name": "stdout",
     "output_type": "stream",
     "text": [
      "C:\\Users\\theza\\Documents\\Uni\\MIT\\2019\\TP\\Project\\Meal-Compliance-Project\\Additional-Data-Creator\\Output\\Annotations\\2y.png\n",
      "C:\\Users\\theza\\Documents\\Uni\\MIT\\2019\\TP\\Project\\Meal-Compliance-Project\\Additional-Data-Creator\\Output\\Images\\3y.jpg\n",
      "C:\\Users\\theza\\Documents\\Uni\\MIT\\2019\\TP\\Project\\Meal-Compliance-Project\\Additional-Data-Creator\\Output\\Annotations\\3y.png\n",
      "C:\\Users\\theza\\Documents\\Uni\\MIT\\2019\\TP\\Project\\Meal-Compliance-Project\\Additional-Data-Creator\\Output\\Images\\4y.jpg\n"
     ]
    },
    {
     "name": "stderr",
     "output_type": "stream",
     "text": [
      "Lossy conversion from int32 to uint8. Range [0, 12]. Convert image to uint8 prior to saving to suppress this warning.\n"
     ]
    },
    {
     "name": "stdout",
     "output_type": "stream",
     "text": [
      "C:\\Users\\theza\\Documents\\Uni\\MIT\\2019\\TP\\Project\\Meal-Compliance-Project\\Additional-Data-Creator\\Output\\Annotations\\4y.png\n",
      "C:\\Users\\theza\\Documents\\Uni\\MIT\\2019\\TP\\Project\\Meal-Compliance-Project\\Additional-Data-Creator\\Output\\Images\\5y.jpg\n"
     ]
    },
    {
     "name": "stderr",
     "output_type": "stream",
     "text": [
      "Lossy conversion from int32 to uint8. Range [0, 12]. Convert image to uint8 prior to saving to suppress this warning.\n"
     ]
    },
    {
     "name": "stdout",
     "output_type": "stream",
     "text": [
      "C:\\Users\\theza\\Documents\\Uni\\MIT\\2019\\TP\\Project\\Meal-Compliance-Project\\Additional-Data-Creator\\Output\\Annotations\\5y.png\n",
      "C:\\Users\\theza\\Documents\\Uni\\MIT\\2019\\TP\\Project\\Meal-Compliance-Project\\Additional-Data-Creator\\Output\\Images\\6y.jpg\n",
      "C:\\Users\\theza\\Documents\\Uni\\MIT\\2019\\TP\\Project\\Meal-Compliance-Project\\Additional-Data-Creator\\Output\\Annotations\\6y.png\n",
      "Applying filter 'z' to input\n"
     ]
    },
    {
     "name": "stderr",
     "output_type": "stream",
     "text": [
      "Lossy conversion from int32 to uint8. Range [0, 12]. Convert image to uint8 prior to saving to suppress this warning.\n"
     ]
    },
    {
     "name": "stdout",
     "output_type": "stream",
     "text": [
      "Saving output of filter 'z'\n",
      "C:\\Users\\theza\\Documents\\Uni\\MIT\\2019\\TP\\Project\\Meal-Compliance-Project\\Additional-Data-Creator\\Output\\Images\\1z.jpg\n"
     ]
    },
    {
     "name": "stderr",
     "output_type": "stream",
     "text": [
      "Lossy conversion from int32 to uint8. Range [0, 12]. Convert image to uint8 prior to saving to suppress this warning.\n"
     ]
    },
    {
     "name": "stdout",
     "output_type": "stream",
     "text": [
      "C:\\Users\\theza\\Documents\\Uni\\MIT\\2019\\TP\\Project\\Meal-Compliance-Project\\Additional-Data-Creator\\Output\\Annotations\\1z.png\n",
      "C:\\Users\\theza\\Documents\\Uni\\MIT\\2019\\TP\\Project\\Meal-Compliance-Project\\Additional-Data-Creator\\Output\\Images\\2z.jpg\n",
      "C:\\Users\\theza\\Documents\\Uni\\MIT\\2019\\TP\\Project\\Meal-Compliance-Project\\Additional-Data-Creator\\Output\\Annotations\\2z.png\n"
     ]
    },
    {
     "name": "stderr",
     "output_type": "stream",
     "text": [
      "Lossy conversion from int32 to uint8. Range [0, 12]. Convert image to uint8 prior to saving to suppress this warning.\n"
     ]
    },
    {
     "name": "stdout",
     "output_type": "stream",
     "text": [
      "C:\\Users\\theza\\Documents\\Uni\\MIT\\2019\\TP\\Project\\Meal-Compliance-Project\\Additional-Data-Creator\\Output\\Images\\3z.jpg\n",
      "C:\\Users\\theza\\Documents\\Uni\\MIT\\2019\\TP\\Project\\Meal-Compliance-Project\\Additional-Data-Creator\\Output\\Annotations\\3z.png\n",
      "C:\\Users\\theza\\Documents\\Uni\\MIT\\2019\\TP\\Project\\Meal-Compliance-Project\\Additional-Data-Creator\\Output\\Images\\4z.jpg\n"
     ]
    },
    {
     "name": "stderr",
     "output_type": "stream",
     "text": [
      "Lossy conversion from int32 to uint8. Range [0, 12]. Convert image to uint8 prior to saving to suppress this warning.\n",
      "Lossy conversion from int32 to uint8. Range [0, 12]. Convert image to uint8 prior to saving to suppress this warning.\n"
     ]
    },
    {
     "name": "stdout",
     "output_type": "stream",
     "text": [
      "C:\\Users\\theza\\Documents\\Uni\\MIT\\2019\\TP\\Project\\Meal-Compliance-Project\\Additional-Data-Creator\\Output\\Annotations\\4z.png\n",
      "C:\\Users\\theza\\Documents\\Uni\\MIT\\2019\\TP\\Project\\Meal-Compliance-Project\\Additional-Data-Creator\\Output\\Images\\5z.jpg\n"
     ]
    },
    {
     "name": "stderr",
     "output_type": "stream",
     "text": [
      "Lossy conversion from int32 to uint8. Range [0, 12]. Convert image to uint8 prior to saving to suppress this warning.\n"
     ]
    },
    {
     "name": "stdout",
     "output_type": "stream",
     "text": [
      "C:\\Users\\theza\\Documents\\Uni\\MIT\\2019\\TP\\Project\\Meal-Compliance-Project\\Additional-Data-Creator\\Output\\Annotations\\5z.png\n",
      "C:\\Users\\theza\\Documents\\Uni\\MIT\\2019\\TP\\Project\\Meal-Compliance-Project\\Additional-Data-Creator\\Output\\Images\\6z.jpg\n",
      "C:\\Users\\theza\\Documents\\Uni\\MIT\\2019\\TP\\Project\\Meal-Compliance-Project\\Additional-Data-Creator\\Output\\Annotations\\6z.png\n"
     ]
    }
   ],
   "source": [
    "for key, value in filters.items():\n",
    "    if(value==None):\n",
    "        saveAugmentOutputs(inputImagePairs, filePairPaths, key, dataPaths['OutputImage'],dataPaths['OutputAnnot'])\n",
    "    else:\n",
    "        print('Applying filter \\''+ key +'\\' to input')\n",
    "        outputAugment = []\n",
    "        for tup in inputImagePairs:\n",
    "            outputAugment.append(augment_seg(tup, value))\n",
    "        print('Saving output of filter \\''+ key +'\\'')\n",
    "        saveAugmentOutputs(outputAugment, filePairPaths, key, dataPaths['OutputImage'],dataPaths['OutputAnnot'])\n",
    "        "
   ]
  },
  {
   "cell_type": "code",
   "execution_count": 28,
   "metadata": {},
   "outputs": [
    {
     "name": "stdout",
     "output_type": "stream",
     "text": [
      "Spilliting train and test sets\n"
     ]
    }
   ],
   "source": [
    "from sklearn.model_selection import train_test_split # setting up the test and train data\n",
    "\n",
    "print('Spilliting train and test sets')\n",
    "fileOutputPaths = list(zip(getFilesInDir(dataPaths['OutputImage']), getFilesInDir(dataPaths['OutputAnnot'])))\n",
    "df = pd.DataFrame(fileOutputPaths, columns=['X', 'y'])\n",
    "X = df['X']\n",
    "y = df['y']"
   ]
  },
  {
   "cell_type": "code",
   "execution_count": 29,
   "metadata": {},
   "outputs": [],
   "source": [
    "X_train, X_test, y_train, y_test = train_test_split(X, y, test_size=0.33, random_state=0)"
   ]
  },
  {
   "cell_type": "code",
   "execution_count": 30,
   "metadata": {},
   "outputs": [],
   "source": [
    "from shutil import copyfile\n",
    "import errno\n",
    "\n",
    "def copyFileToDir(df, path):\n",
    "    for file in df.values:\n",
    "        print(file)\n",
    "        dest = path+'\\\\'\n",
    "        print(dest)\n",
    "        dest = dest+path_leaf(file)\n",
    "        os.makedirs(os.path.dirname(dest), exist_ok=True)\n",
    "        copyfile(file, dest)"
   ]
  },
  {
   "cell_type": "code",
   "execution_count": 31,
   "metadata": {},
   "outputs": [
    {
     "name": "stdout",
     "output_type": "stream",
     "text": [
      "Copying train/test output\n",
      "C:\\Users\\theza\\Documents\\Uni\\MIT\\2019\\TP\\Project\\Meal-Compliance-Project\\Additional-Data-Creator\\Output\\Images\\1k.jpg\n",
      "C:\\Users\\theza\\Documents\\Uni\\MIT\\2019\\TP\\Project\\Meal-Compliance-Project\\Additional-Data-Creator\\OutputData\\XTrain\\\n",
      "C:\\Users\\theza\\Documents\\Uni\\MIT\\2019\\TP\\Project\\Meal-Compliance-Project\\Additional-Data-Creator\\Output\\Images\\6x.jpg\n",
      "C:\\Users\\theza\\Documents\\Uni\\MIT\\2019\\TP\\Project\\Meal-Compliance-Project\\Additional-Data-Creator\\OutputData\\XTrain\\\n",
      "C:\\Users\\theza\\Documents\\Uni\\MIT\\2019\\TP\\Project\\Meal-Compliance-Project\\Additional-Data-Creator\\Output\\Images\\5z.jpg\n",
      "C:\\Users\\theza\\Documents\\Uni\\MIT\\2019\\TP\\Project\\Meal-Compliance-Project\\Additional-Data-Creator\\OutputData\\XTrain\\\n",
      "C:\\Users\\theza\\Documents\\Uni\\MIT\\2019\\TP\\Project\\Meal-Compliance-Project\\Additional-Data-Creator\\Output\\Images\\6u.jpg\n",
      "C:\\Users\\theza\\Documents\\Uni\\MIT\\2019\\TP\\Project\\Meal-Compliance-Project\\Additional-Data-Creator\\OutputData\\XTrain\\\n",
      "C:\\Users\\theza\\Documents\\Uni\\MIT\\2019\\TP\\Project\\Meal-Compliance-Project\\Additional-Data-Creator\\Output\\Images\\6n.jpg\n",
      "C:\\Users\\theza\\Documents\\Uni\\MIT\\2019\\TP\\Project\\Meal-Compliance-Project\\Additional-Data-Creator\\OutputData\\XTrain\\\n",
      "C:\\Users\\theza\\Documents\\Uni\\MIT\\2019\\TP\\Project\\Meal-Compliance-Project\\Additional-Data-Creator\\Output\\Images\\3l.jpg\n",
      "C:\\Users\\theza\\Documents\\Uni\\MIT\\2019\\TP\\Project\\Meal-Compliance-Project\\Additional-Data-Creator\\OutputData\\XTrain\\\n",
      "C:\\Users\\theza\\Documents\\Uni\\MIT\\2019\\TP\\Project\\Meal-Compliance-Project\\Additional-Data-Creator\\Output\\Images\\5v.jpg\n",
      "C:\\Users\\theza\\Documents\\Uni\\MIT\\2019\\TP\\Project\\Meal-Compliance-Project\\Additional-Data-Creator\\OutputData\\XTrain\\\n",
      "C:\\Users\\theza\\Documents\\Uni\\MIT\\2019\\TP\\Project\\Meal-Compliance-Project\\Additional-Data-Creator\\Output\\Images\\4l.jpg\n",
      "C:\\Users\\theza\\Documents\\Uni\\MIT\\2019\\TP\\Project\\Meal-Compliance-Project\\Additional-Data-Creator\\OutputData\\XTrain\\\n",
      "C:\\Users\\theza\\Documents\\Uni\\MIT\\2019\\TP\\Project\\Meal-Compliance-Project\\Additional-Data-Creator\\Output\\Images\\6l.jpg\n",
      "C:\\Users\\theza\\Documents\\Uni\\MIT\\2019\\TP\\Project\\Meal-Compliance-Project\\Additional-Data-Creator\\OutputData\\XTrain\\\n",
      "C:\\Users\\theza\\Documents\\Uni\\MIT\\2019\\TP\\Project\\Meal-Compliance-Project\\Additional-Data-Creator\\Output\\Images\\4r.jpg\n",
      "C:\\Users\\theza\\Documents\\Uni\\MIT\\2019\\TP\\Project\\Meal-Compliance-Project\\Additional-Data-Creator\\OutputData\\XTrain\\\n",
      "C:\\Users\\theza\\Documents\\Uni\\MIT\\2019\\TP\\Project\\Meal-Compliance-Project\\Additional-Data-Creator\\Output\\Images\\6b.jpg\n",
      "C:\\Users\\theza\\Documents\\Uni\\MIT\\2019\\TP\\Project\\Meal-Compliance-Project\\Additional-Data-Creator\\OutputData\\XTrain\\\n",
      "C:\\Users\\theza\\Documents\\Uni\\MIT\\2019\\TP\\Project\\Meal-Compliance-Project\\Additional-Data-Creator\\Output\\Images\\3v.jpg\n",
      "C:\\Users\\theza\\Documents\\Uni\\MIT\\2019\\TP\\Project\\Meal-Compliance-Project\\Additional-Data-Creator\\OutputData\\XTrain\\\n",
      "C:\\Users\\theza\\Documents\\Uni\\MIT\\2019\\TP\\Project\\Meal-Compliance-Project\\Additional-Data-Creator\\Output\\Images\\6y.jpg\n",
      "C:\\Users\\theza\\Documents\\Uni\\MIT\\2019\\TP\\Project\\Meal-Compliance-Project\\Additional-Data-Creator\\OutputData\\XTrain\\\n",
      "C:\\Users\\theza\\Documents\\Uni\\MIT\\2019\\TP\\Project\\Meal-Compliance-Project\\Additional-Data-Creator\\Output\\Images\\5q.jpg\n",
      "C:\\Users\\theza\\Documents\\Uni\\MIT\\2019\\TP\\Project\\Meal-Compliance-Project\\Additional-Data-Creator\\OutputData\\XTrain\\\n",
      "C:\\Users\\theza\\Documents\\Uni\\MIT\\2019\\TP\\Project\\Meal-Compliance-Project\\Additional-Data-Creator\\Output\\Images\\2y.jpg\n",
      "C:\\Users\\theza\\Documents\\Uni\\MIT\\2019\\TP\\Project\\Meal-Compliance-Project\\Additional-Data-Creator\\OutputData\\XTrain\\\n",
      "C:\\Users\\theza\\Documents\\Uni\\MIT\\2019\\TP\\Project\\Meal-Compliance-Project\\Additional-Data-Creator\\Output\\Images\\4p.jpg\n",
      "C:\\Users\\theza\\Documents\\Uni\\MIT\\2019\\TP\\Project\\Meal-Compliance-Project\\Additional-Data-Creator\\OutputData\\XTrain\\\n",
      "C:\\Users\\theza\\Documents\\Uni\\MIT\\2019\\TP\\Project\\Meal-Compliance-Project\\Additional-Data-Creator\\Output\\Images\\3m.jpg\n",
      "C:\\Users\\theza\\Documents\\Uni\\MIT\\2019\\TP\\Project\\Meal-Compliance-Project\\Additional-Data-Creator\\OutputData\\XTrain\\\n",
      "C:\\Users\\theza\\Documents\\Uni\\MIT\\2019\\TP\\Project\\Meal-Compliance-Project\\Additional-Data-Creator\\Output\\Images\\4u.jpg\n",
      "C:\\Users\\theza\\Documents\\Uni\\MIT\\2019\\TP\\Project\\Meal-Compliance-Project\\Additional-Data-Creator\\OutputData\\XTrain\\\n",
      "C:\\Users\\theza\\Documents\\Uni\\MIT\\2019\\TP\\Project\\Meal-Compliance-Project\\Additional-Data-Creator\\Output\\Images\\4w.jpg\n",
      "C:\\Users\\theza\\Documents\\Uni\\MIT\\2019\\TP\\Project\\Meal-Compliance-Project\\Additional-Data-Creator\\OutputData\\XTrain\\\n",
      "C:\\Users\\theza\\Documents\\Uni\\MIT\\2019\\TP\\Project\\Meal-Compliance-Project\\Additional-Data-Creator\\Output\\Images\\3r.jpg\n",
      "C:\\Users\\theza\\Documents\\Uni\\MIT\\2019\\TP\\Project\\Meal-Compliance-Project\\Additional-Data-Creator\\OutputData\\XTrain\\\n",
      "C:\\Users\\theza\\Documents\\Uni\\MIT\\2019\\TP\\Project\\Meal-Compliance-Project\\Additional-Data-Creator\\Output\\Images\\2x.jpg\n",
      "C:\\Users\\theza\\Documents\\Uni\\MIT\\2019\\TP\\Project\\Meal-Compliance-Project\\Additional-Data-Creator\\OutputData\\XTrain\\\n",
      "C:\\Users\\theza\\Documents\\Uni\\MIT\\2019\\TP\\Project\\Meal-Compliance-Project\\Additional-Data-Creator\\Output\\Images\\2w.jpg\n",
      "C:\\Users\\theza\\Documents\\Uni\\MIT\\2019\\TP\\Project\\Meal-Compliance-Project\\Additional-Data-Creator\\OutputData\\XTrain\\\n",
      "C:\\Users\\theza\\Documents\\Uni\\MIT\\2019\\TP\\Project\\Meal-Compliance-Project\\Additional-Data-Creator\\Output\\Images\\1n.jpg\n",
      "C:\\Users\\theza\\Documents\\Uni\\MIT\\2019\\TP\\Project\\Meal-Compliance-Project\\Additional-Data-Creator\\OutputData\\XTrain\\\n",
      "C:\\Users\\theza\\Documents\\Uni\\MIT\\2019\\TP\\Project\\Meal-Compliance-Project\\Additional-Data-Creator\\Output\\Images\\5t.jpg\n",
      "C:\\Users\\theza\\Documents\\Uni\\MIT\\2019\\TP\\Project\\Meal-Compliance-Project\\Additional-Data-Creator\\OutputData\\XTrain\\\n",
      "C:\\Users\\theza\\Documents\\Uni\\MIT\\2019\\TP\\Project\\Meal-Compliance-Project\\Additional-Data-Creator\\Output\\Images\\5g.jpg\n",
      "C:\\Users\\theza\\Documents\\Uni\\MIT\\2019\\TP\\Project\\Meal-Compliance-Project\\Additional-Data-Creator\\OutputData\\XTrain\\\n",
      "C:\\Users\\theza\\Documents\\Uni\\MIT\\2019\\TP\\Project\\Meal-Compliance-Project\\Additional-Data-Creator\\Output\\Images\\1u.jpg\n",
      "C:\\Users\\theza\\Documents\\Uni\\MIT\\2019\\TP\\Project\\Meal-Compliance-Project\\Additional-Data-Creator\\OutputData\\XTrain\\\n",
      "C:\\Users\\theza\\Documents\\Uni\\MIT\\2019\\TP\\Project\\Meal-Compliance-Project\\Additional-Data-Creator\\Output\\Images\\1p.jpg\n",
      "C:\\Users\\theza\\Documents\\Uni\\MIT\\2019\\TP\\Project\\Meal-Compliance-Project\\Additional-Data-Creator\\OutputData\\XTrain\\\n",
      "C:\\Users\\theza\\Documents\\Uni\\MIT\\2019\\TP\\Project\\Meal-Compliance-Project\\Additional-Data-Creator\\Output\\Images\\4a.jpg\n",
      "C:\\Users\\theza\\Documents\\Uni\\MIT\\2019\\TP\\Project\\Meal-Compliance-Project\\Additional-Data-Creator\\OutputData\\XTrain\\\n",
      "C:\\Users\\theza\\Documents\\Uni\\MIT\\2019\\TP\\Project\\Meal-Compliance-Project\\Additional-Data-Creator\\Output\\Images\\3a.jpg\n",
      "C:\\Users\\theza\\Documents\\Uni\\MIT\\2019\\TP\\Project\\Meal-Compliance-Project\\Additional-Data-Creator\\OutputData\\XTrain\\\n",
      "C:\\Users\\theza\\Documents\\Uni\\MIT\\2019\\TP\\Project\\Meal-Compliance-Project\\Additional-Data-Creator\\Output\\Images\\3y.jpg\n",
      "C:\\Users\\theza\\Documents\\Uni\\MIT\\2019\\TP\\Project\\Meal-Compliance-Project\\Additional-Data-Creator\\OutputData\\XTrain\\\n",
      "C:\\Users\\theza\\Documents\\Uni\\MIT\\2019\\TP\\Project\\Meal-Compliance-Project\\Additional-Data-Creator\\Output\\Images\\1d.jpg\n",
      "C:\\Users\\theza\\Documents\\Uni\\MIT\\2019\\TP\\Project\\Meal-Compliance-Project\\Additional-Data-Creator\\OutputData\\XTrain\\\n",
      "C:\\Users\\theza\\Documents\\Uni\\MIT\\2019\\TP\\Project\\Meal-Compliance-Project\\Additional-Data-Creator\\Output\\Images\\6z.jpg\n",
      "C:\\Users\\theza\\Documents\\Uni\\MIT\\2019\\TP\\Project\\Meal-Compliance-Project\\Additional-Data-Creator\\OutputData\\XTrain\\\n",
      "C:\\Users\\theza\\Documents\\Uni\\MIT\\2019\\TP\\Project\\Meal-Compliance-Project\\Additional-Data-Creator\\Output\\Images\\4i.jpg\n",
      "C:\\Users\\theza\\Documents\\Uni\\MIT\\2019\\TP\\Project\\Meal-Compliance-Project\\Additional-Data-Creator\\OutputData\\XTrain\\\n",
      "C:\\Users\\theza\\Documents\\Uni\\MIT\\2019\\TP\\Project\\Meal-Compliance-Project\\Additional-Data-Creator\\Output\\Images\\1g.jpg\n",
      "C:\\Users\\theza\\Documents\\Uni\\MIT\\2019\\TP\\Project\\Meal-Compliance-Project\\Additional-Data-Creator\\OutputData\\XTrain\\\n",
      "C:\\Users\\theza\\Documents\\Uni\\MIT\\2019\\TP\\Project\\Meal-Compliance-Project\\Additional-Data-Creator\\Output\\Images\\3q.jpg\n",
      "C:\\Users\\theza\\Documents\\Uni\\MIT\\2019\\TP\\Project\\Meal-Compliance-Project\\Additional-Data-Creator\\OutputData\\XTrain\\\n",
      "C:\\Users\\theza\\Documents\\Uni\\MIT\\2019\\TP\\Project\\Meal-Compliance-Project\\Additional-Data-Creator\\Output\\Images\\5r.jpg\n",
      "C:\\Users\\theza\\Documents\\Uni\\MIT\\2019\\TP\\Project\\Meal-Compliance-Project\\Additional-Data-Creator\\OutputData\\XTrain\\\n",
      "C:\\Users\\theza\\Documents\\Uni\\MIT\\2019\\TP\\Project\\Meal-Compliance-Project\\Additional-Data-Creator\\Output\\Images\\4g.jpg\n",
      "C:\\Users\\theza\\Documents\\Uni\\MIT\\2019\\TP\\Project\\Meal-Compliance-Project\\Additional-Data-Creator\\OutputData\\XTrain\\\n",
      "C:\\Users\\theza\\Documents\\Uni\\MIT\\2019\\TP\\Project\\Meal-Compliance-Project\\Additional-Data-Creator\\Output\\Images\\5c.jpg\n",
      "C:\\Users\\theza\\Documents\\Uni\\MIT\\2019\\TP\\Project\\Meal-Compliance-Project\\Additional-Data-Creator\\OutputData\\XTrain\\\n",
      "C:\\Users\\theza\\Documents\\Uni\\MIT\\2019\\TP\\Project\\Meal-Compliance-Project\\Additional-Data-Creator\\Output\\Images\\1m.jpg\n",
      "C:\\Users\\theza\\Documents\\Uni\\MIT\\2019\\TP\\Project\\Meal-Compliance-Project\\Additional-Data-Creator\\OutputData\\XTrain\\\n",
      "C:\\Users\\theza\\Documents\\Uni\\MIT\\2019\\TP\\Project\\Meal-Compliance-Project\\Additional-Data-Creator\\Output\\Images\\5j.jpg\n",
      "C:\\Users\\theza\\Documents\\Uni\\MIT\\2019\\TP\\Project\\Meal-Compliance-Project\\Additional-Data-Creator\\OutputData\\XTrain\\\n",
      "C:\\Users\\theza\\Documents\\Uni\\MIT\\2019\\TP\\Project\\Meal-Compliance-Project\\Additional-Data-Creator\\Output\\Images\\1o.jpg\n",
      "C:\\Users\\theza\\Documents\\Uni\\MIT\\2019\\TP\\Project\\Meal-Compliance-Project\\Additional-Data-Creator\\OutputData\\XTrain\\\n",
      "C:\\Users\\theza\\Documents\\Uni\\MIT\\2019\\TP\\Project\\Meal-Compliance-Project\\Additional-Data-Creator\\Output\\Images\\6f.jpg\n",
      "C:\\Users\\theza\\Documents\\Uni\\MIT\\2019\\TP\\Project\\Meal-Compliance-Project\\Additional-Data-Creator\\OutputData\\XTrain\\\n",
      "C:\\Users\\theza\\Documents\\Uni\\MIT\\2019\\TP\\Project\\Meal-Compliance-Project\\Additional-Data-Creator\\Output\\Images\\4n.jpg\n",
      "C:\\Users\\theza\\Documents\\Uni\\MIT\\2019\\TP\\Project\\Meal-Compliance-Project\\Additional-Data-Creator\\OutputData\\XTrain\\\n",
      "C:\\Users\\theza\\Documents\\Uni\\MIT\\2019\\TP\\Project\\Meal-Compliance-Project\\Additional-Data-Creator\\Output\\Images\\6d.jpg\n",
      "C:\\Users\\theza\\Documents\\Uni\\MIT\\2019\\TP\\Project\\Meal-Compliance-Project\\Additional-Data-Creator\\OutputData\\XTrain\\\n",
      "C:\\Users\\theza\\Documents\\Uni\\MIT\\2019\\TP\\Project\\Meal-Compliance-Project\\Additional-Data-Creator\\Output\\Images\\2u.jpg\n",
      "C:\\Users\\theza\\Documents\\Uni\\MIT\\2019\\TP\\Project\\Meal-Compliance-Project\\Additional-Data-Creator\\OutputData\\XTrain\\\n",
      "C:\\Users\\theza\\Documents\\Uni\\MIT\\2019\\TP\\Project\\Meal-Compliance-Project\\Additional-Data-Creator\\Output\\Images\\1l.jpg\n",
      "C:\\Users\\theza\\Documents\\Uni\\MIT\\2019\\TP\\Project\\Meal-Compliance-Project\\Additional-Data-Creator\\OutputData\\XTrain\\\n",
      "C:\\Users\\theza\\Documents\\Uni\\MIT\\2019\\TP\\Project\\Meal-Compliance-Project\\Additional-Data-Creator\\Output\\Images\\5s.jpg\n",
      "C:\\Users\\theza\\Documents\\Uni\\MIT\\2019\\TP\\Project\\Meal-Compliance-Project\\Additional-Data-Creator\\OutputData\\XTrain\\\n",
      "C:\\Users\\theza\\Documents\\Uni\\MIT\\2019\\TP\\Project\\Meal-Compliance-Project\\Additional-Data-Creator\\Output\\Images\\3f.jpg\n",
      "C:\\Users\\theza\\Documents\\Uni\\MIT\\2019\\TP\\Project\\Meal-Compliance-Project\\Additional-Data-Creator\\OutputData\\XTrain\\\n",
      "C:\\Users\\theza\\Documents\\Uni\\MIT\\2019\\TP\\Project\\Meal-Compliance-Project\\Additional-Data-Creator\\Output\\Images\\2p.jpg\n",
      "C:\\Users\\theza\\Documents\\Uni\\MIT\\2019\\TP\\Project\\Meal-Compliance-Project\\Additional-Data-Creator\\OutputData\\XTrain\\\n",
      "C:\\Users\\theza\\Documents\\Uni\\MIT\\2019\\TP\\Project\\Meal-Compliance-Project\\Additional-Data-Creator\\Output\\Images\\3n.jpg\n",
      "C:\\Users\\theza\\Documents\\Uni\\MIT\\2019\\TP\\Project\\Meal-Compliance-Project\\Additional-Data-Creator\\OutputData\\XTrain\\\n",
      "C:\\Users\\theza\\Documents\\Uni\\MIT\\2019\\TP\\Project\\Meal-Compliance-Project\\Additional-Data-Creator\\Output\\Images\\1b.jpg\n",
      "C:\\Users\\theza\\Documents\\Uni\\MIT\\2019\\TP\\Project\\Meal-Compliance-Project\\Additional-Data-Creator\\OutputData\\XTrain\\\n",
      "C:\\Users\\theza\\Documents\\Uni\\MIT\\2019\\TP\\Project\\Meal-Compliance-Project\\Additional-Data-Creator\\Output\\Images\\5w.jpg\n",
      "C:\\Users\\theza\\Documents\\Uni\\MIT\\2019\\TP\\Project\\Meal-Compliance-Project\\Additional-Data-Creator\\OutputData\\XTrain\\\n"
     ]
    },
    {
     "name": "stdout",
     "output_type": "stream",
     "text": [
      "C:\\Users\\theza\\Documents\\Uni\\MIT\\2019\\TP\\Project\\Meal-Compliance-Project\\Additional-Data-Creator\\Output\\Images\\6o.jpg\n",
      "C:\\Users\\theza\\Documents\\Uni\\MIT\\2019\\TP\\Project\\Meal-Compliance-Project\\Additional-Data-Creator\\OutputData\\XTrain\\\n",
      "C:\\Users\\theza\\Documents\\Uni\\MIT\\2019\\TP\\Project\\Meal-Compliance-Project\\Additional-Data-Creator\\Output\\Images\\2q.jpg\n",
      "C:\\Users\\theza\\Documents\\Uni\\MIT\\2019\\TP\\Project\\Meal-Compliance-Project\\Additional-Data-Creator\\OutputData\\XTrain\\\n",
      "C:\\Users\\theza\\Documents\\Uni\\MIT\\2019\\TP\\Project\\Meal-Compliance-Project\\Additional-Data-Creator\\Output\\Images\\5b.jpg\n",
      "C:\\Users\\theza\\Documents\\Uni\\MIT\\2019\\TP\\Project\\Meal-Compliance-Project\\Additional-Data-Creator\\OutputData\\XTrain\\\n",
      "C:\\Users\\theza\\Documents\\Uni\\MIT\\2019\\TP\\Project\\Meal-Compliance-Project\\Additional-Data-Creator\\Output\\Images\\1e.jpg\n",
      "C:\\Users\\theza\\Documents\\Uni\\MIT\\2019\\TP\\Project\\Meal-Compliance-Project\\Additional-Data-Creator\\OutputData\\XTrain\\\n",
      "C:\\Users\\theza\\Documents\\Uni\\MIT\\2019\\TP\\Project\\Meal-Compliance-Project\\Additional-Data-Creator\\Output\\Images\\6e.jpg\n",
      "C:\\Users\\theza\\Documents\\Uni\\MIT\\2019\\TP\\Project\\Meal-Compliance-Project\\Additional-Data-Creator\\OutputData\\XTrain\\\n",
      "C:\\Users\\theza\\Documents\\Uni\\MIT\\2019\\TP\\Project\\Meal-Compliance-Project\\Additional-Data-Creator\\Output\\Images\\1r.jpg\n",
      "C:\\Users\\theza\\Documents\\Uni\\MIT\\2019\\TP\\Project\\Meal-Compliance-Project\\Additional-Data-Creator\\OutputData\\XTrain\\\n",
      "C:\\Users\\theza\\Documents\\Uni\\MIT\\2019\\TP\\Project\\Meal-Compliance-Project\\Additional-Data-Creator\\Output\\Images\\5a.jpg\n",
      "C:\\Users\\theza\\Documents\\Uni\\MIT\\2019\\TP\\Project\\Meal-Compliance-Project\\Additional-Data-Creator\\OutputData\\XTrain\\\n",
      "C:\\Users\\theza\\Documents\\Uni\\MIT\\2019\\TP\\Project\\Meal-Compliance-Project\\Additional-Data-Creator\\Output\\Images\\2m.jpg\n",
      "C:\\Users\\theza\\Documents\\Uni\\MIT\\2019\\TP\\Project\\Meal-Compliance-Project\\Additional-Data-Creator\\OutputData\\XTrain\\\n",
      "C:\\Users\\theza\\Documents\\Uni\\MIT\\2019\\TP\\Project\\Meal-Compliance-Project\\Additional-Data-Creator\\Output\\Images\\1f.jpg\n",
      "C:\\Users\\theza\\Documents\\Uni\\MIT\\2019\\TP\\Project\\Meal-Compliance-Project\\Additional-Data-Creator\\OutputData\\XTrain\\\n",
      "C:\\Users\\theza\\Documents\\Uni\\MIT\\2019\\TP\\Project\\Meal-Compliance-Project\\Additional-Data-Creator\\Output\\Images\\3b.jpg\n",
      "C:\\Users\\theza\\Documents\\Uni\\MIT\\2019\\TP\\Project\\Meal-Compliance-Project\\Additional-Data-Creator\\OutputData\\XTrain\\\n",
      "C:\\Users\\theza\\Documents\\Uni\\MIT\\2019\\TP\\Project\\Meal-Compliance-Project\\Additional-Data-Creator\\Output\\Images\\6t.jpg\n",
      "C:\\Users\\theza\\Documents\\Uni\\MIT\\2019\\TP\\Project\\Meal-Compliance-Project\\Additional-Data-Creator\\OutputData\\XTrain\\\n",
      "C:\\Users\\theza\\Documents\\Uni\\MIT\\2019\\TP\\Project\\Meal-Compliance-Project\\Additional-Data-Creator\\Output\\Images\\5u.jpg\n",
      "C:\\Users\\theza\\Documents\\Uni\\MIT\\2019\\TP\\Project\\Meal-Compliance-Project\\Additional-Data-Creator\\OutputData\\XTrain\\\n",
      "C:\\Users\\theza\\Documents\\Uni\\MIT\\2019\\TP\\Project\\Meal-Compliance-Project\\Additional-Data-Creator\\Output\\Images\\1a.jpg\n",
      "C:\\Users\\theza\\Documents\\Uni\\MIT\\2019\\TP\\Project\\Meal-Compliance-Project\\Additional-Data-Creator\\OutputData\\XTrain\\\n",
      "C:\\Users\\theza\\Documents\\Uni\\MIT\\2019\\TP\\Project\\Meal-Compliance-Project\\Additional-Data-Creator\\Output\\Images\\2i.jpg\n",
      "C:\\Users\\theza\\Documents\\Uni\\MIT\\2019\\TP\\Project\\Meal-Compliance-Project\\Additional-Data-Creator\\OutputData\\XTrain\\\n",
      "C:\\Users\\theza\\Documents\\Uni\\MIT\\2019\\TP\\Project\\Meal-Compliance-Project\\Additional-Data-Creator\\Output\\Images\\2c.jpg\n",
      "C:\\Users\\theza\\Documents\\Uni\\MIT\\2019\\TP\\Project\\Meal-Compliance-Project\\Additional-Data-Creator\\OutputData\\XTrain\\\n",
      "C:\\Users\\theza\\Documents\\Uni\\MIT\\2019\\TP\\Project\\Meal-Compliance-Project\\Additional-Data-Creator\\Output\\Images\\3d.jpg\n",
      "C:\\Users\\theza\\Documents\\Uni\\MIT\\2019\\TP\\Project\\Meal-Compliance-Project\\Additional-Data-Creator\\OutputData\\XTrain\\\n",
      "C:\\Users\\theza\\Documents\\Uni\\MIT\\2019\\TP\\Project\\Meal-Compliance-Project\\Additional-Data-Creator\\Output\\Images\\5k.jpg\n",
      "C:\\Users\\theza\\Documents\\Uni\\MIT\\2019\\TP\\Project\\Meal-Compliance-Project\\Additional-Data-Creator\\OutputData\\XTrain\\\n",
      "C:\\Users\\theza\\Documents\\Uni\\MIT\\2019\\TP\\Project\\Meal-Compliance-Project\\Additional-Data-Creator\\Output\\Images\\3x.jpg\n",
      "C:\\Users\\theza\\Documents\\Uni\\MIT\\2019\\TP\\Project\\Meal-Compliance-Project\\Additional-Data-Creator\\OutputData\\XTrain\\\n",
      "C:\\Users\\theza\\Documents\\Uni\\MIT\\2019\\TP\\Project\\Meal-Compliance-Project\\Additional-Data-Creator\\Output\\Images\\2j.jpg\n",
      "C:\\Users\\theza\\Documents\\Uni\\MIT\\2019\\TP\\Project\\Meal-Compliance-Project\\Additional-Data-Creator\\OutputData\\XTrain\\\n",
      "C:\\Users\\theza\\Documents\\Uni\\MIT\\2019\\TP\\Project\\Meal-Compliance-Project\\Additional-Data-Creator\\Output\\Images\\1x.jpg\n",
      "C:\\Users\\theza\\Documents\\Uni\\MIT\\2019\\TP\\Project\\Meal-Compliance-Project\\Additional-Data-Creator\\OutputData\\XTrain\\\n",
      "C:\\Users\\theza\\Documents\\Uni\\MIT\\2019\\TP\\Project\\Meal-Compliance-Project\\Additional-Data-Creator\\Output\\Images\\5m.jpg\n",
      "C:\\Users\\theza\\Documents\\Uni\\MIT\\2019\\TP\\Project\\Meal-Compliance-Project\\Additional-Data-Creator\\OutputData\\XTrain\\\n",
      "C:\\Users\\theza\\Documents\\Uni\\MIT\\2019\\TP\\Project\\Meal-Compliance-Project\\Additional-Data-Creator\\Output\\Images\\3w.jpg\n",
      "C:\\Users\\theza\\Documents\\Uni\\MIT\\2019\\TP\\Project\\Meal-Compliance-Project\\Additional-Data-Creator\\OutputData\\XTrain\\\n",
      "C:\\Users\\theza\\Documents\\Uni\\MIT\\2019\\TP\\Project\\Meal-Compliance-Project\\Additional-Data-Creator\\Output\\Images\\2f.jpg\n",
      "C:\\Users\\theza\\Documents\\Uni\\MIT\\2019\\TP\\Project\\Meal-Compliance-Project\\Additional-Data-Creator\\OutputData\\XTrain\\\n",
      "C:\\Users\\theza\\Documents\\Uni\\MIT\\2019\\TP\\Project\\Meal-Compliance-Project\\Additional-Data-Creator\\Output\\Images\\6a.jpg\n",
      "C:\\Users\\theza\\Documents\\Uni\\MIT\\2019\\TP\\Project\\Meal-Compliance-Project\\Additional-Data-Creator\\OutputData\\XTrain\\\n",
      "C:\\Users\\theza\\Documents\\Uni\\MIT\\2019\\TP\\Project\\Meal-Compliance-Project\\Additional-Data-Creator\\Output\\Images\\5x.jpg\n",
      "C:\\Users\\theza\\Documents\\Uni\\MIT\\2019\\TP\\Project\\Meal-Compliance-Project\\Additional-Data-Creator\\OutputData\\XTrain\\\n",
      "C:\\Users\\theza\\Documents\\Uni\\MIT\\2019\\TP\\Project\\Meal-Compliance-Project\\Additional-Data-Creator\\Output\\Images\\6g.jpg\n",
      "C:\\Users\\theza\\Documents\\Uni\\MIT\\2019\\TP\\Project\\Meal-Compliance-Project\\Additional-Data-Creator\\OutputData\\XTrain\\\n",
      "C:\\Users\\theza\\Documents\\Uni\\MIT\\2019\\TP\\Project\\Meal-Compliance-Project\\Additional-Data-Creator\\Output\\Images\\2g.jpg\n",
      "C:\\Users\\theza\\Documents\\Uni\\MIT\\2019\\TP\\Project\\Meal-Compliance-Project\\Additional-Data-Creator\\OutputData\\XTrain\\\n",
      "C:\\Users\\theza\\Documents\\Uni\\MIT\\2019\\TP\\Project\\Meal-Compliance-Project\\Additional-Data-Creator\\Output\\Images\\2d.jpg\n",
      "C:\\Users\\theza\\Documents\\Uni\\MIT\\2019\\TP\\Project\\Meal-Compliance-Project\\Additional-Data-Creator\\OutputData\\XTrain\\\n",
      "C:\\Users\\theza\\Documents\\Uni\\MIT\\2019\\TP\\Project\\Meal-Compliance-Project\\Additional-Data-Creator\\Output\\Images\\4v.jpg\n",
      "C:\\Users\\theza\\Documents\\Uni\\MIT\\2019\\TP\\Project\\Meal-Compliance-Project\\Additional-Data-Creator\\OutputData\\XTrain\\\n",
      "C:\\Users\\theza\\Documents\\Uni\\MIT\\2019\\TP\\Project\\Meal-Compliance-Project\\Additional-Data-Creator\\Output\\Images\\4e.jpg\n",
      "C:\\Users\\theza\\Documents\\Uni\\MIT\\2019\\TP\\Project\\Meal-Compliance-Project\\Additional-Data-Creator\\OutputData\\XTrain\\\n",
      "C:\\Users\\theza\\Documents\\Uni\\MIT\\2019\\TP\\Project\\Meal-Compliance-Project\\Additional-Data-Creator\\Output\\Images\\4b.jpg\n",
      "C:\\Users\\theza\\Documents\\Uni\\MIT\\2019\\TP\\Project\\Meal-Compliance-Project\\Additional-Data-Creator\\OutputData\\XTrain\\\n",
      "C:\\Users\\theza\\Documents\\Uni\\MIT\\2019\\TP\\Project\\Meal-Compliance-Project\\Additional-Data-Creator\\Output\\Images\\5l.jpg\n",
      "C:\\Users\\theza\\Documents\\Uni\\MIT\\2019\\TP\\Project\\Meal-Compliance-Project\\Additional-Data-Creator\\OutputData\\XTrain\\\n",
      "C:\\Users\\theza\\Documents\\Uni\\MIT\\2019\\TP\\Project\\Meal-Compliance-Project\\Additional-Data-Creator\\Output\\Images\\6v.jpg\n",
      "C:\\Users\\theza\\Documents\\Uni\\MIT\\2019\\TP\\Project\\Meal-Compliance-Project\\Additional-Data-Creator\\OutputData\\XTrain\\\n",
      "C:\\Users\\theza\\Documents\\Uni\\MIT\\2019\\TP\\Project\\Meal-Compliance-Project\\Additional-Data-Creator\\Output\\Images\\3u.jpg\n",
      "C:\\Users\\theza\\Documents\\Uni\\MIT\\2019\\TP\\Project\\Meal-Compliance-Project\\Additional-Data-Creator\\OutputData\\XTrain\\\n",
      "C:\\Users\\theza\\Documents\\Uni\\MIT\\2019\\TP\\Project\\Meal-Compliance-Project\\Additional-Data-Creator\\Output\\Images\\3z.jpg\n",
      "C:\\Users\\theza\\Documents\\Uni\\MIT\\2019\\TP\\Project\\Meal-Compliance-Project\\Additional-Data-Creator\\OutputData\\XTrain\\\n",
      "C:\\Users\\theza\\Documents\\Uni\\MIT\\2019\\TP\\Project\\Meal-Compliance-Project\\Additional-Data-Creator\\Output\\Images\\1z.jpg\n",
      "C:\\Users\\theza\\Documents\\Uni\\MIT\\2019\\TP\\Project\\Meal-Compliance-Project\\Additional-Data-Creator\\OutputData\\XTrain\\\n",
      "C:\\Users\\theza\\Documents\\Uni\\MIT\\2019\\TP\\Project\\Meal-Compliance-Project\\Additional-Data-Creator\\Output\\Images\\4d.jpg\n",
      "C:\\Users\\theza\\Documents\\Uni\\MIT\\2019\\TP\\Project\\Meal-Compliance-Project\\Additional-Data-Creator\\OutputData\\XTrain\\\n",
      "C:\\Users\\theza\\Documents\\Uni\\MIT\\2019\\TP\\Project\\Meal-Compliance-Project\\Additional-Data-Creator\\Output\\Images\\6q.jpg\n",
      "C:\\Users\\theza\\Documents\\Uni\\MIT\\2019\\TP\\Project\\Meal-Compliance-Project\\Additional-Data-Creator\\OutputData\\XTrain\\\n",
      "C:\\Users\\theza\\Documents\\Uni\\MIT\\2019\\TP\\Project\\Meal-Compliance-Project\\Additional-Data-Creator\\Output\\Images\\6s.jpg\n",
      "C:\\Users\\theza\\Documents\\Uni\\MIT\\2019\\TP\\Project\\Meal-Compliance-Project\\Additional-Data-Creator\\OutputData\\XTrain\\\n",
      "C:\\Users\\theza\\Documents\\Uni\\MIT\\2019\\TP\\Project\\Meal-Compliance-Project\\Additional-Data-Creator\\Output\\Images\\2n.jpg\n",
      "C:\\Users\\theza\\Documents\\Uni\\MIT\\2019\\TP\\Project\\Meal-Compliance-Project\\Additional-Data-Creator\\OutputData\\XTrain\\\n",
      "C:\\Users\\theza\\Documents\\Uni\\MIT\\2019\\TP\\Project\\Meal-Compliance-Project\\Additional-Data-Creator\\Output\\Images\\3g.jpg\n",
      "C:\\Users\\theza\\Documents\\Uni\\MIT\\2019\\TP\\Project\\Meal-Compliance-Project\\Additional-Data-Creator\\OutputData\\XTrain\\\n",
      "C:\\Users\\theza\\Documents\\Uni\\MIT\\2019\\TP\\Project\\Meal-Compliance-Project\\Additional-Data-Creator\\Output\\Images\\6k.jpg\n",
      "C:\\Users\\theza\\Documents\\Uni\\MIT\\2019\\TP\\Project\\Meal-Compliance-Project\\Additional-Data-Creator\\OutputData\\XTrain\\\n",
      "C:\\Users\\theza\\Documents\\Uni\\MIT\\2019\\TP\\Project\\Meal-Compliance-Project\\Additional-Data-Creator\\Output\\Images\\4k.jpg\n",
      "C:\\Users\\theza\\Documents\\Uni\\MIT\\2019\\TP\\Project\\Meal-Compliance-Project\\Additional-Data-Creator\\OutputData\\XTrain\\\n",
      "C:\\Users\\theza\\Documents\\Uni\\MIT\\2019\\TP\\Project\\Meal-Compliance-Project\\Additional-Data-Creator\\Output\\Images\\3s.jpg\n",
      "C:\\Users\\theza\\Documents\\Uni\\MIT\\2019\\TP\\Project\\Meal-Compliance-Project\\Additional-Data-Creator\\OutputData\\XTrain\\\n",
      "C:\\Users\\theza\\Documents\\Uni\\MIT\\2019\\TP\\Project\\Meal-Compliance-Project\\Additional-Data-Creator\\Output\\Images\\4j.jpg\n",
      "C:\\Users\\theza\\Documents\\Uni\\MIT\\2019\\TP\\Project\\Meal-Compliance-Project\\Additional-Data-Creator\\OutputData\\XTrain\\\n",
      "C:\\Users\\theza\\Documents\\Uni\\MIT\\2019\\TP\\Project\\Meal-Compliance-Project\\Additional-Data-Creator\\Output\\Images\\2k.jpg\n",
      "C:\\Users\\theza\\Documents\\Uni\\MIT\\2019\\TP\\Project\\Meal-Compliance-Project\\Additional-Data-Creator\\OutputData\\XTrain\\\n",
      "C:\\Users\\theza\\Documents\\Uni\\MIT\\2019\\TP\\Project\\Meal-Compliance-Project\\Additional-Data-Creator\\Output\\Images\\1v.jpg\n",
      "C:\\Users\\theza\\Documents\\Uni\\MIT\\2019\\TP\\Project\\Meal-Compliance-Project\\Additional-Data-Creator\\OutputData\\XTrain\\\n",
      "C:\\Users\\theza\\Documents\\Uni\\MIT\\2019\\TP\\Project\\Meal-Compliance-Project\\Additional-Data-Creator\\Output\\Images\\1j.jpg\n",
      "C:\\Users\\theza\\Documents\\Uni\\MIT\\2019\\TP\\Project\\Meal-Compliance-Project\\Additional-Data-Creator\\OutputData\\XTrain\\\n",
      "C:\\Users\\theza\\Documents\\Uni\\MIT\\2019\\TP\\Project\\Meal-Compliance-Project\\Additional-Data-Creator\\Output\\Images\\4z.jpg\n",
      "C:\\Users\\theza\\Documents\\Uni\\MIT\\2019\\TP\\Project\\Meal-Compliance-Project\\Additional-Data-Creator\\OutputData\\XTrain\\\n",
      "C:\\Users\\theza\\Documents\\Uni\\MIT\\2019\\TP\\Project\\Meal-Compliance-Project\\Additional-Data-Creator\\Output\\Images\\3p.jpg\n",
      "C:\\Users\\theza\\Documents\\Uni\\MIT\\2019\\TP\\Project\\Meal-Compliance-Project\\Additional-Data-Creator\\OutputData\\XTrain\\\n"
     ]
    },
    {
     "name": "stdout",
     "output_type": "stream",
     "text": [
      "C:\\Users\\theza\\Documents\\Uni\\MIT\\2019\\TP\\Project\\Meal-Compliance-Project\\Additional-Data-Creator\\Output\\Images\\5n.jpg\n",
      "C:\\Users\\theza\\Documents\\Uni\\MIT\\2019\\TP\\Project\\Meal-Compliance-Project\\Additional-Data-Creator\\OutputData\\XTrain\\\n",
      "C:\\Users\\theza\\Documents\\Uni\\MIT\\2019\\TP\\Project\\Meal-Compliance-Project\\Additional-Data-Creator\\Output\\Images\\2v.jpg\n",
      "C:\\Users\\theza\\Documents\\Uni\\MIT\\2019\\TP\\Project\\Meal-Compliance-Project\\Additional-Data-Creator\\OutputData\\XTrain\\\n",
      "C:\\Users\\theza\\Documents\\Uni\\MIT\\2019\\TP\\Project\\Meal-Compliance-Project\\Additional-Data-Creator\\Output\\Images\\2a.jpg\n",
      "C:\\Users\\theza\\Documents\\Uni\\MIT\\2019\\TP\\Project\\Meal-Compliance-Project\\Additional-Data-Creator\\OutputData\\XTest\\\n",
      "C:\\Users\\theza\\Documents\\Uni\\MIT\\2019\\TP\\Project\\Meal-Compliance-Project\\Additional-Data-Creator\\Output\\Images\\3c.jpg\n",
      "C:\\Users\\theza\\Documents\\Uni\\MIT\\2019\\TP\\Project\\Meal-Compliance-Project\\Additional-Data-Creator\\OutputData\\XTest\\\n",
      "C:\\Users\\theza\\Documents\\Uni\\MIT\\2019\\TP\\Project\\Meal-Compliance-Project\\Additional-Data-Creator\\Output\\Images\\2l.jpg\n",
      "C:\\Users\\theza\\Documents\\Uni\\MIT\\2019\\TP\\Project\\Meal-Compliance-Project\\Additional-Data-Creator\\OutputData\\XTest\\\n",
      "C:\\Users\\theza\\Documents\\Uni\\MIT\\2019\\TP\\Project\\Meal-Compliance-Project\\Additional-Data-Creator\\Output\\Images\\5i.jpg\n",
      "C:\\Users\\theza\\Documents\\Uni\\MIT\\2019\\TP\\Project\\Meal-Compliance-Project\\Additional-Data-Creator\\OutputData\\XTest\\\n",
      "C:\\Users\\theza\\Documents\\Uni\\MIT\\2019\\TP\\Project\\Meal-Compliance-Project\\Additional-Data-Creator\\Output\\Images\\1y.jpg\n",
      "C:\\Users\\theza\\Documents\\Uni\\MIT\\2019\\TP\\Project\\Meal-Compliance-Project\\Additional-Data-Creator\\OutputData\\XTest\\\n",
      "C:\\Users\\theza\\Documents\\Uni\\MIT\\2019\\TP\\Project\\Meal-Compliance-Project\\Additional-Data-Creator\\Output\\Images\\1h.jpg\n",
      "C:\\Users\\theza\\Documents\\Uni\\MIT\\2019\\TP\\Project\\Meal-Compliance-Project\\Additional-Data-Creator\\OutputData\\XTest\\\n",
      "C:\\Users\\theza\\Documents\\Uni\\MIT\\2019\\TP\\Project\\Meal-Compliance-Project\\Additional-Data-Creator\\Output\\Images\\2t.jpg\n",
      "C:\\Users\\theza\\Documents\\Uni\\MIT\\2019\\TP\\Project\\Meal-Compliance-Project\\Additional-Data-Creator\\OutputData\\XTest\\\n",
      "C:\\Users\\theza\\Documents\\Uni\\MIT\\2019\\TP\\Project\\Meal-Compliance-Project\\Additional-Data-Creator\\Output\\Images\\5d.jpg\n",
      "C:\\Users\\theza\\Documents\\Uni\\MIT\\2019\\TP\\Project\\Meal-Compliance-Project\\Additional-Data-Creator\\OutputData\\XTest\\\n",
      "C:\\Users\\theza\\Documents\\Uni\\MIT\\2019\\TP\\Project\\Meal-Compliance-Project\\Additional-Data-Creator\\Output\\Images\\6h.jpg\n",
      "C:\\Users\\theza\\Documents\\Uni\\MIT\\2019\\TP\\Project\\Meal-Compliance-Project\\Additional-Data-Creator\\OutputData\\XTest\\\n",
      "C:\\Users\\theza\\Documents\\Uni\\MIT\\2019\\TP\\Project\\Meal-Compliance-Project\\Additional-Data-Creator\\Output\\Images\\2o.jpg\n",
      "C:\\Users\\theza\\Documents\\Uni\\MIT\\2019\\TP\\Project\\Meal-Compliance-Project\\Additional-Data-Creator\\OutputData\\XTest\\\n",
      "C:\\Users\\theza\\Documents\\Uni\\MIT\\2019\\TP\\Project\\Meal-Compliance-Project\\Additional-Data-Creator\\Output\\Images\\4m.jpg\n",
      "C:\\Users\\theza\\Documents\\Uni\\MIT\\2019\\TP\\Project\\Meal-Compliance-Project\\Additional-Data-Creator\\OutputData\\XTest\\\n",
      "C:\\Users\\theza\\Documents\\Uni\\MIT\\2019\\TP\\Project\\Meal-Compliance-Project\\Additional-Data-Creator\\Output\\Images\\2z.jpg\n",
      "C:\\Users\\theza\\Documents\\Uni\\MIT\\2019\\TP\\Project\\Meal-Compliance-Project\\Additional-Data-Creator\\OutputData\\XTest\\\n",
      "C:\\Users\\theza\\Documents\\Uni\\MIT\\2019\\TP\\Project\\Meal-Compliance-Project\\Additional-Data-Creator\\Output\\Images\\5e.jpg\n",
      "C:\\Users\\theza\\Documents\\Uni\\MIT\\2019\\TP\\Project\\Meal-Compliance-Project\\Additional-Data-Creator\\OutputData\\XTest\\\n",
      "C:\\Users\\theza\\Documents\\Uni\\MIT\\2019\\TP\\Project\\Meal-Compliance-Project\\Additional-Data-Creator\\Output\\Images\\5p.jpg\n",
      "C:\\Users\\theza\\Documents\\Uni\\MIT\\2019\\TP\\Project\\Meal-Compliance-Project\\Additional-Data-Creator\\OutputData\\XTest\\\n",
      "C:\\Users\\theza\\Documents\\Uni\\MIT\\2019\\TP\\Project\\Meal-Compliance-Project\\Additional-Data-Creator\\Output\\Images\\3e.jpg\n",
      "C:\\Users\\theza\\Documents\\Uni\\MIT\\2019\\TP\\Project\\Meal-Compliance-Project\\Additional-Data-Creator\\OutputData\\XTest\\\n",
      "C:\\Users\\theza\\Documents\\Uni\\MIT\\2019\\TP\\Project\\Meal-Compliance-Project\\Additional-Data-Creator\\Output\\Images\\6r.jpg\n",
      "C:\\Users\\theza\\Documents\\Uni\\MIT\\2019\\TP\\Project\\Meal-Compliance-Project\\Additional-Data-Creator\\OutputData\\XTest\\\n",
      "C:\\Users\\theza\\Documents\\Uni\\MIT\\2019\\TP\\Project\\Meal-Compliance-Project\\Additional-Data-Creator\\Output\\Images\\2h.jpg\n",
      "C:\\Users\\theza\\Documents\\Uni\\MIT\\2019\\TP\\Project\\Meal-Compliance-Project\\Additional-Data-Creator\\OutputData\\XTest\\\n",
      "C:\\Users\\theza\\Documents\\Uni\\MIT\\2019\\TP\\Project\\Meal-Compliance-Project\\Additional-Data-Creator\\Output\\Images\\5o.jpg\n",
      "C:\\Users\\theza\\Documents\\Uni\\MIT\\2019\\TP\\Project\\Meal-Compliance-Project\\Additional-Data-Creator\\OutputData\\XTest\\\n",
      "C:\\Users\\theza\\Documents\\Uni\\MIT\\2019\\TP\\Project\\Meal-Compliance-Project\\Additional-Data-Creator\\Output\\Images\\2s.jpg\n",
      "C:\\Users\\theza\\Documents\\Uni\\MIT\\2019\\TP\\Project\\Meal-Compliance-Project\\Additional-Data-Creator\\OutputData\\XTest\\\n",
      "C:\\Users\\theza\\Documents\\Uni\\MIT\\2019\\TP\\Project\\Meal-Compliance-Project\\Additional-Data-Creator\\Output\\Images\\5y.jpg\n",
      "C:\\Users\\theza\\Documents\\Uni\\MIT\\2019\\TP\\Project\\Meal-Compliance-Project\\Additional-Data-Creator\\OutputData\\XTest\\\n",
      "C:\\Users\\theza\\Documents\\Uni\\MIT\\2019\\TP\\Project\\Meal-Compliance-Project\\Additional-Data-Creator\\Output\\Images\\6p.jpg\n",
      "C:\\Users\\theza\\Documents\\Uni\\MIT\\2019\\TP\\Project\\Meal-Compliance-Project\\Additional-Data-Creator\\OutputData\\XTest\\\n",
      "C:\\Users\\theza\\Documents\\Uni\\MIT\\2019\\TP\\Project\\Meal-Compliance-Project\\Additional-Data-Creator\\Output\\Images\\1i.jpg\n",
      "C:\\Users\\theza\\Documents\\Uni\\MIT\\2019\\TP\\Project\\Meal-Compliance-Project\\Additional-Data-Creator\\OutputData\\XTest\\\n",
      "C:\\Users\\theza\\Documents\\Uni\\MIT\\2019\\TP\\Project\\Meal-Compliance-Project\\Additional-Data-Creator\\Output\\Images\\6j.jpg\n",
      "C:\\Users\\theza\\Documents\\Uni\\MIT\\2019\\TP\\Project\\Meal-Compliance-Project\\Additional-Data-Creator\\OutputData\\XTest\\\n",
      "C:\\Users\\theza\\Documents\\Uni\\MIT\\2019\\TP\\Project\\Meal-Compliance-Project\\Additional-Data-Creator\\Output\\Images\\3h.jpg\n",
      "C:\\Users\\theza\\Documents\\Uni\\MIT\\2019\\TP\\Project\\Meal-Compliance-Project\\Additional-Data-Creator\\OutputData\\XTest\\\n",
      "C:\\Users\\theza\\Documents\\Uni\\MIT\\2019\\TP\\Project\\Meal-Compliance-Project\\Additional-Data-Creator\\Output\\Images\\5h.jpg\n",
      "C:\\Users\\theza\\Documents\\Uni\\MIT\\2019\\TP\\Project\\Meal-Compliance-Project\\Additional-Data-Creator\\OutputData\\XTest\\\n",
      "C:\\Users\\theza\\Documents\\Uni\\MIT\\2019\\TP\\Project\\Meal-Compliance-Project\\Additional-Data-Creator\\Output\\Images\\6w.jpg\n",
      "C:\\Users\\theza\\Documents\\Uni\\MIT\\2019\\TP\\Project\\Meal-Compliance-Project\\Additional-Data-Creator\\OutputData\\XTest\\\n",
      "C:\\Users\\theza\\Documents\\Uni\\MIT\\2019\\TP\\Project\\Meal-Compliance-Project\\Additional-Data-Creator\\Output\\Images\\4h.jpg\n",
      "C:\\Users\\theza\\Documents\\Uni\\MIT\\2019\\TP\\Project\\Meal-Compliance-Project\\Additional-Data-Creator\\OutputData\\XTest\\\n",
      "C:\\Users\\theza\\Documents\\Uni\\MIT\\2019\\TP\\Project\\Meal-Compliance-Project\\Additional-Data-Creator\\Output\\Images\\3k.jpg\n",
      "C:\\Users\\theza\\Documents\\Uni\\MIT\\2019\\TP\\Project\\Meal-Compliance-Project\\Additional-Data-Creator\\OutputData\\XTest\\\n",
      "C:\\Users\\theza\\Documents\\Uni\\MIT\\2019\\TP\\Project\\Meal-Compliance-Project\\Additional-Data-Creator\\Output\\Images\\4f.jpg\n",
      "C:\\Users\\theza\\Documents\\Uni\\MIT\\2019\\TP\\Project\\Meal-Compliance-Project\\Additional-Data-Creator\\OutputData\\XTest\\\n",
      "C:\\Users\\theza\\Documents\\Uni\\MIT\\2019\\TP\\Project\\Meal-Compliance-Project\\Additional-Data-Creator\\Output\\Images\\4q.jpg\n",
      "C:\\Users\\theza\\Documents\\Uni\\MIT\\2019\\TP\\Project\\Meal-Compliance-Project\\Additional-Data-Creator\\OutputData\\XTest\\\n",
      "C:\\Users\\theza\\Documents\\Uni\\MIT\\2019\\TP\\Project\\Meal-Compliance-Project\\Additional-Data-Creator\\Output\\Images\\1q.jpg\n",
      "C:\\Users\\theza\\Documents\\Uni\\MIT\\2019\\TP\\Project\\Meal-Compliance-Project\\Additional-Data-Creator\\OutputData\\XTest\\\n",
      "C:\\Users\\theza\\Documents\\Uni\\MIT\\2019\\TP\\Project\\Meal-Compliance-Project\\Additional-Data-Creator\\Output\\Images\\1t.jpg\n",
      "C:\\Users\\theza\\Documents\\Uni\\MIT\\2019\\TP\\Project\\Meal-Compliance-Project\\Additional-Data-Creator\\OutputData\\XTest\\\n",
      "C:\\Users\\theza\\Documents\\Uni\\MIT\\2019\\TP\\Project\\Meal-Compliance-Project\\Additional-Data-Creator\\Output\\Images\\6c.jpg\n",
      "C:\\Users\\theza\\Documents\\Uni\\MIT\\2019\\TP\\Project\\Meal-Compliance-Project\\Additional-Data-Creator\\OutputData\\XTest\\\n",
      "C:\\Users\\theza\\Documents\\Uni\\MIT\\2019\\TP\\Project\\Meal-Compliance-Project\\Additional-Data-Creator\\Output\\Images\\4t.jpg\n",
      "C:\\Users\\theza\\Documents\\Uni\\MIT\\2019\\TP\\Project\\Meal-Compliance-Project\\Additional-Data-Creator\\OutputData\\XTest\\\n",
      "C:\\Users\\theza\\Documents\\Uni\\MIT\\2019\\TP\\Project\\Meal-Compliance-Project\\Additional-Data-Creator\\Output\\Images\\1w.jpg\n",
      "C:\\Users\\theza\\Documents\\Uni\\MIT\\2019\\TP\\Project\\Meal-Compliance-Project\\Additional-Data-Creator\\OutputData\\XTest\\\n",
      "C:\\Users\\theza\\Documents\\Uni\\MIT\\2019\\TP\\Project\\Meal-Compliance-Project\\Additional-Data-Creator\\Output\\Images\\4c.jpg\n",
      "C:\\Users\\theza\\Documents\\Uni\\MIT\\2019\\TP\\Project\\Meal-Compliance-Project\\Additional-Data-Creator\\OutputData\\XTest\\\n",
      "C:\\Users\\theza\\Documents\\Uni\\MIT\\2019\\TP\\Project\\Meal-Compliance-Project\\Additional-Data-Creator\\Output\\Images\\4x.jpg\n",
      "C:\\Users\\theza\\Documents\\Uni\\MIT\\2019\\TP\\Project\\Meal-Compliance-Project\\Additional-Data-Creator\\OutputData\\XTest\\\n",
      "C:\\Users\\theza\\Documents\\Uni\\MIT\\2019\\TP\\Project\\Meal-Compliance-Project\\Additional-Data-Creator\\Output\\Images\\4y.jpg\n",
      "C:\\Users\\theza\\Documents\\Uni\\MIT\\2019\\TP\\Project\\Meal-Compliance-Project\\Additional-Data-Creator\\OutputData\\XTest\\\n",
      "C:\\Users\\theza\\Documents\\Uni\\MIT\\2019\\TP\\Project\\Meal-Compliance-Project\\Additional-Data-Creator\\Output\\Images\\4o.jpg\n",
      "C:\\Users\\theza\\Documents\\Uni\\MIT\\2019\\TP\\Project\\Meal-Compliance-Project\\Additional-Data-Creator\\OutputData\\XTest\\\n",
      "C:\\Users\\theza\\Documents\\Uni\\MIT\\2019\\TP\\Project\\Meal-Compliance-Project\\Additional-Data-Creator\\Output\\Images\\2b.jpg\n",
      "C:\\Users\\theza\\Documents\\Uni\\MIT\\2019\\TP\\Project\\Meal-Compliance-Project\\Additional-Data-Creator\\OutputData\\XTest\\\n",
      "C:\\Users\\theza\\Documents\\Uni\\MIT\\2019\\TP\\Project\\Meal-Compliance-Project\\Additional-Data-Creator\\Output\\Images\\5f.jpg\n",
      "C:\\Users\\theza\\Documents\\Uni\\MIT\\2019\\TP\\Project\\Meal-Compliance-Project\\Additional-Data-Creator\\OutputData\\XTest\\\n",
      "C:\\Users\\theza\\Documents\\Uni\\MIT\\2019\\TP\\Project\\Meal-Compliance-Project\\Additional-Data-Creator\\Output\\Images\\6i.jpg\n",
      "C:\\Users\\theza\\Documents\\Uni\\MIT\\2019\\TP\\Project\\Meal-Compliance-Project\\Additional-Data-Creator\\OutputData\\XTest\\\n"
     ]
    },
    {
     "name": "stdout",
     "output_type": "stream",
     "text": [
      "C:\\Users\\theza\\Documents\\Uni\\MIT\\2019\\TP\\Project\\Meal-Compliance-Project\\Additional-Data-Creator\\Output\\Images\\4s.jpg\n",
      "C:\\Users\\theza\\Documents\\Uni\\MIT\\2019\\TP\\Project\\Meal-Compliance-Project\\Additional-Data-Creator\\OutputData\\XTest\\\n",
      "C:\\Users\\theza\\Documents\\Uni\\MIT\\2019\\TP\\Project\\Meal-Compliance-Project\\Additional-Data-Creator\\Output\\Images\\1s.jpg\n",
      "C:\\Users\\theza\\Documents\\Uni\\MIT\\2019\\TP\\Project\\Meal-Compliance-Project\\Additional-Data-Creator\\OutputData\\XTest\\\n",
      "C:\\Users\\theza\\Documents\\Uni\\MIT\\2019\\TP\\Project\\Meal-Compliance-Project\\Additional-Data-Creator\\Output\\Images\\3j.jpg\n",
      "C:\\Users\\theza\\Documents\\Uni\\MIT\\2019\\TP\\Project\\Meal-Compliance-Project\\Additional-Data-Creator\\OutputData\\XTest\\\n",
      "C:\\Users\\theza\\Documents\\Uni\\MIT\\2019\\TP\\Project\\Meal-Compliance-Project\\Additional-Data-Creator\\Output\\Images\\2e.jpg\n",
      "C:\\Users\\theza\\Documents\\Uni\\MIT\\2019\\TP\\Project\\Meal-Compliance-Project\\Additional-Data-Creator\\OutputData\\XTest\\\n",
      "C:\\Users\\theza\\Documents\\Uni\\MIT\\2019\\TP\\Project\\Meal-Compliance-Project\\Additional-Data-Creator\\Output\\Images\\3t.jpg\n",
      "C:\\Users\\theza\\Documents\\Uni\\MIT\\2019\\TP\\Project\\Meal-Compliance-Project\\Additional-Data-Creator\\OutputData\\XTest\\\n",
      "C:\\Users\\theza\\Documents\\Uni\\MIT\\2019\\TP\\Project\\Meal-Compliance-Project\\Additional-Data-Creator\\Output\\Images\\3i.jpg\n",
      "C:\\Users\\theza\\Documents\\Uni\\MIT\\2019\\TP\\Project\\Meal-Compliance-Project\\Additional-Data-Creator\\OutputData\\XTest\\\n",
      "C:\\Users\\theza\\Documents\\Uni\\MIT\\2019\\TP\\Project\\Meal-Compliance-Project\\Additional-Data-Creator\\Output\\Images\\1c.jpg\n",
      "C:\\Users\\theza\\Documents\\Uni\\MIT\\2019\\TP\\Project\\Meal-Compliance-Project\\Additional-Data-Creator\\OutputData\\XTest\\\n",
      "C:\\Users\\theza\\Documents\\Uni\\MIT\\2019\\TP\\Project\\Meal-Compliance-Project\\Additional-Data-Creator\\Output\\Images\\6m.jpg\n",
      "C:\\Users\\theza\\Documents\\Uni\\MIT\\2019\\TP\\Project\\Meal-Compliance-Project\\Additional-Data-Creator\\OutputData\\XTest\\\n",
      "C:\\Users\\theza\\Documents\\Uni\\MIT\\2019\\TP\\Project\\Meal-Compliance-Project\\Additional-Data-Creator\\Output\\Images\\2r.jpg\n",
      "C:\\Users\\theza\\Documents\\Uni\\MIT\\2019\\TP\\Project\\Meal-Compliance-Project\\Additional-Data-Creator\\OutputData\\XTest\\\n",
      "C:\\Users\\theza\\Documents\\Uni\\MIT\\2019\\TP\\Project\\Meal-Compliance-Project\\Additional-Data-Creator\\Output\\Images\\3o.jpg\n",
      "C:\\Users\\theza\\Documents\\Uni\\MIT\\2019\\TP\\Project\\Meal-Compliance-Project\\Additional-Data-Creator\\OutputData\\XTest\\\n",
      "C:\\Users\\theza\\Documents\\Uni\\MIT\\2019\\TP\\Project\\Meal-Compliance-Project\\Additional-Data-Creator\\Output\\Annotations\\1k.png\n",
      "C:\\Users\\theza\\Documents\\Uni\\MIT\\2019\\TP\\Project\\Meal-Compliance-Project\\Additional-Data-Creator\\OutputData\\yTrain\\\n",
      "C:\\Users\\theza\\Documents\\Uni\\MIT\\2019\\TP\\Project\\Meal-Compliance-Project\\Additional-Data-Creator\\Output\\Annotations\\6x.png\n",
      "C:\\Users\\theza\\Documents\\Uni\\MIT\\2019\\TP\\Project\\Meal-Compliance-Project\\Additional-Data-Creator\\OutputData\\yTrain\\\n",
      "C:\\Users\\theza\\Documents\\Uni\\MIT\\2019\\TP\\Project\\Meal-Compliance-Project\\Additional-Data-Creator\\Output\\Annotations\\5z.png\n",
      "C:\\Users\\theza\\Documents\\Uni\\MIT\\2019\\TP\\Project\\Meal-Compliance-Project\\Additional-Data-Creator\\OutputData\\yTrain\\\n",
      "C:\\Users\\theza\\Documents\\Uni\\MIT\\2019\\TP\\Project\\Meal-Compliance-Project\\Additional-Data-Creator\\Output\\Annotations\\6u.png\n",
      "C:\\Users\\theza\\Documents\\Uni\\MIT\\2019\\TP\\Project\\Meal-Compliance-Project\\Additional-Data-Creator\\OutputData\\yTrain\\\n",
      "C:\\Users\\theza\\Documents\\Uni\\MIT\\2019\\TP\\Project\\Meal-Compliance-Project\\Additional-Data-Creator\\Output\\Annotations\\6n.png\n",
      "C:\\Users\\theza\\Documents\\Uni\\MIT\\2019\\TP\\Project\\Meal-Compliance-Project\\Additional-Data-Creator\\OutputData\\yTrain\\\n",
      "C:\\Users\\theza\\Documents\\Uni\\MIT\\2019\\TP\\Project\\Meal-Compliance-Project\\Additional-Data-Creator\\Output\\Annotations\\3l.png\n",
      "C:\\Users\\theza\\Documents\\Uni\\MIT\\2019\\TP\\Project\\Meal-Compliance-Project\\Additional-Data-Creator\\OutputData\\yTrain\\\n",
      "C:\\Users\\theza\\Documents\\Uni\\MIT\\2019\\TP\\Project\\Meal-Compliance-Project\\Additional-Data-Creator\\Output\\Annotations\\5v.png\n",
      "C:\\Users\\theza\\Documents\\Uni\\MIT\\2019\\TP\\Project\\Meal-Compliance-Project\\Additional-Data-Creator\\OutputData\\yTrain\\\n",
      "C:\\Users\\theza\\Documents\\Uni\\MIT\\2019\\TP\\Project\\Meal-Compliance-Project\\Additional-Data-Creator\\Output\\Annotations\\4l.png\n",
      "C:\\Users\\theza\\Documents\\Uni\\MIT\\2019\\TP\\Project\\Meal-Compliance-Project\\Additional-Data-Creator\\OutputData\\yTrain\\\n",
      "C:\\Users\\theza\\Documents\\Uni\\MIT\\2019\\TP\\Project\\Meal-Compliance-Project\\Additional-Data-Creator\\Output\\Annotations\\6l.png\n",
      "C:\\Users\\theza\\Documents\\Uni\\MIT\\2019\\TP\\Project\\Meal-Compliance-Project\\Additional-Data-Creator\\OutputData\\yTrain\\\n",
      "C:\\Users\\theza\\Documents\\Uni\\MIT\\2019\\TP\\Project\\Meal-Compliance-Project\\Additional-Data-Creator\\Output\\Annotations\\4r.png\n",
      "C:\\Users\\theza\\Documents\\Uni\\MIT\\2019\\TP\\Project\\Meal-Compliance-Project\\Additional-Data-Creator\\OutputData\\yTrain\\\n",
      "C:\\Users\\theza\\Documents\\Uni\\MIT\\2019\\TP\\Project\\Meal-Compliance-Project\\Additional-Data-Creator\\Output\\Annotations\\6b.png\n",
      "C:\\Users\\theza\\Documents\\Uni\\MIT\\2019\\TP\\Project\\Meal-Compliance-Project\\Additional-Data-Creator\\OutputData\\yTrain\\\n",
      "C:\\Users\\theza\\Documents\\Uni\\MIT\\2019\\TP\\Project\\Meal-Compliance-Project\\Additional-Data-Creator\\Output\\Annotations\\3v.png\n",
      "C:\\Users\\theza\\Documents\\Uni\\MIT\\2019\\TP\\Project\\Meal-Compliance-Project\\Additional-Data-Creator\\OutputData\\yTrain\\\n",
      "C:\\Users\\theza\\Documents\\Uni\\MIT\\2019\\TP\\Project\\Meal-Compliance-Project\\Additional-Data-Creator\\Output\\Annotations\\6y.png\n",
      "C:\\Users\\theza\\Documents\\Uni\\MIT\\2019\\TP\\Project\\Meal-Compliance-Project\\Additional-Data-Creator\\OutputData\\yTrain\\\n",
      "C:\\Users\\theza\\Documents\\Uni\\MIT\\2019\\TP\\Project\\Meal-Compliance-Project\\Additional-Data-Creator\\Output\\Annotations\\5q.png\n",
      "C:\\Users\\theza\\Documents\\Uni\\MIT\\2019\\TP\\Project\\Meal-Compliance-Project\\Additional-Data-Creator\\OutputData\\yTrain\\\n",
      "C:\\Users\\theza\\Documents\\Uni\\MIT\\2019\\TP\\Project\\Meal-Compliance-Project\\Additional-Data-Creator\\Output\\Annotations\\2y.png\n",
      "C:\\Users\\theza\\Documents\\Uni\\MIT\\2019\\TP\\Project\\Meal-Compliance-Project\\Additional-Data-Creator\\OutputData\\yTrain\\\n",
      "C:\\Users\\theza\\Documents\\Uni\\MIT\\2019\\TP\\Project\\Meal-Compliance-Project\\Additional-Data-Creator\\Output\\Annotations\\4p.png\n",
      "C:\\Users\\theza\\Documents\\Uni\\MIT\\2019\\TP\\Project\\Meal-Compliance-Project\\Additional-Data-Creator\\OutputData\\yTrain\\\n",
      "C:\\Users\\theza\\Documents\\Uni\\MIT\\2019\\TP\\Project\\Meal-Compliance-Project\\Additional-Data-Creator\\Output\\Annotations\\3m.png\n",
      "C:\\Users\\theza\\Documents\\Uni\\MIT\\2019\\TP\\Project\\Meal-Compliance-Project\\Additional-Data-Creator\\OutputData\\yTrain\\\n",
      "C:\\Users\\theza\\Documents\\Uni\\MIT\\2019\\TP\\Project\\Meal-Compliance-Project\\Additional-Data-Creator\\Output\\Annotations\\4u.png\n",
      "C:\\Users\\theza\\Documents\\Uni\\MIT\\2019\\TP\\Project\\Meal-Compliance-Project\\Additional-Data-Creator\\OutputData\\yTrain\\\n",
      "C:\\Users\\theza\\Documents\\Uni\\MIT\\2019\\TP\\Project\\Meal-Compliance-Project\\Additional-Data-Creator\\Output\\Annotations\\4w.png\n",
      "C:\\Users\\theza\\Documents\\Uni\\MIT\\2019\\TP\\Project\\Meal-Compliance-Project\\Additional-Data-Creator\\OutputData\\yTrain\\\n",
      "C:\\Users\\theza\\Documents\\Uni\\MIT\\2019\\TP\\Project\\Meal-Compliance-Project\\Additional-Data-Creator\\Output\\Annotations\\3r.png\n",
      "C:\\Users\\theza\\Documents\\Uni\\MIT\\2019\\TP\\Project\\Meal-Compliance-Project\\Additional-Data-Creator\\OutputData\\yTrain\\\n",
      "C:\\Users\\theza\\Documents\\Uni\\MIT\\2019\\TP\\Project\\Meal-Compliance-Project\\Additional-Data-Creator\\Output\\Annotations\\2x.png\n",
      "C:\\Users\\theza\\Documents\\Uni\\MIT\\2019\\TP\\Project\\Meal-Compliance-Project\\Additional-Data-Creator\\OutputData\\yTrain\\\n",
      "C:\\Users\\theza\\Documents\\Uni\\MIT\\2019\\TP\\Project\\Meal-Compliance-Project\\Additional-Data-Creator\\Output\\Annotations\\2w.png\n",
      "C:\\Users\\theza\\Documents\\Uni\\MIT\\2019\\TP\\Project\\Meal-Compliance-Project\\Additional-Data-Creator\\OutputData\\yTrain\\\n",
      "C:\\Users\\theza\\Documents\\Uni\\MIT\\2019\\TP\\Project\\Meal-Compliance-Project\\Additional-Data-Creator\\Output\\Annotations\\1n.png\n",
      "C:\\Users\\theza\\Documents\\Uni\\MIT\\2019\\TP\\Project\\Meal-Compliance-Project\\Additional-Data-Creator\\OutputData\\yTrain\\\n",
      "C:\\Users\\theza\\Documents\\Uni\\MIT\\2019\\TP\\Project\\Meal-Compliance-Project\\Additional-Data-Creator\\Output\\Annotations\\5t.png\n",
      "C:\\Users\\theza\\Documents\\Uni\\MIT\\2019\\TP\\Project\\Meal-Compliance-Project\\Additional-Data-Creator\\OutputData\\yTrain\\\n",
      "C:\\Users\\theza\\Documents\\Uni\\MIT\\2019\\TP\\Project\\Meal-Compliance-Project\\Additional-Data-Creator\\Output\\Annotations\\5g.png\n",
      "C:\\Users\\theza\\Documents\\Uni\\MIT\\2019\\TP\\Project\\Meal-Compliance-Project\\Additional-Data-Creator\\OutputData\\yTrain\\\n",
      "C:\\Users\\theza\\Documents\\Uni\\MIT\\2019\\TP\\Project\\Meal-Compliance-Project\\Additional-Data-Creator\\Output\\Annotations\\1u.png\n",
      "C:\\Users\\theza\\Documents\\Uni\\MIT\\2019\\TP\\Project\\Meal-Compliance-Project\\Additional-Data-Creator\\OutputData\\yTrain\\\n",
      "C:\\Users\\theza\\Documents\\Uni\\MIT\\2019\\TP\\Project\\Meal-Compliance-Project\\Additional-Data-Creator\\Output\\Annotations\\1p.png\n",
      "C:\\Users\\theza\\Documents\\Uni\\MIT\\2019\\TP\\Project\\Meal-Compliance-Project\\Additional-Data-Creator\\OutputData\\yTrain\\\n"
     ]
    },
    {
     "name": "stdout",
     "output_type": "stream",
     "text": [
      "C:\\Users\\theza\\Documents\\Uni\\MIT\\2019\\TP\\Project\\Meal-Compliance-Project\\Additional-Data-Creator\\Output\\Annotations\\4a.png\n",
      "C:\\Users\\theza\\Documents\\Uni\\MIT\\2019\\TP\\Project\\Meal-Compliance-Project\\Additional-Data-Creator\\OutputData\\yTrain\\\n",
      "C:\\Users\\theza\\Documents\\Uni\\MIT\\2019\\TP\\Project\\Meal-Compliance-Project\\Additional-Data-Creator\\Output\\Annotations\\3a.png\n",
      "C:\\Users\\theza\\Documents\\Uni\\MIT\\2019\\TP\\Project\\Meal-Compliance-Project\\Additional-Data-Creator\\OutputData\\yTrain\\\n",
      "C:\\Users\\theza\\Documents\\Uni\\MIT\\2019\\TP\\Project\\Meal-Compliance-Project\\Additional-Data-Creator\\Output\\Annotations\\3y.png\n",
      "C:\\Users\\theza\\Documents\\Uni\\MIT\\2019\\TP\\Project\\Meal-Compliance-Project\\Additional-Data-Creator\\OutputData\\yTrain\\\n",
      "C:\\Users\\theza\\Documents\\Uni\\MIT\\2019\\TP\\Project\\Meal-Compliance-Project\\Additional-Data-Creator\\Output\\Annotations\\1d.png\n",
      "C:\\Users\\theza\\Documents\\Uni\\MIT\\2019\\TP\\Project\\Meal-Compliance-Project\\Additional-Data-Creator\\OutputData\\yTrain\\\n",
      "C:\\Users\\theza\\Documents\\Uni\\MIT\\2019\\TP\\Project\\Meal-Compliance-Project\\Additional-Data-Creator\\Output\\Annotations\\6z.png\n",
      "C:\\Users\\theza\\Documents\\Uni\\MIT\\2019\\TP\\Project\\Meal-Compliance-Project\\Additional-Data-Creator\\OutputData\\yTrain\\\n",
      "C:\\Users\\theza\\Documents\\Uni\\MIT\\2019\\TP\\Project\\Meal-Compliance-Project\\Additional-Data-Creator\\Output\\Annotations\\4i.png\n",
      "C:\\Users\\theza\\Documents\\Uni\\MIT\\2019\\TP\\Project\\Meal-Compliance-Project\\Additional-Data-Creator\\OutputData\\yTrain\\\n",
      "C:\\Users\\theza\\Documents\\Uni\\MIT\\2019\\TP\\Project\\Meal-Compliance-Project\\Additional-Data-Creator\\Output\\Annotations\\1g.png\n",
      "C:\\Users\\theza\\Documents\\Uni\\MIT\\2019\\TP\\Project\\Meal-Compliance-Project\\Additional-Data-Creator\\OutputData\\yTrain\\\n",
      "C:\\Users\\theza\\Documents\\Uni\\MIT\\2019\\TP\\Project\\Meal-Compliance-Project\\Additional-Data-Creator\\Output\\Annotations\\3q.png\n",
      "C:\\Users\\theza\\Documents\\Uni\\MIT\\2019\\TP\\Project\\Meal-Compliance-Project\\Additional-Data-Creator\\OutputData\\yTrain\\\n",
      "C:\\Users\\theza\\Documents\\Uni\\MIT\\2019\\TP\\Project\\Meal-Compliance-Project\\Additional-Data-Creator\\Output\\Annotations\\5r.png\n",
      "C:\\Users\\theza\\Documents\\Uni\\MIT\\2019\\TP\\Project\\Meal-Compliance-Project\\Additional-Data-Creator\\OutputData\\yTrain\\\n",
      "C:\\Users\\theza\\Documents\\Uni\\MIT\\2019\\TP\\Project\\Meal-Compliance-Project\\Additional-Data-Creator\\Output\\Annotations\\4g.png\n",
      "C:\\Users\\theza\\Documents\\Uni\\MIT\\2019\\TP\\Project\\Meal-Compliance-Project\\Additional-Data-Creator\\OutputData\\yTrain\\\n",
      "C:\\Users\\theza\\Documents\\Uni\\MIT\\2019\\TP\\Project\\Meal-Compliance-Project\\Additional-Data-Creator\\Output\\Annotations\\5c.png\n",
      "C:\\Users\\theza\\Documents\\Uni\\MIT\\2019\\TP\\Project\\Meal-Compliance-Project\\Additional-Data-Creator\\OutputData\\yTrain\\\n",
      "C:\\Users\\theza\\Documents\\Uni\\MIT\\2019\\TP\\Project\\Meal-Compliance-Project\\Additional-Data-Creator\\Output\\Annotations\\1m.png\n",
      "C:\\Users\\theza\\Documents\\Uni\\MIT\\2019\\TP\\Project\\Meal-Compliance-Project\\Additional-Data-Creator\\OutputData\\yTrain\\\n",
      "C:\\Users\\theza\\Documents\\Uni\\MIT\\2019\\TP\\Project\\Meal-Compliance-Project\\Additional-Data-Creator\\Output\\Annotations\\5j.png\n",
      "C:\\Users\\theza\\Documents\\Uni\\MIT\\2019\\TP\\Project\\Meal-Compliance-Project\\Additional-Data-Creator\\OutputData\\yTrain\\\n",
      "C:\\Users\\theza\\Documents\\Uni\\MIT\\2019\\TP\\Project\\Meal-Compliance-Project\\Additional-Data-Creator\\Output\\Annotations\\1o.png\n",
      "C:\\Users\\theza\\Documents\\Uni\\MIT\\2019\\TP\\Project\\Meal-Compliance-Project\\Additional-Data-Creator\\OutputData\\yTrain\\\n",
      "C:\\Users\\theza\\Documents\\Uni\\MIT\\2019\\TP\\Project\\Meal-Compliance-Project\\Additional-Data-Creator\\Output\\Annotations\\6f.png\n",
      "C:\\Users\\theza\\Documents\\Uni\\MIT\\2019\\TP\\Project\\Meal-Compliance-Project\\Additional-Data-Creator\\OutputData\\yTrain\\\n",
      "C:\\Users\\theza\\Documents\\Uni\\MIT\\2019\\TP\\Project\\Meal-Compliance-Project\\Additional-Data-Creator\\Output\\Annotations\\4n.png\n",
      "C:\\Users\\theza\\Documents\\Uni\\MIT\\2019\\TP\\Project\\Meal-Compliance-Project\\Additional-Data-Creator\\OutputData\\yTrain\\\n",
      "C:\\Users\\theza\\Documents\\Uni\\MIT\\2019\\TP\\Project\\Meal-Compliance-Project\\Additional-Data-Creator\\Output\\Annotations\\6d.png\n",
      "C:\\Users\\theza\\Documents\\Uni\\MIT\\2019\\TP\\Project\\Meal-Compliance-Project\\Additional-Data-Creator\\OutputData\\yTrain\\\n",
      "C:\\Users\\theza\\Documents\\Uni\\MIT\\2019\\TP\\Project\\Meal-Compliance-Project\\Additional-Data-Creator\\Output\\Annotations\\2u.png\n",
      "C:\\Users\\theza\\Documents\\Uni\\MIT\\2019\\TP\\Project\\Meal-Compliance-Project\\Additional-Data-Creator\\OutputData\\yTrain\\\n",
      "C:\\Users\\theza\\Documents\\Uni\\MIT\\2019\\TP\\Project\\Meal-Compliance-Project\\Additional-Data-Creator\\Output\\Annotations\\1l.png\n",
      "C:\\Users\\theza\\Documents\\Uni\\MIT\\2019\\TP\\Project\\Meal-Compliance-Project\\Additional-Data-Creator\\OutputData\\yTrain\\\n",
      "C:\\Users\\theza\\Documents\\Uni\\MIT\\2019\\TP\\Project\\Meal-Compliance-Project\\Additional-Data-Creator\\Output\\Annotations\\5s.png\n",
      "C:\\Users\\theza\\Documents\\Uni\\MIT\\2019\\TP\\Project\\Meal-Compliance-Project\\Additional-Data-Creator\\OutputData\\yTrain\\\n",
      "C:\\Users\\theza\\Documents\\Uni\\MIT\\2019\\TP\\Project\\Meal-Compliance-Project\\Additional-Data-Creator\\Output\\Annotations\\3f.png\n",
      "C:\\Users\\theza\\Documents\\Uni\\MIT\\2019\\TP\\Project\\Meal-Compliance-Project\\Additional-Data-Creator\\OutputData\\yTrain\\\n",
      "C:\\Users\\theza\\Documents\\Uni\\MIT\\2019\\TP\\Project\\Meal-Compliance-Project\\Additional-Data-Creator\\Output\\Annotations\\2p.png\n",
      "C:\\Users\\theza\\Documents\\Uni\\MIT\\2019\\TP\\Project\\Meal-Compliance-Project\\Additional-Data-Creator\\OutputData\\yTrain\\\n",
      "C:\\Users\\theza\\Documents\\Uni\\MIT\\2019\\TP\\Project\\Meal-Compliance-Project\\Additional-Data-Creator\\Output\\Annotations\\3n.png\n",
      "C:\\Users\\theza\\Documents\\Uni\\MIT\\2019\\TP\\Project\\Meal-Compliance-Project\\Additional-Data-Creator\\OutputData\\yTrain\\\n",
      "C:\\Users\\theza\\Documents\\Uni\\MIT\\2019\\TP\\Project\\Meal-Compliance-Project\\Additional-Data-Creator\\Output\\Annotations\\1b.png\n",
      "C:\\Users\\theza\\Documents\\Uni\\MIT\\2019\\TP\\Project\\Meal-Compliance-Project\\Additional-Data-Creator\\OutputData\\yTrain\\\n",
      "C:\\Users\\theza\\Documents\\Uni\\MIT\\2019\\TP\\Project\\Meal-Compliance-Project\\Additional-Data-Creator\\Output\\Annotations\\5w.png\n",
      "C:\\Users\\theza\\Documents\\Uni\\MIT\\2019\\TP\\Project\\Meal-Compliance-Project\\Additional-Data-Creator\\OutputData\\yTrain\\\n",
      "C:\\Users\\theza\\Documents\\Uni\\MIT\\2019\\TP\\Project\\Meal-Compliance-Project\\Additional-Data-Creator\\Output\\Annotations\\6o.png\n",
      "C:\\Users\\theza\\Documents\\Uni\\MIT\\2019\\TP\\Project\\Meal-Compliance-Project\\Additional-Data-Creator\\OutputData\\yTrain\\\n",
      "C:\\Users\\theza\\Documents\\Uni\\MIT\\2019\\TP\\Project\\Meal-Compliance-Project\\Additional-Data-Creator\\Output\\Annotations\\2q.png\n",
      "C:\\Users\\theza\\Documents\\Uni\\MIT\\2019\\TP\\Project\\Meal-Compliance-Project\\Additional-Data-Creator\\OutputData\\yTrain\\\n",
      "C:\\Users\\theza\\Documents\\Uni\\MIT\\2019\\TP\\Project\\Meal-Compliance-Project\\Additional-Data-Creator\\Output\\Annotations\\5b.png\n",
      "C:\\Users\\theza\\Documents\\Uni\\MIT\\2019\\TP\\Project\\Meal-Compliance-Project\\Additional-Data-Creator\\OutputData\\yTrain\\\n",
      "C:\\Users\\theza\\Documents\\Uni\\MIT\\2019\\TP\\Project\\Meal-Compliance-Project\\Additional-Data-Creator\\Output\\Annotations\\1e.png\n",
      "C:\\Users\\theza\\Documents\\Uni\\MIT\\2019\\TP\\Project\\Meal-Compliance-Project\\Additional-Data-Creator\\OutputData\\yTrain\\\n",
      "C:\\Users\\theza\\Documents\\Uni\\MIT\\2019\\TP\\Project\\Meal-Compliance-Project\\Additional-Data-Creator\\Output\\Annotations\\6e.png\n",
      "C:\\Users\\theza\\Documents\\Uni\\MIT\\2019\\TP\\Project\\Meal-Compliance-Project\\Additional-Data-Creator\\OutputData\\yTrain\\\n",
      "C:\\Users\\theza\\Documents\\Uni\\MIT\\2019\\TP\\Project\\Meal-Compliance-Project\\Additional-Data-Creator\\Output\\Annotations\\1r.png\n",
      "C:\\Users\\theza\\Documents\\Uni\\MIT\\2019\\TP\\Project\\Meal-Compliance-Project\\Additional-Data-Creator\\OutputData\\yTrain\\\n",
      "C:\\Users\\theza\\Documents\\Uni\\MIT\\2019\\TP\\Project\\Meal-Compliance-Project\\Additional-Data-Creator\\Output\\Annotations\\5a.png\n",
      "C:\\Users\\theza\\Documents\\Uni\\MIT\\2019\\TP\\Project\\Meal-Compliance-Project\\Additional-Data-Creator\\OutputData\\yTrain\\\n",
      "C:\\Users\\theza\\Documents\\Uni\\MIT\\2019\\TP\\Project\\Meal-Compliance-Project\\Additional-Data-Creator\\Output\\Annotations\\2m.png\n",
      "C:\\Users\\theza\\Documents\\Uni\\MIT\\2019\\TP\\Project\\Meal-Compliance-Project\\Additional-Data-Creator\\OutputData\\yTrain\\\n",
      "C:\\Users\\theza\\Documents\\Uni\\MIT\\2019\\TP\\Project\\Meal-Compliance-Project\\Additional-Data-Creator\\Output\\Annotations\\1f.png\n",
      "C:\\Users\\theza\\Documents\\Uni\\MIT\\2019\\TP\\Project\\Meal-Compliance-Project\\Additional-Data-Creator\\OutputData\\yTrain\\\n",
      "C:\\Users\\theza\\Documents\\Uni\\MIT\\2019\\TP\\Project\\Meal-Compliance-Project\\Additional-Data-Creator\\Output\\Annotations\\3b.png\n",
      "C:\\Users\\theza\\Documents\\Uni\\MIT\\2019\\TP\\Project\\Meal-Compliance-Project\\Additional-Data-Creator\\OutputData\\yTrain\\\n",
      "C:\\Users\\theza\\Documents\\Uni\\MIT\\2019\\TP\\Project\\Meal-Compliance-Project\\Additional-Data-Creator\\Output\\Annotations\\6t.png\n",
      "C:\\Users\\theza\\Documents\\Uni\\MIT\\2019\\TP\\Project\\Meal-Compliance-Project\\Additional-Data-Creator\\OutputData\\yTrain\\\n",
      "C:\\Users\\theza\\Documents\\Uni\\MIT\\2019\\TP\\Project\\Meal-Compliance-Project\\Additional-Data-Creator\\Output\\Annotations\\5u.png\n",
      "C:\\Users\\theza\\Documents\\Uni\\MIT\\2019\\TP\\Project\\Meal-Compliance-Project\\Additional-Data-Creator\\OutputData\\yTrain\\\n",
      "C:\\Users\\theza\\Documents\\Uni\\MIT\\2019\\TP\\Project\\Meal-Compliance-Project\\Additional-Data-Creator\\Output\\Annotations\\1a.png\n",
      "C:\\Users\\theza\\Documents\\Uni\\MIT\\2019\\TP\\Project\\Meal-Compliance-Project\\Additional-Data-Creator\\OutputData\\yTrain\\\n",
      "C:\\Users\\theza\\Documents\\Uni\\MIT\\2019\\TP\\Project\\Meal-Compliance-Project\\Additional-Data-Creator\\Output\\Annotations\\2i.png\n",
      "C:\\Users\\theza\\Documents\\Uni\\MIT\\2019\\TP\\Project\\Meal-Compliance-Project\\Additional-Data-Creator\\OutputData\\yTrain\\\n",
      "C:\\Users\\theza\\Documents\\Uni\\MIT\\2019\\TP\\Project\\Meal-Compliance-Project\\Additional-Data-Creator\\Output\\Annotations\\2c.png\n",
      "C:\\Users\\theza\\Documents\\Uni\\MIT\\2019\\TP\\Project\\Meal-Compliance-Project\\Additional-Data-Creator\\OutputData\\yTrain\\\n",
      "C:\\Users\\theza\\Documents\\Uni\\MIT\\2019\\TP\\Project\\Meal-Compliance-Project\\Additional-Data-Creator\\Output\\Annotations\\3d.png\n",
      "C:\\Users\\theza\\Documents\\Uni\\MIT\\2019\\TP\\Project\\Meal-Compliance-Project\\Additional-Data-Creator\\OutputData\\yTrain\\\n",
      "C:\\Users\\theza\\Documents\\Uni\\MIT\\2019\\TP\\Project\\Meal-Compliance-Project\\Additional-Data-Creator\\Output\\Annotations\\5k.png\n",
      "C:\\Users\\theza\\Documents\\Uni\\MIT\\2019\\TP\\Project\\Meal-Compliance-Project\\Additional-Data-Creator\\OutputData\\yTrain\\\n",
      "C:\\Users\\theza\\Documents\\Uni\\MIT\\2019\\TP\\Project\\Meal-Compliance-Project\\Additional-Data-Creator\\Output\\Annotations\\3x.png\n",
      "C:\\Users\\theza\\Documents\\Uni\\MIT\\2019\\TP\\Project\\Meal-Compliance-Project\\Additional-Data-Creator\\OutputData\\yTrain\\\n",
      "C:\\Users\\theza\\Documents\\Uni\\MIT\\2019\\TP\\Project\\Meal-Compliance-Project\\Additional-Data-Creator\\Output\\Annotations\\2j.png\n",
      "C:\\Users\\theza\\Documents\\Uni\\MIT\\2019\\TP\\Project\\Meal-Compliance-Project\\Additional-Data-Creator\\OutputData\\yTrain\\\n",
      "C:\\Users\\theza\\Documents\\Uni\\MIT\\2019\\TP\\Project\\Meal-Compliance-Project\\Additional-Data-Creator\\Output\\Annotations\\1x.png\n",
      "C:\\Users\\theza\\Documents\\Uni\\MIT\\2019\\TP\\Project\\Meal-Compliance-Project\\Additional-Data-Creator\\OutputData\\yTrain\\\n",
      "C:\\Users\\theza\\Documents\\Uni\\MIT\\2019\\TP\\Project\\Meal-Compliance-Project\\Additional-Data-Creator\\Output\\Annotations\\5m.png\n",
      "C:\\Users\\theza\\Documents\\Uni\\MIT\\2019\\TP\\Project\\Meal-Compliance-Project\\Additional-Data-Creator\\OutputData\\yTrain\\\n",
      "C:\\Users\\theza\\Documents\\Uni\\MIT\\2019\\TP\\Project\\Meal-Compliance-Project\\Additional-Data-Creator\\Output\\Annotations\\3w.png\n",
      "C:\\Users\\theza\\Documents\\Uni\\MIT\\2019\\TP\\Project\\Meal-Compliance-Project\\Additional-Data-Creator\\OutputData\\yTrain\\\n",
      "C:\\Users\\theza\\Documents\\Uni\\MIT\\2019\\TP\\Project\\Meal-Compliance-Project\\Additional-Data-Creator\\Output\\Annotations\\2f.png\n",
      "C:\\Users\\theza\\Documents\\Uni\\MIT\\2019\\TP\\Project\\Meal-Compliance-Project\\Additional-Data-Creator\\OutputData\\yTrain\\\n",
      "C:\\Users\\theza\\Documents\\Uni\\MIT\\2019\\TP\\Project\\Meal-Compliance-Project\\Additional-Data-Creator\\Output\\Annotations\\6a.png\n",
      "C:\\Users\\theza\\Documents\\Uni\\MIT\\2019\\TP\\Project\\Meal-Compliance-Project\\Additional-Data-Creator\\OutputData\\yTrain\\\n",
      "C:\\Users\\theza\\Documents\\Uni\\MIT\\2019\\TP\\Project\\Meal-Compliance-Project\\Additional-Data-Creator\\Output\\Annotations\\5x.png\n",
      "C:\\Users\\theza\\Documents\\Uni\\MIT\\2019\\TP\\Project\\Meal-Compliance-Project\\Additional-Data-Creator\\OutputData\\yTrain\\\n",
      "C:\\Users\\theza\\Documents\\Uni\\MIT\\2019\\TP\\Project\\Meal-Compliance-Project\\Additional-Data-Creator\\Output\\Annotations\\6g.png\n",
      "C:\\Users\\theza\\Documents\\Uni\\MIT\\2019\\TP\\Project\\Meal-Compliance-Project\\Additional-Data-Creator\\OutputData\\yTrain\\\n",
      "C:\\Users\\theza\\Documents\\Uni\\MIT\\2019\\TP\\Project\\Meal-Compliance-Project\\Additional-Data-Creator\\Output\\Annotations\\2g.png\n",
      "C:\\Users\\theza\\Documents\\Uni\\MIT\\2019\\TP\\Project\\Meal-Compliance-Project\\Additional-Data-Creator\\OutputData\\yTrain\\\n",
      "C:\\Users\\theza\\Documents\\Uni\\MIT\\2019\\TP\\Project\\Meal-Compliance-Project\\Additional-Data-Creator\\Output\\Annotations\\2d.png\n",
      "C:\\Users\\theza\\Documents\\Uni\\MIT\\2019\\TP\\Project\\Meal-Compliance-Project\\Additional-Data-Creator\\OutputData\\yTrain\\\n",
      "C:\\Users\\theza\\Documents\\Uni\\MIT\\2019\\TP\\Project\\Meal-Compliance-Project\\Additional-Data-Creator\\Output\\Annotations\\4v.png\n",
      "C:\\Users\\theza\\Documents\\Uni\\MIT\\2019\\TP\\Project\\Meal-Compliance-Project\\Additional-Data-Creator\\OutputData\\yTrain\\\n",
      "C:\\Users\\theza\\Documents\\Uni\\MIT\\2019\\TP\\Project\\Meal-Compliance-Project\\Additional-Data-Creator\\Output\\Annotations\\4e.png\n",
      "C:\\Users\\theza\\Documents\\Uni\\MIT\\2019\\TP\\Project\\Meal-Compliance-Project\\Additional-Data-Creator\\OutputData\\yTrain\\\n",
      "C:\\Users\\theza\\Documents\\Uni\\MIT\\2019\\TP\\Project\\Meal-Compliance-Project\\Additional-Data-Creator\\Output\\Annotations\\4b.png\n",
      "C:\\Users\\theza\\Documents\\Uni\\MIT\\2019\\TP\\Project\\Meal-Compliance-Project\\Additional-Data-Creator\\OutputData\\yTrain\\\n",
      "C:\\Users\\theza\\Documents\\Uni\\MIT\\2019\\TP\\Project\\Meal-Compliance-Project\\Additional-Data-Creator\\Output\\Annotations\\5l.png\n",
      "C:\\Users\\theza\\Documents\\Uni\\MIT\\2019\\TP\\Project\\Meal-Compliance-Project\\Additional-Data-Creator\\OutputData\\yTrain\\\n",
      "C:\\Users\\theza\\Documents\\Uni\\MIT\\2019\\TP\\Project\\Meal-Compliance-Project\\Additional-Data-Creator\\Output\\Annotations\\6v.png\n",
      "C:\\Users\\theza\\Documents\\Uni\\MIT\\2019\\TP\\Project\\Meal-Compliance-Project\\Additional-Data-Creator\\OutputData\\yTrain\\\n",
      "C:\\Users\\theza\\Documents\\Uni\\MIT\\2019\\TP\\Project\\Meal-Compliance-Project\\Additional-Data-Creator\\Output\\Annotations\\3u.png\n",
      "C:\\Users\\theza\\Documents\\Uni\\MIT\\2019\\TP\\Project\\Meal-Compliance-Project\\Additional-Data-Creator\\OutputData\\yTrain\\\n"
     ]
    },
    {
     "name": "stdout",
     "output_type": "stream",
     "text": [
      "C:\\Users\\theza\\Documents\\Uni\\MIT\\2019\\TP\\Project\\Meal-Compliance-Project\\Additional-Data-Creator\\Output\\Annotations\\3z.png\n",
      "C:\\Users\\theza\\Documents\\Uni\\MIT\\2019\\TP\\Project\\Meal-Compliance-Project\\Additional-Data-Creator\\OutputData\\yTrain\\\n",
      "C:\\Users\\theza\\Documents\\Uni\\MIT\\2019\\TP\\Project\\Meal-Compliance-Project\\Additional-Data-Creator\\Output\\Annotations\\1z.png\n",
      "C:\\Users\\theza\\Documents\\Uni\\MIT\\2019\\TP\\Project\\Meal-Compliance-Project\\Additional-Data-Creator\\OutputData\\yTrain\\\n",
      "C:\\Users\\theza\\Documents\\Uni\\MIT\\2019\\TP\\Project\\Meal-Compliance-Project\\Additional-Data-Creator\\Output\\Annotations\\4d.png\n",
      "C:\\Users\\theza\\Documents\\Uni\\MIT\\2019\\TP\\Project\\Meal-Compliance-Project\\Additional-Data-Creator\\OutputData\\yTrain\\\n",
      "C:\\Users\\theza\\Documents\\Uni\\MIT\\2019\\TP\\Project\\Meal-Compliance-Project\\Additional-Data-Creator\\Output\\Annotations\\6q.png\n",
      "C:\\Users\\theza\\Documents\\Uni\\MIT\\2019\\TP\\Project\\Meal-Compliance-Project\\Additional-Data-Creator\\OutputData\\yTrain\\\n",
      "C:\\Users\\theza\\Documents\\Uni\\MIT\\2019\\TP\\Project\\Meal-Compliance-Project\\Additional-Data-Creator\\Output\\Annotations\\6s.png\n",
      "C:\\Users\\theza\\Documents\\Uni\\MIT\\2019\\TP\\Project\\Meal-Compliance-Project\\Additional-Data-Creator\\OutputData\\yTrain\\\n",
      "C:\\Users\\theza\\Documents\\Uni\\MIT\\2019\\TP\\Project\\Meal-Compliance-Project\\Additional-Data-Creator\\Output\\Annotations\\2n.png\n",
      "C:\\Users\\theza\\Documents\\Uni\\MIT\\2019\\TP\\Project\\Meal-Compliance-Project\\Additional-Data-Creator\\OutputData\\yTrain\\\n",
      "C:\\Users\\theza\\Documents\\Uni\\MIT\\2019\\TP\\Project\\Meal-Compliance-Project\\Additional-Data-Creator\\Output\\Annotations\\3g.png\n",
      "C:\\Users\\theza\\Documents\\Uni\\MIT\\2019\\TP\\Project\\Meal-Compliance-Project\\Additional-Data-Creator\\OutputData\\yTrain\\\n",
      "C:\\Users\\theza\\Documents\\Uni\\MIT\\2019\\TP\\Project\\Meal-Compliance-Project\\Additional-Data-Creator\\Output\\Annotations\\6k.png\n",
      "C:\\Users\\theza\\Documents\\Uni\\MIT\\2019\\TP\\Project\\Meal-Compliance-Project\\Additional-Data-Creator\\OutputData\\yTrain\\\n",
      "C:\\Users\\theza\\Documents\\Uni\\MIT\\2019\\TP\\Project\\Meal-Compliance-Project\\Additional-Data-Creator\\Output\\Annotations\\4k.png\n",
      "C:\\Users\\theza\\Documents\\Uni\\MIT\\2019\\TP\\Project\\Meal-Compliance-Project\\Additional-Data-Creator\\OutputData\\yTrain\\\n",
      "C:\\Users\\theza\\Documents\\Uni\\MIT\\2019\\TP\\Project\\Meal-Compliance-Project\\Additional-Data-Creator\\Output\\Annotations\\3s.png\n",
      "C:\\Users\\theza\\Documents\\Uni\\MIT\\2019\\TP\\Project\\Meal-Compliance-Project\\Additional-Data-Creator\\OutputData\\yTrain\\\n",
      "C:\\Users\\theza\\Documents\\Uni\\MIT\\2019\\TP\\Project\\Meal-Compliance-Project\\Additional-Data-Creator\\Output\\Annotations\\4j.png\n",
      "C:\\Users\\theza\\Documents\\Uni\\MIT\\2019\\TP\\Project\\Meal-Compliance-Project\\Additional-Data-Creator\\OutputData\\yTrain\\\n",
      "C:\\Users\\theza\\Documents\\Uni\\MIT\\2019\\TP\\Project\\Meal-Compliance-Project\\Additional-Data-Creator\\Output\\Annotations\\2k.png\n",
      "C:\\Users\\theza\\Documents\\Uni\\MIT\\2019\\TP\\Project\\Meal-Compliance-Project\\Additional-Data-Creator\\OutputData\\yTrain\\\n",
      "C:\\Users\\theza\\Documents\\Uni\\MIT\\2019\\TP\\Project\\Meal-Compliance-Project\\Additional-Data-Creator\\Output\\Annotations\\1v.png\n",
      "C:\\Users\\theza\\Documents\\Uni\\MIT\\2019\\TP\\Project\\Meal-Compliance-Project\\Additional-Data-Creator\\OutputData\\yTrain\\\n",
      "C:\\Users\\theza\\Documents\\Uni\\MIT\\2019\\TP\\Project\\Meal-Compliance-Project\\Additional-Data-Creator\\Output\\Annotations\\1j.png\n",
      "C:\\Users\\theza\\Documents\\Uni\\MIT\\2019\\TP\\Project\\Meal-Compliance-Project\\Additional-Data-Creator\\OutputData\\yTrain\\\n",
      "C:\\Users\\theza\\Documents\\Uni\\MIT\\2019\\TP\\Project\\Meal-Compliance-Project\\Additional-Data-Creator\\Output\\Annotations\\4z.png\n",
      "C:\\Users\\theza\\Documents\\Uni\\MIT\\2019\\TP\\Project\\Meal-Compliance-Project\\Additional-Data-Creator\\OutputData\\yTrain\\\n",
      "C:\\Users\\theza\\Documents\\Uni\\MIT\\2019\\TP\\Project\\Meal-Compliance-Project\\Additional-Data-Creator\\Output\\Annotations\\3p.png\n",
      "C:\\Users\\theza\\Documents\\Uni\\MIT\\2019\\TP\\Project\\Meal-Compliance-Project\\Additional-Data-Creator\\OutputData\\yTrain\\\n",
      "C:\\Users\\theza\\Documents\\Uni\\MIT\\2019\\TP\\Project\\Meal-Compliance-Project\\Additional-Data-Creator\\Output\\Annotations\\5n.png\n",
      "C:\\Users\\theza\\Documents\\Uni\\MIT\\2019\\TP\\Project\\Meal-Compliance-Project\\Additional-Data-Creator\\OutputData\\yTrain\\\n",
      "C:\\Users\\theza\\Documents\\Uni\\MIT\\2019\\TP\\Project\\Meal-Compliance-Project\\Additional-Data-Creator\\Output\\Annotations\\2v.png\n",
      "C:\\Users\\theza\\Documents\\Uni\\MIT\\2019\\TP\\Project\\Meal-Compliance-Project\\Additional-Data-Creator\\OutputData\\yTrain\\\n",
      "C:\\Users\\theza\\Documents\\Uni\\MIT\\2019\\TP\\Project\\Meal-Compliance-Project\\Additional-Data-Creator\\Output\\Annotations\\2a.png\n",
      "C:\\Users\\theza\\Documents\\Uni\\MIT\\2019\\TP\\Project\\Meal-Compliance-Project\\Additional-Data-Creator\\OutputData\\yTest\\\n",
      "C:\\Users\\theza\\Documents\\Uni\\MIT\\2019\\TP\\Project\\Meal-Compliance-Project\\Additional-Data-Creator\\Output\\Annotations\\3c.png\n",
      "C:\\Users\\theza\\Documents\\Uni\\MIT\\2019\\TP\\Project\\Meal-Compliance-Project\\Additional-Data-Creator\\OutputData\\yTest\\\n",
      "C:\\Users\\theza\\Documents\\Uni\\MIT\\2019\\TP\\Project\\Meal-Compliance-Project\\Additional-Data-Creator\\Output\\Annotations\\2l.png\n",
      "C:\\Users\\theza\\Documents\\Uni\\MIT\\2019\\TP\\Project\\Meal-Compliance-Project\\Additional-Data-Creator\\OutputData\\yTest\\\n",
      "C:\\Users\\theza\\Documents\\Uni\\MIT\\2019\\TP\\Project\\Meal-Compliance-Project\\Additional-Data-Creator\\Output\\Annotations\\5i.png\n",
      "C:\\Users\\theza\\Documents\\Uni\\MIT\\2019\\TP\\Project\\Meal-Compliance-Project\\Additional-Data-Creator\\OutputData\\yTest\\\n",
      "C:\\Users\\theza\\Documents\\Uni\\MIT\\2019\\TP\\Project\\Meal-Compliance-Project\\Additional-Data-Creator\\Output\\Annotations\\1y.png\n",
      "C:\\Users\\theza\\Documents\\Uni\\MIT\\2019\\TP\\Project\\Meal-Compliance-Project\\Additional-Data-Creator\\OutputData\\yTest\\\n",
      "C:\\Users\\theza\\Documents\\Uni\\MIT\\2019\\TP\\Project\\Meal-Compliance-Project\\Additional-Data-Creator\\Output\\Annotations\\1h.png\n",
      "C:\\Users\\theza\\Documents\\Uni\\MIT\\2019\\TP\\Project\\Meal-Compliance-Project\\Additional-Data-Creator\\OutputData\\yTest\\\n",
      "C:\\Users\\theza\\Documents\\Uni\\MIT\\2019\\TP\\Project\\Meal-Compliance-Project\\Additional-Data-Creator\\Output\\Annotations\\2t.png\n",
      "C:\\Users\\theza\\Documents\\Uni\\MIT\\2019\\TP\\Project\\Meal-Compliance-Project\\Additional-Data-Creator\\OutputData\\yTest\\\n",
      "C:\\Users\\theza\\Documents\\Uni\\MIT\\2019\\TP\\Project\\Meal-Compliance-Project\\Additional-Data-Creator\\Output\\Annotations\\5d.png\n",
      "C:\\Users\\theza\\Documents\\Uni\\MIT\\2019\\TP\\Project\\Meal-Compliance-Project\\Additional-Data-Creator\\OutputData\\yTest\\\n",
      "C:\\Users\\theza\\Documents\\Uni\\MIT\\2019\\TP\\Project\\Meal-Compliance-Project\\Additional-Data-Creator\\Output\\Annotations\\6h.png\n",
      "C:\\Users\\theza\\Documents\\Uni\\MIT\\2019\\TP\\Project\\Meal-Compliance-Project\\Additional-Data-Creator\\OutputData\\yTest\\\n",
      "C:\\Users\\theza\\Documents\\Uni\\MIT\\2019\\TP\\Project\\Meal-Compliance-Project\\Additional-Data-Creator\\Output\\Annotations\\2o.png\n",
      "C:\\Users\\theza\\Documents\\Uni\\MIT\\2019\\TP\\Project\\Meal-Compliance-Project\\Additional-Data-Creator\\OutputData\\yTest\\\n",
      "C:\\Users\\theza\\Documents\\Uni\\MIT\\2019\\TP\\Project\\Meal-Compliance-Project\\Additional-Data-Creator\\Output\\Annotations\\4m.png\n",
      "C:\\Users\\theza\\Documents\\Uni\\MIT\\2019\\TP\\Project\\Meal-Compliance-Project\\Additional-Data-Creator\\OutputData\\yTest\\\n",
      "C:\\Users\\theza\\Documents\\Uni\\MIT\\2019\\TP\\Project\\Meal-Compliance-Project\\Additional-Data-Creator\\Output\\Annotations\\2z.png\n",
      "C:\\Users\\theza\\Documents\\Uni\\MIT\\2019\\TP\\Project\\Meal-Compliance-Project\\Additional-Data-Creator\\OutputData\\yTest\\\n",
      "C:\\Users\\theza\\Documents\\Uni\\MIT\\2019\\TP\\Project\\Meal-Compliance-Project\\Additional-Data-Creator\\Output\\Annotations\\5e.png\n",
      "C:\\Users\\theza\\Documents\\Uni\\MIT\\2019\\TP\\Project\\Meal-Compliance-Project\\Additional-Data-Creator\\OutputData\\yTest\\\n",
      "C:\\Users\\theza\\Documents\\Uni\\MIT\\2019\\TP\\Project\\Meal-Compliance-Project\\Additional-Data-Creator\\Output\\Annotations\\5p.png\n",
      "C:\\Users\\theza\\Documents\\Uni\\MIT\\2019\\TP\\Project\\Meal-Compliance-Project\\Additional-Data-Creator\\OutputData\\yTest\\\n",
      "C:\\Users\\theza\\Documents\\Uni\\MIT\\2019\\TP\\Project\\Meal-Compliance-Project\\Additional-Data-Creator\\Output\\Annotations\\3e.png\n",
      "C:\\Users\\theza\\Documents\\Uni\\MIT\\2019\\TP\\Project\\Meal-Compliance-Project\\Additional-Data-Creator\\OutputData\\yTest\\\n",
      "C:\\Users\\theza\\Documents\\Uni\\MIT\\2019\\TP\\Project\\Meal-Compliance-Project\\Additional-Data-Creator\\Output\\Annotations\\6r.png\n",
      "C:\\Users\\theza\\Documents\\Uni\\MIT\\2019\\TP\\Project\\Meal-Compliance-Project\\Additional-Data-Creator\\OutputData\\yTest\\\n",
      "C:\\Users\\theza\\Documents\\Uni\\MIT\\2019\\TP\\Project\\Meal-Compliance-Project\\Additional-Data-Creator\\Output\\Annotations\\2h.png\n",
      "C:\\Users\\theza\\Documents\\Uni\\MIT\\2019\\TP\\Project\\Meal-Compliance-Project\\Additional-Data-Creator\\OutputData\\yTest\\\n",
      "C:\\Users\\theza\\Documents\\Uni\\MIT\\2019\\TP\\Project\\Meal-Compliance-Project\\Additional-Data-Creator\\Output\\Annotations\\5o.png\n",
      "C:\\Users\\theza\\Documents\\Uni\\MIT\\2019\\TP\\Project\\Meal-Compliance-Project\\Additional-Data-Creator\\OutputData\\yTest\\\n",
      "C:\\Users\\theza\\Documents\\Uni\\MIT\\2019\\TP\\Project\\Meal-Compliance-Project\\Additional-Data-Creator\\Output\\Annotations\\2s.png\n",
      "C:\\Users\\theza\\Documents\\Uni\\MIT\\2019\\TP\\Project\\Meal-Compliance-Project\\Additional-Data-Creator\\OutputData\\yTest\\\n",
      "C:\\Users\\theza\\Documents\\Uni\\MIT\\2019\\TP\\Project\\Meal-Compliance-Project\\Additional-Data-Creator\\Output\\Annotations\\5y.png\n",
      "C:\\Users\\theza\\Documents\\Uni\\MIT\\2019\\TP\\Project\\Meal-Compliance-Project\\Additional-Data-Creator\\OutputData\\yTest\\\n",
      "C:\\Users\\theza\\Documents\\Uni\\MIT\\2019\\TP\\Project\\Meal-Compliance-Project\\Additional-Data-Creator\\Output\\Annotations\\6p.png\n",
      "C:\\Users\\theza\\Documents\\Uni\\MIT\\2019\\TP\\Project\\Meal-Compliance-Project\\Additional-Data-Creator\\OutputData\\yTest\\\n",
      "C:\\Users\\theza\\Documents\\Uni\\MIT\\2019\\TP\\Project\\Meal-Compliance-Project\\Additional-Data-Creator\\Output\\Annotations\\1i.png\n",
      "C:\\Users\\theza\\Documents\\Uni\\MIT\\2019\\TP\\Project\\Meal-Compliance-Project\\Additional-Data-Creator\\OutputData\\yTest\\\n",
      "C:\\Users\\theza\\Documents\\Uni\\MIT\\2019\\TP\\Project\\Meal-Compliance-Project\\Additional-Data-Creator\\Output\\Annotations\\6j.png\n",
      "C:\\Users\\theza\\Documents\\Uni\\MIT\\2019\\TP\\Project\\Meal-Compliance-Project\\Additional-Data-Creator\\OutputData\\yTest\\\n",
      "C:\\Users\\theza\\Documents\\Uni\\MIT\\2019\\TP\\Project\\Meal-Compliance-Project\\Additional-Data-Creator\\Output\\Annotations\\3h.png\n"
     ]
    },
    {
     "name": "stdout",
     "output_type": "stream",
     "text": [
      "C:\\Users\\theza\\Documents\\Uni\\MIT\\2019\\TP\\Project\\Meal-Compliance-Project\\Additional-Data-Creator\\OutputData\\yTest\\\n",
      "C:\\Users\\theza\\Documents\\Uni\\MIT\\2019\\TP\\Project\\Meal-Compliance-Project\\Additional-Data-Creator\\Output\\Annotations\\5h.png\n",
      "C:\\Users\\theza\\Documents\\Uni\\MIT\\2019\\TP\\Project\\Meal-Compliance-Project\\Additional-Data-Creator\\OutputData\\yTest\\\n",
      "C:\\Users\\theza\\Documents\\Uni\\MIT\\2019\\TP\\Project\\Meal-Compliance-Project\\Additional-Data-Creator\\Output\\Annotations\\6w.png\n",
      "C:\\Users\\theza\\Documents\\Uni\\MIT\\2019\\TP\\Project\\Meal-Compliance-Project\\Additional-Data-Creator\\OutputData\\yTest\\\n",
      "C:\\Users\\theza\\Documents\\Uni\\MIT\\2019\\TP\\Project\\Meal-Compliance-Project\\Additional-Data-Creator\\Output\\Annotations\\4h.png\n",
      "C:\\Users\\theza\\Documents\\Uni\\MIT\\2019\\TP\\Project\\Meal-Compliance-Project\\Additional-Data-Creator\\OutputData\\yTest\\\n",
      "C:\\Users\\theza\\Documents\\Uni\\MIT\\2019\\TP\\Project\\Meal-Compliance-Project\\Additional-Data-Creator\\Output\\Annotations\\3k.png\n",
      "C:\\Users\\theza\\Documents\\Uni\\MIT\\2019\\TP\\Project\\Meal-Compliance-Project\\Additional-Data-Creator\\OutputData\\yTest\\\n",
      "C:\\Users\\theza\\Documents\\Uni\\MIT\\2019\\TP\\Project\\Meal-Compliance-Project\\Additional-Data-Creator\\Output\\Annotations\\4f.png\n",
      "C:\\Users\\theza\\Documents\\Uni\\MIT\\2019\\TP\\Project\\Meal-Compliance-Project\\Additional-Data-Creator\\OutputData\\yTest\\\n",
      "C:\\Users\\theza\\Documents\\Uni\\MIT\\2019\\TP\\Project\\Meal-Compliance-Project\\Additional-Data-Creator\\Output\\Annotations\\4q.png\n",
      "C:\\Users\\theza\\Documents\\Uni\\MIT\\2019\\TP\\Project\\Meal-Compliance-Project\\Additional-Data-Creator\\OutputData\\yTest\\\n",
      "C:\\Users\\theza\\Documents\\Uni\\MIT\\2019\\TP\\Project\\Meal-Compliance-Project\\Additional-Data-Creator\\Output\\Annotations\\1q.png\n",
      "C:\\Users\\theza\\Documents\\Uni\\MIT\\2019\\TP\\Project\\Meal-Compliance-Project\\Additional-Data-Creator\\OutputData\\yTest\\\n",
      "C:\\Users\\theza\\Documents\\Uni\\MIT\\2019\\TP\\Project\\Meal-Compliance-Project\\Additional-Data-Creator\\Output\\Annotations\\1t.png\n",
      "C:\\Users\\theza\\Documents\\Uni\\MIT\\2019\\TP\\Project\\Meal-Compliance-Project\\Additional-Data-Creator\\OutputData\\yTest\\\n",
      "C:\\Users\\theza\\Documents\\Uni\\MIT\\2019\\TP\\Project\\Meal-Compliance-Project\\Additional-Data-Creator\\Output\\Annotations\\6c.png\n",
      "C:\\Users\\theza\\Documents\\Uni\\MIT\\2019\\TP\\Project\\Meal-Compliance-Project\\Additional-Data-Creator\\OutputData\\yTest\\\n",
      "C:\\Users\\theza\\Documents\\Uni\\MIT\\2019\\TP\\Project\\Meal-Compliance-Project\\Additional-Data-Creator\\Output\\Annotations\\4t.png\n",
      "C:\\Users\\theza\\Documents\\Uni\\MIT\\2019\\TP\\Project\\Meal-Compliance-Project\\Additional-Data-Creator\\OutputData\\yTest\\\n",
      "C:\\Users\\theza\\Documents\\Uni\\MIT\\2019\\TP\\Project\\Meal-Compliance-Project\\Additional-Data-Creator\\Output\\Annotations\\1w.png\n",
      "C:\\Users\\theza\\Documents\\Uni\\MIT\\2019\\TP\\Project\\Meal-Compliance-Project\\Additional-Data-Creator\\OutputData\\yTest\\\n",
      "C:\\Users\\theza\\Documents\\Uni\\MIT\\2019\\TP\\Project\\Meal-Compliance-Project\\Additional-Data-Creator\\Output\\Annotations\\4c.png\n",
      "C:\\Users\\theza\\Documents\\Uni\\MIT\\2019\\TP\\Project\\Meal-Compliance-Project\\Additional-Data-Creator\\OutputData\\yTest\\\n",
      "C:\\Users\\theza\\Documents\\Uni\\MIT\\2019\\TP\\Project\\Meal-Compliance-Project\\Additional-Data-Creator\\Output\\Annotations\\4x.png\n",
      "C:\\Users\\theza\\Documents\\Uni\\MIT\\2019\\TP\\Project\\Meal-Compliance-Project\\Additional-Data-Creator\\OutputData\\yTest\\\n",
      "C:\\Users\\theza\\Documents\\Uni\\MIT\\2019\\TP\\Project\\Meal-Compliance-Project\\Additional-Data-Creator\\Output\\Annotations\\4y.png\n",
      "C:\\Users\\theza\\Documents\\Uni\\MIT\\2019\\TP\\Project\\Meal-Compliance-Project\\Additional-Data-Creator\\OutputData\\yTest\\\n",
      "C:\\Users\\theza\\Documents\\Uni\\MIT\\2019\\TP\\Project\\Meal-Compliance-Project\\Additional-Data-Creator\\Output\\Annotations\\4o.png\n",
      "C:\\Users\\theza\\Documents\\Uni\\MIT\\2019\\TP\\Project\\Meal-Compliance-Project\\Additional-Data-Creator\\OutputData\\yTest\\\n",
      "C:\\Users\\theza\\Documents\\Uni\\MIT\\2019\\TP\\Project\\Meal-Compliance-Project\\Additional-Data-Creator\\Output\\Annotations\\2b.png\n",
      "C:\\Users\\theza\\Documents\\Uni\\MIT\\2019\\TP\\Project\\Meal-Compliance-Project\\Additional-Data-Creator\\OutputData\\yTest\\\n",
      "C:\\Users\\theza\\Documents\\Uni\\MIT\\2019\\TP\\Project\\Meal-Compliance-Project\\Additional-Data-Creator\\Output\\Annotations\\5f.png\n",
      "C:\\Users\\theza\\Documents\\Uni\\MIT\\2019\\TP\\Project\\Meal-Compliance-Project\\Additional-Data-Creator\\OutputData\\yTest\\\n",
      "C:\\Users\\theza\\Documents\\Uni\\MIT\\2019\\TP\\Project\\Meal-Compliance-Project\\Additional-Data-Creator\\Output\\Annotations\\6i.png\n",
      "C:\\Users\\theza\\Documents\\Uni\\MIT\\2019\\TP\\Project\\Meal-Compliance-Project\\Additional-Data-Creator\\OutputData\\yTest\\\n",
      "C:\\Users\\theza\\Documents\\Uni\\MIT\\2019\\TP\\Project\\Meal-Compliance-Project\\Additional-Data-Creator\\Output\\Annotations\\4s.png\n",
      "C:\\Users\\theza\\Documents\\Uni\\MIT\\2019\\TP\\Project\\Meal-Compliance-Project\\Additional-Data-Creator\\OutputData\\yTest\\\n",
      "C:\\Users\\theza\\Documents\\Uni\\MIT\\2019\\TP\\Project\\Meal-Compliance-Project\\Additional-Data-Creator\\Output\\Annotations\\1s.png\n",
      "C:\\Users\\theza\\Documents\\Uni\\MIT\\2019\\TP\\Project\\Meal-Compliance-Project\\Additional-Data-Creator\\OutputData\\yTest\\\n",
      "C:\\Users\\theza\\Documents\\Uni\\MIT\\2019\\TP\\Project\\Meal-Compliance-Project\\Additional-Data-Creator\\Output\\Annotations\\3j.png\n",
      "C:\\Users\\theza\\Documents\\Uni\\MIT\\2019\\TP\\Project\\Meal-Compliance-Project\\Additional-Data-Creator\\OutputData\\yTest\\\n",
      "C:\\Users\\theza\\Documents\\Uni\\MIT\\2019\\TP\\Project\\Meal-Compliance-Project\\Additional-Data-Creator\\Output\\Annotations\\2e.png\n",
      "C:\\Users\\theza\\Documents\\Uni\\MIT\\2019\\TP\\Project\\Meal-Compliance-Project\\Additional-Data-Creator\\OutputData\\yTest\\\n",
      "C:\\Users\\theza\\Documents\\Uni\\MIT\\2019\\TP\\Project\\Meal-Compliance-Project\\Additional-Data-Creator\\Output\\Annotations\\3t.png\n",
      "C:\\Users\\theza\\Documents\\Uni\\MIT\\2019\\TP\\Project\\Meal-Compliance-Project\\Additional-Data-Creator\\OutputData\\yTest\\\n",
      "C:\\Users\\theza\\Documents\\Uni\\MIT\\2019\\TP\\Project\\Meal-Compliance-Project\\Additional-Data-Creator\\Output\\Annotations\\3i.png\n",
      "C:\\Users\\theza\\Documents\\Uni\\MIT\\2019\\TP\\Project\\Meal-Compliance-Project\\Additional-Data-Creator\\OutputData\\yTest\\\n",
      "C:\\Users\\theza\\Documents\\Uni\\MIT\\2019\\TP\\Project\\Meal-Compliance-Project\\Additional-Data-Creator\\Output\\Annotations\\1c.png\n",
      "C:\\Users\\theza\\Documents\\Uni\\MIT\\2019\\TP\\Project\\Meal-Compliance-Project\\Additional-Data-Creator\\OutputData\\yTest\\\n",
      "C:\\Users\\theza\\Documents\\Uni\\MIT\\2019\\TP\\Project\\Meal-Compliance-Project\\Additional-Data-Creator\\Output\\Annotations\\6m.png\n",
      "C:\\Users\\theza\\Documents\\Uni\\MIT\\2019\\TP\\Project\\Meal-Compliance-Project\\Additional-Data-Creator\\OutputData\\yTest\\\n",
      "C:\\Users\\theza\\Documents\\Uni\\MIT\\2019\\TP\\Project\\Meal-Compliance-Project\\Additional-Data-Creator\\Output\\Annotations\\2r.png\n",
      "C:\\Users\\theza\\Documents\\Uni\\MIT\\2019\\TP\\Project\\Meal-Compliance-Project\\Additional-Data-Creator\\OutputData\\yTest\\\n",
      "C:\\Users\\theza\\Documents\\Uni\\MIT\\2019\\TP\\Project\\Meal-Compliance-Project\\Additional-Data-Creator\\Output\\Annotations\\3o.png\n",
      "C:\\Users\\theza\\Documents\\Uni\\MIT\\2019\\TP\\Project\\Meal-Compliance-Project\\Additional-Data-Creator\\OutputData\\yTest\\\n"
     ]
    }
   ],
   "source": [
    "print('Copying train/test output')\n",
    "copyFileToDir(X_train,dataPaths['XTrain'])\n",
    "copyFileToDir(X_test,dataPaths['XTest'])\n",
    "copyFileToDir(y_train,dataPaths['yTrain'])\n",
    "copyFileToDir(y_test,dataPaths['yTest'])"
   ]
  },
  {
   "cell_type": "markdown",
   "metadata": {},
   "source": []
  }
 ],
 "metadata": {
  "kernelspec": {
   "display_name": "Python 3",
   "language": "python",
   "name": "python3"
  },
  "language_info": {
   "codemirror_mode": {
    "name": "ipython",
    "version": 3
   },
   "file_extension": ".py",
   "mimetype": "text/x-python",
   "name": "python",
   "nbconvert_exporter": "python",
   "pygments_lexer": "ipython3",
   "version": "3.7.1"
  }
 },
 "nbformat": 4,
 "nbformat_minor": 2
}
