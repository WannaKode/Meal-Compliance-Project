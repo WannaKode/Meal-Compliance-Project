{
 "cells": [
  {
   "cell_type": "markdown",
   "metadata": {},
   "source": [
    "# Additional Data Creator Workbook"
   ]
  },
  {
   "cell_type": "code",
   "execution_count": 1,
   "metadata": {},
   "outputs": [],
   "source": [
    "# Import the relevent packages\n",
    "import os # File/directory operations\n",
    "import ntpath # File/directory operations\n",
    "import imgaug as ia # Image augmentations\n",
    "import imgaug.augmenters as iaa # Image augmentations\n",
    "import imageio as imio # Reading images\n",
    "import numpy as np # Matrix operations\n",
    "from skimage import data # Image operations\n",
    "from skimage.color import rgb2gray # RGB image to grey\n",
    "from skimage.transform import resize # Resize images\n",
    "import matplotlib.pyplot as plt # for visualisation\n",
    "import pandas as pd # Data manipulations\n",
    "from scipy import stats #not used but helps with debuging\n"
   ]
  },
  {
   "cell_type": "code",
   "execution_count": 2,
   "metadata": {},
   "outputs": [],
   "source": [
    "# Set the input and output paths for later reference\n",
    "dataPaths = {'InputImage':os.path.abspath(os.path.join('Data','Images')),\n",
    "             'InputAnnot':os.path.abspath(os.path.join('Data','Annotations')),\n",
    "             'OutputImage':os.path.abspath(os.path.join('Output','Images')),\n",
    "             'OutputAnnot':os.path.abspath(os.path.join('Output','Annotations')),\n",
    "             'XTrain':os.path.abspath(os.path.join('OutputData','XTrain')),\n",
    "             'yTrain':os.path.abspath(os.path.join('OutputData','yTrain')),\n",
    "             'XTest':os.path.abspath(os.path.join('OutputData','XTest')),\n",
    "             'yTest':os.path.abspath(os.path.join('OutputData','yTest'))}"
   ]
  },
  {
   "cell_type": "code",
   "execution_count": 3,
   "metadata": {},
   "outputs": [],
   "source": [
    "def getFilesInDir(dir):\n",
    "    \"\"\"This function will return a list of files in the given dir\"\"\"\n",
    "    files = []\n",
    "    # r=root, d=directories, f = files\n",
    "    for r, d, f in os.walk(dir):\n",
    "        for file in f:\n",
    "            files.append(os.path.join(r, file))\n",
    "    return files\n",
    "\n",
    "def validateImagePairs(imPairTuple, width):\n",
    "    \"\"\"This function reads the image and resizes it to the closest %32=0 for the specified width\"\"\"\n",
    "    imgDir , annotDir = imPairTuple\n",
    "    img = imio.imread(imgDir)\n",
    "    annot = rgb2gray(imio.imread(annotDir))*255\n",
    "    \n",
    "    widthScaleRatio = width / img.shape[1]\n",
    "    heightNew = (widthScaleRatio * (img.shape[0]))\n",
    "    heightNew = heightNew - (heightNew%32)\n",
    "    \n",
    "    annotNew = resize(annot, (heightNew, width),mode='edge', anti_aliasing=False,\n",
    "                               anti_aliasing_sigma=None,preserve_range=True,\n",
    "                               order=0).astype(int)\n",
    "    df = (pd.DataFrame(annotNew))\n",
    "    _, b = pd.factorize(df.values.T.reshape(-1, ))  \n",
    "\n",
    "    # print(df.apply(lambda x: pd.Categorical(x, b).codes).values.shape)\n",
    "    annotNewOut = df.apply(lambda x: pd.Categorical(x, b).codes).values\n",
    "    \n",
    "    \n",
    "    return (resize(img, (heightNew, width), anti_aliasing=True),\n",
    "            annotNewOut)\n",
    "\n",
    "def augment_seg(imSegTuple, filterSeq):\n",
    "    \"\"\"This function applies a 'filter' to the input image and its annotation \"\"\"\n",
    "    img , seg = imSegTuple  \n",
    "    img = img*255\n",
    "    img = img.astype(np.uint8)\n",
    "    aug_det = filterSeq.to_deterministic() \n",
    "    image_aug = aug_det.augment_image( img )\n",
    "    segmap = ia.SegmentationMapOnImage( seg , nb_classes=len(np.unique(seg)), shape=img.shape )\n",
    "    segmap_aug = aug_det.augment_segmentation_maps( segmap )\n",
    "    segmap_aug = segmap_aug.get_arr_int()\n",
    "    return (image_aug , segmap_aug)\n",
    "\n",
    "def path_leaf(path):\n",
    "    \"\"\"This function gets the file name from a path\"\"\"\n",
    "    head, tail = ntpath.split(path)\n",
    "    return tail or ntpath.basename(head)\n",
    "\n",
    "def saveAugmentOutputs(augmentImagePairs, originalFileNamePairs, suffex, outImagPath, outAnnotPath):\n",
    "    \"\"\"This function saves the augmented images\"\"\"\n",
    "    for i in range(0, len(augmentImagePairs)):\n",
    "        img = augmentImagePairs[i][0]\n",
    "        fileName = path_leaf(originalFileNamePairs[i][0])\n",
    "        fileNameSplit = fileName.split('.')\n",
    "        imFileName = outImagPath+'\\\\'+fileNameSplit[0]+suffex+'.'+fileNameSplit[1]\n",
    "        imio.imsave(imFileName, img)\n",
    "        #print(imFileName)\n",
    "        annot = augmentImagePairs[i][1]\n",
    "        annot = flattenSegImage(annot,getSegClasses(annot))\n",
    "        fileNameAnnot = path_leaf(originalFileNamePairs[i][1])\n",
    "        fileNameAnnotSplit = fileNameAnnot.split('.')\n",
    "        annotFileName = outAnnotPath+'\\\\'+fileNameAnnotSplit[0]+suffex+'.'+fileNameAnnotSplit[1]\n",
    "        annot = annot.astype(np.uint8)\n",
    "        imio.imwrite(annotFileName, annot)\n",
    "\n",
    "def ShowAugmentCompare(originalTup, newTup):\n",
    "    \"\"\"This function shows a comparason of orginal vs augmented images and annotations\"\"\"\n",
    "    fig, axes = plt.subplots(nrows=2, ncols=2)\n",
    "    ax = axes.ravel()\n",
    "    ax[0].imshow(originalTup[0])\n",
    "    ax[0].set_title(\"Original image\")\n",
    "    ax[1].imshow(newTup[0])\n",
    "    ax[1].set_title(\"New image\")\n",
    "    ax[2].imshow(originalTup[1], cmap='gray')\n",
    "    ax[2].set_title(\"Original annotation\")\n",
    "    ax[3].imshow(newTup[1], cmap='gray')\n",
    "    ax[3].set_title(\"New annotation\")\n",
    "    plt.tight_layout()\n",
    "    plt.show()\n",
    "    \n",
    "\n",
    "def getSegClasses(seg):\n",
    "    segUnique = np.unique(seg)\n",
    "    #print(segUnique)\n",
    "    output = {}\n",
    "    for i in range(0,len(segUnique)):\n",
    "        output[segUnique[i]] = i\n",
    "    return output\n",
    "        \n",
    "    \n",
    "def flattenSegImage(seg, classes):\n",
    "    k = np.array(list(classes.keys()))\n",
    "    v = np.array(list(classes.values()))\n",
    "    sidx = k.argsort()\n",
    "    output = v[sidx[np.searchsorted(k,seg,sorter=sidx)]]\n",
    "    \n",
    "    #print(stats.describe(seg).mean)\n",
    "    #print(stats.describe(output).mean)\n",
    "    return output"
   ]
  },
  {
   "cell_type": "code",
   "execution_count": 4,
   "metadata": {},
   "outputs": [
    {
     "name": "stdout",
     "output_type": "stream",
     "text": [
      "Reading and resizing input files...\n",
      "Read 16 files.\n"
     ]
    }
   ],
   "source": [
    "# This will create a list of tuples for the input images, it will associate an image with \n",
    "# its annotation given the naming convention is followed\n",
    "\n",
    "print('Reading and resizing input files...')\n",
    "\n",
    "filePairPaths = list(zip(getFilesInDir(dataPaths['InputImage']), getFilesInDir(dataPaths['InputAnnot'])))\n",
    "inputImagePairs = []\n",
    "for tup in filePairPaths:\n",
    "    inputImagePairs.append(validateImagePairs(tup,1600))\n",
    "    \n",
    "print('Read '+str(len(inputImagePairs)*2)+' files.')"
   ]
  },
  {
   "cell_type": "code",
   "execution_count": 13,
   "metadata": {},
   "outputs": [
    {
     "name": "stdout",
     "output_type": "stream",
     "text": [
      "Createing filters...\n",
      "{'a': None, 'b': Sequential(name=UnnamedSequential, random_order=False, children=[Convolve(name=UnnamedMotionBlur, parameters=[<function MotionBlur.<locals>.create_matrices at 0x0000019100316BF8>, function], deterministic=False)], deterministic=False), 'c': Sequential(name=UnnamedSequential, random_order=False, children=[Fliplr(name=UnnamedFliplr, parameters=[Deterministic(int 1)], deterministic=False)], deterministic=False), 'd': Sequential(name=UnnamedSequential, random_order=False, children=[Flipud(name=UnnamedFlipud, parameters=[Deterministic(int 1)], deterministic=False)], deterministic=False)}\n"
     ]
    }
   ],
   "source": [
    "# See https://github.com/aleju/imgaug#example-images for details\n",
    "\n",
    "print('Createing filters...')\n",
    "\n",
    "filters = {\n",
    "    'a':None,\n",
    "    'b':iaa.Sequential([iaa.MotionBlur(k=10,angle=[-90, 90]),]), # horizontally flip ,\n",
    "    'c':iaa.Sequential([iaa.Fliplr(1),]), # horizontally flip ,\n",
    "    'd':iaa.Sequential([iaa.Flipud(1),]), # vertically flip ,\n",
    "    #'e':iaa.Sequential([iaa.PerspectiveTransform(scale=0.1, keep_size=True),]),# Perspective Transform,\n",
    "    #'f':iaa.Sequential([iaa.PiecewiseAffine(scale=0.015),]),# Piecewise Affine\n",
    "    #'g':iaa.Sequential([iaa.Multiply((0.5, 1.5)),]),# Make image brighter/darker\n",
    "    #'h':iaa.Sequential([iaa.AddToHueAndSaturation((-15, 15)),iaa.PiecewiseAffine(scale=0.015), iaa.PerspectiveTransform(scale=0.1, keep_size=True)]),# Shift the hue,\n",
    "    #'i':iaa.Sequential([iaa.MotionBlur(k=10,angle=[-90, 90]),iaa.Fliplr(1),iaa.AddToHueAndSaturation((-15, 15))]),\n",
    "    #'j':iaa.Sequential([iaa.MotionBlur(k=10,angle=[-90, 90]),iaa.Fliplr(1),iaa.Flipud(1)]),\n",
    "    #'k':iaa.Sequential([iaa.MotionBlur(k=10,angle=[-90, 90]),iaa.Fliplr(1),iaa.Flipud(1),iaa.PerspectiveTransform(scale=0.1, keep_size=True)]),\n",
    "    #'l':iaa.Sequential([iaa.Fliplr(1),iaa.Flipud(1),iaa.PerspectiveTransform(scale=0.1, keep_size=True),iaa.PiecewiseAffine(scale=0.015)]),\n",
    "    #'m':iaa.Sequential([iaa.Flipud(1),iaa.PerspectiveTransform(scale=0.1, keep_size=True),iaa.PiecewiseAffine(scale=0.015),iaa.GammaContrast((0.5, 1.5))]),\n",
    "    #'n':iaa.Sequential([iaa.PerspectiveTransform(scale=0.1, keep_size=True),iaa.PiecewiseAffine(scale=0.015),iaa.GammaContrast((0.5, 1.5)),iaa.AddToHueAndSaturation((-15, 15))]),\n",
    "    #'o':iaa.Sequential([iaa.PiecewiseAffine(scale=0.015),iaa.AddToHueAndSaturation((-15, 15))]),\n",
    "    #'p':iaa.Sequential([iaa.Flipud(1),iaa.PerspectiveTransform(scale=0.1, keep_size=True),iaa.PiecewiseAffine(scale=0.015),iaa.AddToHueAndSaturation((-15, 15))]),\n",
    "    #'q':iaa.Sequential([iaa.Fliplr(1),iaa.AddToHueAndSaturation((-15, 15))]),\n",
    "    #'r':iaa.Sequential([iaa.MotionBlur(k=10,angle=[-90, 90]),iaa.PerspectiveTransform(scale=0.1, keep_size=True),iaa.GammaContrast((0.5, 1.5)),iaa.AddToHueAndSaturation((-15, 15))]),\n",
    "    #'s':iaa.Sequential([iaa.Fliplr(1),iaa.Flipud(1), iaa.GammaContrast((0.5, 1.5)),iaa.AddToHueAndSaturation((-15, 15))]),\n",
    "    #'t':iaa.Sequential([iaa.Fliplr(1),iaa.Flipud(1), iaa.PiecewiseAffine(scale=0.015),iaa.AddToHueAndSaturation((-15, 15))]),\n",
    "    #'u':iaa.Sequential([iaa.Fliplr(1),iaa.Flipud(1), iaa.PerspectiveTransform(scale=0.1, keep_size=True),iaa.Multiply((0.5, 1.5))]),\n",
    "    #'v':iaa.Sequential([iaa.MotionBlur(k=10,angle=[-90, 90]),iaa.AddToHueAndSaturation((-15, 15))]),\n",
    "    #'w':iaa.Sequential([iaa.Flipud(1),iaa.PerspectiveTransform(scale=0.1, keep_size=True)]),\n",
    "    #'x':iaa.Sequential([iaa.Fliplr(1),iaa.AddToHueAndSaturation((-15, 15))]),\n",
    "    #'y':iaa.Sequential([iaa.PiecewiseAffine(scale=0.015),iaa.GammaContrast((0.5, 1.5))]),\n",
    "    #'z':iaa.Sequential([iaa.MotionBlur(k=10,angle=[-90, 90]),iaa.PerspectiveTransform(scale=0.1, keep_size=True),iaa.GammaContrast((0.5, 1.5)),iaa.AddToHueAndSaturation((-15, 15))])\n",
    "}\n",
    "\n",
    "print(filters)"
   ]
  },
  {
   "cell_type": "code",
   "execution_count": 15,
   "metadata": {
    "scrolled": true
   },
   "outputs": [
    {
     "name": "stderr",
     "output_type": "stream",
     "text": [
      "Lossy conversion from float64 to uint8. Range [0, 1]. Convert image to uint8 prior to saving to suppress this warning.\n",
      "Lossy conversion from float64 to uint8. Range [0, 1]. Convert image to uint8 prior to saving to suppress this warning.\n",
      "Lossy conversion from float64 to uint8. Range [0, 1]. Convert image to uint8 prior to saving to suppress this warning.\n",
      "Lossy conversion from float64 to uint8. Range [0, 1]. Convert image to uint8 prior to saving to suppress this warning.\n",
      "Lossy conversion from float64 to uint8. Range [0, 1]. Convert image to uint8 prior to saving to suppress this warning.\n",
      "Lossy conversion from float64 to uint8. Range [0, 1]. Convert image to uint8 prior to saving to suppress this warning.\n",
      "Lossy conversion from float64 to uint8. Range [0, 1]. Convert image to uint8 prior to saving to suppress this warning.\n",
      "Lossy conversion from float64 to uint8. Range [0, 1]. Convert image to uint8 prior to saving to suppress this warning.\n"
     ]
    },
    {
     "name": "stdout",
     "output_type": "stream",
     "text": [
      "Applying filter 'b' to input\n",
      "Saving output of filter 'b'\n",
      "Applying filter 'c' to input\n",
      "Saving output of filter 'c'\n",
      "Applying filter 'd' to input\n",
      "Saving output of filter 'd'\n"
     ]
    }
   ],
   "source": [
    "for key, value in filters.items():\n",
    "    if(value==None):\n",
    "        #print(key)\n",
    "        saveAugmentOutputs(inputImagePairs, filePairPaths, key, dataPaths['OutputImage'],dataPaths['OutputAnnot'])\n",
    "    else:\n",
    "        print('Applying filter \\''+ key +'\\' to input')\n",
    "        outputAugment = []\n",
    "        for tup in inputImagePairs:\n",
    "            outputAugment.append(augment_seg(tup, value))\n",
    "        print('Saving output of filter \\''+ key +'\\'')\n",
    "        saveAugmentOutputs(outputAugment, filePairPaths, key, dataPaths['OutputImage'],dataPaths['OutputAnnot'])\n",
    "        "
   ]
  },
  {
   "cell_type": "code",
   "execution_count": 16,
   "metadata": {},
   "outputs": [
    {
     "name": "stdout",
     "output_type": "stream",
     "text": [
      "Spilliting train and test sets\n"
     ]
    }
   ],
   "source": [
    "from sklearn.model_selection import train_test_split # setting up the test and train data\n",
    "\n",
    "print('Spilliting train and test sets')\n",
    "fileOutputPaths = list(zip(getFilesInDir(dataPaths['OutputImage']), getFilesInDir(dataPaths['OutputAnnot'])))\n",
    "df = pd.DataFrame(fileOutputPaths, columns=['X', 'y'])\n",
    "X = df['X']\n",
    "y = df['y']"
   ]
  },
  {
   "cell_type": "code",
   "execution_count": 17,
   "metadata": {},
   "outputs": [],
   "source": [
    "X_train, X_test, y_train, y_test = train_test_split(X, y, test_size=0.33, random_state=0)"
   ]
  },
  {
   "cell_type": "code",
   "execution_count": 18,
   "metadata": {},
   "outputs": [],
   "source": [
    "from shutil import copyfile\n",
    "import errno\n",
    "\n",
    "def copyFileToDir(df, path):\n",
    "    for file in df.values:\n",
    "        print(file)\n",
    "        dest = path+'\\\\'\n",
    "        print(dest)\n",
    "        dest = dest+path_leaf(file)\n",
    "        os.makedirs(os.path.dirname(dest), exist_ok=True)\n",
    "        copyfile(file, dest)"
   ]
  },
  {
   "cell_type": "code",
   "execution_count": 19,
   "metadata": {},
   "outputs": [
    {
     "name": "stdout",
     "output_type": "stream",
     "text": [
      "Copying train/test output\n",
      "C:\\Users\\theza\\Documents\\Uni\\MIT\\2019\\TP\\Project\\Meal-Compliance-Project\\Additional-Data-Creator\\Output\\Images\\2b.jpg\n",
      "C:\\Users\\theza\\Documents\\Uni\\MIT\\2019\\TP\\Project\\Meal-Compliance-Project\\Additional-Data-Creator\\OutputData\\XTrain\\\n",
      "C:\\Users\\theza\\Documents\\Uni\\MIT\\2019\\TP\\Project\\Meal-Compliance-Project\\Additional-Data-Creator\\Output\\Images\\5b.jpg\n",
      "C:\\Users\\theza\\Documents\\Uni\\MIT\\2019\\TP\\Project\\Meal-Compliance-Project\\Additional-Data-Creator\\OutputData\\XTrain\\\n",
      "C:\\Users\\theza\\Documents\\Uni\\MIT\\2019\\TP\\Project\\Meal-Compliance-Project\\Additional-Data-Creator\\Output\\Images\\3a.jpg\n",
      "C:\\Users\\theza\\Documents\\Uni\\MIT\\2019\\TP\\Project\\Meal-Compliance-Project\\Additional-Data-Creator\\OutputData\\XTrain\\\n",
      "C:\\Users\\theza\\Documents\\Uni\\MIT\\2019\\TP\\Project\\Meal-Compliance-Project\\Additional-Data-Creator\\Output\\Images\\8c.jpg\n",
      "C:\\Users\\theza\\Documents\\Uni\\MIT\\2019\\TP\\Project\\Meal-Compliance-Project\\Additional-Data-Creator\\OutputData\\XTrain\\\n",
      "C:\\Users\\theza\\Documents\\Uni\\MIT\\2019\\TP\\Project\\Meal-Compliance-Project\\Additional-Data-Creator\\Output\\Images\\7b.jpg\n",
      "C:\\Users\\theza\\Documents\\Uni\\MIT\\2019\\TP\\Project\\Meal-Compliance-Project\\Additional-Data-Creator\\OutputData\\XTrain\\\n",
      "C:\\Users\\theza\\Documents\\Uni\\MIT\\2019\\TP\\Project\\Meal-Compliance-Project\\Additional-Data-Creator\\Output\\Images\\6d.jpg\n",
      "C:\\Users\\theza\\Documents\\Uni\\MIT\\2019\\TP\\Project\\Meal-Compliance-Project\\Additional-Data-Creator\\OutputData\\XTrain\\\n",
      "C:\\Users\\theza\\Documents\\Uni\\MIT\\2019\\TP\\Project\\Meal-Compliance-Project\\Additional-Data-Creator\\Output\\Images\\1b.jpg\n",
      "C:\\Users\\theza\\Documents\\Uni\\MIT\\2019\\TP\\Project\\Meal-Compliance-Project\\Additional-Data-Creator\\OutputData\\XTrain\\\n",
      "C:\\Users\\theza\\Documents\\Uni\\MIT\\2019\\TP\\Project\\Meal-Compliance-Project\\Additional-Data-Creator\\Output\\Images\\8d.jpg\n",
      "C:\\Users\\theza\\Documents\\Uni\\MIT\\2019\\TP\\Project\\Meal-Compliance-Project\\Additional-Data-Creator\\OutputData\\XTrain\\\n",
      "C:\\Users\\theza\\Documents\\Uni\\MIT\\2019\\TP\\Project\\Meal-Compliance-Project\\Additional-Data-Creator\\Output\\Images\\2c.jpg\n",
      "C:\\Users\\theza\\Documents\\Uni\\MIT\\2019\\TP\\Project\\Meal-Compliance-Project\\Additional-Data-Creator\\OutputData\\XTrain\\\n",
      "C:\\Users\\theza\\Documents\\Uni\\MIT\\2019\\TP\\Project\\Meal-Compliance-Project\\Additional-Data-Creator\\Output\\Images\\2a.jpg\n",
      "C:\\Users\\theza\\Documents\\Uni\\MIT\\2019\\TP\\Project\\Meal-Compliance-Project\\Additional-Data-Creator\\OutputData\\XTrain\\\n",
      "C:\\Users\\theza\\Documents\\Uni\\MIT\\2019\\TP\\Project\\Meal-Compliance-Project\\Additional-Data-Creator\\Output\\Images\\5c.jpg\n",
      "C:\\Users\\theza\\Documents\\Uni\\MIT\\2019\\TP\\Project\\Meal-Compliance-Project\\Additional-Data-Creator\\OutputData\\XTrain\\\n",
      "C:\\Users\\theza\\Documents\\Uni\\MIT\\2019\\TP\\Project\\Meal-Compliance-Project\\Additional-Data-Creator\\Output\\Images\\8b.jpg\n",
      "C:\\Users\\theza\\Documents\\Uni\\MIT\\2019\\TP\\Project\\Meal-Compliance-Project\\Additional-Data-Creator\\OutputData\\XTrain\\\n",
      "C:\\Users\\theza\\Documents\\Uni\\MIT\\2019\\TP\\Project\\Meal-Compliance-Project\\Additional-Data-Creator\\Output\\Images\\5d.jpg\n",
      "C:\\Users\\theza\\Documents\\Uni\\MIT\\2019\\TP\\Project\\Meal-Compliance-Project\\Additional-Data-Creator\\OutputData\\XTrain\\\n",
      "C:\\Users\\theza\\Documents\\Uni\\MIT\\2019\\TP\\Project\\Meal-Compliance-Project\\Additional-Data-Creator\\Output\\Images\\3b.jpg\n",
      "C:\\Users\\theza\\Documents\\Uni\\MIT\\2019\\TP\\Project\\Meal-Compliance-Project\\Additional-Data-Creator\\OutputData\\XTrain\\\n",
      "C:\\Users\\theza\\Documents\\Uni\\MIT\\2019\\TP\\Project\\Meal-Compliance-Project\\Additional-Data-Creator\\Output\\Images\\2d.jpg\n",
      "C:\\Users\\theza\\Documents\\Uni\\MIT\\2019\\TP\\Project\\Meal-Compliance-Project\\Additional-Data-Creator\\OutputData\\XTrain\\\n",
      "C:\\Users\\theza\\Documents\\Uni\\MIT\\2019\\TP\\Project\\Meal-Compliance-Project\\Additional-Data-Creator\\Output\\Images\\7d.jpg\n",
      "C:\\Users\\theza\\Documents\\Uni\\MIT\\2019\\TP\\Project\\Meal-Compliance-Project\\Additional-Data-Creator\\OutputData\\XTrain\\\n",
      "C:\\Users\\theza\\Documents\\Uni\\MIT\\2019\\TP\\Project\\Meal-Compliance-Project\\Additional-Data-Creator\\Output\\Images\\1d.jpg\n",
      "C:\\Users\\theza\\Documents\\Uni\\MIT\\2019\\TP\\Project\\Meal-Compliance-Project\\Additional-Data-Creator\\OutputData\\XTrain\\\n",
      "C:\\Users\\theza\\Documents\\Uni\\MIT\\2019\\TP\\Project\\Meal-Compliance-Project\\Additional-Data-Creator\\Output\\Images\\1a.jpg\n",
      "C:\\Users\\theza\\Documents\\Uni\\MIT\\2019\\TP\\Project\\Meal-Compliance-Project\\Additional-Data-Creator\\OutputData\\XTrain\\\n",
      "C:\\Users\\theza\\Documents\\Uni\\MIT\\2019\\TP\\Project\\Meal-Compliance-Project\\Additional-Data-Creator\\Output\\Images\\6b.jpg\n",
      "C:\\Users\\theza\\Documents\\Uni\\MIT\\2019\\TP\\Project\\Meal-Compliance-Project\\Additional-Data-Creator\\OutputData\\XTrain\\\n",
      "C:\\Users\\theza\\Documents\\Uni\\MIT\\2019\\TP\\Project\\Meal-Compliance-Project\\Additional-Data-Creator\\Output\\Images\\4d.jpg\n",
      "C:\\Users\\theza\\Documents\\Uni\\MIT\\2019\\TP\\Project\\Meal-Compliance-Project\\Additional-Data-Creator\\OutputData\\XTrain\\\n",
      "C:\\Users\\theza\\Documents\\Uni\\MIT\\2019\\TP\\Project\\Meal-Compliance-Project\\Additional-Data-Creator\\Output\\Images\\4a.jpg\n",
      "C:\\Users\\theza\\Documents\\Uni\\MIT\\2019\\TP\\Project\\Meal-Compliance-Project\\Additional-Data-Creator\\OutputData\\XTrain\\\n",
      "C:\\Users\\theza\\Documents\\Uni\\MIT\\2019\\TP\\Project\\Meal-Compliance-Project\\Additional-Data-Creator\\Output\\Images\\3d.jpg\n",
      "C:\\Users\\theza\\Documents\\Uni\\MIT\\2019\\TP\\Project\\Meal-Compliance-Project\\Additional-Data-Creator\\OutputData\\XTest\\\n",
      "C:\\Users\\theza\\Documents\\Uni\\MIT\\2019\\TP\\Project\\Meal-Compliance-Project\\Additional-Data-Creator\\Output\\Images\\6c.jpg\n",
      "C:\\Users\\theza\\Documents\\Uni\\MIT\\2019\\TP\\Project\\Meal-Compliance-Project\\Additional-Data-Creator\\OutputData\\XTest\\\n",
      "C:\\Users\\theza\\Documents\\Uni\\MIT\\2019\\TP\\Project\\Meal-Compliance-Project\\Additional-Data-Creator\\Output\\Images\\3c.jpg\n",
      "C:\\Users\\theza\\Documents\\Uni\\MIT\\2019\\TP\\Project\\Meal-Compliance-Project\\Additional-Data-Creator\\OutputData\\XTest\\\n",
      "C:\\Users\\theza\\Documents\\Uni\\MIT\\2019\\TP\\Project\\Meal-Compliance-Project\\Additional-Data-Creator\\Output\\Images\\1c.jpg\n",
      "C:\\Users\\theza\\Documents\\Uni\\MIT\\2019\\TP\\Project\\Meal-Compliance-Project\\Additional-Data-Creator\\OutputData\\XTest\\\n",
      "C:\\Users\\theza\\Documents\\Uni\\MIT\\2019\\TP\\Project\\Meal-Compliance-Project\\Additional-Data-Creator\\Output\\Images\\5a.jpg\n",
      "C:\\Users\\theza\\Documents\\Uni\\MIT\\2019\\TP\\Project\\Meal-Compliance-Project\\Additional-Data-Creator\\OutputData\\XTest\\\n",
      "C:\\Users\\theza\\Documents\\Uni\\MIT\\2019\\TP\\Project\\Meal-Compliance-Project\\Additional-Data-Creator\\Output\\Images\\4c.jpg\n",
      "C:\\Users\\theza\\Documents\\Uni\\MIT\\2019\\TP\\Project\\Meal-Compliance-Project\\Additional-Data-Creator\\OutputData\\XTest\\\n",
      "C:\\Users\\theza\\Documents\\Uni\\MIT\\2019\\TP\\Project\\Meal-Compliance-Project\\Additional-Data-Creator\\Output\\Images\\8a.jpg\n",
      "C:\\Users\\theza\\Documents\\Uni\\MIT\\2019\\TP\\Project\\Meal-Compliance-Project\\Additional-Data-Creator\\OutputData\\XTest\\\n",
      "C:\\Users\\theza\\Documents\\Uni\\MIT\\2019\\TP\\Project\\Meal-Compliance-Project\\Additional-Data-Creator\\Output\\Images\\7c.jpg\n",
      "C:\\Users\\theza\\Documents\\Uni\\MIT\\2019\\TP\\Project\\Meal-Compliance-Project\\Additional-Data-Creator\\OutputData\\XTest\\\n",
      "C:\\Users\\theza\\Documents\\Uni\\MIT\\2019\\TP\\Project\\Meal-Compliance-Project\\Additional-Data-Creator\\Output\\Images\\6a.jpg\n",
      "C:\\Users\\theza\\Documents\\Uni\\MIT\\2019\\TP\\Project\\Meal-Compliance-Project\\Additional-Data-Creator\\OutputData\\XTest\\\n",
      "C:\\Users\\theza\\Documents\\Uni\\MIT\\2019\\TP\\Project\\Meal-Compliance-Project\\Additional-Data-Creator\\Output\\Images\\4b.jpg\n",
      "C:\\Users\\theza\\Documents\\Uni\\MIT\\2019\\TP\\Project\\Meal-Compliance-Project\\Additional-Data-Creator\\OutputData\\XTest\\\n",
      "C:\\Users\\theza\\Documents\\Uni\\MIT\\2019\\TP\\Project\\Meal-Compliance-Project\\Additional-Data-Creator\\Output\\Images\\7a.jpg\n",
      "C:\\Users\\theza\\Documents\\Uni\\MIT\\2019\\TP\\Project\\Meal-Compliance-Project\\Additional-Data-Creator\\OutputData\\XTest\\\n",
      "C:\\Users\\theza\\Documents\\Uni\\MIT\\2019\\TP\\Project\\Meal-Compliance-Project\\Additional-Data-Creator\\Output\\Annotations\\2b.png\n",
      "C:\\Users\\theza\\Documents\\Uni\\MIT\\2019\\TP\\Project\\Meal-Compliance-Project\\Additional-Data-Creator\\OutputData\\yTrain\\\n",
      "C:\\Users\\theza\\Documents\\Uni\\MIT\\2019\\TP\\Project\\Meal-Compliance-Project\\Additional-Data-Creator\\Output\\Annotations\\5b.png\n",
      "C:\\Users\\theza\\Documents\\Uni\\MIT\\2019\\TP\\Project\\Meal-Compliance-Project\\Additional-Data-Creator\\OutputData\\yTrain\\\n",
      "C:\\Users\\theza\\Documents\\Uni\\MIT\\2019\\TP\\Project\\Meal-Compliance-Project\\Additional-Data-Creator\\Output\\Annotations\\3a.png\n",
      "C:\\Users\\theza\\Documents\\Uni\\MIT\\2019\\TP\\Project\\Meal-Compliance-Project\\Additional-Data-Creator\\OutputData\\yTrain\\\n",
      "C:\\Users\\theza\\Documents\\Uni\\MIT\\2019\\TP\\Project\\Meal-Compliance-Project\\Additional-Data-Creator\\Output\\Annotations\\8c.png\n",
      "C:\\Users\\theza\\Documents\\Uni\\MIT\\2019\\TP\\Project\\Meal-Compliance-Project\\Additional-Data-Creator\\OutputData\\yTrain\\\n",
      "C:\\Users\\theza\\Documents\\Uni\\MIT\\2019\\TP\\Project\\Meal-Compliance-Project\\Additional-Data-Creator\\Output\\Annotations\\7b.png\n",
      "C:\\Users\\theza\\Documents\\Uni\\MIT\\2019\\TP\\Project\\Meal-Compliance-Project\\Additional-Data-Creator\\OutputData\\yTrain\\\n",
      "C:\\Users\\theza\\Documents\\Uni\\MIT\\2019\\TP\\Project\\Meal-Compliance-Project\\Additional-Data-Creator\\Output\\Annotations\\6d.png\n",
      "C:\\Users\\theza\\Documents\\Uni\\MIT\\2019\\TP\\Project\\Meal-Compliance-Project\\Additional-Data-Creator\\OutputData\\yTrain\\\n",
      "C:\\Users\\theza\\Documents\\Uni\\MIT\\2019\\TP\\Project\\Meal-Compliance-Project\\Additional-Data-Creator\\Output\\Annotations\\1b.png\n",
      "C:\\Users\\theza\\Documents\\Uni\\MIT\\2019\\TP\\Project\\Meal-Compliance-Project\\Additional-Data-Creator\\OutputData\\yTrain\\\n",
      "C:\\Users\\theza\\Documents\\Uni\\MIT\\2019\\TP\\Project\\Meal-Compliance-Project\\Additional-Data-Creator\\Output\\Annotations\\8d.png\n",
      "C:\\Users\\theza\\Documents\\Uni\\MIT\\2019\\TP\\Project\\Meal-Compliance-Project\\Additional-Data-Creator\\OutputData\\yTrain\\\n",
      "C:\\Users\\theza\\Documents\\Uni\\MIT\\2019\\TP\\Project\\Meal-Compliance-Project\\Additional-Data-Creator\\Output\\Annotations\\2c.png\n",
      "C:\\Users\\theza\\Documents\\Uni\\MIT\\2019\\TP\\Project\\Meal-Compliance-Project\\Additional-Data-Creator\\OutputData\\yTrain\\\n",
      "C:\\Users\\theza\\Documents\\Uni\\MIT\\2019\\TP\\Project\\Meal-Compliance-Project\\Additional-Data-Creator\\Output\\Annotations\\2a.png\n",
      "C:\\Users\\theza\\Documents\\Uni\\MIT\\2019\\TP\\Project\\Meal-Compliance-Project\\Additional-Data-Creator\\OutputData\\yTrain\\\n",
      "C:\\Users\\theza\\Documents\\Uni\\MIT\\2019\\TP\\Project\\Meal-Compliance-Project\\Additional-Data-Creator\\Output\\Annotations\\5c.png\n",
      "C:\\Users\\theza\\Documents\\Uni\\MIT\\2019\\TP\\Project\\Meal-Compliance-Project\\Additional-Data-Creator\\OutputData\\yTrain\\\n",
      "C:\\Users\\theza\\Documents\\Uni\\MIT\\2019\\TP\\Project\\Meal-Compliance-Project\\Additional-Data-Creator\\Output\\Annotations\\8b.png\n",
      "C:\\Users\\theza\\Documents\\Uni\\MIT\\2019\\TP\\Project\\Meal-Compliance-Project\\Additional-Data-Creator\\OutputData\\yTrain\\\n",
      "C:\\Users\\theza\\Documents\\Uni\\MIT\\2019\\TP\\Project\\Meal-Compliance-Project\\Additional-Data-Creator\\Output\\Annotations\\5d.png\n",
      "C:\\Users\\theza\\Documents\\Uni\\MIT\\2019\\TP\\Project\\Meal-Compliance-Project\\Additional-Data-Creator\\OutputData\\yTrain\\\n",
      "C:\\Users\\theza\\Documents\\Uni\\MIT\\2019\\TP\\Project\\Meal-Compliance-Project\\Additional-Data-Creator\\Output\\Annotations\\3b.png\n",
      "C:\\Users\\theza\\Documents\\Uni\\MIT\\2019\\TP\\Project\\Meal-Compliance-Project\\Additional-Data-Creator\\OutputData\\yTrain\\\n",
      "C:\\Users\\theza\\Documents\\Uni\\MIT\\2019\\TP\\Project\\Meal-Compliance-Project\\Additional-Data-Creator\\Output\\Annotations\\2d.png\n",
      "C:\\Users\\theza\\Documents\\Uni\\MIT\\2019\\TP\\Project\\Meal-Compliance-Project\\Additional-Data-Creator\\OutputData\\yTrain\\\n",
      "C:\\Users\\theza\\Documents\\Uni\\MIT\\2019\\TP\\Project\\Meal-Compliance-Project\\Additional-Data-Creator\\Output\\Annotations\\7d.png\n",
      "C:\\Users\\theza\\Documents\\Uni\\MIT\\2019\\TP\\Project\\Meal-Compliance-Project\\Additional-Data-Creator\\OutputData\\yTrain\\\n",
      "C:\\Users\\theza\\Documents\\Uni\\MIT\\2019\\TP\\Project\\Meal-Compliance-Project\\Additional-Data-Creator\\Output\\Annotations\\1d.png\n",
      "C:\\Users\\theza\\Documents\\Uni\\MIT\\2019\\TP\\Project\\Meal-Compliance-Project\\Additional-Data-Creator\\OutputData\\yTrain\\\n",
      "C:\\Users\\theza\\Documents\\Uni\\MIT\\2019\\TP\\Project\\Meal-Compliance-Project\\Additional-Data-Creator\\Output\\Annotations\\1a.png\n",
      "C:\\Users\\theza\\Documents\\Uni\\MIT\\2019\\TP\\Project\\Meal-Compliance-Project\\Additional-Data-Creator\\OutputData\\yTrain\\\n"
     ]
    },
    {
     "name": "stdout",
     "output_type": "stream",
     "text": [
      "C:\\Users\\theza\\Documents\\Uni\\MIT\\2019\\TP\\Project\\Meal-Compliance-Project\\Additional-Data-Creator\\Output\\Annotations\\6b.png\n",
      "C:\\Users\\theza\\Documents\\Uni\\MIT\\2019\\TP\\Project\\Meal-Compliance-Project\\Additional-Data-Creator\\OutputData\\yTrain\\\n",
      "C:\\Users\\theza\\Documents\\Uni\\MIT\\2019\\TP\\Project\\Meal-Compliance-Project\\Additional-Data-Creator\\Output\\Annotations\\4d.png\n",
      "C:\\Users\\theza\\Documents\\Uni\\MIT\\2019\\TP\\Project\\Meal-Compliance-Project\\Additional-Data-Creator\\OutputData\\yTrain\\\n",
      "C:\\Users\\theza\\Documents\\Uni\\MIT\\2019\\TP\\Project\\Meal-Compliance-Project\\Additional-Data-Creator\\Output\\Annotations\\4a.png\n",
      "C:\\Users\\theza\\Documents\\Uni\\MIT\\2019\\TP\\Project\\Meal-Compliance-Project\\Additional-Data-Creator\\OutputData\\yTrain\\\n",
      "C:\\Users\\theza\\Documents\\Uni\\MIT\\2019\\TP\\Project\\Meal-Compliance-Project\\Additional-Data-Creator\\Output\\Annotations\\3d.png\n",
      "C:\\Users\\theza\\Documents\\Uni\\MIT\\2019\\TP\\Project\\Meal-Compliance-Project\\Additional-Data-Creator\\OutputData\\yTest\\\n",
      "C:\\Users\\theza\\Documents\\Uni\\MIT\\2019\\TP\\Project\\Meal-Compliance-Project\\Additional-Data-Creator\\Output\\Annotations\\6c.png\n",
      "C:\\Users\\theza\\Documents\\Uni\\MIT\\2019\\TP\\Project\\Meal-Compliance-Project\\Additional-Data-Creator\\OutputData\\yTest\\\n",
      "C:\\Users\\theza\\Documents\\Uni\\MIT\\2019\\TP\\Project\\Meal-Compliance-Project\\Additional-Data-Creator\\Output\\Annotations\\3c.png\n",
      "C:\\Users\\theza\\Documents\\Uni\\MIT\\2019\\TP\\Project\\Meal-Compliance-Project\\Additional-Data-Creator\\OutputData\\yTest\\\n",
      "C:\\Users\\theza\\Documents\\Uni\\MIT\\2019\\TP\\Project\\Meal-Compliance-Project\\Additional-Data-Creator\\Output\\Annotations\\1c.png\n",
      "C:\\Users\\theza\\Documents\\Uni\\MIT\\2019\\TP\\Project\\Meal-Compliance-Project\\Additional-Data-Creator\\OutputData\\yTest\\\n",
      "C:\\Users\\theza\\Documents\\Uni\\MIT\\2019\\TP\\Project\\Meal-Compliance-Project\\Additional-Data-Creator\\Output\\Annotations\\5a.png\n",
      "C:\\Users\\theza\\Documents\\Uni\\MIT\\2019\\TP\\Project\\Meal-Compliance-Project\\Additional-Data-Creator\\OutputData\\yTest\\\n",
      "C:\\Users\\theza\\Documents\\Uni\\MIT\\2019\\TP\\Project\\Meal-Compliance-Project\\Additional-Data-Creator\\Output\\Annotations\\4c.png\n",
      "C:\\Users\\theza\\Documents\\Uni\\MIT\\2019\\TP\\Project\\Meal-Compliance-Project\\Additional-Data-Creator\\OutputData\\yTest\\\n",
      "C:\\Users\\theza\\Documents\\Uni\\MIT\\2019\\TP\\Project\\Meal-Compliance-Project\\Additional-Data-Creator\\Output\\Annotations\\8a.png\n",
      "C:\\Users\\theza\\Documents\\Uni\\MIT\\2019\\TP\\Project\\Meal-Compliance-Project\\Additional-Data-Creator\\OutputData\\yTest\\\n",
      "C:\\Users\\theza\\Documents\\Uni\\MIT\\2019\\TP\\Project\\Meal-Compliance-Project\\Additional-Data-Creator\\Output\\Annotations\\7c.png\n",
      "C:\\Users\\theza\\Documents\\Uni\\MIT\\2019\\TP\\Project\\Meal-Compliance-Project\\Additional-Data-Creator\\OutputData\\yTest\\\n",
      "C:\\Users\\theza\\Documents\\Uni\\MIT\\2019\\TP\\Project\\Meal-Compliance-Project\\Additional-Data-Creator\\Output\\Annotations\\6a.png\n",
      "C:\\Users\\theza\\Documents\\Uni\\MIT\\2019\\TP\\Project\\Meal-Compliance-Project\\Additional-Data-Creator\\OutputData\\yTest\\\n",
      "C:\\Users\\theza\\Documents\\Uni\\MIT\\2019\\TP\\Project\\Meal-Compliance-Project\\Additional-Data-Creator\\Output\\Annotations\\4b.png\n",
      "C:\\Users\\theza\\Documents\\Uni\\MIT\\2019\\TP\\Project\\Meal-Compliance-Project\\Additional-Data-Creator\\OutputData\\yTest\\\n",
      "C:\\Users\\theza\\Documents\\Uni\\MIT\\2019\\TP\\Project\\Meal-Compliance-Project\\Additional-Data-Creator\\Output\\Annotations\\7a.png\n",
      "C:\\Users\\theza\\Documents\\Uni\\MIT\\2019\\TP\\Project\\Meal-Compliance-Project\\Additional-Data-Creator\\OutputData\\yTest\\\n"
     ]
    }
   ],
   "source": [
    "print('Copying train/test output')\n",
    "copyFileToDir(X_train,dataPaths['XTrain'])\n",
    "copyFileToDir(X_test,dataPaths['XTest'])\n",
    "copyFileToDir(y_train,dataPaths['yTrain'])\n",
    "copyFileToDir(y_test,dataPaths['yTest'])"
   ]
  },
  {
   "cell_type": "code",
   "execution_count": 12,
   "metadata": {},
   "outputs": [
    {
     "name": "stdout",
     "output_type": "stream",
     "text": [
      "[0 1 2 3 4 5 6 7 8 9]\n"
     ]
    },
    {
     "data": {
      "text/plain": [
       "<matplotlib.image.AxesImage at 0x191003af7f0>"
      ]
     },
     "execution_count": 12,
     "metadata": {},
     "output_type": "execute_result"
    },
    {
     "data": {
      "image/png": "[encoded data removed]",
      "text/plain": [
       "<Figure size 432x288 with 1 Axes>"
      ]
     },
     "metadata": {
      "needs_background": "light"
     },
     "output_type": "display_data"
    }
   ],
   "source": [
    "img = imio.imread('1a.png')\n",
    "print(np.unique(img))\n",
    "plt.imshow(img)"
   ]
  },
  {
   "cell_type": "markdown",
   "metadata": {},
   "source": []
  }
 ],
 "metadata": {
  "kernelspec": {
   "display_name": "Python 3",
   "language": "python",
   "name": "python3"
  },
  "language_info": {
   "codemirror_mode": {
    "name": "ipython",
    "version": 3
   },
   "file_extension": ".py",
   "mimetype": "text/x-python",
   "name": "python",
   "nbconvert_exporter": "python",
   "pygments_lexer": "ipython3",
   "version": "3.7.1"
  }
 },
 "nbformat": 4,
 "nbformat_minor": 2
}
