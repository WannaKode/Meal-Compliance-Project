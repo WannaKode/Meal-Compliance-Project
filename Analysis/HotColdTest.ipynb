{
 "cells": [
  {
   "cell_type": "markdown",
   "metadata": {},
   "source": [
    "# Create 'heat' map\n",
    "\n",
    "This notebook creates the heat map and determines if items are on the wrong side"
   ]
  },
  {
   "cell_type": "code",
   "execution_count": null,
   "metadata": {},
   "outputs": [],
   "source": [
    "from model import *\n",
    "import os # File/directory operations\n",
    "import ntpath # File/directory operations\n",
    "import matplotlib\n",
    "import matplotlib.pyplot as plt\n",
    "import imageio as imio # Reading images\n",
    "import glob\n",
    "from collections import Counter\n",
    "import itertools\n",
    "from enum import Enum\n",
    "import collections\n",
    "import scipy.misc\n",
    "from scipy import ndimage\n",
    "import cv2\n",
    "import time\n",
    "\n",
    "dataImPaths = {'XTrain':os.path.abspath(os.path.join('Data','Image','XTrain')),\n",
    "             'XTest':os.path.abspath(os.path.join('Data','Image','XTest')),\n",
    "             'yTrain':os.path.abspath(os.path.join('Data','Image','yTrain')),\n",
    "             'yTest':os.path.abspath(os.path.join('Data','Image','yTest'))}"
   ]
  },
  {
   "cell_type": "code",
   "execution_count": null,
   "metadata": {},
   "outputs": [],
   "source": [
    "imXTrain = glob.glob(os.path.join(dataImPaths['XTrain'], \"*\"))\n",
    "imXTest = glob.glob(os.path.join(dataImPaths['XTest'], \"*\"))\n",
    "\n",
    "imYTrain = glob.glob(os.path.join(dataImPaths['yTrain'], \"*\"))\n",
    "imYTest = glob.glob(os.path.join(dataImPaths['yTest'], \"*\"))\n",
    "\n",
    "filePairPathsTrain = list(zip(imXTrain, imYTrain))\n",
    "filePairPathsTest = list(zip(imXTest, imYTest))"
   ]
  },
  {
   "cell_type": "code",
   "execution_count": null,
   "metadata": {},
   "outputs": [],
   "source": [
    "model = vgg_unet(43, 256, 416)"
   ]
  },
  {
   "cell_type": "code",
   "execution_count": null,
   "metadata": {},
   "outputs": [],
   "source": [
    "model.load_weights('Weights/vgg_unet_1.47-CE-Ext2-Fixed-N.h5')"
   ]
  },
  {
   "cell_type": "code",
   "execution_count": null,
   "metadata": {},
   "outputs": [],
   "source": [
    "def evaluateX(model=None, inp_images=None, annotations=None, h=528, w=800):\n",
    "    ious = []\n",
    "    uniqueScoreRN = []\n",
    "    predUniques = []\n",
    "    trueUniques = []\n",
    "    for im, an in zip(inp_images, annotations):\n",
    "        img_true = resize(imio.imread(an), (h / 2, w / 2), mode='edge', anti_aliasing=False,\n",
    "                          anti_aliasing_sigma=None, preserve_range=True,\n",
    "                          order=0).astype(int)\n",
    "        if (img_true.ndim>1):\n",
    "            img_true = img_true[:,:,0]\n",
    "\n",
    "        img_pred = model.predict_segmentation(inp=im,out_fname=path_leaf(im))\n",
    "        #img_pred = model.predict_segmentation(inp=im)\n",
    "        \n",
    "        img_true = np.array(img_true).ravel()\n",
    "        img_pred = np.array(img_pred).ravel()\n",
    "        iou = jaccard_score(img_true, img_pred, average='micro')\n",
    "        ious.append(iou)\n",
    "        \n",
    "        pu = reduceSSCNoise(img_pred)\n",
    "        pu.sort()\n",
    "        \n",
    "        tu = reduceSSCNoise(img_true,0)\n",
    "        tu.sort()\n",
    "        \n",
    "        predUniques.append(pu)\n",
    "        trueUniques.append(tu)\n",
    "        \n",
    "        \n",
    "        usRN = SSC(img_true, reduceSSCNoise(img_pred))\n",
    "        uniqueScoreRN.append(usRN)\n",
    "    \n",
    "    return np.mean(ious), np.mean(uniqueScoreRN), predUniques, trueUniques\n",
    "\n",
    "\n",
    "def path_leaf(path):\n",
    "    \"\"\"This function gets the file name from a path\"\"\"\n",
    "    head, tail = ntpath.split(path)\n",
    "    return tail or ntpath.basename(head)\n",
    "\n",
    "def getClassFromID(id):\n",
    "    data = pd.read_csv('Data/classes.csv')\n",
    "    return data.loc[data['_id'] == id, '_name'].values[0]\n",
    "\n",
    "def getOutputReport(inp_images, annotations, pUnique, tUnique):\n",
    "    for i in range(0,len(inp_images)):\n",
    "        print([getClassFromID(x) for x in tUnique[i]])\n",
    "        print([getClassFromID(x) for x in pUnique[i]])\n",
    "        \n",
    "def segmentImage(model, inp_images):\n",
    "    pred = model.predict_segmentation(inp=inp_images)\n",
    "    return pred, reduceSSCNoise(pred)\n",
    "\n",
    "db = pd.read_csv('Data/classes.csv')\n",
    "\n",
    "class Color(Enum):\n",
    "    Ignore = 1\n",
    "    Hot = 2\n",
    "    Cold = 3\n",
    "    \n",
    "cols = {\n",
    "    Color.Ignore:100,\n",
    "    Color.Cold:128,\n",
    "    Color.Hot:256\n",
    "}\n",
    "\n",
    "def getClassHeatValue(database, inCls):\n",
    "    hot = database.loc[database['_id'] == inCls, '_hot'].values[0]\n",
    "    cold = database.loc[database['_id'] == inCls, '_cold'].values[0]\n",
    "    if (hot == 1 and cold == 1):\n",
    "        return Color.Ignore        \n",
    "    if (hot == 1 and cold != 1):\n",
    "        return Color.Hot   \n",
    "    else:\n",
    "        return Color.Cold\n",
    "    \n",
    "\n",
    "def generateHeatMap(seg,uni):\n",
    "    base = np.zeros((seg.shape[0],seg.shape[1]),dtype=np.uint)\n",
    "    for u in uni:\n",
    "        if(u != 0):            \n",
    "            test = seg == u\n",
    "            base[test] = cols[getClassHeatValue(db,u)]\n",
    "    base = ndimage.gaussian_filter(base, sigma=1)\n",
    "    \n",
    "    return base\n",
    "\n",
    "def identifyHeatColdIntersections(hmap):\n",
    "    base = np.zeros((hmap.shape[0],hmap.shape[1]),dtype=np.uint)\n",
    "    test = np.logical_and(hmap > cols[Color.Cold],hmap < cols[Color.Hot])\n",
    "    base[test] = 255  \n",
    "    base = ndimage.gaussian_filter(base, sigma=1)\n",
    "    return base\n",
    "\n",
    "def determineHeatColdIntersectionIssues(intersection):\n",
    "    wh = int(round(intersection.shape[1]/2))\n",
    "    h1 = intersection[:,:wh]\n",
    "    h2 = intersection[:,wh:]\n",
    "    h1a = np.average(h1)\n",
    "    h2a = np.average(h2)\n",
    "    if (h1a > h2a):\n",
    "        h1 = np.zeros(h1.shape, dtype=np.uint)\n",
    "        if(h2a>0):\n",
    "            h2 = removeSmallBlobs(h2,h2a)\n",
    "    else:\n",
    "        h2 = np.zeros(h2.shape, dtype=np.uint) \n",
    "        if(h1a>0):\n",
    "            h1 = removeSmallBlobs(h1,h1a)    \n",
    "    \n",
    "    return np.concatenate((h1, h2), axis=1)\n",
    "\n",
    "def removeSmallBlobs(img,avr,threh=0.01):\n",
    "    if(threh<avr):\n",
    "        return img\n",
    "    else:\n",
    "        return np.zeros((img.shape[0],img.shape[1]),dtype=np.uint)"
   ]
  },
  {
   "cell_type": "code",
   "execution_count": null,
   "metadata": {},
   "outputs": [],
   "source": [
    "# iou, ssc, predunique, trueUnique = evaluateX(model,imXTest,imYTest,256,416)\n",
    "# getOutputReport(imXTest,imYTest, predunique, trueUnique)"
   ]
  },
  {
   "cell_type": "code",
   "execution_count": null,
   "metadata": {},
   "outputs": [],
   "source": []
  },
  {
   "cell_type": "code",
   "execution_count": null,
   "metadata": {
    "scrolled": true
   },
   "outputs": [],
   "source": [
    "start = time.time()\n",
    "arr, uni = segmentImage(model, imXTest[0])\n",
    "end = time.time()\n",
    "print(end - start)"
   ]
  },
  {
   "cell_type": "code",
   "execution_count": null,
   "metadata": {
    "scrolled": true
   },
   "outputs": [],
   "source": [
    "start = time.time()\n",
    "hMap = generateHeatMap(arr,uni)\n",
    "end = time.time()\n",
    "print(end - start)"
   ]
  },
  {
   "cell_type": "code",
   "execution_count": null,
   "metadata": {},
   "outputs": [],
   "source": [
    "start = time.time()\n",
    "hMap1 = identifyHeatColdIntersections(hMap)\n",
    "end = time.time()\n",
    "print(end - start)"
   ]
  },
  {
   "cell_type": "code",
   "execution_count": null,
   "metadata": {},
   "outputs": [],
   "source": [
    "start = time.time()\n",
    "dx = determineHeatColdIntersectionIssues(hMap1)\n",
    "end = time.time()\n",
    "print(end - start)"
   ]
  },
  {
   "cell_type": "code",
   "execution_count": null,
   "metadata": {},
   "outputs": [],
   "source": [
    "matplotlib.rcParams['figure.figsize'] = [10, 10]\n",
    "\n",
    "fig, axes = plt.subplots(nrows=2, ncols=2)\n",
    "ax = axes.ravel()\n",
    "\n",
    "ax[0].imshow(arr,cmap='seismic')\n",
    "ax[0].set_title(\"Original Segmentation\")\n",
    "ax[0].axis('off')\n",
    "ax[1].imshow(hMap,cmap='coolwarm')\n",
    "ax[1].set_title(\"Heat/Cold map\")\n",
    "ax[1].axis('off')\n",
    "ax[2].imshow(hMap1)\n",
    "ax[2].set_title(\"Heat/Cold boundaries\")\n",
    "ax[2].axis('off')\n",
    "ax[3].imshow(dx)\n",
    "ax[3].set_title(\"Output\")\n",
    "ax[3].axis('off')\n",
    "plt.tight_layout()\n",
    "\n",
    "plt.show()"
   ]
  },
  {
   "cell_type": "code",
   "execution_count": null,
   "metadata": {},
   "outputs": [],
   "source": []
  },
  {
   "cell_type": "code",
   "execution_count": null,
   "metadata": {},
   "outputs": [],
   "source": []
  }
 ],
 "metadata": {
  "kernelspec": {
   "display_name": "Python 3",
   "language": "python",
   "name": "python3"
  },
  "language_info": {
   "codemirror_mode": {
    "name": "ipython",
    "version": 3
   },
   "file_extension": ".py",
   "mimetype": "text/x-python",
   "name": "python",
   "nbconvert_exporter": "python",
   "pygments_lexer": "ipython3",
   "version": "3.7.1"
  }
 },
 "nbformat": 4,
 "nbformat_minor": 2
}
