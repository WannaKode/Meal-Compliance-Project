{
 "cells": [
  {
   "cell_type": "code",
   "execution_count": null,
   "metadata": {},
   "outputs": [],
   "source": [
    "import os\n",
    "import pandas as pd\n",
    "import numpy as np\n",
    "import matplotlib\n",
    "import matplotlib.pyplot as plt\n",
    "import imageio as imio # Reading images\n",
    "import glob"
   ]
  },
  {
   "cell_type": "code",
   "execution_count": null,
   "metadata": {},
   "outputs": [],
   "source": [
    "dataPaths = {'1':os.path.abspath(os.path.join('Data','Experiments','1.csv')),\n",
    "             '2':os.path.abspath(os.path.join('Data','Experiments','2.csv')),\n",
    "             '3':os.path.abspath(os.path.join('Data','Experiments','3.csv')),\n",
    "             '4':os.path.abspath(os.path.join('Data','Experiments','4.csv')),             \n",
    "             '34CE':os.path.abspath(os.path.join('Data','Experiments','3And4CE.csv')),\n",
    "             '5':os.path.abspath(os.path.join('Data','Experiments','5.csv')),\n",
    "             '6':os.path.abspath(os.path.join('Data','Experiments','6.csv')),\n",
    "             '7':os.path.abspath(os.path.join('Data','Experiments','7.csv')),\n",
    "             '8':os.path.abspath(os.path.join('Data','Experiments','8.csv')),\n",
    "             '9':os.path.abspath(os.path.join('Data','Experiments','9.csv')),\n",
    "             '10':os.path.abspath(os.path.join('Data','Experiments','10.csv')),\n",
    "             '11':os.path.abspath(os.path.join('Data','Experiments','11.csv')),\n",
    "             '12':os.path.abspath(os.path.join('Data','Experiments','12.csv'))}\n",
    "\n",
    "dataImPaths = {'XTrain':os.path.abspath(os.path.join('Data','Image','XTrain')),\n",
    "             'XTest':os.path.abspath(os.path.join('Data','Image','XTest')),\n",
    "             'yTrain':os.path.abspath(os.path.join('Data','Image','yTrain')),\n",
    "             'yTest':os.path.abspath(os.path.join('Data','Image','yTest'))}"
   ]
  },
  {
   "cell_type": "code",
   "execution_count": null,
   "metadata": {},
   "outputs": [],
   "source": [
    "def AddOneToListOfNumbers(lst):\n",
    "    '''Compensate for 0 based indexing'''\n",
    "    return [f+1 for f in lst]"
   ]
  },
  {
   "cell_type": "markdown",
   "metadata": {},
   "source": [
    "# Experiment 1\n",
    "\n",
    "The purpose of this experiment is to see how the model reacts to different input sizes. This experiment will determine the input size for the other experiments. The models were trained for 20 epochs using the standard categorical cross-entropy loss function to observe the effects for input size on the test SSC and IoU.\n",
    "It can be observed that an input size of 319,488 works better for both SSC and IoU. Using an input size of 1,228,800 also increased training time by 4x (23s vs 84s) per epoch. Further model development will be done using the input size of 319,488, however a final comparison between the input sizes will need to be done once all of the other parameters have been selected."
   ]
  },
  {
   "cell_type": "code",
   "execution_count": null,
   "metadata": {},
   "outputs": [],
   "source": [
    "df1 = pd.read_csv(dataPaths['1'])\n",
    "df1S1 = df1.loc[df1['s'] == 1]\n",
    "df1S2 = df1.loc[df1['s'] == 2]"
   ]
  },
  {
   "cell_type": "code",
   "execution_count": null,
   "metadata": {},
   "outputs": [],
   "source": [
    "df1.columns"
   ]
  },
  {
   "cell_type": "code",
   "execution_count": null,
   "metadata": {},
   "outputs": [],
   "source": [
    "matplotlib.rcParams['figure.figsize'] = [7, 5]\n",
    "\n",
    "# SSC Score Experiments 1, 2, 3\n",
    "plt.plot(AddOneToListOfNumbers(list(df1S1['epoch'])),\n",
    "         df1S1['trainSimRN'], marker='o', linewidth=1, markersize=5, label='319,488 - Test')\n",
    "plt.plot(AddOneToListOfNumbers(list(df1S2['epoch'])),\n",
    "         df1S2['trainSimRN'], marker='^', linewidth=1, markersize=5, label='1,228,800 - Test')\n",
    "\n",
    "plt.plot(AddOneToListOfNumbers(list(df1S1['epoch'])),\n",
    "         df1S1['testSimRN'], marker='o', linewidth=1, markersize=5, label='319,488 - Test')\n",
    "plt.plot(AddOneToListOfNumbers(list(df1S2['epoch'])),\n",
    "         df1S2['testSimRN'], marker='^', linewidth=1, markersize=5, label='1,228,800 - Test')\n",
    "# y-axis limits\n",
    "#plt.ylim([0.6,0.9])\n",
    "# x-axis label \n",
    "plt.xlabel('Epoch') \n",
    "# y-axis label \n",
    "plt.ylabel('SSC') \n",
    "# show legend\n",
    "plt.legend(title=\"Input Size\",loc=4)\n",
    "# function to show the plot \n",
    "plt.show()"
   ]
  },
  {
   "cell_type": "code",
   "execution_count": null,
   "metadata": {},
   "outputs": [],
   "source": [
    "matplotlib.rcParams['figure.figsize'] = [7, 5]\n",
    "\n",
    "# SSC Score Experiments 1, 2, 3\n",
    "plt.plot(AddOneToListOfNumbers(list(df1S1['epoch'])),\n",
    "         df1S1['train'], marker='o', linewidth=1, markersize=5, label='319,488 - Test')\n",
    "plt.plot(AddOneToListOfNumbers(list(df1S2['epoch'])),\n",
    "         df1S2['train'], marker='^', linewidth=1, markersize=5, label='1,228,800 - Test')\n",
    "\n",
    "plt.plot(AddOneToListOfNumbers(list(df1S1['epoch'])),\n",
    "         df1S1['test'], marker='o', linewidth=1, markersize=5, label='319,488 - Test')\n",
    "plt.plot(AddOneToListOfNumbers(list(df1S2['epoch'])),\n",
    "         df1S2['test'], marker='^', linewidth=1, markersize=5, label='1,228,800 - Test')\n",
    "# y-axis limits\n",
    "#plt.ylim([0.6,0.9])\n",
    "# x-axis label \n",
    "plt.xlabel('Epoch') \n",
    "# y-axis label \n",
    "plt.ylabel('IoU') \n",
    "# show legend\n",
    "plt.legend(title=\"Input Size\",loc=4)\n",
    "# function to show the plot \n",
    "plt.show()"
   ]
  },
  {
   "cell_type": "markdown",
   "metadata": {},
   "source": [
    "# Experiment 2\n",
    "\n",
    "This experiment tests the performance of the model when it is trained on the addition data created via image augmentation. The training set for random augmentation is 416 and for geometric augmentation it is 288. SSC scores for this experiment has been recorded using the noise reduction algorithm as well as without it."
   ]
  },
  {
   "cell_type": "code",
   "execution_count": null,
   "metadata": {},
   "outputs": [],
   "source": [
    "df2 = pd.read_csv(dataPaths['2'])\n",
    "df2D0 = df2.loc[df2['d'] == 0]\n",
    "df2D1 = df2.loc[df2['d'] == 1]\n",
    "df2D2 = df2.loc[df2['d'] == 2]\n",
    "df2D3 = df2.loc[df2['d'] == 3]"
   ]
  },
  {
   "cell_type": "code",
   "execution_count": null,
   "metadata": {},
   "outputs": [],
   "source": [
    "matplotlib.rcParams['figure.figsize'] = [7, 5]\n",
    "\n",
    "# SSC Score Experiment 2\n",
    "plt.plot(AddOneToListOfNumbers(list(df2D0['epoch'])),\\\n",
    "         df2D0['testSimRN'], marker='o', linewidth=1, markersize=5, label='None')\n",
    "plt.plot(AddOneToListOfNumbers(list(df2D2['epoch'])),\n",
    "         df2D2['testSimRN'], marker='s', linewidth=1, markersize=5, label='Random')\n",
    "plt.plot(AddOneToListOfNumbers(list(df2D1['epoch'])),\\\n",
    "         df2D1['testSimRN'], marker='^', linewidth=1, markersize=5, label='Geometric')\n",
    "plt.plot(AddOneToListOfNumbers(list(df2D3['epoch'])),\\\n",
    "         df2D3['testSimRN'], marker='^', linewidth=1, markersize=5, label='Geometric Ex')\n",
    "\n",
    "# y-axis limits\n",
    "#plt.ylim([0.6,0.9])\n",
    "# x-axis label \n",
    "plt.xlabel('Epoch') \n",
    "# y-axis label \n",
    "plt.ylabel('SSC') \n",
    "# show legend\n",
    "plt.legend(title=\"Image Augmentation\",loc=4)\n",
    "# function to show the plot \n",
    "plt.show()"
   ]
  },
  {
   "cell_type": "code",
   "execution_count": null,
   "metadata": {},
   "outputs": [],
   "source": [
    "matplotlib.rcParams['figure.figsize'] = [7, 5]\n",
    "\n",
    "x = AddOneToListOfNumbers(list(df2D1['epoch']))\n",
    "\n",
    "# SSC Score Experiments 1, 2, 3\n",
    "plt.plot(AddOneToListOfNumbers(list(df2D0['epoch'])),\\\n",
    "         df2D0['test'], marker='o', linewidth=1, markersize=5, label='None')\n",
    "plt.plot(AddOneToListOfNumbers(list(df2D1['epoch'])),\\\n",
    "         df2D1['test'], marker='^', linewidth=1, markersize=5, label='Random')\n",
    "plt.plot(AddOneToListOfNumbers(list(df2D2['epoch'])),\n",
    "         df2D2['test'], marker='s', linewidth=1, markersize=5, label='Geometric')\n",
    "plt.plot(AddOneToListOfNumbers(list(df2D3['epoch'])),\\\n",
    "         df2D3['test'], marker='^', linewidth=1, markersize=5, label='Geometric Ex')\n",
    "# y-axis limits\n",
    "#plt.ylim([0.6,0.9])\n",
    "# x-axis label \n",
    "plt.xlabel('Epoch') \n",
    "# y-axis label \n",
    "plt.ylabel('IoU') \n",
    "# show legend\n",
    "plt.legend(title=\"Image Augmentation\",loc=4)\n",
    "# function to show the plot \n",
    "plt.show()"
   ]
  },
  {
   "cell_type": "code",
   "execution_count": null,
   "metadata": {},
   "outputs": [],
   "source": [
    "matplotlib.rcParams['figure.figsize'] = [14, 5]\n",
    "\n",
    "x = AddOneToListOfNumbers(list(df2D1['epoch']))\n",
    "\n",
    "# SSC Score Experiments 1, 2, 3\n",
    "plt.plot(AddOneToListOfNumbers(list(df2D2['epoch'])),\n",
    "         df2D2['train'], marker='s', linewidth=1, markersize=5, label='Train - Geometric')\n",
    "plt.plot(AddOneToListOfNumbers(list(df2D2['epoch'])),\n",
    "         df2D2['test'], marker='s', linewidth=1, markersize=5, label='Test - Geometric')\n",
    "plt.plot(AddOneToListOfNumbers(list(df2D3['epoch'])),\\\n",
    "         df2D3['train'], marker='^', linewidth=1, markersize=5, label='Train - Geometric Ex')\n",
    "plt.plot(AddOneToListOfNumbers(list(df2D3['epoch'])),\\\n",
    "         df2D3['test'], marker='^', linewidth=1, markersize=5, label='Test - Geometric Ex')\n",
    "# y-axis limits\n",
    "#plt.ylim([0.6,0.9])\n",
    "# x-axis label \n",
    "plt.xlabel('Epoch') \n",
    "# y-axis label \n",
    "plt.ylabel('IoU') \n",
    "# show legend\n",
    "plt.legend(title=\"Image Augmentation\",loc=4)\n",
    "# function to show the plot \n",
    "plt.show()"
   ]
  },
  {
   "cell_type": "markdown",
   "metadata": {},
   "source": [
    "# Experiment 3\n",
    "The default categorical cross-entropy loss function does not take into account class imbalance, essentially it puts more weight on classes that are represented more in images. "
   ]
  },
  {
   "cell_type": "code",
   "execution_count": null,
   "metadata": {},
   "outputs": [],
   "source": [
    "df34CE = pd.read_csv(dataPaths['34CE'])\n",
    "df3 = pd.read_csv(dataPaths['3'])\n",
    "df3B05 = df3.loc[df3['b'] == 0.5]\n",
    "df3B1 = df3.loc[df3['b'] == 1]\n",
    "df3B3 = df3.loc[df3['b'] == 3]"
   ]
  },
  {
   "cell_type": "code",
   "execution_count": null,
   "metadata": {},
   "outputs": [],
   "source": [
    "matplotlib.rcParams['figure.figsize'] = [14, 5]\n",
    "\n",
    "# SSC Score Experiments \n",
    "plt.plot(AddOneToListOfNumbers(list(df3B05['epoch'])),\n",
    "         df3B05['testSimRN'], marker='^', linewidth=1, markersize=5, label='0.5 - Test')\n",
    "plt.plot(AddOneToListOfNumbers(list(df3B1['epoch'])),\n",
    "         df3B1['testSimRN'], marker='s', linewidth=1, markersize=5, label='1 - Test')\n",
    "plt.plot(AddOneToListOfNumbers(list(df3B3['epoch'])),\n",
    "         df3B3['testSimRN'], marker='*', linewidth=1, markersize=5, label='3 - Test')\n",
    "\n",
    "plt.plot(AddOneToListOfNumbers(list(df3B05['epoch'])),\n",
    "         df3B05['trainSimRN'], marker='^', linewidth=1, markersize=5, label='0.5 - Train')\n",
    "plt.plot(AddOneToListOfNumbers(list(df3B1['epoch'])),\n",
    "         df3B1['trainSimRN'], marker='s', linewidth=1, markersize=5, label='1 - Train')\n",
    "plt.plot(AddOneToListOfNumbers(list(df3B3['epoch'])),\n",
    "         df3B3['trainSimRN'], marker='*', linewidth=1, markersize=5, label='3 - Train')\n",
    "# y-axis limits\n",
    "#plt.ylim([0.6,0.9])\n",
    "# x-axis label \n",
    "plt.xlabel('Epoch') \n",
    "# y-axis label \n",
    "plt.ylabel('SSC') \n",
    "# show legend\n",
    "plt.legend(title=\"β\",loc=4)\n",
    "# function to show the plot \n",
    "plt.show()"
   ]
  },
  {
   "cell_type": "code",
   "execution_count": null,
   "metadata": {},
   "outputs": [],
   "source": [
    "matplotlib.rcParams['figure.figsize'] = [14, 5]\n",
    "\n",
    "# SSC Score Experiments \n",
    "plt.plot(AddOneToListOfNumbers(list(df3B05['epoch'])),\n",
    "         df3B05['test'], marker='^', linewidth=1, markersize=5, label='0.5 - Test')\n",
    "plt.plot(AddOneToListOfNumbers(list(df3B1['epoch'])),\n",
    "         df3B1['test'], marker='s', linewidth=1, markersize=5, label='1 - Test')\n",
    "plt.plot(AddOneToListOfNumbers(list(df3B3['epoch'])),\n",
    "         df3B3['test'], marker='*', linewidth=1, markersize=5, label='3 - Test')\n",
    "\n",
    "plt.plot(AddOneToListOfNumbers(list(df3B05['epoch'])),\n",
    "         df3B05['train'], marker='^', linewidth=1, markersize=5, label='0.5 - Train')\n",
    "plt.plot(AddOneToListOfNumbers(list(df3B1['epoch'])),\n",
    "         df3B1['train'], marker='s', linewidth=1, markersize=5, label='1 - Train')\n",
    "plt.plot(AddOneToListOfNumbers(list(df3B3['epoch'])),\n",
    "         df3B3['train'], marker='*', linewidth=1, markersize=5, label='3 - Train')\n",
    "# y-axis limits\n",
    "#plt.ylim([0.6,0.9])\n",
    "# x-axis label \n",
    "plt.xlabel('Epoch') \n",
    "# y-axis label \n",
    "plt.ylabel('IoU') \n",
    "# show legend\n",
    "plt.legend(title=\"β\",loc=4)\n",
    "# function to show the plot \n",
    "plt.show()"
   ]
  },
  {
   "cell_type": "markdown",
   "metadata": {},
   "source": [
    "# Experiment 4\n",
    "Using TL the model can be optimised to improve SSC. "
   ]
  },
  {
   "cell_type": "code",
   "execution_count": null,
   "metadata": {},
   "outputs": [],
   "source": [
    "df4 = pd.read_csv(dataPaths['4'])\n",
    "df4B05 = df4.loc[df4['b'] == 0.5]\n",
    "df4B1 = df4.loc[df4['b'] == 1]\n",
    "df4B3 = df4.loc[df4['b'] == 3]"
   ]
  },
  {
   "cell_type": "code",
   "execution_count": null,
   "metadata": {},
   "outputs": [],
   "source": [
    "matplotlib.rcParams['figure.figsize'] = [14, 5]\n",
    "x = AddOneToListOfNumbers(list(df4B05['epoch']))\n",
    "\n",
    "# SSC Score Experiments \n",
    "\n",
    "plt.plot(x,df4B05['trainSimRN'], marker='^', linewidth=1, markersize=5, label='0.5 - Train')\n",
    "plt.plot(x,df4B1['trainSimRN'], marker='s', linewidth=1, markersize=5, label='1 - Train')\n",
    "plt.plot(x,df4B3['trainSimRN'], marker='*', linewidth=1, markersize=5, label='3 - Train')\n",
    "\n",
    "\n",
    "plt.plot(x,df4B05['testSimRN'], marker='^', linewidth=1, markersize=5, label='0.5 - Test')\n",
    "plt.plot(x,df4B1['testSimRN'], marker='s', linewidth=1, markersize=5, label='1 - Test')\n",
    "plt.plot(x,df4B3['testSimRN'], marker='*', linewidth=1, markersize=5, label='3 - Test')\n",
    "# y-axis limits\n",
    "# plt.ylim([0.2,0.45])\n",
    "# x-axis label \n",
    "plt.xlabel('Epoch') \n",
    "# y-axis label \n",
    "plt.ylabel('SSC') \n",
    "# show legend\n",
    "plt.legend(title=\"β\",loc=4)\n",
    "# function to show the plot \n",
    "plt.show()"
   ]
  },
  {
   "cell_type": "code",
   "execution_count": null,
   "metadata": {},
   "outputs": [],
   "source": [
    "matplotlib.rcParams['figure.figsize'] = [14, 5]\n",
    "x = AddOneToListOfNumbers(list(df4B05['epoch']))\n",
    "\n",
    "# SSC Score Experiments \n",
    "plt.plot(x,df4B05['train'], marker='^', linewidth=1, markersize=5, label='0.5 - Train')\n",
    "plt.plot(x,df4B1['train'], marker='s', linewidth=1, markersize=5, label='1 - Train')\n",
    "plt.plot(x,df4B3['train'], marker='*', linewidth=1, markersize=5, label='3 - Train')\n",
    "\n",
    "plt.plot(x,df4B05['test'], marker='^', linewidth=1, markersize=5, label='0.5 - Test')\n",
    "plt.plot(x,df4B1['test'], marker='s', linewidth=1, markersize=5, label='1 - Test')\n",
    "plt.plot(x,df4B3['test'], marker='*', linewidth=1, markersize=5, label='3 - Test')\n",
    "# y-axis limits\n",
    "# plt.ylim([0.6,0.8])\n",
    "# x-axis label \n",
    "plt.xlabel('Epoch') \n",
    "# y-axis label \n",
    "plt.ylabel('IoU') \n",
    "# show legend\n",
    "plt.legend(title=\"β\",loc=4)\n",
    "# function to show the plot \n",
    "plt.show()"
   ]
  },
  {
   "cell_type": "markdown",
   "metadata": {},
   "source": [
    "# Experiment 5\n",
    "Using a combination of loss functions can work better to optimise multiple parameters…"
   ]
  },
  {
   "cell_type": "code",
   "execution_count": null,
   "metadata": {},
   "outputs": [],
   "source": [
    "df5 = pd.read_csv(dataPaths['5'])\n",
    "df5CEO = df5.loc[df5['ex'] == 'orignCE']\n",
    "df5WCEO = df5.loc[df5['ex'] == 'orignWCE']\n",
    "df5CEFS = df5.loc[df5['ex'] == 'fixedCESmall']\n",
    "df5CEFL = df5.loc[df5['ex'] == 'fixedCELarge']"
   ]
  },
  {
   "cell_type": "code",
   "execution_count": null,
   "metadata": {},
   "outputs": [],
   "source": [
    "matplotlib.rcParams['figure.figsize'] = [14, 5]\n",
    "x = AddOneToListOfNumbers(list(df5CEO['epoch']))\n",
    "\n",
    "# SSC Score Experiments \n",
    "\n",
    "plt.plot(x,df5CEO['trainSimRN'], marker='^', linewidth=1, markersize=5, label='CE - Train')\n",
    "plt.plot(x,df5CEO['testSimRN'], marker='^', linewidth=1, markersize=5, label='CE - Test')\n",
    "\n",
    "plt.plot(x,df5WCEO['trainSimRN'], marker='s', linewidth=1, markersize=5, label='WCE - Train')\n",
    "plt.plot(x,df5WCEO['testSimRN'], marker='s', linewidth=1, markersize=5, label='WCE - Test')\n",
    "\n",
    "\n",
    "# y-axis limits\n",
    "# plt.ylim([0.2,0.45])\n",
    "# x-axis label \n",
    "plt.xlabel('Epoch') \n",
    "# y-axis label \n",
    "plt.ylabel('SSC') \n",
    "# show legend\n",
    "plt.legend(title=\"Loss\",loc=4)\n",
    "# function to show the plot \n",
    "plt.show()"
   ]
  },
  {
   "cell_type": "code",
   "execution_count": null,
   "metadata": {},
   "outputs": [],
   "source": [
    "matplotlib.rcParams['figure.figsize'] = [14, 5]\n",
    "x = AddOneToListOfNumbers(list(df5CEO['epoch']))\n",
    "\n",
    "# SSC Score Experiments \n",
    "\n",
    "plt.plot(x,df5CEO['train'], marker='^', linewidth=1, markersize=5, label='CE - Train')\n",
    "plt.plot(x,df5CEO['test'], marker='^', linewidth=1, markersize=5, label='CE - Test')\n",
    "\n",
    "plt.plot(x,df5WCEO['train'], marker='s', linewidth=1, markersize=5, label='WCE - Train')\n",
    "plt.plot(x,df5WCEO['test'], marker='s', linewidth=1, markersize=5, label='WCE - Test')\n",
    "\n",
    "\n",
    "# y-axis limits\n",
    "# plt.ylim([0.2,0.45])\n",
    "# x-axis label \n",
    "plt.xlabel('Epoch') \n",
    "# y-axis label \n",
    "plt.ylabel('IoU') \n",
    "# show legend\n",
    "plt.legend(title=\"Loss\",loc=4)\n",
    "# function to show the plot \n",
    "plt.show()"
   ]
  },
  {
   "cell_type": "code",
   "execution_count": null,
   "metadata": {},
   "outputs": [],
   "source": [
    "matplotlib.rcParams['figure.figsize'] = [14, 5]\n",
    "x = AddOneToListOfNumbers(list(df5CEO['epoch']))\n",
    "\n",
    "# SSC Score Experiments \n",
    "\n",
    "plt.plot(x,df5CEFS['trainSimRN'], marker='s', linewidth=1, markersize=5, label='319,488 - Train')\n",
    "plt.plot(x,df5CEFS['testSimRN'], marker='s', linewidth=1, markersize=5, label='319,488 - Test')\n",
    "\n",
    "plt.plot(x,df5CEFL['trainSimRN'], marker='^', linewidth=1, markersize=5, label='1,228,800 - Train')\n",
    "plt.plot(x,df5CEFL['testSimRN'], marker='^', linewidth=1, markersize=5, label='1,228,800 - Test')\n",
    "\n",
    "# y-axis limits\n",
    "# plt.ylim([0.2,0.45])\n",
    "# x-axis label \n",
    "plt.xlabel('Epoch') \n",
    "# y-axis label \n",
    "plt.ylabel('SSC') \n",
    "# show legend\n",
    "plt.legend(title=\"Input size\",loc=4)\n",
    "# function to show the plot \n",
    "plt.show()"
   ]
  },
  {
   "cell_type": "code",
   "execution_count": null,
   "metadata": {},
   "outputs": [],
   "source": [
    "matplotlib.rcParams['figure.figsize'] = [14, 5]\n",
    "x = AddOneToListOfNumbers(list(df5CEO['epoch']))\n",
    "\n",
    "# SSC Score Experiments \n",
    "\n",
    "plt.plot(x,df5CEFS['train'], marker='s', linewidth=1, markersize=5, label='319,488 - Train')\n",
    "plt.plot(x,df5CEFS['test'], marker='s', linewidth=1, markersize=5, label='319,488 - Test')\n",
    "\n",
    "plt.plot(x,df5CEFL['train'], marker='^', linewidth=1, markersize=5, label='1,228,800 - Train')\n",
    "plt.plot(x,df5CEFL['test'], marker='^', linewidth=1, markersize=5, label='1,228,800 - Test')\n",
    "\n",
    "# y-axis limits\n",
    "# plt.ylim([0.2,0.45])\n",
    "# x-axis label \n",
    "plt.xlabel('Epoch') \n",
    "# y-axis label \n",
    "plt.ylabel('IoU') \n",
    "# show legend\n",
    "plt.legend(title=\"Input size\",loc=4)\n",
    "# function to show the plot \n",
    "plt.show()"
   ]
  }
 ],
 "metadata": {
  "kernelspec": {
   "display_name": "Python 3",
   "language": "python",
   "name": "python3"
  },
  "language_info": {
   "codemirror_mode": {
    "name": "ipython",
    "version": 3
   },
   "file_extension": ".py",
   "mimetype": "text/x-python",
   "name": "python",
   "nbconvert_exporter": "python",
   "pygments_lexer": "ipython3",
   "version": "3.7.1"
  }
 },
 "nbformat": 4,
 "nbformat_minor": 2
}
