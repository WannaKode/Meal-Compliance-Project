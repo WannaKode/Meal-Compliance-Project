{
 "cells": [
  {
   "cell_type": "markdown",
   "metadata": {},
   "source": [
    "# Model tests\n",
    "\n",
    "Using this notebook you should be able to run thee final model\n",
    "\n",
    "Note the commented out line:\n",
    "```#out = model.predict_segmentation(inp=im[0],out_fname=path_leaf(im[1]))```\n",
    "if you un comment this line, the model will save the segmentation outputs to file "
   ]
  },
  {
   "cell_type": "code",
   "execution_count": null,
   "metadata": {},
   "outputs": [],
   "source": [
    "from model import *\n",
    "import os # File/directory operations\n",
    "import ntpath # File/directory operations\n",
    "import matplotlib\n",
    "import matplotlib.pyplot as plt\n",
    "import imageio as imio # Reading images\n",
    "import glob\n",
    "from collections import Counter\n",
    "import itertools\n",
    "import collections\n",
    "\n",
    "dataImPaths = {'XTrain':os.path.abspath(os.path.join('Data','Image','XTrain')),\n",
    "             'XTest':os.path.abspath(os.path.join('Data','Image','XTest')),\n",
    "             'yTrain':os.path.abspath(os.path.join('Data','Image','yTrain')),\n",
    "             'yTest':os.path.abspath(os.path.join('Data','Image','yTest'))}"
   ]
  },
  {
   "cell_type": "code",
   "execution_count": null,
   "metadata": {},
   "outputs": [],
   "source": [
    "model = vgg_unet(43, 256, 416)"
   ]
  },
  {
   "cell_type": "code",
   "execution_count": null,
   "metadata": {},
   "outputs": [],
   "source": [
    "model.load_weights('Weights/vgg_unet_1.47-CE-Ext2-Fixed-N.h5')"
   ]
  },
  {
   "cell_type": "code",
   "execution_count": null,
   "metadata": {},
   "outputs": [],
   "source": [
    "imXTrain = glob.glob(os.path.join(dataImPaths['XTrain'], \"*\"))\n",
    "imXTest = glob.glob(os.path.join(dataImPaths['XTest'], \"*\"))\n",
    "\n",
    "imYTrain = glob.glob(os.path.join(dataImPaths['yTrain'], \"*\"))\n",
    "imYTest = glob.glob(os.path.join(dataImPaths['yTest'], \"*\"))\n",
    "\n",
    "filePairPathsTrain = list(zip(imXTrain, imYTrain))\n",
    "filePairPathsTest = list(zip(imXTest, imYTest))"
   ]
  },
  {
   "cell_type": "code",
   "execution_count": null,
   "metadata": {},
   "outputs": [],
   "source": [
    "def getUniqueCountFormImage(imPath):\n",
    "    img = np.unique(np.array(imPath).astype(np.uint16))\n",
    "    return dict(zip(img,itertools.repeat(1)))\n",
    "\n",
    "def addDicts(d1, d2):\n",
    "    A = Counter(d1)\n",
    "    B = Counter(d2)\n",
    "    return dict(A + B)\n",
    "\n",
    "def path_leaf(path):\n",
    "    \"\"\"This function gets the file name from a path\"\"\"\n",
    "    head, tail = ntpath.split(path)\n",
    "    return tail or ntpath.basename(head)\n",
    "\n",
    "def getClassFromID(id):\n",
    "    data = pd.read_csv('Data/classes.csv')\n",
    "    return data.loc[data['_id'] == id, '_name'].values[0]"
   ]
  },
  {
   "cell_type": "code",
   "execution_count": null,
   "metadata": {
    "scrolled": false
   },
   "outputs": [],
   "source": [
    "testPairs = {}\n",
    "for im in filePairPathsTest:\n",
    "    out = model.predict_segmentation(inp=im[0],out_fname=path_leaf(im[1]))\n",
    "    #out = predict(model, im[0])\n",
    "    true = imio.imread(im[1])\n",
    "                        \n",
    "    true = np.array(true).ravel()\n",
    "    out = np.array(out).ravel()\n",
    "                        \n",
    "    t = 0.001\n",
    "    uniqueTrue = reduceSSCNoise(true,0)\n",
    "    uniquePred = reduceSSCNoise(out,t)\n",
    "    \n",
    "    \n",
    "    uniqueTrue.sort()\n",
    "    uniquePred.sort()\n",
    "    \n",
    "    testPairs[path_leaf(im[0])] = {\n",
    "        'yTest':uniqueTrue,\n",
    "        'yPred':uniquePred\n",
    "    }\n",
    "    \n",
    "    #print(path_leaf(im[1]))\n",
    "    print([getClassFromID(x) for x in testPairs[path_leaf(im[0])]['yTest']])\n",
    "    #print(path_leaf(im[0]))\n",
    "    print([getClassFromID(x) for x in testPairs[path_leaf(im[0])]['yPred']])\n",
    "    print(SSC(true,reduceSSCNoise(out,t)))\n",
    "    #print('\\n')"
   ]
  },
  {
   "cell_type": "code",
   "execution_count": null,
   "metadata": {
    "scrolled": false
   },
   "outputs": [],
   "source": [
    "testPairs = {}\n",
    "for im, real in zip(filePairPathsTrain, imXTrain):\n",
    "    #out = model.predict_segmentation(inp=im[0],out_fname=path_leaf(im[1]))\n",
    "    out = model.predict_segmentation(inp=im[0])\n",
    "    true = imio.imread(im[1])\n",
    "    \n",
    "    uniqueTrue = reduceSSCNoise(true,0)\n",
    "    uniquePred = reduceSSCNoise(out)\n",
    "    \n",
    "    \n",
    "    uniqueTrue.sort()\n",
    "    uniquePred.sort()\n",
    "    \n",
    "    testPairs[path_leaf(im[0])] = {\n",
    "        'yTest':uniqueTrue,\n",
    "        'yPred':uniquePred\n",
    "    }\n",
    "    \n",
    "    print(path_leaf(im[1]))\n",
    "    plt.imshow(imio.imread(real))\n",
    "    plt.show()\n",
    "    print([getClassFromID(x) for x in testPairs[path_leaf(im[0])]['yTest']])\n",
    "    #print(path_leaf(im[0]))\n",
    "    print([getClassFromID(x) for x in testPairs[path_leaf(im[0])]['yPred']])\n",
    "    #print(SSC(true,reduceSSCNoise(out)))\n",
    "    #print('\\n')"
   ]
  },
  {
   "cell_type": "code",
   "execution_count": null,
   "metadata": {},
   "outputs": [],
   "source": [
    "getClassFromID(1)"
   ]
  },
  {
   "cell_type": "code",
   "execution_count": null,
   "metadata": {},
   "outputs": [],
   "source": []
  },
  {
   "cell_type": "code",
   "execution_count": null,
   "metadata": {},
   "outputs": [],
   "source": [
    "imYTrain = glob.glob(os.path.join(dataImPaths['yTrain'], \"*\"))\n",
    "imYTest = glob.glob(os.path.join(dataImPaths['yTest'], \"*\"))"
   ]
  },
  {
   "cell_type": "code",
   "execution_count": null,
   "metadata": {},
   "outputs": [],
   "source": [
    "trainDist = {}\n",
    "for image in imYTrain:\n",
    "    imDist = getUniqueCountFormImage(imio.imread(image))\n",
    "    print(imDist)\n",
    "    trainDist = addDicts(trainDist, imDist)\n",
    "    \n",
    "trainDist = dict(collections.OrderedDict(sorted(trainDist.items())))\n",
    "\n",
    "testDist = {}\n",
    "for image in imYTest:\n",
    "    imDist = getUniqueCountFormImage(imio.imread(image))\n",
    "    testDist = addDicts(testDist, imDist)\n",
    "    \n",
    "testDist = dict(collections.OrderedDict(sorted(testDist.items())))\n"
   ]
  },
  {
   "cell_type": "code",
   "execution_count": null,
   "metadata": {},
   "outputs": [],
   "source": []
  },
  {
   "cell_type": "code",
   "execution_count": null,
   "metadata": {},
   "outputs": [],
   "source": [
    "matplotlib.rcParams['figure.figsize'] = [14, 5]\n",
    "\n",
    "df = pd.DataFrame.from_dict(trainDist, orient='index').astype(float)\n",
    "df1 = pd.DataFrame.from_dict(testDist, orient='index').astype(float)\n",
    "\n",
    "plt.bar(list(df.index),list(df.iloc[:,0]),alpha = 0.5, label='Train')\n",
    "plt.bar(list(df1.index),list(df1.iloc[:,0]),alpha = 0.5, label='Test')\n",
    "plt.xticks(range(0,43))\n",
    "# x-axis label \n",
    "plt.xlabel('class') \n",
    "# y-axis label \n",
    "plt.ylabel('# of occurrences') \n",
    "# Legend\n",
    "plt.legend(title=\"Dataset\",loc=1)\n",
    "# show the plot\n",
    "plt.show()"
   ]
  },
  {
   "cell_type": "code",
   "execution_count": null,
   "metadata": {},
   "outputs": [],
   "source": []
  }
 ],
 "metadata": {
  "kernelspec": {
   "display_name": "Python 3",
   "language": "python",
   "name": "python3"
  },
  "language_info": {
   "codemirror_mode": {
    "name": "ipython",
    "version": 3
   },
   "file_extension": ".py",
   "mimetype": "text/x-python",
   "name": "python",
   "nbconvert_exporter": "python",
   "pygments_lexer": "ipython3",
   "version": "3.7.1"
  }
 },
 "nbformat": 4,
 "nbformat_minor": 2
}
