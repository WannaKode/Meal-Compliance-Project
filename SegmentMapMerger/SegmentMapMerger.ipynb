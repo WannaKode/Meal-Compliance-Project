{
 "cells": [
  {
   "cell_type": "code",
   "execution_count": 12,
   "metadata": {},
   "outputs": [],
   "source": [
    "import os # File/directory operations\n",
    "import ntpath # File/directory operations\n",
    "import imageio as imio # Reading images\n",
    "import pandas as pd # Data manipulations\n",
    "import numpy as np # Data manipulations\n",
    "from skimage import data # Image operations\n",
    "from skimage.color import rgb2gray # RGB image to grey\n",
    "from shutil import copyfile\n",
    "import errno"
   ]
  },
  {
   "cell_type": "code",
   "execution_count": 13,
   "metadata": {},
   "outputs": [],
   "source": [
    "dataPaths = {'Data':os.path.abspath(os.path.join('Data')),\n",
    "             'InputImage':os.path.abspath(os.path.join('Data','Images')),\n",
    "             'InputAnnot':os.path.abspath(os.path.join('Data','Annotations')),                       \n",
    "             'OutputImage':os.path.abspath(os.path.join('Output','Images')),\n",
    "             'OutputAnnot':os.path.abspath(os.path.join('Output','Annotations'))}"
   ]
  },
  {
   "cell_type": "code",
   "execution_count": 14,
   "metadata": {},
   "outputs": [],
   "source": [
    "def copyFileToDir(file, path):\n",
    "        dest = path+'\\\\'\n",
    "        dest = dest+path_leaf(file)\n",
    "        os.makedirs(os.path.dirname(dest), exist_ok=True)\n",
    "        copyfile(file, dest)\n",
    "        \n",
    "def get_files_in_dir(dir):\n",
    "    \"\"\"This function will return a list of fi les in the given dir\"\"\"\n",
    "    files = []\n",
    "    # r=root, d=directories, f = files\n",
    "    for r, d, f in os.walk(dir):\n",
    "        for file in f:\n",
    "            files.append(os.path.join(r, file))\n",
    "    return files\n",
    "\n",
    "def path_leaf(path):\n",
    "    \"\"\"This function returns the file name from a file path\"\"\"\n",
    "    head, tail = ntpath.split(path)\n",
    "    return tail or ntpath.basename(head)\n",
    "\n",
    "def remove_file_ext(fileName):\n",
    "    \"\"\"This function removes the file extension\"\"\"\n",
    "    return os.path.splitext(fileName)[0]\n",
    "\n",
    "def validate_keys(imFileDict, anFileDict):\n",
    "    \"\"\"This function validates that the input files have been setup correctly\"\"\"\n",
    "    valid = True\n",
    "    for key in imFileDict.keys():\n",
    "        if key not in anFileDict:\n",
    "            valid = False\n",
    "    for key in anFileDict.keys():\n",
    "        if key not in imFileDict:\n",
    "            valid = False\n",
    "    return valid\n",
    "\n",
    "def load_image(path):\n",
    "    return np.array(imio.imread(path))\n",
    "\n",
    "def get_image_alpha(image):\n",
    "    return image[:,:,3]\n",
    "\n",
    "def get_mask_of_value(image, value=255, mask_value = 1):\n",
    "    mask = np.array(np.ma.masked_where(image ==value,image))\n",
    "    maskOut = np.zeros(image.shape,np.uint8)\n",
    "    maskVals = mask == value\n",
    "    maskOut[maskVals] = mask_value\n",
    "    return maskOut    "
   ]
  },
  {
   "cell_type": "code",
   "execution_count": 17,
   "metadata": {},
   "outputs": [],
   "source": [
    "# Setup the file names and setup colleralations\n",
    "imFiles = {}\n",
    "imDirs = get_files_in_dir(dataPaths['InputImage'])\n",
    "for file in imDirs:\n",
    "    imFiles[str(remove_file_ext(path_leaf(file)).split('.')[0])] = file\n",
    "\n",
    "anFiles = {}\n",
    "anDirs = get_files_in_dir(dataPaths['InputAnnot'])\n",
    "for file in anDirs:\n",
    "    key = str(remove_file_ext(path_leaf(file)).split('_')[0])\n",
    "    if key in anFiles:\n",
    "        anFiles[key].append(file)\n",
    "    else:\n",
    "        anFiles[key] = []\n",
    "        anFiles[key].append(file)\n",
    "\n",
    "if (not validate_keys(imFiles, anFiles)):\n",
    "    raise Exception('Image validation failed', 'please check if input files are in correct format')"
   ]
  },
  {
   "cell_type": "code",
   "execution_count": 18,
   "metadata": {
    "scrolled": true
   },
   "outputs": [],
   "source": [
    "classes = pd.read_csv(dataPaths['Data']+'\\\\classes.csv')\n",
    "unique = {}\n",
    "for key in imFiles.keys():\n",
    "    img = load_image(imFiles[key])\n",
    "    mask = np.zeros(rgb2gray(img).shape,np.uint8)\n",
    "    for an in anFiles[key]:\n",
    "        cls = str(remove_file_ext(path_leaf(an)).split('_')[-1]).lower()\n",
    "        unique[cls] = 1\n",
    "        id = classes.loc[classes['_class'] == cls, '_id'].values[0]\n",
    "        classMask = get_mask_of_value(get_image_alpha(load_image(an)))\n",
    "        maskVals = classMask == 1\n",
    "        mask[maskVals] = id\n",
    "        \n",
    "    copyFileToDir(imFiles[key],dataPaths['OutputImage'])\n",
    "    imio.imwrite(dataPaths['OutputAnnot']+'\\\\' + str(key)+ '.png',mask)"
   ]
  },
  {
   "cell_type": "code",
   "execution_count": 11,
   "metadata": {},
   "outputs": [
    {
     "name": "stdout",
     "output_type": "stream",
     "text": [
      "background\n",
      "bakedfish\n",
      "bean\n",
      "beefmexicanmeatballs\n",
      "beeftomatocasserole\n",
      "boiledrice\n",
      "bread\n",
      "cannedfruit\n",
      "creamedpotato\n",
      "cucumber\n",
      "custard\n",
      "cutlery\n",
      "gravy\n",
      "ham\n",
      "jacketpotato\n",
      "jelly\n",
      "juice\n",
      "layer-0\n",
      "leaf\n",
      "lemonsponge\n",
      "margarine\n",
      "milk\n",
      "orangejuice\n",
      "roastlamb\n",
      "sandwich\n",
      "seasonalvegetables\n",
      "sidesalad\n",
      "soup\n",
      "spinachandpumpkinrisotto\n",
      "tartaresauce\n",
      "tomato\n",
      "tray\n",
      "vanillayogurt\n",
      "water\n"
     ]
    }
   ],
   "source": [
    "for i in sorted (unique.keys()) :  \n",
    "     print(i, end = \"\\n\") "
   ]
  }
 ],
 "metadata": {
  "kernelspec": {
   "display_name": "Python 3",
   "language": "python",
   "name": "python3"
  },
  "language_info": {
   "codemirror_mode": {
    "name": "ipython",
    "version": 3
   },
   "file_extension": ".py",
   "mimetype": "text/x-python",
   "name": "python",
   "nbconvert_exporter": "python",
   "pygments_lexer": "ipython3",
   "version": "3.7.1"
  }
 },
 "nbformat": 4,
 "nbformat_minor": 2
}
