{
 "cells": [
  {
   "cell_type": "code",
   "execution_count": null,
   "metadata": {},
   "outputs": [],
   "source": [
    "from model import *\n",
    "from tqdm import tqdm"
   ]
  },
  {
   "cell_type": "code",
   "execution_count": null,
   "metadata": {},
   "outputs": [],
   "source": [
    "\n",
    "def get_model_report():\n",
    "\tepochs = ['vgg_unet_1.0.h5',\n",
    "\t          'vgg_unet_1.1.h5',\n",
    "\t          'vgg_unet_1.2.h5',\n",
    "\t          'vgg_unet_1.3.h5',\n",
    "\t          'vgg_unet_1.4.h5']\n",
    "\tbasePath = 'C:\\\\Users\\\\theza\\\\Documents\\\\Uni\\\\MIT\\\\2019\\\\TP\\\\Project\\\\Meal-Compliance-Project\\\\Additional-Data-Creator\\\\OutputData'\n",
    "\n",
    "\ttrainImPath = '\\\\XTrain'\n",
    "\ttrainAnPath = '\\\\yTrain'\n",
    "\ttrainIm = glob.glob(os.path.join(basePath+trainImPath, \"*\"))\n",
    "\ttrainAn = glob.glob(os.path.join(basePath+trainAnPath, \"*\"))\n",
    "\ttrainIm.sort()\n",
    "\ttrainAn.sort()\n",
    "\n",
    "\ttestImPath = '\\\\XTest'\n",
    "\ttestAnPath = '\\\\yTest'\n",
    "\ttestIm = glob.glob(os.path.join(basePath + testImPath, \"*\"))\n",
    "\ttestAn = glob.glob(os.path.join(basePath + testAnPath, \"*\"))\n",
    "\ttestIm.sort()\n",
    "\ttestAn.sort()\n",
    "\n",
    "\tscores = []\n",
    "\tfor e in tqdm(epochs):\n",
    "\t\tif ('.json' not in e):\n",
    "\t\t\tprint(e)\n",
    "\t\t\tmodel = vgg_unet(33, 1056, 1600)\n",
    "\t\t\tmodel.load_weights(e)\n",
    "\t\t\ttrainingAc, trainSim = evaluateOne(model, trainIm, trainAn)\n",
    "\t\t\ttestingAc, testSim = evaluateOne(model, testIm, testAn)\n",
    "\t\t\tresult = {'epoch': e.split('.')[-2],\n",
    "\t\t\t          'train': trainingAc,\n",
    "\t\t\t          'test': testingAc,\n",
    "               'trainSim':trainSim,\n",
    "               'testSim':testSim}\n",
    "\t\t\tprint(result)\n",
    "\t\t\tscores.append(result)\n",
    "\treturn scores"
   ]
  },
  {
   "cell_type": "code",
   "execution_count": null,
   "metadata": {
    "scrolled": true
   },
   "outputs": [],
   "source": [
    "score = get_model_report()"
   ]
  },
  {
   "cell_type": "code",
   "execution_count": null,
   "metadata": {},
   "outputs": [],
   "source": [
    "import pandas as pd\n",
    "\n",
    "df = pd.DataFrame.from_records(score)\n",
    "df.to_csv('out.csv')"
   ]
  },
  {
   "cell_type": "code",
   "execution_count": null,
   "metadata": {},
   "outputs": [],
   "source": [
    "model = vgg_unet(33, 1056, 1600)\n",
    "model.load_weights(\n",
    "\t'C:\\\\Users\\\\theza\\\\Documents\\\\Uni\\\\MIT\\\\2019\\\\TP\\\\Project\\\\Meal-Compliance-Project\\\\Image-segmentation\\\\models\\\\vgg_unet_1.16.h5')"
   ]
  },
  {
   "cell_type": "code",
   "execution_count": null,
   "metadata": {},
   "outputs": [],
   "source": [
    "import time\n",
    "\n",
    "start = time.time()\n",
    "out = model.predict_segmentation(\n",
    "\tinp='1a.jpg',\n",
    "\tout_fname=\"11cout.png\"\n",
    ")\n",
    "end = time.time()\n",
    "print(end - start)"
   ]
  },
  {
   "cell_type": "code",
   "execution_count": null,
   "metadata": {},
   "outputs": [],
   "source": [
    "import imageio as imio \n",
    "import matplotlib.pyplot as plt \n",
    "\n"
   ]
  },
  {
   "cell_type": "code",
   "execution_count": null,
   "metadata": {},
   "outputs": [],
   "source": [
    "plt.imshow(imio.imread(\"11cout.png\"))"
   ]
  }
 ],
 "metadata": {
  "kernelspec": {
   "display_name": "Python 3",
   "language": "python",
   "name": "python3"
  },
  "language_info": {
   "codemirror_mode": {
    "name": "ipython",
    "version": 3
   },
   "file_extension": ".py",
   "mimetype": "text/x-python",
   "name": "python",
   "nbconvert_exporter": "python",
   "pygments_lexer": "ipython3",
   "version": "3.7.1"
  }
 },
 "nbformat": 4,
 "nbformat_minor": 2
}
